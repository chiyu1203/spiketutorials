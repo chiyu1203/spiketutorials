{
 "cells": [
  {
   "cell_type": "markdown",
   "metadata": {},
   "source": [
    "# SpikeInterface DEMO v0.99 -  Cambridge Neurotech Webinar\n",
    "\n",
    "## November 2023\n",
    "\n",
    "For this demo we will use a small file provided by Eduarda Centeno, Arthur Leblois and Aude Retailleau from IMN lab in Bordeaux.\n",
    "\n",
    "It is a recording from a zebra finch using the \"ASSY-236-H5\" probe from Cambridge Neurotech.\n",
    "The acquisition system is the Open Ephys usb3 board.\n",
    "This file is only for testing or teaching purposes.\n",
    "\n",
    "The dataset can be download here\n",
    "https://drive.google.com/drive/folders/17RlgsMLheW82IMLMgmTFifVACebDZ8X5?usp=sharing\n"
   ]
  },
  {
   "cell_type": "markdown",
   "metadata": {},
   "source": [
    "# Table of contents\n",
    "\n",
    "* [0. Preparation](#preparation)\n",
    "* [1. Reading recording and sorting](#loading)\n",
    "* [2. Preprocessing](#preprocessing)\n",
    "* [3. Saving and loading SpikeInterface objects](#save-load)\n",
    "* [4. Spike sorting](#spike-sorting)\n",
    "* [5. Extracting waveforms](#waveforms)\n",
    "* [6. Postprocessing](#postprocessing)\n",
    "* [7. Validation and curation](#curation)\n",
    "* [8. Viewers](#viewers)\n",
    "* [9. Spike sorting comparison](#comparison)\n",
    "* [10. Exporters](#exporters)"
   ]
  },
  {
   "cell_type": "markdown",
   "metadata": {},
   "source": [
    "# 0. Preparation <a class=\"anchor\" id=\"preparation\"></a>"
   ]
  },
  {
   "cell_type": "markdown",
   "metadata": {},
   "source": [
    "### Download the ephys data\n",
    "\n"
   ]
  },
  {
   "cell_type": "code",
   "execution_count": 1,
   "metadata": {},
   "outputs": [
    {
     "name": "stderr",
     "output_type": "stream",
     "text": [
      "c:\\Users\\neuroPC\\anaconda3\\envs\\spike_interface\\lib\\site-packages\\tqdm\\auto.py:21: TqdmWarning: IProgress not found. Please update jupyter and ipywidgets. See https://ipywidgets.readthedocs.io/en/stable/user_install.html\n",
      "  from .autonotebook import tqdm as notebook_tqdm\n"
     ]
    }
   ],
   "source": [
    "import spikeinterface.full as si"
   ]
  },
  {
   "cell_type": "code",
   "execution_count": 2,
   "metadata": {},
   "outputs": [
    {
     "name": "stdout",
     "output_type": "stream",
     "text": [
      "SpikeInterface version: 0.101.0\n"
     ]
    }
   ],
   "source": [
    "print(f\"SpikeInterface version: {si.__version__}\")"
   ]
  },
  {
   "cell_type": "code",
   "execution_count": 3,
   "metadata": {},
   "outputs": [],
   "source": [
    "import matplotlib.pyplot as plt\n",
    "import numpy as np\n",
    "from pathlib import Path\n",
    "import os\n",
    "\n",
    "import warnings\n",
    "warnings.simplefilter(\"ignore\")\n",
    "\n",
    "# %matplotlib widget\n",
    "%matplotlib inline"
   ]
  },
  {
   "cell_type": "markdown",
   "metadata": {},
   "source": [
    "# 1. Reading recording and sorting <a class=\"anchor\" id=\"loading\"></a>\n",
    "\n",
    "More documention on this section here: https://spikeinterface.readthedocs.io/en/latest/modules/core.html"
   ]
  },
  {
   "cell_type": "code",
   "execution_count": 4,
   "metadata": {},
   "outputs": [],
   "source": [
    "#base_folder = Path('/data_local/DataSpikeSorting/SI_tutorial_cambridgeneurotech_2023')\n",
    "#base_folder = Path(r\"C:\\Users\\neuroPC\\Documents\\Open Ephys\")\n",
    "base_folder = Path(r\"Z:\\DATA\\experiment_openEphys\\P-series-32channels\")\n",
    "#oe_folder = base_folder / \"2024-04-09_15-57-39\"\n",
    "oe_folder = base_folder / \"2024-04-22_01-09-50\""
   ]
  },
  {
   "cell_type": "code",
   "execution_count": 5,
   "metadata": {},
   "outputs": [],
   "source": [
    "full_raw_rec = si.read_openephys(oe_folder)"
   ]
  },
  {
   "cell_type": "markdown",
   "metadata": {},
   "source": [
    "The `read_openephys()` function returns a `Recording` (or `RecordingExtractor`) object. We can print it to visualize some of its properties:"
   ]
  },
  {
   "cell_type": "code",
   "execution_count": 107,
   "metadata": {},
   "outputs": [
    {
     "data": {
      "text/plain": [
       "OpenEphysBinaryRecordingExtractor: 40 channels - 30.0kHz - 1 segments - 320,098,754 samples \n",
       "                                   10,669.96s (2.96 hours) - int16 dtype - 23.85 GiB"
      ]
     },
     "execution_count": 107,
     "metadata": {},
     "output_type": "execute_result"
    }
   ],
   "source": [
    "full_raw_rec"
   ]
  },
  {
   "cell_type": "markdown",
   "metadata": {},
   "source": [
    "Our recording is 64 ephys channels and 8 auxs"
   ]
  },
  {
   "cell_type": "code",
   "execution_count": 7,
   "metadata": {},
   "outputs": [
    {
     "data": {
      "text/plain": [
       "array(['CH1', 'CH2', 'CH3', 'CH4', 'CH5', 'CH6', 'CH7', 'CH8', 'CH9',\n",
       "       'CH10', 'CH11', 'CH12', 'CH13', 'CH14', 'CH15', 'CH16', 'CH17',\n",
       "       'CH18', 'CH19', 'CH20', 'CH21', 'CH22', 'CH23', 'CH24', 'CH25',\n",
       "       'CH26', 'CH27', 'CH28', 'CH29', 'CH30', 'CH31', 'CH32', 'ADC1',\n",
       "       'ADC2', 'ADC3', 'ADC4', 'ADC5', 'ADC6', 'ADC7', 'ADC8'],\n",
       "      dtype='<U64')"
      ]
     },
     "execution_count": 7,
     "metadata": {},
     "output_type": "execute_result"
    }
   ],
   "source": [
    "full_raw_rec.channel_ids"
   ]
  },
  {
   "cell_type": "markdown",
   "metadata": {},
   "source": [
    "`spikeinterface.extractors` integrate many readers"
   ]
  },
  {
   "cell_type": "code",
   "execution_count": 8,
   "metadata": {},
   "outputs": [
    {
     "data": {
      "text/plain": [
       "{'binaryfolder': spikeinterface.core.binaryfolder.BinaryFolderRecording,\n",
       " 'binary': spikeinterface.core.binaryrecordingextractor.BinaryRecordingExtractor,\n",
       " 'zarr': spikeinterface.core.zarrextractors.ZarrRecordingExtractor,\n",
       " 'numpy': spikeinterface.core.numpyextractors.NumpyRecording,\n",
       " 'shybrid': spikeinterface.extractors.shybridextractors.SHYBRIDRecordingExtractor,\n",
       " 'mda': spikeinterface.extractors.mdaextractors.MdaRecordingExtractor,\n",
       " 'nwb': spikeinterface.extractors.nwbextractors.NwbRecordingExtractor,\n",
       " 'cbin_ibl': spikeinterface.extractors.cbin_ibl.CompressedBinaryIblExtractor,\n",
       " 'ibl_streaming_recording': spikeinterface.extractors.iblstreamingrecording.IblStreamingRecordingExtractor,\n",
       " 'mcsh5': spikeinterface.extractors.mcsh5extractors.MCSH5RecordingExtractor,\n",
       " 'alphaomega': spikeinterface.extractors.neoextractors.alphaomega.AlphaOmegaRecordingExtractor,\n",
       " 'axona': spikeinterface.extractors.neoextractors.axona.AxonaRecordingExtractor,\n",
       " 'biocam': spikeinterface.extractors.neoextractors.biocam.BiocamRecordingExtractor,\n",
       " 'blackrock': spikeinterface.extractors.neoextractors.blackrock.BlackrockRecordingExtractor,\n",
       " 'ced': spikeinterface.extractors.neoextractors.ced.CedRecordingExtractor,\n",
       " 'edf': spikeinterface.extractors.neoextractors.edf.EDFRecordingExtractor,\n",
       " 'intan': spikeinterface.extractors.neoextractors.intan.IntanRecordingExtractor,\n",
       " 'maxwell': spikeinterface.extractors.neoextractors.maxwell.MaxwellRecordingExtractor,\n",
       " 'mearec': spikeinterface.extractors.neoextractors.mearec.MEArecRecordingExtractor,\n",
       " 'mcsraw': spikeinterface.extractors.neoextractors.mcsraw.MCSRawRecordingExtractor,\n",
       " 'neuralynx': spikeinterface.extractors.neoextractors.neuralynx.NeuralynxRecordingExtractor,\n",
       " 'neuroscope': spikeinterface.extractors.neoextractors.neuroscope.NeuroScopeRecordingExtractor,\n",
       " 'nix': spikeinterface.extractors.neoextractors.nix.NixRecordingExtractor,\n",
       " 'openephys': spikeinterface.extractors.neoextractors.openephys.OpenEphysBinaryRecordingExtractor,\n",
       " 'openephyslegacy': spikeinterface.extractors.neoextractors.openephys.OpenEphysLegacyRecordingExtractor,\n",
       " 'plexon': spikeinterface.extractors.neoextractors.plexon.PlexonRecordingExtractor,\n",
       " 'plexon2': spikeinterface.extractors.neoextractors.plexon2.Plexon2RecordingExtractor,\n",
       " 'spike2': spikeinterface.extractors.neoextractors.spike2.Spike2RecordingExtractor,\n",
       " 'spikegadgets': spikeinterface.extractors.neoextractors.spikegadgets.SpikeGadgetsRecordingExtractor,\n",
       " 'spikeglx': spikeinterface.extractors.neoextractors.spikeglx.SpikeGLXRecordingExtractor,\n",
       " 'tdt': spikeinterface.extractors.neoextractors.tdt.TdtRecordingExtractor,\n",
       " 'neuroexplorer': spikeinterface.extractors.neoextractors.neuroexplorer.NeuroExplorerRecordingExtractor}"
      ]
     },
     "execution_count": 8,
     "metadata": {},
     "output_type": "execute_result"
    }
   ],
   "source": [
    "si.recording_extractor_full_dict"
   ]
  },
  {
   "cell_type": "markdown",
   "metadata": {},
   "source": [
    "A `Recording` object extracts information about channel ids, channel locations (if present), the sampling frequency of the recording, and the extracellular traces (when prompted).\n",
    "\n",
    "The `OpenEphysBinaryRecording` is designed specifically for open ephys format.\n",
    "\n",
    "Same idea for all of then, the `NwbRecording` is designed specifically for NWB files....\n",
    "\n",
    "Here we retrieve information from the recording using the built-in functions from the `Recording`:"
   ]
  },
  {
   "cell_type": "markdown",
   "metadata": {},
   "source": [
    "SpikeInterface supports multi-segment recordings. A segment is a contiguous piece of data, and sometimes recordings can be made of multiple acquisitions, for examples a baseline, a stimulation phase, and a post recording. In such cases, the recording object will be made of multiple segments and be treated as such over the pipeline."
   ]
  },
  {
   "cell_type": "markdown",
   "metadata": {
    "pycharm": {
     "name": "#%% md\n"
    }
   },
   "source": [
    "The `get_traces()` function returns a TxN numpy array where N is the number of channel ids passed in (all channel ids are passed in by default) and T is the number of frames (determined by start_frame and end_frame)."
   ]
  },
  {
   "cell_type": "code",
   "execution_count": 6,
   "metadata": {
    "pycharm": {
     "name": "#%%\n"
    }
   },
   "outputs": [],
   "source": [
    "fs = full_raw_rec.get_sampling_frequency()\n",
    "trace_snippet = full_raw_rec.get_traces(start_frame=int(fs*0), end_frame=int(fs*2))"
   ]
  },
  {
   "cell_type": "code",
   "execution_count": 7,
   "metadata": {},
   "outputs": [
    {
     "name": "stdout",
     "output_type": "stream",
     "text": [
      "Traces shape: (60000, 40)\n"
     ]
    }
   ],
   "source": [
    "print('Traces shape:', trace_snippet.shape)"
   ]
  },
  {
   "cell_type": "markdown",
   "metadata": {
    "pycharm": {
     "name": "#%% md\n"
    }
   },
   "source": [
    "Before moving on with the analysis, we have to load the probe information. For this we will use the [ProbeInterface](https://probeinterface.readthedocs.io/en/main/index.html) package. \n",
    "\n",
    "ProbeInterface allows to easily create, manipulate, and visualize neural probes. Moreover, it comes with a wide range of IO functions to import and export existing formats. Finally, we have created a public library of commercial probes (https://github.com/SpikeInterface/probeinterface_library) that can be retrieved with a single line of code.\n",
    "\n",
    "Let's import `probeinterface`, download the probe and plot it!"
   ]
  },
  {
   "cell_type": "code",
   "execution_count": 4,
   "metadata": {},
   "outputs": [],
   "source": [
    "import probeinterface as pi\n",
    "from probeinterface.plotting import plot_probe"
   ]
  },
  {
   "cell_type": "code",
   "execution_count": null,
   "metadata": {},
   "outputs": [
    {
     "name": "stdout",
     "output_type": "stream",
     "text": [
      "Probe - cambridgeneurotech - ASSY-77-H10 - 64ch - 2shanks\n"
     ]
    }
   ],
   "source": [
    "manufacturer = 'cambridgeneurotech'\n",
    "probe_name = 'ASSY-77-H10'\n",
    "\n",
    "probe = pi.get_probe(manufacturer, probe_name)\n",
    "print(probe)"
   ]
  },
  {
   "cell_type": "code",
   "execution_count": 6,
   "metadata": {},
   "outputs": [
    {
     "name": "stdout",
     "output_type": "stream",
     "text": [
      "ASSY-37-P-2 - cambridgeneurotech - 32ch - 2shanks\n"
     ]
    }
   ],
   "source": [
    "manufacturer = 'cambridgeneurotech'\n",
    "probe_name = 'ASSY-37-P-2'\n",
    "\n",
    "probe = pi.get_probe(manufacturer, probe_name)\n",
    "print(probe)"
   ]
  },
  {
   "cell_type": "markdown",
   "metadata": {},
   "source": [
    "In most experiments, the neural probe has a connector, that is interfaced to an headstage, which in turn connects to the acquisition system. This *pathway* usually results in a channel remapping, which means that the order of the contacts on the probe is different than the order of the recorded traces.\n",
    "\n",
    "`probeinterface` provides a growing collection of common pathways that can be loaded directly to wire a device and apply the correct channel mapping:"
   ]
  },
  {
   "cell_type": "code",
   "execution_count": 8,
   "metadata": {},
   "outputs": [
    {
     "data": {
      "text/plain": [
       "['H32>RHD2132',\n",
       " 'ASSY-156>RHD2164',\n",
       " 'ASSY-116>RHD2132',\n",
       " 'ASSY-77>Adpt.A64-Om32_2x-sm-NN>RHD2164',\n",
       " 'ASSY-77>Adpt.A64-Om32_2x-sm-NN>two_RHD2132',\n",
       " 'cambridgeneurotech_mini-amp-64']"
      ]
     },
     "execution_count": 8,
     "metadata": {},
     "output_type": "execute_result"
    }
   ],
   "source": [
    "pi.get_available_pathways()"
   ]
  },
  {
   "cell_type": "code",
   "execution_count": 10,
   "metadata": {},
   "outputs": [],
   "source": [
    "probe.wiring_to_device('ASSY-116>RHD2132')"
   ]
  },
  {
   "cell_type": "code",
   "execution_count": 14,
   "metadata": {},
   "outputs": [],
   "source": [
    "# 'ASSY-77>Adpt.A64-Om32_2x-sm-NN>RHD2164',\n",
    "# 'ASSY-77>Adpt.A64-Om32_2x-sm-NN>two_RHD2132'\n",
    "probe.wiring_to_device('ASSY-77>Adpt.A64-Om32_2x-sm-NN>two_RHD2132')"
   ]
  },
  {
   "cell_type": "code",
   "execution_count": null,
   "metadata": {},
   "outputs": [],
   "source": [
    "mirror_mapping=[]##Here to input the new mapping from 1 to 64\n",
    "probe.set_device_channel_indices(mirror_mapping)"
   ]
  },
  {
   "cell_type": "code",
   "execution_count": null,
   "metadata": {},
   "outputs": [],
   "source": [
    "##Here to input the mapping of the second probe. THis is necessary for stacked probe. Presumably, the second probe will have the channel number starting from 65\n",
    "#And the shank number will be 2\n",
    "#probe.set_device_channel_indices(mirror_mapping, shank=2)"
   ]
  },
  {
   "cell_type": "code",
   "execution_count": 19,
   "metadata": {},
   "outputs": [
    {
     "data": {
      "text/plain": [
       "(-100.0, 500.0)"
      ]
     },
     "execution_count": 19,
     "metadata": {},
     "output_type": "execute_result"
    },
    {
     "data": {
      "image/png": "[encoded data removed]",
      "text/plain": [
       "<Figure size 1400x1000 with 1 Axes>"
      ]
     },
     "metadata": {},
     "output_type": "display_data"
    }
   ],
   "source": [
    "fig, ax = plt.subplots(figsize=(14, 10))\n",
    "plot_probe(probe, ax=ax,with_contact_id=True, with_device_index=False,)\n",
    "ax.set_xlim(-100, 250)\n",
    "ax.set_ylim(-100, 500)"
   ]
  },
  {
   "cell_type": "code",
   "execution_count": 17,
   "metadata": {},
   "outputs": [
    {
     "data": {
      "text/html": [
       "<div>\n",
       "<style scoped>\n",
       "    .dataframe tbody tr th:only-of-type {\n",
       "        vertical-align: middle;\n",
       "    }\n",
       "\n",
       "    .dataframe tbody tr th {\n",
       "        vertical-align: top;\n",
       "    }\n",
       "\n",
       "    .dataframe thead th {\n",
       "        text-align: right;\n",
       "    }\n",
       "</style>\n",
       "<table border=\"1\" class=\"dataframe\">\n",
       "  <thead>\n",
       "    <tr style=\"text-align: right;\">\n",
       "      <th></th>\n",
       "      <th>contact_ids</th>\n",
       "      <th>shank_ids</th>\n",
       "      <th>device_channel_indices</th>\n",
       "    </tr>\n",
       "  </thead>\n",
       "  <tbody>\n",
       "    <tr>\n",
       "      <th>0</th>\n",
       "      <td>1</td>\n",
       "      <td>0</td>\n",
       "      <td>47</td>\n",
       "    </tr>\n",
       "    <tr>\n",
       "      <th>1</th>\n",
       "      <td>2</td>\n",
       "      <td>0</td>\n",
       "      <td>32</td>\n",
       "    </tr>\n",
       "    <tr>\n",
       "      <th>2</th>\n",
       "      <td>3</td>\n",
       "      <td>0</td>\n",
       "      <td>46</td>\n",
       "    </tr>\n",
       "    <tr>\n",
       "      <th>3</th>\n",
       "      <td>4</td>\n",
       "      <td>0</td>\n",
       "      <td>33</td>\n",
       "    </tr>\n",
       "    <tr>\n",
       "      <th>4</th>\n",
       "      <td>5</td>\n",
       "      <td>0</td>\n",
       "      <td>34</td>\n",
       "    </tr>\n",
       "    <tr>\n",
       "      <th>...</th>\n",
       "      <td>...</td>\n",
       "      <td>...</td>\n",
       "      <td>...</td>\n",
       "    </tr>\n",
       "    <tr>\n",
       "      <th>59</th>\n",
       "      <td>60</td>\n",
       "      <td>1</td>\n",
       "      <td>61</td>\n",
       "    </tr>\n",
       "    <tr>\n",
       "      <th>60</th>\n",
       "      <td>61</td>\n",
       "      <td>1</td>\n",
       "      <td>62</td>\n",
       "    </tr>\n",
       "    <tr>\n",
       "      <th>61</th>\n",
       "      <td>62</td>\n",
       "      <td>1</td>\n",
       "      <td>49</td>\n",
       "    </tr>\n",
       "    <tr>\n",
       "      <th>62</th>\n",
       "      <td>63</td>\n",
       "      <td>1</td>\n",
       "      <td>63</td>\n",
       "    </tr>\n",
       "    <tr>\n",
       "      <th>63</th>\n",
       "      <td>64</td>\n",
       "      <td>1</td>\n",
       "      <td>48</td>\n",
       "    </tr>\n",
       "  </tbody>\n",
       "</table>\n",
       "<p>64 rows × 3 columns</p>\n",
       "</div>"
      ],
      "text/plain": [
       "   contact_ids shank_ids  device_channel_indices\n",
       "0            1         0                      47\n",
       "1            2         0                      32\n",
       "2            3         0                      46\n",
       "3            4         0                      33\n",
       "4            5         0                      34\n",
       "..         ...       ...                     ...\n",
       "59          60         1                      61\n",
       "60          61         1                      62\n",
       "61          62         1                      49\n",
       "62          63         1                      63\n",
       "63          64         1                      48\n",
       "\n",
       "[64 rows x 3 columns]"
      ]
     },
     "execution_count": 17,
     "metadata": {},
     "output_type": "execute_result"
    }
   ],
   "source": [
    "probe.to_dataframe(complete=True).loc[:, [\"contact_ids\", \"shank_ids\", \"device_channel_indices\"]]"
   ]
  },
  {
   "cell_type": "code",
   "execution_count": 18,
   "metadata": {},
   "outputs": [
    {
     "data": {
      "text/html": [
       "<div>\n",
       "<style scoped>\n",
       "    .dataframe tbody tr th:only-of-type {\n",
       "        vertical-align: middle;\n",
       "    }\n",
       "\n",
       "    .dataframe tbody tr th {\n",
       "        vertical-align: top;\n",
       "    }\n",
       "\n",
       "    .dataframe thead th {\n",
       "        text-align: right;\n",
       "    }\n",
       "</style>\n",
       "<table border=\"1\" class=\"dataframe\">\n",
       "  <thead>\n",
       "    <tr style=\"text-align: right;\">\n",
       "      <th></th>\n",
       "      <th>x</th>\n",
       "      <th>y</th>\n",
       "      <th>contact_shapes</th>\n",
       "      <th>width</th>\n",
       "      <th>height</th>\n",
       "      <th>shank_ids</th>\n",
       "      <th>contact_ids</th>\n",
       "      <th>device_channel_indices</th>\n",
       "      <th>si_units</th>\n",
       "      <th>plane_axis_x_0</th>\n",
       "      <th>plane_axis_x_1</th>\n",
       "      <th>plane_axis_y_0</th>\n",
       "      <th>plane_axis_y_1</th>\n",
       "    </tr>\n",
       "  </thead>\n",
       "  <tbody>\n",
       "    <tr>\n",
       "      <th>0</th>\n",
       "      <td>18.5</td>\n",
       "      <td>285.0</td>\n",
       "      <td>rect</td>\n",
       "      <td>11.0</td>\n",
       "      <td>15.0</td>\n",
       "      <td>0</td>\n",
       "      <td>1</td>\n",
       "      <td>47</td>\n",
       "      <td>um</td>\n",
       "      <td>1.0</td>\n",
       "      <td>0.0</td>\n",
       "      <td>0.0</td>\n",
       "      <td>1.0</td>\n",
       "    </tr>\n",
       "    <tr>\n",
       "      <th>1</th>\n",
       "      <td>37.0</td>\n",
       "      <td>210.0</td>\n",
       "      <td>rect</td>\n",
       "      <td>11.0</td>\n",
       "      <td>15.0</td>\n",
       "      <td>0</td>\n",
       "      <td>2</td>\n",
       "      <td>32</td>\n",
       "      <td>um</td>\n",
       "      <td>1.0</td>\n",
       "      <td>0.0</td>\n",
       "      <td>0.0</td>\n",
       "      <td>1.0</td>\n",
       "    </tr>\n",
       "    <tr>\n",
       "      <th>2</th>\n",
       "      <td>18.5</td>\n",
       "      <td>225.0</td>\n",
       "      <td>rect</td>\n",
       "      <td>11.0</td>\n",
       "      <td>15.0</td>\n",
       "      <td>0</td>\n",
       "      <td>3</td>\n",
       "      <td>46</td>\n",
       "      <td>um</td>\n",
       "      <td>1.0</td>\n",
       "      <td>0.0</td>\n",
       "      <td>0.0</td>\n",
       "      <td>1.0</td>\n",
       "    </tr>\n",
       "    <tr>\n",
       "      <th>3</th>\n",
       "      <td>37.0</td>\n",
       "      <td>240.0</td>\n",
       "      <td>rect</td>\n",
       "      <td>11.0</td>\n",
       "      <td>15.0</td>\n",
       "      <td>0</td>\n",
       "      <td>4</td>\n",
       "      <td>33</td>\n",
       "      <td>um</td>\n",
       "      <td>1.0</td>\n",
       "      <td>0.0</td>\n",
       "      <td>0.0</td>\n",
       "      <td>1.0</td>\n",
       "    </tr>\n",
       "    <tr>\n",
       "      <th>4</th>\n",
       "      <td>18.5</td>\n",
       "      <td>195.0</td>\n",
       "      <td>rect</td>\n",
       "      <td>11.0</td>\n",
       "      <td>15.0</td>\n",
       "      <td>0</td>\n",
       "      <td>5</td>\n",
       "      <td>34</td>\n",
       "      <td>um</td>\n",
       "      <td>1.0</td>\n",
       "      <td>0.0</td>\n",
       "      <td>0.0</td>\n",
       "      <td>1.0</td>\n",
       "    </tr>\n",
       "    <tr>\n",
       "      <th>...</th>\n",
       "      <td>...</td>\n",
       "      <td>...</td>\n",
       "      <td>...</td>\n",
       "      <td>...</td>\n",
       "      <td>...</td>\n",
       "      <td>...</td>\n",
       "      <td>...</td>\n",
       "      <td>...</td>\n",
       "      <td>...</td>\n",
       "      <td>...</td>\n",
       "      <td>...</td>\n",
       "      <td>...</td>\n",
       "      <td>...</td>\n",
       "    </tr>\n",
       "    <tr>\n",
       "      <th>59</th>\n",
       "      <td>150.0</td>\n",
       "      <td>270.0</td>\n",
       "      <td>rect</td>\n",
       "      <td>11.0</td>\n",
       "      <td>15.0</td>\n",
       "      <td>1</td>\n",
       "      <td>60</td>\n",
       "      <td>61</td>\n",
       "      <td>um</td>\n",
       "      <td>1.0</td>\n",
       "      <td>0.0</td>\n",
       "      <td>0.0</td>\n",
       "      <td>1.0</td>\n",
       "    </tr>\n",
       "    <tr>\n",
       "      <th>60</th>\n",
       "      <td>168.5</td>\n",
       "      <td>75.0</td>\n",
       "      <td>rect</td>\n",
       "      <td>11.0</td>\n",
       "      <td>15.0</td>\n",
       "      <td>1</td>\n",
       "      <td>61</td>\n",
       "      <td>62</td>\n",
       "      <td>um</td>\n",
       "      <td>1.0</td>\n",
       "      <td>0.0</td>\n",
       "      <td>0.0</td>\n",
       "      <td>1.0</td>\n",
       "    </tr>\n",
       "    <tr>\n",
       "      <th>61</th>\n",
       "      <td>150.0</td>\n",
       "      <td>240.0</td>\n",
       "      <td>rect</td>\n",
       "      <td>11.0</td>\n",
       "      <td>15.0</td>\n",
       "      <td>1</td>\n",
       "      <td>62</td>\n",
       "      <td>49</td>\n",
       "      <td>um</td>\n",
       "      <td>1.0</td>\n",
       "      <td>0.0</td>\n",
       "      <td>0.0</td>\n",
       "      <td>1.0</td>\n",
       "    </tr>\n",
       "    <tr>\n",
       "      <th>62</th>\n",
       "      <td>168.5</td>\n",
       "      <td>255.0</td>\n",
       "      <td>rect</td>\n",
       "      <td>11.0</td>\n",
       "      <td>15.0</td>\n",
       "      <td>1</td>\n",
       "      <td>63</td>\n",
       "      <td>63</td>\n",
       "      <td>um</td>\n",
       "      <td>1.0</td>\n",
       "      <td>0.0</td>\n",
       "      <td>0.0</td>\n",
       "      <td>1.0</td>\n",
       "    </tr>\n",
       "    <tr>\n",
       "      <th>63</th>\n",
       "      <td>150.0</td>\n",
       "      <td>210.0</td>\n",
       "      <td>rect</td>\n",
       "      <td>11.0</td>\n",
       "      <td>15.0</td>\n",
       "      <td>1</td>\n",
       "      <td>64</td>\n",
       "      <td>48</td>\n",
       "      <td>um</td>\n",
       "      <td>1.0</td>\n",
       "      <td>0.0</td>\n",
       "      <td>0.0</td>\n",
       "      <td>1.0</td>\n",
       "    </tr>\n",
       "  </tbody>\n",
       "</table>\n",
       "<p>64 rows × 13 columns</p>\n",
       "</div>"
      ],
      "text/plain": [
       "        x      y contact_shapes  width  height shank_ids contact_ids  \\\n",
       "0    18.5  285.0           rect   11.0    15.0         0           1   \n",
       "1    37.0  210.0           rect   11.0    15.0         0           2   \n",
       "2    18.5  225.0           rect   11.0    15.0         0           3   \n",
       "3    37.0  240.0           rect   11.0    15.0         0           4   \n",
       "4    18.5  195.0           rect   11.0    15.0         0           5   \n",
       "..    ...    ...            ...    ...     ...       ...         ...   \n",
       "59  150.0  270.0           rect   11.0    15.0         1          60   \n",
       "60  168.5   75.0           rect   11.0    15.0         1          61   \n",
       "61  150.0  240.0           rect   11.0    15.0         1          62   \n",
       "62  168.5  255.0           rect   11.0    15.0         1          63   \n",
       "63  150.0  210.0           rect   11.0    15.0         1          64   \n",
       "\n",
       "    device_channel_indices si_units  plane_axis_x_0  plane_axis_x_1  \\\n",
       "0                       47       um             1.0             0.0   \n",
       "1                       32       um             1.0             0.0   \n",
       "2                       46       um             1.0             0.0   \n",
       "3                       33       um             1.0             0.0   \n",
       "4                       34       um             1.0             0.0   \n",
       "..                     ...      ...             ...             ...   \n",
       "59                      61       um             1.0             0.0   \n",
       "60                      62       um             1.0             0.0   \n",
       "61                      49       um             1.0             0.0   \n",
       "62                      63       um             1.0             0.0   \n",
       "63                      48       um             1.0             0.0   \n",
       "\n",
       "    plane_axis_y_0  plane_axis_y_1  \n",
       "0              0.0             1.0  \n",
       "1              0.0             1.0  \n",
       "2              0.0             1.0  \n",
       "3              0.0             1.0  \n",
       "4              0.0             1.0  \n",
       "..             ...             ...  \n",
       "59             0.0             1.0  \n",
       "60             0.0             1.0  \n",
       "61             0.0             1.0  \n",
       "62             0.0             1.0  \n",
       "63             0.0             1.0  \n",
       "\n",
       "[64 rows x 13 columns]"
      ]
     },
     "execution_count": 18,
     "metadata": {},
     "output_type": "execute_result"
    }
   ],
   "source": [
    "probe.to_dataframe(complete=True)"
   ]
  },
  {
   "cell_type": "code",
   "execution_count": 12,
   "metadata": {},
   "outputs": [
    {
     "data": {
      "text/plain": [
       "(-50.0, 300.0)"
      ]
     },
     "execution_count": 12,
     "metadata": {},
     "output_type": "execute_result"
    },
    {
     "data": {
      "image/png": "[encoded data removed]",
      "text/plain": [
       "<Figure size 1400x1000 with 1 Axes>"
      ]
     },
     "metadata": {},
     "output_type": "display_data"
    }
   ],
   "source": [
    "fig, ax = plt.subplots(figsize=(14, 10))\n",
    "plot_probe(probe, ax=ax, with_contact_id=True, with_device_index=True,)\n",
    "ax.set_xlim(-100, 100)\n",
    "ax.set_ylim(-50, 300)"
   ]
  },
  {
   "cell_type": "markdown",
   "metadata": {},
   "source": [
    "The probe now has contact ids `id#` and device ids `dev#`! We can also visualize the probe information as a `pandas` dataframe:"
   ]
  },
  {
   "cell_type": "code",
   "execution_count": 13,
   "metadata": {},
   "outputs": [
    {
     "data": {
      "text/html": [
       "<div>\n",
       "<style scoped>\n",
       "    .dataframe tbody tr th:only-of-type {\n",
       "        vertical-align: middle;\n",
       "    }\n",
       "\n",
       "    .dataframe tbody tr th {\n",
       "        vertical-align: top;\n",
       "    }\n",
       "\n",
       "    .dataframe thead th {\n",
       "        text-align: right;\n",
       "    }\n",
       "</style>\n",
       "<table border=\"1\" class=\"dataframe\">\n",
       "  <thead>\n",
       "    <tr style=\"text-align: right;\">\n",
       "      <th></th>\n",
       "      <th>contact_ids</th>\n",
       "      <th>shank_ids</th>\n",
       "      <th>device_channel_indices</th>\n",
       "    </tr>\n",
       "  </thead>\n",
       "  <tbody>\n",
       "    <tr>\n",
       "      <th>0</th>\n",
       "      <td>1</td>\n",
       "      <td>0</td>\n",
       "      <td>24</td>\n",
       "    </tr>\n",
       "    <tr>\n",
       "      <th>1</th>\n",
       "      <td>2</td>\n",
       "      <td>0</td>\n",
       "      <td>23</td>\n",
       "    </tr>\n",
       "    <tr>\n",
       "      <th>2</th>\n",
       "      <td>3</td>\n",
       "      <td>0</td>\n",
       "      <td>25</td>\n",
       "    </tr>\n",
       "    <tr>\n",
       "      <th>3</th>\n",
       "      <td>4</td>\n",
       "      <td>0</td>\n",
       "      <td>22</td>\n",
       "    </tr>\n",
       "    <tr>\n",
       "      <th>4</th>\n",
       "      <td>5</td>\n",
       "      <td>0</td>\n",
       "      <td>26</td>\n",
       "    </tr>\n",
       "    <tr>\n",
       "      <th>5</th>\n",
       "      <td>6</td>\n",
       "      <td>0</td>\n",
       "      <td>21</td>\n",
       "    </tr>\n",
       "    <tr>\n",
       "      <th>6</th>\n",
       "      <td>7</td>\n",
       "      <td>0</td>\n",
       "      <td>27</td>\n",
       "    </tr>\n",
       "    <tr>\n",
       "      <th>7</th>\n",
       "      <td>8</td>\n",
       "      <td>0</td>\n",
       "      <td>20</td>\n",
       "    </tr>\n",
       "    <tr>\n",
       "      <th>8</th>\n",
       "      <td>9</td>\n",
       "      <td>0</td>\n",
       "      <td>28</td>\n",
       "    </tr>\n",
       "    <tr>\n",
       "      <th>9</th>\n",
       "      <td>10</td>\n",
       "      <td>0</td>\n",
       "      <td>19</td>\n",
       "    </tr>\n",
       "    <tr>\n",
       "      <th>10</th>\n",
       "      <td>11</td>\n",
       "      <td>0</td>\n",
       "      <td>29</td>\n",
       "    </tr>\n",
       "    <tr>\n",
       "      <th>11</th>\n",
       "      <td>12</td>\n",
       "      <td>0</td>\n",
       "      <td>18</td>\n",
       "    </tr>\n",
       "    <tr>\n",
       "      <th>12</th>\n",
       "      <td>13</td>\n",
       "      <td>0</td>\n",
       "      <td>30</td>\n",
       "    </tr>\n",
       "    <tr>\n",
       "      <th>13</th>\n",
       "      <td>14</td>\n",
       "      <td>0</td>\n",
       "      <td>17</td>\n",
       "    </tr>\n",
       "    <tr>\n",
       "      <th>14</th>\n",
       "      <td>15</td>\n",
       "      <td>0</td>\n",
       "      <td>31</td>\n",
       "    </tr>\n",
       "    <tr>\n",
       "      <th>15</th>\n",
       "      <td>16</td>\n",
       "      <td>0</td>\n",
       "      <td>16</td>\n",
       "    </tr>\n",
       "    <tr>\n",
       "      <th>16</th>\n",
       "      <td>17</td>\n",
       "      <td>1</td>\n",
       "      <td>0</td>\n",
       "    </tr>\n",
       "    <tr>\n",
       "      <th>17</th>\n",
       "      <td>18</td>\n",
       "      <td>1</td>\n",
       "      <td>15</td>\n",
       "    </tr>\n",
       "    <tr>\n",
       "      <th>18</th>\n",
       "      <td>19</td>\n",
       "      <td>1</td>\n",
       "      <td>1</td>\n",
       "    </tr>\n",
       "    <tr>\n",
       "      <th>19</th>\n",
       "      <td>20</td>\n",
       "      <td>1</td>\n",
       "      <td>14</td>\n",
       "    </tr>\n",
       "    <tr>\n",
       "      <th>20</th>\n",
       "      <td>21</td>\n",
       "      <td>1</td>\n",
       "      <td>2</td>\n",
       "    </tr>\n",
       "    <tr>\n",
       "      <th>21</th>\n",
       "      <td>22</td>\n",
       "      <td>1</td>\n",
       "      <td>13</td>\n",
       "    </tr>\n",
       "    <tr>\n",
       "      <th>22</th>\n",
       "      <td>23</td>\n",
       "      <td>1</td>\n",
       "      <td>3</td>\n",
       "    </tr>\n",
       "    <tr>\n",
       "      <th>23</th>\n",
       "      <td>24</td>\n",
       "      <td>1</td>\n",
       "      <td>12</td>\n",
       "    </tr>\n",
       "    <tr>\n",
       "      <th>24</th>\n",
       "      <td>25</td>\n",
       "      <td>1</td>\n",
       "      <td>4</td>\n",
       "    </tr>\n",
       "    <tr>\n",
       "      <th>25</th>\n",
       "      <td>26</td>\n",
       "      <td>1</td>\n",
       "      <td>11</td>\n",
       "    </tr>\n",
       "    <tr>\n",
       "      <th>26</th>\n",
       "      <td>27</td>\n",
       "      <td>1</td>\n",
       "      <td>5</td>\n",
       "    </tr>\n",
       "    <tr>\n",
       "      <th>27</th>\n",
       "      <td>28</td>\n",
       "      <td>1</td>\n",
       "      <td>10</td>\n",
       "    </tr>\n",
       "    <tr>\n",
       "      <th>28</th>\n",
       "      <td>29</td>\n",
       "      <td>1</td>\n",
       "      <td>6</td>\n",
       "    </tr>\n",
       "    <tr>\n",
       "      <th>29</th>\n",
       "      <td>30</td>\n",
       "      <td>1</td>\n",
       "      <td>9</td>\n",
       "    </tr>\n",
       "    <tr>\n",
       "      <th>30</th>\n",
       "      <td>31</td>\n",
       "      <td>1</td>\n",
       "      <td>7</td>\n",
       "    </tr>\n",
       "    <tr>\n",
       "      <th>31</th>\n",
       "      <td>32</td>\n",
       "      <td>1</td>\n",
       "      <td>8</td>\n",
       "    </tr>\n",
       "  </tbody>\n",
       "</table>\n",
       "</div>"
      ],
      "text/plain": [
       "   contact_ids shank_ids  device_channel_indices\n",
       "0            1         0                      24\n",
       "1            2         0                      23\n",
       "2            3         0                      25\n",
       "3            4         0                      22\n",
       "4            5         0                      26\n",
       "5            6         0                      21\n",
       "6            7         0                      27\n",
       "7            8         0                      20\n",
       "8            9         0                      28\n",
       "9           10         0                      19\n",
       "10          11         0                      29\n",
       "11          12         0                      18\n",
       "12          13         0                      30\n",
       "13          14         0                      17\n",
       "14          15         0                      31\n",
       "15          16         0                      16\n",
       "16          17         1                       0\n",
       "17          18         1                      15\n",
       "18          19         1                       1\n",
       "19          20         1                      14\n",
       "20          21         1                       2\n",
       "21          22         1                      13\n",
       "22          23         1                       3\n",
       "23          24         1                      12\n",
       "24          25         1                       4\n",
       "25          26         1                      11\n",
       "26          27         1                       5\n",
       "27          28         1                      10\n",
       "28          29         1                       6\n",
       "29          30         1                       9\n",
       "30          31         1                       7\n",
       "31          32         1                       8"
      ]
     },
     "execution_count": 13,
     "metadata": {},
     "output_type": "execute_result"
    }
   ],
   "source": [
    "probe.to_dataframe(complete=True).loc[:, [\"contact_ids\", \"shank_ids\", \"device_channel_indices\"]]"
   ]
  },
  {
   "cell_type": "markdown",
   "metadata": {},
   "source": [
    "When loading the probe, the device indices (and all the other contact properties) are automatically sorted.\n",
    "And very importantly the recording is reduce to 644 channels!"
   ]
  },
  {
   "cell_type": "code",
   "execution_count": 14,
   "metadata": {},
   "outputs": [
    {
     "data": {
      "text/plain": [
       "ChannelSliceRecording: 32 channels - 30.0kHz - 1 segments - 112,505,620 samples \n",
       "                       3,750.19s (1.04 hours) - int16 dtype - 6.71 GiB"
      ]
     },
     "execution_count": 14,
     "metadata": {},
     "output_type": "execute_result"
    }
   ],
   "source": [
    "raw_rec = full_raw_rec.set_probe(probe)\n",
    "raw_rec"
   ]
  },
  {
   "cell_type": "code",
   "execution_count": 15,
   "metadata": {},
   "outputs": [
    {
     "data": {
      "text/html": [
       "<div>\n",
       "<style scoped>\n",
       "    .dataframe tbody tr th:only-of-type {\n",
       "        vertical-align: middle;\n",
       "    }\n",
       "\n",
       "    .dataframe tbody tr th {\n",
       "        vertical-align: top;\n",
       "    }\n",
       "\n",
       "    .dataframe thead th {\n",
       "        text-align: right;\n",
       "    }\n",
       "</style>\n",
       "<table border=\"1\" class=\"dataframe\">\n",
       "  <thead>\n",
       "    <tr style=\"text-align: right;\">\n",
       "      <th></th>\n",
       "      <th>contact_ids</th>\n",
       "      <th>device_channel_indices</th>\n",
       "    </tr>\n",
       "  </thead>\n",
       "  <tbody>\n",
       "    <tr>\n",
       "      <th>0</th>\n",
       "      <td>17</td>\n",
       "      <td>0</td>\n",
       "    </tr>\n",
       "    <tr>\n",
       "      <th>1</th>\n",
       "      <td>19</td>\n",
       "      <td>1</td>\n",
       "    </tr>\n",
       "    <tr>\n",
       "      <th>2</th>\n",
       "      <td>21</td>\n",
       "      <td>2</td>\n",
       "    </tr>\n",
       "    <tr>\n",
       "      <th>3</th>\n",
       "      <td>23</td>\n",
       "      <td>3</td>\n",
       "    </tr>\n",
       "    <tr>\n",
       "      <th>4</th>\n",
       "      <td>25</td>\n",
       "      <td>4</td>\n",
       "    </tr>\n",
       "    <tr>\n",
       "      <th>5</th>\n",
       "      <td>27</td>\n",
       "      <td>5</td>\n",
       "    </tr>\n",
       "    <tr>\n",
       "      <th>6</th>\n",
       "      <td>29</td>\n",
       "      <td>6</td>\n",
       "    </tr>\n",
       "    <tr>\n",
       "      <th>7</th>\n",
       "      <td>31</td>\n",
       "      <td>7</td>\n",
       "    </tr>\n",
       "    <tr>\n",
       "      <th>8</th>\n",
       "      <td>32</td>\n",
       "      <td>8</td>\n",
       "    </tr>\n",
       "    <tr>\n",
       "      <th>9</th>\n",
       "      <td>30</td>\n",
       "      <td>9</td>\n",
       "    </tr>\n",
       "    <tr>\n",
       "      <th>10</th>\n",
       "      <td>28</td>\n",
       "      <td>10</td>\n",
       "    </tr>\n",
       "    <tr>\n",
       "      <th>11</th>\n",
       "      <td>26</td>\n",
       "      <td>11</td>\n",
       "    </tr>\n",
       "    <tr>\n",
       "      <th>12</th>\n",
       "      <td>24</td>\n",
       "      <td>12</td>\n",
       "    </tr>\n",
       "    <tr>\n",
       "      <th>13</th>\n",
       "      <td>22</td>\n",
       "      <td>13</td>\n",
       "    </tr>\n",
       "    <tr>\n",
       "      <th>14</th>\n",
       "      <td>20</td>\n",
       "      <td>14</td>\n",
       "    </tr>\n",
       "    <tr>\n",
       "      <th>15</th>\n",
       "      <td>18</td>\n",
       "      <td>15</td>\n",
       "    </tr>\n",
       "    <tr>\n",
       "      <th>16</th>\n",
       "      <td>16</td>\n",
       "      <td>16</td>\n",
       "    </tr>\n",
       "    <tr>\n",
       "      <th>17</th>\n",
       "      <td>14</td>\n",
       "      <td>17</td>\n",
       "    </tr>\n",
       "    <tr>\n",
       "      <th>18</th>\n",
       "      <td>12</td>\n",
       "      <td>18</td>\n",
       "    </tr>\n",
       "    <tr>\n",
       "      <th>19</th>\n",
       "      <td>10</td>\n",
       "      <td>19</td>\n",
       "    </tr>\n",
       "    <tr>\n",
       "      <th>20</th>\n",
       "      <td>8</td>\n",
       "      <td>20</td>\n",
       "    </tr>\n",
       "    <tr>\n",
       "      <th>21</th>\n",
       "      <td>6</td>\n",
       "      <td>21</td>\n",
       "    </tr>\n",
       "    <tr>\n",
       "      <th>22</th>\n",
       "      <td>4</td>\n",
       "      <td>22</td>\n",
       "    </tr>\n",
       "    <tr>\n",
       "      <th>23</th>\n",
       "      <td>2</td>\n",
       "      <td>23</td>\n",
       "    </tr>\n",
       "    <tr>\n",
       "      <th>24</th>\n",
       "      <td>1</td>\n",
       "      <td>24</td>\n",
       "    </tr>\n",
       "    <tr>\n",
       "      <th>25</th>\n",
       "      <td>3</td>\n",
       "      <td>25</td>\n",
       "    </tr>\n",
       "    <tr>\n",
       "      <th>26</th>\n",
       "      <td>5</td>\n",
       "      <td>26</td>\n",
       "    </tr>\n",
       "    <tr>\n",
       "      <th>27</th>\n",
       "      <td>7</td>\n",
       "      <td>27</td>\n",
       "    </tr>\n",
       "    <tr>\n",
       "      <th>28</th>\n",
       "      <td>9</td>\n",
       "      <td>28</td>\n",
       "    </tr>\n",
       "    <tr>\n",
       "      <th>29</th>\n",
       "      <td>11</td>\n",
       "      <td>29</td>\n",
       "    </tr>\n",
       "    <tr>\n",
       "      <th>30</th>\n",
       "      <td>13</td>\n",
       "      <td>30</td>\n",
       "    </tr>\n",
       "    <tr>\n",
       "      <th>31</th>\n",
       "      <td>15</td>\n",
       "      <td>31</td>\n",
       "    </tr>\n",
       "  </tbody>\n",
       "</table>\n",
       "</div>"
      ],
      "text/plain": [
       "   contact_ids  device_channel_indices\n",
       "0           17                       0\n",
       "1           19                       1\n",
       "2           21                       2\n",
       "3           23                       3\n",
       "4           25                       4\n",
       "5           27                       5\n",
       "6           29                       6\n",
       "7           31                       7\n",
       "8           32                       8\n",
       "9           30                       9\n",
       "10          28                      10\n",
       "11          26                      11\n",
       "12          24                      12\n",
       "13          22                      13\n",
       "14          20                      14\n",
       "15          18                      15\n",
       "16          16                      16\n",
       "17          14                      17\n",
       "18          12                      18\n",
       "19          10                      19\n",
       "20           8                      20\n",
       "21           6                      21\n",
       "22           4                      22\n",
       "23           2                      23\n",
       "24           1                      24\n",
       "25           3                      25\n",
       "26           5                      26\n",
       "27           7                      27\n",
       "28           9                      28\n",
       "29          11                      29\n",
       "30          13                      30\n",
       "31          15                      31"
      ]
     },
     "execution_count": 15,
     "metadata": {},
     "output_type": "execute_result"
    }
   ],
   "source": [
    "probe_rec = raw_rec.get_probe()\n",
    "probe_rec.to_dataframe(complete=True).loc[:, [\"contact_ids\", \"device_channel_indices\"]]"
   ]
  },
  {
   "cell_type": "markdown",
   "metadata": {},
   "source": [
    "We can now visualize the channel_id (channel name) from open ephys."
   ]
  },
  {
   "cell_type": "code",
   "execution_count": 16,
   "metadata": {},
   "outputs": [
    {
     "data": {
      "text/plain": [
       "(-50.0, 300.0)"
      ]
     },
     "execution_count": 16,
     "metadata": {},
     "output_type": "execute_result"
    },
    {
     "data": {
      "image/png": "[encoded data removed]",
      "text/plain": [
       "<Figure size 640x480 with 1 Axes>"
      ]
     },
     "metadata": {},
     "output_type": "display_data"
    }
   ],
   "source": [
    "fig, ax = plt.subplots()\n",
    "si.plot_probe_map(raw_rec, with_channel_ids=True, ax=ax)\n",
    "ax.set_xlim(-100, 100)\n",
    "ax.set_ylim(-50, 300)"
   ]
  },
  {
   "cell_type": "markdown",
   "metadata": {},
   "source": [
    "The `widgets` module includes several convenient plotting functions that can be used to explore the data:"
   ]
  },
  {
   "cell_type": "code",
   "execution_count": 17,
   "metadata": {},
   "outputs": [
    {
     "data": {
      "application/vnd.jupyter.widget-view+json": {
       "model_id": "318655b6954247f1a2c389c9f6d32b69",
       "version_major": 2,
       "version_minor": 0
      },
      "text/plain": [
       "AppLayout(children=(TimeSlider(children=(Dropdown(description='segment', options=(0,), value=0), Button(icon='…"
      ]
     },
     "metadata": {},
     "output_type": "display_data"
    },
    {
     "data": {
      "text/plain": [
       "<spikeinterface.widgets.traces.TracesWidget at 0x24500897710>"
      ]
     },
     "execution_count": 17,
     "metadata": {},
     "output_type": "execute_result"
    }
   ],
   "source": [
    "%matplotlib widget\n",
    "si.plot_traces(raw_rec, backend=\"ipywidgets\", mode='line', channel_ids=raw_rec.channel_ids[::8])"
   ]
  },
  {
   "cell_type": "code",
   "execution_count": 15,
   "metadata": {},
   "outputs": [
    {
     "name": "stdout",
     "output_type": "stream",
     "text": [
      "[ 899.39823333  905.2924      939.99943333 1768.5384     1768.53843333\n",
      " 1768.58803333 1768.58806667 1768.62266667 1768.62273333 1774.5293\n",
      " 1774.52936667 1775.74433333 1782.33903333 1782.38936667 1782.3894\n",
      " 1782.4394     1784.83226667 2352.9488     2352.94883333 2353.01566667\n",
      " 2353.0157     2353.05386667 2353.05393333 2354.1045     2354.10453333\n",
      " 2356.224      2356.22403333 2357.15576667 2357.1558     2357.84336667\n",
      " 2357.8434     2359.95096667 2359.951      2360.03903333 2360.03906667\n",
      " 2362.1336     2362.13363333 2362.9228     2362.92283333 2362.99373333\n",
      " 2362.9938     2364.81726667 2364.81733333 2364.8622     2366.1878\n",
      " 2366.18783333 2374.37106667 2374.3711     2376.08773333 2376.1821\n",
      " 2376.18216667 2376.85653333 2376.85656667 2377.88953333 2377.88956667\n",
      " 2382.41283333 2383.4225     2383.42253333 2383.65033333 2383.65033333\n",
      " 2385.05656667 2385.05656667 2809.4956     2809.4956     2809.52473333\n",
      " 2809.52476667 2809.56486667 2809.56493333 2817.9739     2817.97393333\n",
      " 2819.34496667 2819.345      2819.4309     2819.43093333 2820.21643333\n",
      " 2820.21646667 2820.25783333 2820.25786667 2822.69373333 2822.69376667\n",
      " 2824.18003333 2824.18003333 2825.69226667 2825.6923     2825.76643333\n",
      " 2825.76646667 2825.8329     2825.83293333 2826.67406667 2826.6741\n",
      " 2826.72463333 2826.72466667 2826.79093333 2826.79096667 2830.41343333\n",
      " 2830.41346667 2830.47726667 2830.4773     2830.60556667 2830.6056\n",
      " 3251.18476667 3251.18483333 3251.47306667 3251.4731     3373.35116667\n",
      " 3373.3512     3373.75336667 3373.7534     3375.64216667 3375.6422\n",
      " 3376.92123333 3376.92126667 3377.85406667 3377.8541     3378.1638\n",
      " 3378.16383333 3378.59973333 3378.59976667 3378.7124     3378.71243333\n",
      " 3379.46216667 3379.4622     3379.72196667 3379.722      3380.28096667\n",
      " 3380.281      3380.7603     3380.76036667 3380.83246667 3380.8325\n",
      " 3381.8717     3381.87173333 3381.93566667 3381.9357     3382.0094\n",
      " 3382.00943333 3383.23416667 3383.2342     3383.43166667 3383.4317\n",
      " 3384.7756     3384.77563333 3384.979      3384.97906667 3385.41086667\n",
      " 3385.41093333 3385.4848     3385.48483333 3386.64963333 3386.64966667\n",
      " 3386.81733333 3386.81736667 3387.5972     3387.5972     3388.82646667\n",
      " 3388.8265     3388.8885     3388.88853333 3388.9596     3388.95963333\n",
      " 3389.02603333 3389.02606667 3390.96676667 3390.9668     3393.6348\n",
      " 3393.63483333 3397.91173333 3397.91176667 3399.2573     3399.25733333\n",
      " 3401.137      3401.13703333 3402.86283333 3402.86286667 3405.1712\n",
      " 3405.17123333 3406.71556667 3406.7156     3406.96773333 3406.96776667\n",
      " 3407.12903333 3407.1291     3451.11166667 3451.1117     3451.1618\n",
      " 3451.1618     3451.19143333 3451.19146667 3452.657      3452.65703333\n",
      " 3453.52306667 3453.5231     3453.57243333 3453.57246667 3455.40893333\n",
      " 3455.40896667 3455.487      3455.48703333 3455.5239     3455.52396667\n",
      " 3456.79396667 3456.794      3456.84866667 3456.8487     3456.89546667\n",
      " 3456.8955     3457.8162     3457.81623333 3458.74566667 3458.7457\n",
      " 3458.8593     3458.85933333 3459.56556667 3459.5656     3460.63183333\n",
      " 3460.63186667 3461.60543333 3461.60546667 3461.65696667 3461.657\n",
      " 3461.69126667 3461.6913     3461.82376667 3461.82376667 3462.98936667\n",
      " 3462.9894     3488.81393333 3488.81396667 3488.88216667 3488.8822\n",
      " 3489.58433333 3489.58436667 3490.35176667 3490.3518     3490.39916667\n",
      " 3490.3992     3494.0296     3494.02963333 3494.28213333 3494.28216667\n",
      " 3749.45086667 3749.45086667]\n"
     ]
    }
   ],
   "source": [
    "spike_times=np.load(r'C:\\Users\\neuroPC\\Documents\\GitHub\\ephys\\spike_times.npy')\n",
    "print(spike_times)"
   ]
  },
  {
   "cell_type": "markdown",
   "metadata": {
    "pycharm": {
     "name": "#%% md\n"
    }
   },
   "source": [
    "### Properties \n",
    "\n",
    "`Recording` objects can have *properties*. A property is a piece of information attached to a channel, e.g. group or location.\n",
    "\n",
    "Similarly, for `Sorting` objects (that we'll cover later), anything related to a unit can be stored as a property. \n",
    "\n",
    "We can check which properties are in the extractor as follows:"
   ]
  },
  {
   "cell_type": "code",
   "execution_count": 22,
   "metadata": {
    "pycharm": {
     "name": "#%%\n"
    }
   },
   "outputs": [
    {
     "name": "stdout",
     "output_type": "stream",
     "text": [
      "Properties:\n",
      " ['gain_to_uV', 'offset_to_uV', 'channel_name', 'contact_vector', 'location', 'group']\n"
     ]
    }
   ],
   "source": [
    "print(\"Properties:\\n\", list(raw_rec.get_property_keys()))"
   ]
  },
  {
   "cell_type": "markdown",
   "metadata": {
    "pycharm": {
     "name": "#%% md\n"
    }
   },
   "source": [
    "Let's add some new properties! \n",
    "The first 192 channels are in the CA1 area, the second 192 are in the CA3 area:"
   ]
  },
  {
   "cell_type": "code",
   "execution_count": 23,
   "metadata": {
    "pycharm": {
     "name": "#%%\n"
    }
   },
   "outputs": [],
   "source": [
    "#brain_area_property_values = ['CA1']*32 + ['CA3']*32\n",
    "#print(brain_area_property_values)"
   ]
  },
  {
   "cell_type": "code",
   "execution_count": 24,
   "metadata": {},
   "outputs": [],
   "source": [
    "#raw_rec.set_property(key='brain_area', values=brain_area_property_values)"
   ]
  },
  {
   "cell_type": "code",
   "execution_count": 25,
   "metadata": {},
   "outputs": [],
   "source": [
    "#raw_rec.get_property_keys()"
   ]
  },
  {
   "cell_type": "code",
   "execution_count": 26,
   "metadata": {},
   "outputs": [],
   "source": [
    "#raw_rec.get_property(\"brain_area\")"
   ]
  },
  {
   "cell_type": "markdown",
   "metadata": {},
   "source": [
    "**NOTE:** Internally the properties is jus a dictionary attached to the recording that is accessible as `_properties`"
   ]
  },
  {
   "cell_type": "markdown",
   "metadata": {
    "pycharm": {
     "name": "#%% md\n"
    }
   },
   "source": [
    "### Annotations"
   ]
  },
  {
   "cell_type": "markdown",
   "metadata": {
    "pycharm": {
     "name": "#%% md\n"
    }
   },
   "source": [
    "*Annotations* can be attached to any object and they can carry any information related to the recording or sorting objects.\n",
    "\n",
    "Let's add an annotation about this tutorial:"
   ]
  },
  {
   "cell_type": "code",
   "execution_count": 18,
   "metadata": {
    "pycharm": {
     "name": "#%%\n"
    }
   },
   "outputs": [],
   "source": [
    "raw_rec.annotate(description=\"Dataset for Testing SI\")"
   ]
  },
  {
   "cell_type": "code",
   "execution_count": 19,
   "metadata": {},
   "outputs": [
    {
     "name": "stdout",
     "output_type": "stream",
     "text": [
      "['is_filtered', 'probe_0_planar_contour', 'description']\n"
     ]
    }
   ],
   "source": [
    "print(raw_rec.get_annotation_keys())"
   ]
  },
  {
   "cell_type": "markdown",
   "metadata": {},
   "source": [
    "# 2. Preprocessing <a class=\"anchor\" id=\"preprocessing\"></a>\n",
    "\n",
    "Now that the probe information is loaded we can do some preprocessing using `preprocessing` module.\n",
    "\n",
    "We can filter the recordings, rereference the signals to remove noise, discard noisy channels, whiten the data, remove stimulation artifacts, etc. \n",
    "\n",
    "For this notebook, let's filter the recordings and apply common median reference (CMR). All preprocessing modules return new `Recording` objects that apply the underlying preprocessing function. This allows users to access the preprocessed data in the same way as the raw data.\n",
    "\n",
    "More documention on this section here: https://spikeinterface.readthedocs.io/en/latest/modules/preprocessing.html\n"
   ]
  },
  {
   "cell_type": "markdown",
   "metadata": {
    "pycharm": {
     "name": "#%% md\n"
    }
   },
   "source": [
    "Below, we bandpass filter the recording and apply common median reference to the original recording:"
   ]
  },
  {
   "cell_type": "code",
   "execution_count": 20,
   "metadata": {
    "pycharm": {
     "name": "#%%\n"
    }
   },
   "outputs": [],
   "source": [
    "recording_f = si.bandpass_filter(raw_rec, freq_min=300, freq_max=6000)"
   ]
  },
  {
   "cell_type": "markdown",
   "metadata": {
    "pycharm": {
     "name": "#%% md\n"
    }
   },
   "source": [
    "Let's now apply Common Median Reference (CMR):"
   ]
  },
  {
   "cell_type": "code",
   "execution_count": 21,
   "metadata": {},
   "outputs": [],
   "source": [
    "recording_cmr = si.common_reference(recording_f, reference='global', operator='median')"
   ]
  },
  {
   "cell_type": "markdown",
   "metadata": {},
   "source": [
    "We can plot the traces after applying CMR:"
   ]
  },
  {
   "cell_type": "code",
   "execution_count": 22,
   "metadata": {},
   "outputs": [
    {
     "data": {
      "application/vnd.jupyter.widget-view+json": {
       "model_id": "ae597fb8ba1f41f8ba15c7ec45c8ca15",
       "version_major": 2,
       "version_minor": 0
      },
      "text/plain": [
       "AppLayout(children=(TimeSlider(children=(Dropdown(description='segment', options=(0,), value=0), Button(icon='…"
      ]
     },
     "metadata": {},
     "output_type": "display_data"
    }
   ],
   "source": [
    "%matplotlib widget\n",
    "w = si.plot_traces({\"filtered\": recording_f, \"common\": recording_cmr}, mode='map',\n",
    "                   time_range=[10, 10.1], backend=\"ipywidgets\")"
   ]
  },
  {
   "cell_type": "markdown",
   "metadata": {},
   "source": [
    "## Removing bad channels\n",
    "\n"
   ]
  },
  {
   "cell_type": "code",
   "execution_count": 28,
   "metadata": {},
   "outputs": [
    {
     "name": "stdout",
     "output_type": "stream",
     "text": [
      "bad_channel_ids ['CH3' 'CH4' 'CH5' 'CH6' 'CH10' 'CH12' 'CH13' 'CH15' 'CH16' 'CH17' 'CH23'\n",
      " 'CH26' 'CH31']\n",
      "channel_labels ['good' 'good' 'noise' 'noise' 'noise' 'noise' 'good' 'good' 'good'\n",
      " 'noise' 'good' 'noise' 'noise' 'good' 'noise' 'noise' 'dead' 'good'\n",
      " 'good' 'good' 'good' 'good' 'dead' 'good' 'good' 'dead' 'good' 'good'\n",
      " 'good' 'good' 'dead' 'good']\n"
     ]
    }
   ],
   "source": [
    "bad_channel_ids, channel_labels = si.detect_bad_channels(recording_f, method='coherence+psd')\n",
    "print('bad_channel_ids', bad_channel_ids)\n",
    "print('channel_labels', channel_labels)"
   ]
  },
  {
   "cell_type": "code",
   "execution_count": 29,
   "metadata": {},
   "outputs": [
    {
     "name": "stdout",
     "output_type": "stream",
     "text": [
      "CommonReferenceRecording: 19 channels - 30.0kHz - 1 segments - 116,448,180 samples \n",
      "                          3,881.61s (1.08 hours) - int16 dtype - 4.12 GiB\n",
      "['CH1' 'CH2' 'CH7' 'CH8' 'CH9' 'CH11' 'CH14' 'CH18' 'CH19' 'CH20' 'CH21'\n",
      " 'CH22' 'CH24' 'CH25' 'CH27' 'CH28' 'CH29' 'CH30' 'CH32']\n"
     ]
    }
   ],
   "source": [
    "recording_good_channels_f = recording_f.remove_channels(bad_channel_ids)\n",
    "recording_good_channels = si.common_reference(recording_good_channels_f, reference='global', operator='median')\n",
    "\n",
    "print(recording_good_channels)\n",
    "print(recording_good_channels.channel_ids)"
   ]
  },
  {
   "cell_type": "code",
   "execution_count": 34,
   "metadata": {},
   "outputs": [
    {
     "data": {
      "text/plain": [
       "CommonReferenceRecording: 19 channels - 30.0kHz - 1 segments - 116,448,180 samples \n",
       "                          3,881.61s (1.08 hours) - int16 dtype - 4.12 GiB"
      ]
     },
     "execution_count": 34,
     "metadata": {},
     "output_type": "execute_result"
    }
   ],
   "source": [
    "recording_good_channels"
   ]
  },
  {
   "cell_type": "code",
   "execution_count": 30,
   "metadata": {},
   "outputs": [
    {
     "data": {
      "application/vnd.jupyter.widget-view+json": {
       "model_id": "2aebca80453244c4b92bd2c0e81ea401",
       "version_major": 2,
       "version_minor": 0
      },
      "text/plain": [
       "AppLayout(children=(TimeSlider(children=(Dropdown(description='segment', options=(0,), value=0), Button(icon='…"
      ]
     },
     "metadata": {},
     "output_type": "display_data"
    }
   ],
   "source": [
    "w = si.plot_traces(recording_good_channels, mode='map',\n",
    "                   time_range=[10, 10.1],\n",
    "                   backend=\"ipywidgets\")"
   ]
  },
  {
   "cell_type": "markdown",
   "metadata": {},
   "source": [
    "**NOTE**: you can also set a default plotting backend with the `si.set_default_plotter_backend()` function."
   ]
  },
  {
   "cell_type": "markdown",
   "metadata": {},
   "source": [
    "## Take only 5 min. for demo"
   ]
  },
  {
   "cell_type": "markdown",
   "metadata": {
    "pycharm": {
     "name": "#%% md\n"
    }
   },
   "source": [
    "Since we are going to spike sort the data, let's first cut out a 5-minute recording, to speed up computations. \n",
    "In this case, the raw data is already 5 minutes, but this can be useful to test on other longer datasets.\n",
    "\n",
    "We can easily do so with the `frame_slice()` function:"
   ]
  },
  {
   "cell_type": "code",
   "execution_count": 110,
   "metadata": {
    "pycharm": {
     "name": "#%%\n"
    }
   },
   "outputs": [
    {
     "data": {
      "text/plain": [
       "FrameSliceRecording: 32 channels - 30.0kHz - 1 segments - 29,970,000 samples \n",
       "                     999.00s (16.65 minutes) - int16 dtype - 1.79 GiB"
      ]
     },
     "execution_count": 110,
     "metadata": {},
     "output_type": "execute_result"
    }
   ],
   "source": [
    "fs = recording_cmr.get_sampling_frequency()\n",
    "start_sec=1\n",
    "end_sec=1000\n",
    "using_full_channels=False\n",
    "if using_full_channels==True:\n",
    "    recording_sub = recording_f.frame_slice(start_frame=start_sec*fs, end_frame=end_sec*fs)\n",
    "else:\n",
    "    recording_sub = recording_good_channels.frame_slice(start_frame=start_sec*fs, end_frame=end_sec*fs)\n",
    "recording_sub"
   ]
  },
  {
   "cell_type": "code",
   "execution_count": 31,
   "metadata": {},
   "outputs": [
    {
     "data": {
      "text/plain": [
       "FrameSliceRecording: 32 channels - 30.0kHz - 1 segments - 17,970,000 samples \n",
       "                     599.00s (9.98 minutes) - int16 dtype - 1.07 GiB"
      ]
     },
     "execution_count": 31,
     "metadata": {},
     "output_type": "execute_result"
    }
   ],
   "source": [
    "raw_rec_sub = raw_rec.frame_slice(start_frame=start_sec*fs, end_frame=end_sec*fs)\n",
    "raw_rec_sub"
   ]
  },
  {
   "cell_type": "markdown",
   "metadata": {
    "pycharm": {
     "name": "#%% md\n"
    }
   },
   "source": [
    "# 3. Saving and loading SpikeInterface objects <a class=\"anchor\" id=\"save-load\"></a>\n",
    "\n",
    "All operations in SpikeInterface are *lazy*, meaning that they are not performed if not needed. This is why the creation of our filter recording was almost instantaneous. However, to speed up further processing, we might want to **save** it to a file and perform those operations (eg. filters, CMR, etc.) at once. "
   ]
  },
  {
   "cell_type": "code",
   "execution_count": 31,
   "metadata": {},
   "outputs": [],
   "source": [
    "n_cpus = os.cpu_count()\n",
    "n_jobs = n_cpus - 4"
   ]
  },
  {
   "cell_type": "code",
   "execution_count": 32,
   "metadata": {},
   "outputs": [],
   "source": [
    "job_kwargs = dict(n_jobs=n_jobs, chunk_duration=\"1s\", progress_bar=True)"
   ]
  },
  {
   "cell_type": "code",
   "execution_count": 33,
   "metadata": {},
   "outputs": [
    {
     "data": {
      "text/plain": [
       "WindowsPath('C:/Users/neuroPC/Documents/Open Ephys')"
      ]
     },
     "execution_count": 33,
     "metadata": {},
     "output_type": "execute_result"
    }
   ],
   "source": [
    "base_folder"
   ]
  },
  {
   "cell_type": "code",
   "execution_count": 35,
   "metadata": {},
   "outputs": [
    {
     "name": "stdout",
     "output_type": "stream",
     "text": [
      "write_binary_recording with n_jobs = 8 and chunk_size = 30000\n"
     ]
    },
    {
     "data": {
      "application/vnd.jupyter.widget-view+json": {
       "model_id": "ff96455f9d7c4764859cd2d89006d7f5",
       "version_major": 2,
       "version_minor": 0
      },
      "text/plain": [
       "write_binary_recording:   0%|          | 0/3882 [00:00<?, ?it/s]"
      ]
     },
     "metadata": {},
     "output_type": "display_data"
    }
   ],
   "source": [
    "recording_saved = recording_good_channels.save(folder=oe_folder / \"preprocessed\",overwrite=True,**job_kwargs)"
   ]
  },
  {
   "cell_type": "markdown",
   "metadata": {},
   "source": [
    "**Note**: you can use the `si.set_global_job_kwargs()` to set `job_kwargs` globally for the entire session!"
   ]
  },
  {
   "cell_type": "code",
   "execution_count": 111,
   "metadata": {
    "pycharm": {
     "name": "#%%\n"
    }
   },
   "outputs": [],
   "source": [
    "if (oe_folder / \"preprocessed\").is_dir():\n",
    "    recording_saved = si.load_extractor(oe_folder / \"preprocessed\")\n",
    "else:\n",
    "    recording_saved = recording_sub.save(folder=oe_folder / \"preprocessed\", **job_kwargs)"
   ]
  },
  {
   "cell_type": "markdown",
   "metadata": {
    "pycharm": {
     "name": "#%% md\n"
    }
   },
   "source": [
    "If we inspect the `preprocessed` folder, we find that a few files have been saved. Let's take a look at what they are:"
   ]
  },
  {
   "cell_type": "code",
   "execution_count": 112,
   "metadata": {},
   "outputs": [
    {
     "data": {
      "text/plain": [
       "BinaryFolderRecording: 32 channels - 30.0kHz - 1 segments - 8,970,000 samples \n",
       "                       299.00s (4.98 minutes) - int16 dtype - 547.49 MiB"
      ]
     },
     "execution_count": 112,
     "metadata": {},
     "output_type": "execute_result"
    }
   ],
   "source": [
    "recording_saved"
   ]
  },
  {
   "cell_type": "code",
   "execution_count": 42,
   "metadata": {
    "pycharm": {
     "name": "#%%\n"
    }
   },
   "outputs": [
    {
     "name": "stderr",
     "output_type": "stream",
     "text": [
      "'ls' is not recognized as an internal or external command,\n",
      "operable program or batch file.\n"
     ]
    }
   ],
   "source": [
    "!ls -llh {oe_folder}/preprocessed"
   ]
  },
  {
   "cell_type": "markdown",
   "metadata": {
    "pycharm": {
     "name": "#%% md\n"
    }
   },
   "source": [
    "The `traces_cached_seg0.raw` contains the processed raw data, while the `.json` files include information on how to reload the binary file. The `provenance.json` includes the information of the recording before saving it to a binary file, and the `probe.json` represents the probe object. "
   ]
  },
  {
   "cell_type": "markdown",
   "metadata": {
    "pycharm": {
     "name": "#%% md\n"
    }
   },
   "source": [
    "The `save` returns a new *cached* recording that has all the previously loaded information:"
   ]
  },
  {
   "cell_type": "code",
   "execution_count": 36,
   "metadata": {
    "pycharm": {
     "name": "#%%\n"
    }
   },
   "outputs": [
    {
     "name": "stdout",
     "output_type": "stream",
     "text": [
      "Saved channels ids:\n",
      "['CH1' 'CH2' 'CH3' 'CH4' 'CH5' 'CH6' 'CH7' 'CH8' 'CH9' 'CH10' 'CH11'\n",
      " 'CH12' 'CH13' 'CH14' 'CH15' 'CH16' 'CH17' 'CH18' 'CH19' 'CH20' 'CH21'\n",
      " 'CH22' 'CH23' 'CH24' 'CH25' 'CH26' 'CH27' 'CH28' 'CH29' 'CH30' 'CH31'\n",
      " 'CH32']\n"
     ]
    }
   ],
   "source": [
    "print(f'Saved channels ids:\\n{recording_saved.get_channel_ids()}')"
   ]
  },
  {
   "cell_type": "markdown",
   "metadata": {
    "pycharm": {
     "name": "#%% md\n"
    }
   },
   "source": [
    "After saving the SI object, we can easily load it back in a new session:"
   ]
  },
  {
   "cell_type": "code",
   "execution_count": 37,
   "metadata": {
    "pycharm": {
     "name": "#%%\n"
    }
   },
   "outputs": [],
   "source": [
    "recording_loaded = si.load_extractor(oe_folder / \"preprocessed\")"
   ]
  },
  {
   "cell_type": "code",
   "execution_count": 38,
   "metadata": {},
   "outputs": [
    {
     "name": "stdout",
     "output_type": "stream",
     "text": [
      "Loaded channels ids:\n",
      "['CH1' 'CH2' 'CH3' 'CH4' 'CH5' 'CH6' 'CH7' 'CH8' 'CH9' 'CH10' 'CH11'\n",
      " 'CH12' 'CH13' 'CH14' 'CH15' 'CH16' 'CH17' 'CH18' 'CH19' 'CH20' 'CH21'\n",
      " 'CH22' 'CH23' 'CH24' 'CH25' 'CH26' 'CH27' 'CH28' 'CH29' 'CH30' 'CH31'\n",
      " 'CH32']\n"
     ]
    }
   ],
   "source": [
    "print(f'Loaded channels ids:\\n{recording_loaded.get_channel_ids()}')"
   ]
  },
  {
   "cell_type": "markdown",
   "metadata": {
    "pycharm": {
     "name": "#%% md\n"
    }
   },
   "source": [
    "**IMPORTANT**:\n",
    "The same saving mechanisms are available also for all `Sorting` objects,\n"
   ]
  },
  {
   "cell_type": "markdown",
   "metadata": {},
   "source": [
    "## Data compression\n",
    "\n",
    "\n",
    "SpikeInterface also offers a powerful compression framework based on [Zarr](https://zarr.readthedocs.io/en/stable/).\n",
    "\n",
    "You can use the `save()` function to compress to `Zarr` with any available compressor (see [numcodecs](https://numcodecs.readthedocs.io/en/stable/) library)."
   ]
  },
  {
   "cell_type": "code",
   "execution_count": 36,
   "metadata": {},
   "outputs": [],
   "source": [
    "import numcodecs"
   ]
  },
  {
   "cell_type": "code",
   "execution_count": 38,
   "metadata": {},
   "outputs": [
    {
     "name": "stdout",
     "output_type": "stream",
     "text": [
      "write_zarr_recording with n_jobs = 8 and chunk_size = 30000\n"
     ]
    },
    {
     "data": {
      "application/vnd.jupyter.widget-view+json": {
       "model_id": "779b3a14068d44fe861c67e5b487c882",
       "version_major": 2,
       "version_minor": 0
      },
      "text/plain": [
       "write_zarr_recording:   0%|          | 0/3882 [00:00<?, ?it/s]"
      ]
     },
     "metadata": {},
     "output_type": "display_data"
    }
   ],
   "source": [
    "#overwrite existing savings\n",
    "compressor = numcodecs.Blosc(cname=\"zstd\", clevel=9, shuffle=numcodecs.Blosc.BITSHUFFLE)\n",
    "recording_saved = recording_good_channels.save(format=\"zarr\", folder=oe_folder / \"preprocessed_compressed.zarr\",\n",
    "                                        compressor=compressor,overwrite=True,\n",
    "                                        **job_kwargs)"
   ]
  },
  {
   "cell_type": "code",
   "execution_count": 21,
   "metadata": {},
   "outputs": [],
   "source": [
    "if (oe_folder / \"preprocessed_compressed.zarr\").is_dir():\n",
    "    recording_saved = si.read_zarr(oe_folder / \"preprocessed_compressed.zarr\")\n",
    "else:\n",
    "    import numcodecs\n",
    "    compressor = numcodecs.Blosc(cname=\"zstd\", clevel=9, shuffle=numcodecs.Blosc.BITSHUFFLE)\n",
    "    recording_saved = recording_sub.save(format=\"zarr\", folder=oe_folder / \"preprocessed_compressed.zarr\",\n",
    "                                         compressor=compressor,\n",
    "                                         **job_kwargs)"
   ]
  },
  {
   "cell_type": "code",
   "execution_count": 43,
   "metadata": {},
   "outputs": [
    {
     "data": {
      "text/plain": [
       "ZarrRecordingExtractor: 19 channels - 30.0kHz - 1 segments - 116,448,180 samples \n",
       "                        3,881.61s (1.08 hours) - int16 dtype - 4.12 GiB"
      ]
     },
     "execution_count": 43,
     "metadata": {},
     "output_type": "execute_result"
    }
   ],
   "source": [
    "recording_saved"
   ]
  },
  {
   "cell_type": "code",
   "execution_count": 53,
   "metadata": {},
   "outputs": [
    {
     "name": "stdout",
     "output_type": "stream",
     "text": [
      "388M\t/data_local/DataSpikeSorting/SI_tutorial_cambridgeneurotech_2023/preprocessed_compressed.zarr\n",
      "808M\t/data_local/DataSpikeSorting/SI_tutorial_cambridgeneurotech_2023/preprocessed\n"
     ]
    }
   ],
   "source": [
    "!du -sh {base_folder}/preprocessed_compressed.zarr\n",
    "!du -sh {base_folder}/preprocessed"
   ]
  },
  {
   "cell_type": "markdown",
   "metadata": {},
   "source": [
    "For more details and an exhaustive comparison of compression methods, see our recent paper here:\n",
    "https://doi.org/10.1088/1741-2552/acf5a4"
   ]
  },
  {
   "cell_type": "markdown",
   "metadata": {},
   "source": [
    "# 4. Spike sorting <a class=\"anchor\" id=\"spike-sorting\"></a>\n",
    "\n",
    "We can now run spike sorting on the above recording. We will use different spike sorters for this demonstration, to show how easy SpikeInterface makes it easy to interchengably run different sorters :)\n",
    "\n",
    "Let's first check the available and installed sorters in `SpikeInterface`.\n",
    "We will sort the bandpass cached filtered recording the `recording_saved` object.\n",
    "\n",
    "\n",
    "\n",
    "More documention on this section here: https://spikeinterface.readthedocs.io/en/latest/modules/sorters.html"
   ]
  },
  {
   "cell_type": "code",
   "execution_count": 39,
   "metadata": {},
   "outputs": [
    {
     "data": {
      "text/plain": [
       "['combinato',\n",
       " 'hdsort',\n",
       " 'herdingspikes',\n",
       " 'ironclust',\n",
       " 'kilosort',\n",
       " 'kilosort2',\n",
       " 'kilosort2_5',\n",
       " 'kilosort3',\n",
       " 'kilosort4',\n",
       " 'klusta',\n",
       " 'mountainsort4',\n",
       " 'mountainsort5',\n",
       " 'pykilosort',\n",
       " 'spykingcircus',\n",
       " 'spykingcircus2',\n",
       " 'tridesclous',\n",
       " 'tridesclous2',\n",
       " 'waveclus',\n",
       " 'waveclus_snippets',\n",
       " 'yass']"
      ]
     },
     "execution_count": 39,
     "metadata": {},
     "output_type": "execute_result"
    }
   ],
   "source": [
    "si.available_sorters()"
   ]
  },
  {
   "cell_type": "code",
   "execution_count": 40,
   "metadata": {},
   "outputs": [
    {
     "data": {
      "text/plain": [
       "['kilosort4', 'spykingcircus2', 'tridesclous2']"
      ]
     },
     "execution_count": 40,
     "metadata": {},
     "output_type": "execute_result"
    }
   ],
   "source": [
    "si.installed_sorters()"
   ]
  },
  {
   "cell_type": "markdown",
   "metadata": {},
   "source": [
    "The `spikeinterface.sortingcomponents` module includes functions that can be used to create custom spike sorting pipelines built-in in `SpikeInterface`. It is still experimental and under heavy development, but there are already two SI-based sorters available:\n",
    "\n",
    "* `tridesclous2` (developed by Samuel Garcia)\n",
    "* `spykingcircus2` (developed by Pierre Yger)\n",
    "\n",
    "They can be run with the same `run_sorter` function, but they don't require any additional installation!"
   ]
  },
  {
   "cell_type": "markdown",
   "metadata": {},
   "source": [
    "For matlab based sorter we need to set the path of the source code"
   ]
  },
  {
   "cell_type": "code",
   "execution_count": 41,
   "metadata": {},
   "outputs": [
    {
     "name": "stdout",
     "output_type": "stream",
     "text": [
      "Setting KILOSORT3_PATH environment variable for subprocess calls to: C:\\Users\\neuroPC\\Documents\\GitHub\\Kilosort-3.0.2\n"
     ]
    }
   ],
   "source": [
    "#kilosort_25_path = '/home/samuel.garcia/Documents/SpikeInterface/code_sorters/Kilosort2.5/'\n",
    "#kilosort_3_path = r'C:\\Users\\neuroPC\\Documents\\GitHub\\Kilosort'\n",
    "kilosort_3_path = r'C:\\Users\\neuroPC\\Documents\\GitHub\\Kilosort-3.0.2'\n",
    "si.Kilosort3Sorter.set_kilosort3_path(kilosort_3_path)"
   ]
  },
  {
   "cell_type": "code",
   "execution_count": 42,
   "metadata": {},
   "outputs": [
    {
     "data": {
      "text/plain": [
       "['kilosort3', 'kilosort4', 'spykingcircus2', 'tridesclous2']"
      ]
     },
     "execution_count": 42,
     "metadata": {},
     "output_type": "execute_result"
    }
   ],
   "source": [
    "si.installed_sorters()"
   ]
  },
  {
   "cell_type": "code",
   "execution_count": 45,
   "metadata": {},
   "outputs": [],
   "source": [
    "sorter_params=si.get_default_sorter_params('kilosort3')"
   ]
  },
  {
   "cell_type": "code",
   "execution_count": 57,
   "metadata": {},
   "outputs": [
    {
     "name": "stdout",
     "output_type": "stream",
     "text": [
      "Setting KILOSORT2_5_PATH environment variable for subprocess calls to: /home/samuel.garcia/Documents/SpikeInterface/code_sorters/Kilosort2.5\n"
     ]
    },
    {
     "data": {
      "text/plain": [
       "['kilosort2_5',\n",
       " 'mountainsort5',\n",
       " 'spykingcircus2',\n",
       " 'tridesclous',\n",
       " 'tridesclous2']"
      ]
     },
     "execution_count": 57,
     "metadata": {},
     "output_type": "execute_result"
    }
   ],
   "source": [
    "si.Kilosort2_5Sorter.set_kilosort2_5_path(kilosort_25_path)\n",
    "si.installed_sorters()"
   ]
  },
  {
   "cell_type": "markdown",
   "metadata": {},
   "source": [
    "We can retrieve the parameters associated to any sorter with the `get_default_params()` function from the `sorters` module:"
   ]
  },
  {
   "cell_type": "code",
   "execution_count": 77,
   "metadata": {
    "pycharm": {
     "name": "#%%\n"
    }
   },
   "outputs": [
    {
     "data": {
      "text/plain": [
       "{'batch_size': 60000,\n",
       " 'nblocks': 1,\n",
       " 'Th_universal': 9,\n",
       " 'Th_learned': 8,\n",
       " 'do_CAR': True,\n",
       " 'invert_sign': False,\n",
       " 'nt': 61,\n",
       " 'artifact_threshold': None,\n",
       " 'nskip': 25,\n",
       " 'whitening_range': 32,\n",
       " 'binning_depth': 5,\n",
       " 'sig_interp': 20,\n",
       " 'nt0min': None,\n",
       " 'dmin': None,\n",
       " 'dminx': None,\n",
       " 'min_template_size': 10,\n",
       " 'template_sizes': 5,\n",
       " 'nearest_chans': 10,\n",
       " 'nearest_templates': 100,\n",
       " 'templates_from_data': True,\n",
       " 'n_templates': 6,\n",
       " 'n_pcs': 6,\n",
       " 'Th_single_ch': 6,\n",
       " 'acg_threshold': 0.2,\n",
       " 'ccg_threshold': 0.25,\n",
       " 'cluster_downsampling': 20,\n",
       " 'cluster_pcs': 64,\n",
       " 'duplicate_spike_bins': 15,\n",
       " 'do_correction': True,\n",
       " 'keep_good_only': False,\n",
       " 'save_extra_kwargs': False,\n",
       " 'skip_kilosort_preprocessing': False,\n",
       " 'scaleproc': None}"
      ]
     },
     "execution_count": 77,
     "metadata": {},
     "output_type": "execute_result"
    }
   ],
   "source": [
    "si.get_default_sorter_params('kilosort4')"
   ]
  },
  {
   "cell_type": "code",
   "execution_count": 59,
   "metadata": {
    "pycharm": {
     "name": "#%%\n"
    }
   },
   "outputs": [
    {
     "data": {
      "text/plain": [
       "\u001b[0;31mSignature:\u001b[0m\n",
       "\u001b[0msi\u001b[0m\u001b[0;34m.\u001b[0m\u001b[0mrun_sorter\u001b[0m\u001b[0;34m(\u001b[0m\u001b[0;34m\u001b[0m\n",
       "\u001b[0;34m\u001b[0m    \u001b[0msorter_name\u001b[0m\u001b[0;34m:\u001b[0m \u001b[0mstr\u001b[0m\u001b[0;34m,\u001b[0m\u001b[0;34m\u001b[0m\n",
       "\u001b[0;34m\u001b[0m    \u001b[0mrecording\u001b[0m\u001b[0;34m:\u001b[0m \u001b[0mspikeinterface\u001b[0m\u001b[0;34m.\u001b[0m\u001b[0mcore\u001b[0m\u001b[0;34m.\u001b[0m\u001b[0mbaserecording\u001b[0m\u001b[0;34m.\u001b[0m\u001b[0mBaseRecording\u001b[0m\u001b[0;34m,\u001b[0m\u001b[0;34m\u001b[0m\n",
       "\u001b[0;34m\u001b[0m    \u001b[0moutput_folder\u001b[0m\u001b[0;34m:\u001b[0m \u001b[0mOptional\u001b[0m\u001b[0;34m[\u001b[0m\u001b[0mstr\u001b[0m\u001b[0;34m]\u001b[0m \u001b[0;34m=\u001b[0m \u001b[0;32mNone\u001b[0m\u001b[0;34m,\u001b[0m\u001b[0;34m\u001b[0m\n",
       "\u001b[0;34m\u001b[0m    \u001b[0mremove_existing_folder\u001b[0m\u001b[0;34m:\u001b[0m \u001b[0mbool\u001b[0m \u001b[0;34m=\u001b[0m \u001b[0;32mFalse\u001b[0m\u001b[0;34m,\u001b[0m\u001b[0;34m\u001b[0m\n",
       "\u001b[0;34m\u001b[0m    \u001b[0mdelete_output_folder\u001b[0m\u001b[0;34m:\u001b[0m \u001b[0mbool\u001b[0m \u001b[0;34m=\u001b[0m \u001b[0;32mFalse\u001b[0m\u001b[0;34m,\u001b[0m\u001b[0;34m\u001b[0m\n",
       "\u001b[0;34m\u001b[0m    \u001b[0mverbose\u001b[0m\u001b[0;34m:\u001b[0m \u001b[0mbool\u001b[0m \u001b[0;34m=\u001b[0m \u001b[0;32mFalse\u001b[0m\u001b[0;34m,\u001b[0m\u001b[0;34m\u001b[0m\n",
       "\u001b[0;34m\u001b[0m    \u001b[0mraise_error\u001b[0m\u001b[0;34m:\u001b[0m \u001b[0mbool\u001b[0m \u001b[0;34m=\u001b[0m \u001b[0;32mTrue\u001b[0m\u001b[0;34m,\u001b[0m\u001b[0;34m\u001b[0m\n",
       "\u001b[0;34m\u001b[0m    \u001b[0mdocker_image\u001b[0m\u001b[0;34m:\u001b[0m \u001b[0mUnion\u001b[0m\u001b[0;34m[\u001b[0m\u001b[0mbool\u001b[0m\u001b[0;34m,\u001b[0m \u001b[0mstr\u001b[0m\u001b[0;34m,\u001b[0m \u001b[0mNoneType\u001b[0m\u001b[0;34m]\u001b[0m \u001b[0;34m=\u001b[0m \u001b[0;32mFalse\u001b[0m\u001b[0;34m,\u001b[0m\u001b[0;34m\u001b[0m\n",
       "\u001b[0;34m\u001b[0m    \u001b[0msingularity_image\u001b[0m\u001b[0;34m:\u001b[0m \u001b[0mUnion\u001b[0m\u001b[0;34m[\u001b[0m\u001b[0mbool\u001b[0m\u001b[0;34m,\u001b[0m \u001b[0mstr\u001b[0m\u001b[0;34m,\u001b[0m \u001b[0mNoneType\u001b[0m\u001b[0;34m]\u001b[0m \u001b[0;34m=\u001b[0m \u001b[0;32mFalse\u001b[0m\u001b[0;34m,\u001b[0m\u001b[0;34m\u001b[0m\n",
       "\u001b[0;34m\u001b[0m    \u001b[0mdelete_container_files\u001b[0m\u001b[0;34m:\u001b[0m \u001b[0mbool\u001b[0m \u001b[0;34m=\u001b[0m \u001b[0;32mTrue\u001b[0m\u001b[0;34m,\u001b[0m\u001b[0;34m\u001b[0m\n",
       "\u001b[0;34m\u001b[0m    \u001b[0mwith_output\u001b[0m\u001b[0;34m:\u001b[0m \u001b[0mbool\u001b[0m \u001b[0;34m=\u001b[0m \u001b[0;32mTrue\u001b[0m\u001b[0;34m,\u001b[0m\u001b[0;34m\u001b[0m\n",
       "\u001b[0;34m\u001b[0m    \u001b[0;34m**\u001b[0m\u001b[0msorter_params\u001b[0m\u001b[0;34m,\u001b[0m\u001b[0;34m\u001b[0m\n",
       "\u001b[0;34m\u001b[0m\u001b[0;34m)\u001b[0m\u001b[0;34m\u001b[0m\u001b[0;34m\u001b[0m\u001b[0m\n",
       "\u001b[0;31mDocstring:\u001b[0m\n",
       "Generic function to run a sorter via function approach.\n",
       "\n",
       "\n",
       "Parameters\n",
       "----------\n",
       "sorter_name: str\n",
       "    The sorter name\n",
       "recording: RecordingExtractor\n",
       "    The recording extractor to be spike sorted\n",
       "output_folder: str or Path\n",
       "    Path to output folder\n",
       "remove_existing_folder: bool\n",
       "    If True and output_folder exists yet then delete.\n",
       "delete_output_folder: bool, default: False\n",
       "    If True, output folder is deleted\n",
       "verbose: bool, default: False\n",
       "    If True, output is verbose\n",
       "raise_error: bool, default: True\n",
       "    If True, an error is raised if spike sorting fails\n",
       "    If False, the process continues and the error is logged in the log file.\n",
       "docker_image: bool or str, default: False\n",
       "    If True, pull the default docker container for the sorter and run the sorter in that container using docker.\n",
       "    Use a str to specify a non-default container. If that container is not local it will be pulled from docker hub.\n",
       "    If False, the sorter is run locally\n",
       "singularity_image: bool or str, default: False\n",
       "    If True, pull the default docker container for the sorter and run the sorter in that container using\n",
       "    singularity. Use a str to specify a non-default container. If that container is not local it will be pulled\n",
       "    from Docker Hub. If False, the sorter is run locally\n",
       "delete_container_files: bool, default: True\n",
       "    If True, the container temporary files are deleted after the sorting is done\n",
       "with_output: bool, default: True\n",
       "    If True, the output Sorting is returned as a Sorting\n",
       "**sorter_params: keyword args\n",
       "    Spike sorter specific arguments (they can be retrieved with `get_default_sorter_params(sorter_name_or_class)`)\n",
       "\n",
       "Returns\n",
       "-------\n",
       "sortingextractor: SortingExtractor\n",
       "    The spike sorted data\n",
       "\n",
       "\n",
       "Examples\n",
       "--------\n",
       ">>> sorting = run_sorter(\"tridesclous\", recording)\n",
       "\u001b[0;31mFile:\u001b[0m      ~/Documents/SpikeInterface/spikeinterface/src/spikeinterface/sorters/runsorter.py\n",
       "\u001b[0;31mType:\u001b[0m      function\n"
      ]
     },
     "metadata": {},
     "output_type": "display_data"
    }
   ],
   "source": [
    "si.run_sorter?"
   ]
  },
  {
   "cell_type": "markdown",
   "metadata": {
    "pycharm": {
     "name": "#%% md\n"
    }
   },
   "source": [
    "To modify a parameter, we can easily pass it to the `run` function as an extra argument!"
   ]
  },
  {
   "cell_type": "markdown",
   "metadata": {},
   "source": [
    "### Run sorter locally"
   ]
  },
  {
   "cell_type": "code",
   "execution_count": 81,
   "metadata": {},
   "outputs": [],
   "source": [
    "sorter_params = {'dminx': 250,'nearest_templates': 10}"
   ]
  },
  {
   "cell_type": "code",
   "execution_count": 104,
   "metadata": {},
   "outputs": [
    {
     "data": {
      "text/plain": [
       "ZarrRecordingExtractor: 32 channels - 30.0kHz - 1 segments - 8,970,000 samples \n",
       "                        299.00s (4.98 minutes) - int16 dtype - 547.49 MiB"
      ]
     },
     "execution_count": 104,
     "metadata": {},
     "output_type": "execute_result"
    }
   ],
   "source": [
    "recording_saved"
   ]
  },
  {
   "cell_type": "code",
   "execution_count": 26,
   "metadata": {},
   "outputs": [
    {
     "data": {
      "text/plain": [
       "{'do_correction': False}"
      ]
     },
     "execution_count": 26,
     "metadata": {},
     "output_type": "execute_result"
    }
   ],
   "source": [
    "sorter_params"
   ]
  },
  {
   "cell_type": "code",
   "execution_count": 50,
   "metadata": {},
   "outputs": [
    {
     "name": "stdout",
     "output_type": "stream",
     "text": [
      "Error running spykingcircus2\n"
     ]
    },
    {
     "ename": "SpikeSortingError",
     "evalue": "Spike sorting error trace:\nTraceback (most recent call last):\n  File \"c:\\Users\\neuroPC\\anaconda3\\envs\\ephys\\Lib\\site-packages\\spikeinterface\\sorters\\basesorter.py\", line 258, in run_from_folder\n    SorterClass._run_from_folder(sorter_output_folder, sorter_params, verbose)\n  File \"c:\\Users\\neuroPC\\anaconda3\\envs\\ephys\\Lib\\site-packages\\spikeinterface\\sorters\\internal\\spyking_circus2.py\", line 89, in _run_from_folder\n    assert HAVE_HDBSCAN, \"spykingcircus2 needs hdbscan to be installed\"\nAssertionError: spykingcircus2 needs hdbscan to be installed\n\nSpike sorting failed. You can inspect the runtime trace in C:\\Users\\neuroPC\\Documents\\Open Ephys\\2024-02-01_15-25-25\\results_SC2/spikeinterface_log.json.",
     "output_type": "error",
     "traceback": [
      "\u001b[1;31m---------------------------------------------------------------------------\u001b[0m",
      "\u001b[1;31mSpikeSortingError\u001b[0m                         Traceback (most recent call last)",
      "Cell \u001b[1;32mIn[50], line 2\u001b[0m\n\u001b[0;32m      1\u001b[0m \u001b[38;5;66;03m# run spike sorting on entire recording\u001b[39;00m\n\u001b[1;32m----> 2\u001b[0m sorting_SC2 \u001b[38;5;241m=\u001b[39m \u001b[43msi\u001b[49m\u001b[38;5;241;43m.\u001b[39;49m\u001b[43mrun_sorter\u001b[49m\u001b[43m(\u001b[49m\u001b[43msorter_name\u001b[49m\u001b[38;5;241;43m=\u001b[39;49m\u001b[38;5;124;43m'\u001b[39;49m\u001b[38;5;124;43mspykingcircus2\u001b[39;49m\u001b[38;5;124;43m'\u001b[39;49m\u001b[43m,\u001b[49m\u001b[43m \u001b[49m\u001b[43mrecording\u001b[49m\u001b[38;5;241;43m=\u001b[39;49m\u001b[43mrecording_cmr\u001b[49m\u001b[43m,\u001b[49m\u001b[43m \u001b[49m\u001b[43mremove_existing_folder\u001b[49m\u001b[38;5;241;43m=\u001b[39;49m\u001b[38;5;28;43;01mTrue\u001b[39;49;00m\u001b[43m,\u001b[49m\n\u001b[0;32m      3\u001b[0m \u001b[43m                             \u001b[49m\u001b[43moutput_folder\u001b[49m\u001b[38;5;241;43m=\u001b[39;49m\u001b[43moe_folder\u001b[49m\u001b[43m \u001b[49m\u001b[38;5;241;43m/\u001b[39;49m\u001b[43m \u001b[49m\u001b[38;5;124;43m'\u001b[39;49m\u001b[38;5;124;43mresults_SC2\u001b[39;49m\u001b[38;5;124;43m'\u001b[39;49m\u001b[43m,\u001b[49m\n\u001b[0;32m      4\u001b[0m \u001b[43m                             \u001b[49m\u001b[43mverbose\u001b[49m\u001b[38;5;241;43m=\u001b[39;49m\u001b[38;5;28;43;01mTrue\u001b[39;49;00m\u001b[43m,\u001b[49m\u001b[43mjob_kwargs\u001b[49m\u001b[38;5;241;43m=\u001b[39;49m\u001b[43mjob_kwargs\u001b[49m\u001b[43m)\u001b[49m\n",
      "File \u001b[1;32mc:\\Users\\neuroPC\\anaconda3\\envs\\ephys\\Lib\\site-packages\\spikeinterface\\sorters\\runsorter.py:175\u001b[0m, in \u001b[0;36mrun_sorter\u001b[1;34m(sorter_name, recording, output_folder, remove_existing_folder, delete_output_folder, verbose, raise_error, docker_image, singularity_image, delete_container_files, with_output, **sorter_params)\u001b[0m\n\u001b[0;32m    168\u001b[0m             container_image \u001b[38;5;241m=\u001b[39m singularity_image\n\u001b[0;32m    169\u001b[0m     \u001b[38;5;28;01mreturn\u001b[39;00m run_sorter_container(\n\u001b[0;32m    170\u001b[0m         container_image\u001b[38;5;241m=\u001b[39mcontainer_image,\n\u001b[0;32m    171\u001b[0m         mode\u001b[38;5;241m=\u001b[39mmode,\n\u001b[0;32m    172\u001b[0m         \u001b[38;5;241m*\u001b[39m\u001b[38;5;241m*\u001b[39mcommon_kwargs,\n\u001b[0;32m    173\u001b[0m     )\n\u001b[1;32m--> 175\u001b[0m \u001b[38;5;28;01mreturn\u001b[39;00m \u001b[43mrun_sorter_local\u001b[49m\u001b[43m(\u001b[49m\u001b[38;5;241;43m*\u001b[39;49m\u001b[38;5;241;43m*\u001b[39;49m\u001b[43mcommon_kwargs\u001b[49m\u001b[43m)\u001b[49m\n",
      "File \u001b[1;32mc:\\Users\\neuroPC\\anaconda3\\envs\\ephys\\Lib\\site-packages\\spikeinterface\\sorters\\runsorter.py:225\u001b[0m, in \u001b[0;36mrun_sorter_local\u001b[1;34m(sorter_name, recording, output_folder, remove_existing_folder, delete_output_folder, verbose, raise_error, with_output, **sorter_params)\u001b[0m\n\u001b[0;32m    223\u001b[0m SorterClass\u001b[38;5;241m.\u001b[39mset_params_to_folder(recording, output_folder, sorter_params, verbose)\n\u001b[0;32m    224\u001b[0m SorterClass\u001b[38;5;241m.\u001b[39msetup_recording(recording, output_folder, verbose\u001b[38;5;241m=\u001b[39mverbose)\n\u001b[1;32m--> 225\u001b[0m \u001b[43mSorterClass\u001b[49m\u001b[38;5;241;43m.\u001b[39;49m\u001b[43mrun_from_folder\u001b[49m\u001b[43m(\u001b[49m\u001b[43moutput_folder\u001b[49m\u001b[43m,\u001b[49m\u001b[43m \u001b[49m\u001b[43mraise_error\u001b[49m\u001b[43m,\u001b[49m\u001b[43m \u001b[49m\u001b[43mverbose\u001b[49m\u001b[43m)\u001b[49m\n\u001b[0;32m    226\u001b[0m \u001b[38;5;28;01mif\u001b[39;00m with_output:\n\u001b[0;32m    227\u001b[0m     sorting \u001b[38;5;241m=\u001b[39m SorterClass\u001b[38;5;241m.\u001b[39mget_result_from_folder(output_folder, register_recording\u001b[38;5;241m=\u001b[39m\u001b[38;5;28;01mTrue\u001b[39;00m, sorting_info\u001b[38;5;241m=\u001b[39m\u001b[38;5;28;01mTrue\u001b[39;00m)\n",
      "File \u001b[1;32mc:\\Users\\neuroPC\\anaconda3\\envs\\ephys\\Lib\\site-packages\\spikeinterface\\sorters\\basesorter.py:293\u001b[0m, in \u001b[0;36mBaseSorter.run_from_folder\u001b[1;34m(cls, output_folder, raise_error, verbose)\u001b[0m\n\u001b[0;32m    290\u001b[0m         \u001b[38;5;28mprint\u001b[39m(\u001b[38;5;124mf\u001b[39m\u001b[38;5;124m\"\u001b[39m\u001b[38;5;132;01m{\u001b[39;00msorter_name\u001b[38;5;132;01m}\u001b[39;00m\u001b[38;5;124m run time \u001b[39m\u001b[38;5;132;01m{\u001b[39;00mrun_time\u001b[38;5;132;01m:\u001b[39;00m\u001b[38;5;124m0.2f\u001b[39m\u001b[38;5;132;01m}\u001b[39;00m\u001b[38;5;124ms\u001b[39m\u001b[38;5;124m\"\u001b[39m)\n\u001b[0;32m    292\u001b[0m \u001b[38;5;28;01mif\u001b[39;00m has_error \u001b[38;5;129;01mand\u001b[39;00m raise_error:\n\u001b[1;32m--> 293\u001b[0m     \u001b[38;5;28;01mraise\u001b[39;00m SpikeSortingError(\n\u001b[0;32m    294\u001b[0m         \u001b[38;5;124mf\u001b[39m\u001b[38;5;124m\"\u001b[39m\u001b[38;5;124mSpike sorting error trace:\u001b[39m\u001b[38;5;130;01m\\n\u001b[39;00m\u001b[38;5;132;01m{\u001b[39;00mlog[\u001b[38;5;124m'\u001b[39m\u001b[38;5;124merror_trace\u001b[39m\u001b[38;5;124m'\u001b[39m]\u001b[38;5;132;01m}\u001b[39;00m\u001b[38;5;130;01m\\n\u001b[39;00m\u001b[38;5;124m\"\u001b[39m\n\u001b[0;32m    295\u001b[0m         \u001b[38;5;124mf\u001b[39m\u001b[38;5;124m\"\u001b[39m\u001b[38;5;124mSpike sorting failed. You can inspect the runtime trace in \u001b[39m\u001b[38;5;132;01m{\u001b[39;00moutput_folder\u001b[38;5;132;01m}\u001b[39;00m\u001b[38;5;124m/spikeinterface_log.json.\u001b[39m\u001b[38;5;124m\"\u001b[39m\n\u001b[0;32m    296\u001b[0m     )\n\u001b[0;32m    298\u001b[0m \u001b[38;5;28;01mreturn\u001b[39;00m run_time\n",
      "\u001b[1;31mSpikeSortingError\u001b[0m: Spike sorting error trace:\nTraceback (most recent call last):\n  File \"c:\\Users\\neuroPC\\anaconda3\\envs\\ephys\\Lib\\site-packages\\spikeinterface\\sorters\\basesorter.py\", line 258, in run_from_folder\n    SorterClass._run_from_folder(sorter_output_folder, sorter_params, verbose)\n  File \"c:\\Users\\neuroPC\\anaconda3\\envs\\ephys\\Lib\\site-packages\\spikeinterface\\sorters\\internal\\spyking_circus2.py\", line 89, in _run_from_folder\n    assert HAVE_HDBSCAN, \"spykingcircus2 needs hdbscan to be installed\"\nAssertionError: spykingcircus2 needs hdbscan to be installed\n\nSpike sorting failed. You can inspect the runtime trace in C:\\Users\\neuroPC\\Documents\\Open Ephys\\2024-02-01_15-25-25\\results_SC2/spikeinterface_log.json."
     ]
    }
   ],
   "source": [
    "# run spike sorting on entire recording\n",
    "sorting_SC2 = si.run_sorter(sorter_name='spykingcircus2', recording=recording_cmr, remove_existing_folder=True,\n",
    "                             output_folder=oe_folder / 'results_SC2',\n",
    "                             verbose=True,job_kwargs=job_kwargs)"
   ]
  },
  {
   "cell_type": "code",
   "execution_count": 113,
   "metadata": {},
   "outputs": [
    {
     "name": "stdout",
     "output_type": "stream",
     "text": [
      "========================================\n",
      "Loading recording with SpikeInterface...\n",
      "number of samples: 29970000\n",
      "number of channels: 32\n",
      "numbef of segments: 1\n",
      "sampling rate: 30000.0\n",
      "dtype: int16\n",
      "========================================\n",
      "Preprocessing filters computed in  1.98s; total  1.98s\n",
      "\n",
      "computing drift\n",
      "Re-computing universal templates from data.\n"
     ]
    },
    {
     "name": "stderr",
     "output_type": "stream",
     "text": [
      "100%|██████████| 500/500 [00:58<00:00,  8.59it/s]\n"
     ]
    },
    {
     "name": "stdout",
     "output_type": "stream",
     "text": [
      "drift computed in  59.91s; total  61.89s\n",
      "\n",
      "Extracting spikes using templates\n",
      "Re-computing universal templates from data.\n"
     ]
    },
    {
     "name": "stderr",
     "output_type": "stream",
     "text": [
      "100%|██████████| 500/500 [00:57<00:00,  8.62it/s]\n"
     ]
    },
    {
     "name": "stdout",
     "output_type": "stream",
     "text": [
      "28157 spikes extracted in  59.47s; total  121.36s\n",
      "\n",
      "First clustering\n"
     ]
    },
    {
     "name": "stderr",
     "output_type": "stream",
     "text": [
      "100%|██████████| 8/8 [00:02<00:00,  2.88it/s] \n"
     ]
    },
    {
     "name": "stdout",
     "output_type": "stream",
     "text": [
      "18 clusters found, in  2.80s; total  124.16s\n",
      "\n",
      "Extracting spikes using cluster waveforms\n"
     ]
    },
    {
     "name": "stderr",
     "output_type": "stream",
     "text": [
      "100%|██████████| 500/500 [00:47<00:00, 10.52it/s]\n"
     ]
    },
    {
     "name": "stdout",
     "output_type": "stream",
     "text": [
      "53894 spikes extracted in  47.57s; total  171.73s\n",
      "\n",
      "Final clustering\n"
     ]
    },
    {
     "name": "stderr",
     "output_type": "stream",
     "text": [
      "100%|██████████| 8/8 [00:01<00:00,  4.45it/s] \n"
     ]
    },
    {
     "name": "stdout",
     "output_type": "stream",
     "text": [
      "8 clusters found, in  1.80s; total  173.53s\n",
      "\n",
      "Merging clusters\n",
      "8 units found, in  0.01s; total  173.54s\n",
      "\n",
      "Saving to phy and computing refractory periods\n",
      "1 units found with good refractory periods\n",
      "\n",
      "Total runtime: 173.57s = 00:02:53 h:m:s\n",
      "kilosort4 run time 173.80s\n"
     ]
    }
   ],
   "source": [
    "# run spike sorting on entire recording\n",
    "sorting_KS4 = si.run_sorter(sorter_name='kilosort4', recording=recording_sub, remove_existing_folder=True,\n",
    "                             output_folder=oe_folder / 'results_KS4',\n",
    "                             verbose=True, **sorter_params)"
   ]
  },
  {
   "cell_type": "code",
   "execution_count": 49,
   "metadata": {},
   "outputs": [
    {
     "data": {
      "application/vnd.jupyter.widget-view+json": {
       "model_id": "da640422956f4ca5880b68e834fa3265",
       "version_major": 2,
       "version_minor": 0
      },
      "text/plain": [
       "write_binary_recording:   0%|          | 0/3882 [00:00<?, ?it/s]"
      ]
     },
     "metadata": {},
     "output_type": "display_data"
    },
    {
     "name": "stdout",
     "output_type": "stream",
     "text": [
      "RUNNING SHELL SCRIPT: C:\\Users\\neuroPC\\Documents\\Open Ephys\\2024-02-01_15-25-25\\results_KS3\\sorter_output\\run_kilosort3.bat\n",
      "\n",
      "\n",
      "(ephys) c:\\Users\\neuroPC\\Documents\\GitHub\\spiketutorials\\Official_Tutorial_SI_0.99_Nov23>C:\n",
      "\n",
      "\n",
      "\n",
      "(ephys) c:\\Users\\neuroPC\\Documents\\GitHub\\spiketutorials\\Official_Tutorial_SI_0.99_Nov23>cd C:\\Users\\neuroPC\\Documents\\Open Ephys\\2024-02-01_15-25-25\\results_KS3\\sorter_output \n",
      "\n",
      "\n",
      "\n",
      "(ephys) C:\\Users\\neuroPC\\Documents\\Open Ephys\\2024-02-01_15-25-25\\results_KS3\\sorter_output>matlab -nosplash -wait -r \"kilosort3_master('C:\\Users\\neuroPC\\Documents\\Open Ephys\\2024-02-01_15-25-25\\results_KS3\\sorter_output', 'C:\\Users\\neuroPC\\Documents\\GitHub\\Kilosort-3.0.2')\" \n",
      "\n",
      "Error running kilosort3\n"
     ]
    },
    {
     "ename": "SpikeSortingError",
     "evalue": "Spike sorting error trace:\nTraceback (most recent call last):\n  File \"c:\\Users\\neuroPC\\anaconda3\\envs\\ephys\\Lib\\site-packages\\spikeinterface\\sorters\\basesorter.py\", line 258, in run_from_folder\n    SorterClass._run_from_folder(sorter_output_folder, sorter_params, verbose)\n  File \"c:\\Users\\neuroPC\\anaconda3\\envs\\ephys\\Lib\\site-packages\\spikeinterface\\sorters\\external\\kilosortbase.py\", line 217, in _run_from_folder\n    raise Exception(f\"{cls.sorter_name} returned a non-zero exit code\")\nException: kilosort3 returned a non-zero exit code\n\nSpike sorting failed. You can inspect the runtime trace in C:\\Users\\neuroPC\\Documents\\Open Ephys\\2024-02-01_15-25-25\\results_KS3/spikeinterface_log.json.",
     "output_type": "error",
     "traceback": [
      "\u001b[1;31m---------------------------------------------------------------------------\u001b[0m",
      "\u001b[1;31mSpikeSortingError\u001b[0m                         Traceback (most recent call last)",
      "Cell \u001b[1;32mIn[49], line 2\u001b[0m\n\u001b[0;32m      1\u001b[0m \u001b[38;5;66;03m# run spike sorting on entire recording\u001b[39;00m\n\u001b[1;32m----> 2\u001b[0m sorting_KS3 \u001b[38;5;241m=\u001b[39m \u001b[43msi\u001b[49m\u001b[38;5;241;43m.\u001b[39;49m\u001b[43mrun_sorter\u001b[49m\u001b[43m(\u001b[49m\u001b[43msorter_name\u001b[49m\u001b[38;5;241;43m=\u001b[39;49m\u001b[38;5;124;43m'\u001b[39;49m\u001b[38;5;124;43mkilosort3\u001b[39;49m\u001b[38;5;124;43m'\u001b[39;49m\u001b[43m,\u001b[49m\u001b[43m \u001b[49m\u001b[43mrecording\u001b[49m\u001b[38;5;241;43m=\u001b[39;49m\u001b[43mrecording_cmr\u001b[49m\u001b[43m,\u001b[49m\u001b[43m \u001b[49m\u001b[43mremove_existing_folder\u001b[49m\u001b[38;5;241;43m=\u001b[39;49m\u001b[38;5;28;43;01mTrue\u001b[39;49;00m\u001b[43m,\u001b[49m\n\u001b[0;32m      3\u001b[0m \u001b[43m                             \u001b[49m\u001b[43moutput_folder\u001b[49m\u001b[38;5;241;43m=\u001b[39;49m\u001b[43moe_folder\u001b[49m\u001b[43m \u001b[49m\u001b[38;5;241;43m/\u001b[39;49m\u001b[43m \u001b[49m\u001b[38;5;124;43m'\u001b[39;49m\u001b[38;5;124;43mresults_KS3\u001b[39;49m\u001b[38;5;124;43m'\u001b[39;49m\u001b[43m,\u001b[49m\n\u001b[0;32m      4\u001b[0m \u001b[43m                             \u001b[49m\u001b[43mverbose\u001b[49m\u001b[38;5;241;43m=\u001b[39;49m\u001b[38;5;28;43;01mTrue\u001b[39;49;00m\u001b[43m,\u001b[49m\u001b[38;5;241;43m*\u001b[39;49m\u001b[38;5;241;43m*\u001b[39;49m\u001b[43msorter_params\u001b[49m\u001b[43m)\u001b[49m\n",
      "File \u001b[1;32mc:\\Users\\neuroPC\\anaconda3\\envs\\ephys\\Lib\\site-packages\\spikeinterface\\sorters\\runsorter.py:175\u001b[0m, in \u001b[0;36mrun_sorter\u001b[1;34m(sorter_name, recording, output_folder, remove_existing_folder, delete_output_folder, verbose, raise_error, docker_image, singularity_image, delete_container_files, with_output, **sorter_params)\u001b[0m\n\u001b[0;32m    168\u001b[0m             container_image \u001b[38;5;241m=\u001b[39m singularity_image\n\u001b[0;32m    169\u001b[0m     \u001b[38;5;28;01mreturn\u001b[39;00m run_sorter_container(\n\u001b[0;32m    170\u001b[0m         container_image\u001b[38;5;241m=\u001b[39mcontainer_image,\n\u001b[0;32m    171\u001b[0m         mode\u001b[38;5;241m=\u001b[39mmode,\n\u001b[0;32m    172\u001b[0m         \u001b[38;5;241m*\u001b[39m\u001b[38;5;241m*\u001b[39mcommon_kwargs,\n\u001b[0;32m    173\u001b[0m     )\n\u001b[1;32m--> 175\u001b[0m \u001b[38;5;28;01mreturn\u001b[39;00m \u001b[43mrun_sorter_local\u001b[49m\u001b[43m(\u001b[49m\u001b[38;5;241;43m*\u001b[39;49m\u001b[38;5;241;43m*\u001b[39;49m\u001b[43mcommon_kwargs\u001b[49m\u001b[43m)\u001b[49m\n",
      "File \u001b[1;32mc:\\Users\\neuroPC\\anaconda3\\envs\\ephys\\Lib\\site-packages\\spikeinterface\\sorters\\runsorter.py:225\u001b[0m, in \u001b[0;36mrun_sorter_local\u001b[1;34m(sorter_name, recording, output_folder, remove_existing_folder, delete_output_folder, verbose, raise_error, with_output, **sorter_params)\u001b[0m\n\u001b[0;32m    223\u001b[0m SorterClass\u001b[38;5;241m.\u001b[39mset_params_to_folder(recording, output_folder, sorter_params, verbose)\n\u001b[0;32m    224\u001b[0m SorterClass\u001b[38;5;241m.\u001b[39msetup_recording(recording, output_folder, verbose\u001b[38;5;241m=\u001b[39mverbose)\n\u001b[1;32m--> 225\u001b[0m \u001b[43mSorterClass\u001b[49m\u001b[38;5;241;43m.\u001b[39;49m\u001b[43mrun_from_folder\u001b[49m\u001b[43m(\u001b[49m\u001b[43moutput_folder\u001b[49m\u001b[43m,\u001b[49m\u001b[43m \u001b[49m\u001b[43mraise_error\u001b[49m\u001b[43m,\u001b[49m\u001b[43m \u001b[49m\u001b[43mverbose\u001b[49m\u001b[43m)\u001b[49m\n\u001b[0;32m    226\u001b[0m \u001b[38;5;28;01mif\u001b[39;00m with_output:\n\u001b[0;32m    227\u001b[0m     sorting \u001b[38;5;241m=\u001b[39m SorterClass\u001b[38;5;241m.\u001b[39mget_result_from_folder(output_folder, register_recording\u001b[38;5;241m=\u001b[39m\u001b[38;5;28;01mTrue\u001b[39;00m, sorting_info\u001b[38;5;241m=\u001b[39m\u001b[38;5;28;01mTrue\u001b[39;00m)\n",
      "File \u001b[1;32mc:\\Users\\neuroPC\\anaconda3\\envs\\ephys\\Lib\\site-packages\\spikeinterface\\sorters\\basesorter.py:293\u001b[0m, in \u001b[0;36mBaseSorter.run_from_folder\u001b[1;34m(cls, output_folder, raise_error, verbose)\u001b[0m\n\u001b[0;32m    290\u001b[0m         \u001b[38;5;28mprint\u001b[39m(\u001b[38;5;124mf\u001b[39m\u001b[38;5;124m\"\u001b[39m\u001b[38;5;132;01m{\u001b[39;00msorter_name\u001b[38;5;132;01m}\u001b[39;00m\u001b[38;5;124m run time \u001b[39m\u001b[38;5;132;01m{\u001b[39;00mrun_time\u001b[38;5;132;01m:\u001b[39;00m\u001b[38;5;124m0.2f\u001b[39m\u001b[38;5;132;01m}\u001b[39;00m\u001b[38;5;124ms\u001b[39m\u001b[38;5;124m\"\u001b[39m)\n\u001b[0;32m    292\u001b[0m \u001b[38;5;28;01mif\u001b[39;00m has_error \u001b[38;5;129;01mand\u001b[39;00m raise_error:\n\u001b[1;32m--> 293\u001b[0m     \u001b[38;5;28;01mraise\u001b[39;00m SpikeSortingError(\n\u001b[0;32m    294\u001b[0m         \u001b[38;5;124mf\u001b[39m\u001b[38;5;124m\"\u001b[39m\u001b[38;5;124mSpike sorting error trace:\u001b[39m\u001b[38;5;130;01m\\n\u001b[39;00m\u001b[38;5;132;01m{\u001b[39;00mlog[\u001b[38;5;124m'\u001b[39m\u001b[38;5;124merror_trace\u001b[39m\u001b[38;5;124m'\u001b[39m]\u001b[38;5;132;01m}\u001b[39;00m\u001b[38;5;130;01m\\n\u001b[39;00m\u001b[38;5;124m\"\u001b[39m\n\u001b[0;32m    295\u001b[0m         \u001b[38;5;124mf\u001b[39m\u001b[38;5;124m\"\u001b[39m\u001b[38;5;124mSpike sorting failed. You can inspect the runtime trace in \u001b[39m\u001b[38;5;132;01m{\u001b[39;00moutput_folder\u001b[38;5;132;01m}\u001b[39;00m\u001b[38;5;124m/spikeinterface_log.json.\u001b[39m\u001b[38;5;124m\"\u001b[39m\n\u001b[0;32m    296\u001b[0m     )\n\u001b[0;32m    298\u001b[0m \u001b[38;5;28;01mreturn\u001b[39;00m run_time\n",
      "\u001b[1;31mSpikeSortingError\u001b[0m: Spike sorting error trace:\nTraceback (most recent call last):\n  File \"c:\\Users\\neuroPC\\anaconda3\\envs\\ephys\\Lib\\site-packages\\spikeinterface\\sorters\\basesorter.py\", line 258, in run_from_folder\n    SorterClass._run_from_folder(sorter_output_folder, sorter_params, verbose)\n  File \"c:\\Users\\neuroPC\\anaconda3\\envs\\ephys\\Lib\\site-packages\\spikeinterface\\sorters\\external\\kilosortbase.py\", line 217, in _run_from_folder\n    raise Exception(f\"{cls.sorter_name} returned a non-zero exit code\")\nException: kilosort3 returned a non-zero exit code\n\nSpike sorting failed. You can inspect the runtime trace in C:\\Users\\neuroPC\\Documents\\Open Ephys\\2024-02-01_15-25-25\\results_KS3/spikeinterface_log.json."
     ]
    }
   ],
   "source": [
    "# run spike sorting on entire recording\n",
    "sorting_KS3 = si.run_sorter(sorter_name='kilosort3', recording=recording_cmr, remove_existing_folder=True,\n",
    "                             output_folder=oe_folder / 'results_KS3',\n",
    "                             verbose=True,**sorter_params)"
   ]
  },
  {
   "cell_type": "code",
   "execution_count": 19,
   "metadata": {},
   "outputs": [
    {
     "name": "stdout",
     "output_type": "stream",
     "text": [
      "installation_mode='auto' switching to installation_mode: 'github'\n"
     ]
    },
    {
     "ename": "DockerException",
     "evalue": "Error while fetching server API version: (2, 'CreateFile', 'The system cannot find the file specified.')",
     "output_type": "error",
     "traceback": [
      "\u001b[1;31m---------------------------------------------------------------------------\u001b[0m",
      "\u001b[1;31merror\u001b[0m                                     Traceback (most recent call last)",
      "File \u001b[1;32mc:\\Users\\neuroPC\\anaconda3\\envs\\ephys\\Lib\\site-packages\\docker\\api\\client.py:213\u001b[0m, in \u001b[0;36mAPIClient._retrieve_server_version\u001b[1;34m(self)\u001b[0m\n\u001b[0;32m    212\u001b[0m \u001b[38;5;28;01mtry\u001b[39;00m:\n\u001b[1;32m--> 213\u001b[0m     \u001b[38;5;28;01mreturn\u001b[39;00m \u001b[38;5;28;43mself\u001b[39;49m\u001b[38;5;241;43m.\u001b[39;49m\u001b[43mversion\u001b[49m\u001b[43m(\u001b[49m\u001b[43mapi_version\u001b[49m\u001b[38;5;241;43m=\u001b[39;49m\u001b[38;5;28;43;01mFalse\u001b[39;49;00m\u001b[43m)\u001b[49m[\u001b[38;5;124m\"\u001b[39m\u001b[38;5;124mApiVersion\u001b[39m\u001b[38;5;124m\"\u001b[39m]\n\u001b[0;32m    214\u001b[0m \u001b[38;5;28;01mexcept\u001b[39;00m \u001b[38;5;167;01mKeyError\u001b[39;00m \u001b[38;5;28;01mas\u001b[39;00m ke:\n",
      "File \u001b[1;32mc:\\Users\\neuroPC\\anaconda3\\envs\\ephys\\Lib\\site-packages\\docker\\api\\daemon.py:181\u001b[0m, in \u001b[0;36mDaemonApiMixin.version\u001b[1;34m(self, api_version)\u001b[0m\n\u001b[0;32m    180\u001b[0m url \u001b[38;5;241m=\u001b[39m \u001b[38;5;28mself\u001b[39m\u001b[38;5;241m.\u001b[39m_url(\u001b[38;5;124m\"\u001b[39m\u001b[38;5;124m/version\u001b[39m\u001b[38;5;124m\"\u001b[39m, versioned_api\u001b[38;5;241m=\u001b[39mapi_version)\n\u001b[1;32m--> 181\u001b[0m \u001b[38;5;28;01mreturn\u001b[39;00m \u001b[38;5;28mself\u001b[39m\u001b[38;5;241m.\u001b[39m_result(\u001b[38;5;28;43mself\u001b[39;49m\u001b[38;5;241;43m.\u001b[39;49m\u001b[43m_get\u001b[49m\u001b[43m(\u001b[49m\u001b[43murl\u001b[49m\u001b[43m)\u001b[49m, json\u001b[38;5;241m=\u001b[39m\u001b[38;5;28;01mTrue\u001b[39;00m)\n",
      "File \u001b[1;32mc:\\Users\\neuroPC\\anaconda3\\envs\\ephys\\Lib\\site-packages\\docker\\utils\\decorators.py:44\u001b[0m, in \u001b[0;36mupdate_headers.<locals>.inner\u001b[1;34m(self, *args, **kwargs)\u001b[0m\n\u001b[0;32m     43\u001b[0m         kwargs[\u001b[38;5;124m'\u001b[39m\u001b[38;5;124mheaders\u001b[39m\u001b[38;5;124m'\u001b[39m]\u001b[38;5;241m.\u001b[39mupdate(\u001b[38;5;28mself\u001b[39m\u001b[38;5;241m.\u001b[39m_general_configs[\u001b[38;5;124m'\u001b[39m\u001b[38;5;124mHttpHeaders\u001b[39m\u001b[38;5;124m'\u001b[39m])\n\u001b[1;32m---> 44\u001b[0m \u001b[38;5;28;01mreturn\u001b[39;00m \u001b[43mf\u001b[49m\u001b[43m(\u001b[49m\u001b[38;5;28;43mself\u001b[39;49m\u001b[43m,\u001b[49m\u001b[43m \u001b[49m\u001b[38;5;241;43m*\u001b[39;49m\u001b[43margs\u001b[49m\u001b[43m,\u001b[49m\u001b[43m \u001b[49m\u001b[38;5;241;43m*\u001b[39;49m\u001b[38;5;241;43m*\u001b[39;49m\u001b[43mkwargs\u001b[49m\u001b[43m)\u001b[49m\n",
      "File \u001b[1;32mc:\\Users\\neuroPC\\anaconda3\\envs\\ephys\\Lib\\site-packages\\docker\\api\\client.py:236\u001b[0m, in \u001b[0;36mAPIClient._get\u001b[1;34m(self, url, **kwargs)\u001b[0m\n\u001b[0;32m    234\u001b[0m \u001b[38;5;129m@update_headers\u001b[39m\n\u001b[0;32m    235\u001b[0m \u001b[38;5;28;01mdef\u001b[39;00m \u001b[38;5;21m_get\u001b[39m(\u001b[38;5;28mself\u001b[39m, url, \u001b[38;5;241m*\u001b[39m\u001b[38;5;241m*\u001b[39mkwargs):\n\u001b[1;32m--> 236\u001b[0m     \u001b[38;5;28;01mreturn\u001b[39;00m \u001b[38;5;28;43mself\u001b[39;49m\u001b[38;5;241;43m.\u001b[39;49m\u001b[43mget\u001b[49m\u001b[43m(\u001b[49m\u001b[43murl\u001b[49m\u001b[43m,\u001b[49m\u001b[43m \u001b[49m\u001b[38;5;241;43m*\u001b[39;49m\u001b[38;5;241;43m*\u001b[39;49m\u001b[38;5;28;43mself\u001b[39;49m\u001b[38;5;241;43m.\u001b[39;49m\u001b[43m_set_request_timeout\u001b[49m\u001b[43m(\u001b[49m\u001b[43mkwargs\u001b[49m\u001b[43m)\u001b[49m\u001b[43m)\u001b[49m\n",
      "File \u001b[1;32mc:\\Users\\neuroPC\\anaconda3\\envs\\ephys\\Lib\\site-packages\\requests\\sessions.py:602\u001b[0m, in \u001b[0;36mSession.get\u001b[1;34m(self, url, **kwargs)\u001b[0m\n\u001b[0;32m    601\u001b[0m kwargs\u001b[38;5;241m.\u001b[39msetdefault(\u001b[38;5;124m\"\u001b[39m\u001b[38;5;124mallow_redirects\u001b[39m\u001b[38;5;124m\"\u001b[39m, \u001b[38;5;28;01mTrue\u001b[39;00m)\n\u001b[1;32m--> 602\u001b[0m \u001b[38;5;28;01mreturn\u001b[39;00m \u001b[38;5;28;43mself\u001b[39;49m\u001b[38;5;241;43m.\u001b[39;49m\u001b[43mrequest\u001b[49m\u001b[43m(\u001b[49m\u001b[38;5;124;43m\"\u001b[39;49m\u001b[38;5;124;43mGET\u001b[39;49m\u001b[38;5;124;43m\"\u001b[39;49m\u001b[43m,\u001b[49m\u001b[43m \u001b[49m\u001b[43murl\u001b[49m\u001b[43m,\u001b[49m\u001b[43m \u001b[49m\u001b[38;5;241;43m*\u001b[39;49m\u001b[38;5;241;43m*\u001b[39;49m\u001b[43mkwargs\u001b[49m\u001b[43m)\u001b[49m\n",
      "File \u001b[1;32mc:\\Users\\neuroPC\\anaconda3\\envs\\ephys\\Lib\\site-packages\\requests\\sessions.py:589\u001b[0m, in \u001b[0;36mSession.request\u001b[1;34m(self, method, url, params, data, headers, cookies, files, auth, timeout, allow_redirects, proxies, hooks, stream, verify, cert, json)\u001b[0m\n\u001b[0;32m    588\u001b[0m send_kwargs\u001b[38;5;241m.\u001b[39mupdate(settings)\n\u001b[1;32m--> 589\u001b[0m resp \u001b[38;5;241m=\u001b[39m \u001b[38;5;28;43mself\u001b[39;49m\u001b[38;5;241;43m.\u001b[39;49m\u001b[43msend\u001b[49m\u001b[43m(\u001b[49m\u001b[43mprep\u001b[49m\u001b[43m,\u001b[49m\u001b[43m \u001b[49m\u001b[38;5;241;43m*\u001b[39;49m\u001b[38;5;241;43m*\u001b[39;49m\u001b[43msend_kwargs\u001b[49m\u001b[43m)\u001b[49m\n\u001b[0;32m    591\u001b[0m \u001b[38;5;28;01mreturn\u001b[39;00m resp\n",
      "File \u001b[1;32mc:\\Users\\neuroPC\\anaconda3\\envs\\ephys\\Lib\\site-packages\\requests\\sessions.py:703\u001b[0m, in \u001b[0;36mSession.send\u001b[1;34m(self, request, **kwargs)\u001b[0m\n\u001b[0;32m    702\u001b[0m \u001b[38;5;66;03m# Send the request\u001b[39;00m\n\u001b[1;32m--> 703\u001b[0m r \u001b[38;5;241m=\u001b[39m \u001b[43madapter\u001b[49m\u001b[38;5;241;43m.\u001b[39;49m\u001b[43msend\u001b[49m\u001b[43m(\u001b[49m\u001b[43mrequest\u001b[49m\u001b[43m,\u001b[49m\u001b[43m \u001b[49m\u001b[38;5;241;43m*\u001b[39;49m\u001b[38;5;241;43m*\u001b[39;49m\u001b[43mkwargs\u001b[49m\u001b[43m)\u001b[49m\n\u001b[0;32m    705\u001b[0m \u001b[38;5;66;03m# Total elapsed time of the request (approximately)\u001b[39;00m\n",
      "File \u001b[1;32mc:\\Users\\neuroPC\\anaconda3\\envs\\ephys\\Lib\\site-packages\\requests\\adapters.py:486\u001b[0m, in \u001b[0;36mHTTPAdapter.send\u001b[1;34m(self, request, stream, timeout, verify, cert, proxies)\u001b[0m\n\u001b[0;32m    485\u001b[0m \u001b[38;5;28;01mtry\u001b[39;00m:\n\u001b[1;32m--> 486\u001b[0m     resp \u001b[38;5;241m=\u001b[39m \u001b[43mconn\u001b[49m\u001b[38;5;241;43m.\u001b[39;49m\u001b[43murlopen\u001b[49m\u001b[43m(\u001b[49m\n\u001b[0;32m    487\u001b[0m \u001b[43m        \u001b[49m\u001b[43mmethod\u001b[49m\u001b[38;5;241;43m=\u001b[39;49m\u001b[43mrequest\u001b[49m\u001b[38;5;241;43m.\u001b[39;49m\u001b[43mmethod\u001b[49m\u001b[43m,\u001b[49m\n\u001b[0;32m    488\u001b[0m \u001b[43m        \u001b[49m\u001b[43murl\u001b[49m\u001b[38;5;241;43m=\u001b[39;49m\u001b[43murl\u001b[49m\u001b[43m,\u001b[49m\n\u001b[0;32m    489\u001b[0m \u001b[43m        \u001b[49m\u001b[43mbody\u001b[49m\u001b[38;5;241;43m=\u001b[39;49m\u001b[43mrequest\u001b[49m\u001b[38;5;241;43m.\u001b[39;49m\u001b[43mbody\u001b[49m\u001b[43m,\u001b[49m\n\u001b[0;32m    490\u001b[0m \u001b[43m        \u001b[49m\u001b[43mheaders\u001b[49m\u001b[38;5;241;43m=\u001b[39;49m\u001b[43mrequest\u001b[49m\u001b[38;5;241;43m.\u001b[39;49m\u001b[43mheaders\u001b[49m\u001b[43m,\u001b[49m\n\u001b[0;32m    491\u001b[0m \u001b[43m        \u001b[49m\u001b[43mredirect\u001b[49m\u001b[38;5;241;43m=\u001b[39;49m\u001b[38;5;28;43;01mFalse\u001b[39;49;00m\u001b[43m,\u001b[49m\n\u001b[0;32m    492\u001b[0m \u001b[43m        \u001b[49m\u001b[43massert_same_host\u001b[49m\u001b[38;5;241;43m=\u001b[39;49m\u001b[38;5;28;43;01mFalse\u001b[39;49;00m\u001b[43m,\u001b[49m\n\u001b[0;32m    493\u001b[0m \u001b[43m        \u001b[49m\u001b[43mpreload_content\u001b[49m\u001b[38;5;241;43m=\u001b[39;49m\u001b[38;5;28;43;01mFalse\u001b[39;49;00m\u001b[43m,\u001b[49m\n\u001b[0;32m    494\u001b[0m \u001b[43m        \u001b[49m\u001b[43mdecode_content\u001b[49m\u001b[38;5;241;43m=\u001b[39;49m\u001b[38;5;28;43;01mFalse\u001b[39;49;00m\u001b[43m,\u001b[49m\n\u001b[0;32m    495\u001b[0m \u001b[43m        \u001b[49m\u001b[43mretries\u001b[49m\u001b[38;5;241;43m=\u001b[39;49m\u001b[38;5;28;43mself\u001b[39;49m\u001b[38;5;241;43m.\u001b[39;49m\u001b[43mmax_retries\u001b[49m\u001b[43m,\u001b[49m\n\u001b[0;32m    496\u001b[0m \u001b[43m        \u001b[49m\u001b[43mtimeout\u001b[49m\u001b[38;5;241;43m=\u001b[39;49m\u001b[43mtimeout\u001b[49m\u001b[43m,\u001b[49m\n\u001b[0;32m    497\u001b[0m \u001b[43m        \u001b[49m\u001b[43mchunked\u001b[49m\u001b[38;5;241;43m=\u001b[39;49m\u001b[43mchunked\u001b[49m\u001b[43m,\u001b[49m\n\u001b[0;32m    498\u001b[0m \u001b[43m    \u001b[49m\u001b[43m)\u001b[49m\n\u001b[0;32m    500\u001b[0m \u001b[38;5;28;01mexcept\u001b[39;00m (ProtocolError, \u001b[38;5;167;01mOSError\u001b[39;00m) \u001b[38;5;28;01mas\u001b[39;00m err:\n",
      "File \u001b[1;32mc:\\Users\\neuroPC\\anaconda3\\envs\\ephys\\Lib\\site-packages\\urllib3\\connectionpool.py:793\u001b[0m, in \u001b[0;36mHTTPConnectionPool.urlopen\u001b[1;34m(self, method, url, body, headers, retries, redirect, assert_same_host, timeout, pool_timeout, release_conn, chunked, body_pos, preload_content, decode_content, **response_kw)\u001b[0m\n\u001b[0;32m    792\u001b[0m \u001b[38;5;66;03m# Make the request on the HTTPConnection object\u001b[39;00m\n\u001b[1;32m--> 793\u001b[0m response \u001b[38;5;241m=\u001b[39m \u001b[38;5;28;43mself\u001b[39;49m\u001b[38;5;241;43m.\u001b[39;49m\u001b[43m_make_request\u001b[49m\u001b[43m(\u001b[49m\n\u001b[0;32m    794\u001b[0m \u001b[43m    \u001b[49m\u001b[43mconn\u001b[49m\u001b[43m,\u001b[49m\n\u001b[0;32m    795\u001b[0m \u001b[43m    \u001b[49m\u001b[43mmethod\u001b[49m\u001b[43m,\u001b[49m\n\u001b[0;32m    796\u001b[0m \u001b[43m    \u001b[49m\u001b[43murl\u001b[49m\u001b[43m,\u001b[49m\n\u001b[0;32m    797\u001b[0m \u001b[43m    \u001b[49m\u001b[43mtimeout\u001b[49m\u001b[38;5;241;43m=\u001b[39;49m\u001b[43mtimeout_obj\u001b[49m\u001b[43m,\u001b[49m\n\u001b[0;32m    798\u001b[0m \u001b[43m    \u001b[49m\u001b[43mbody\u001b[49m\u001b[38;5;241;43m=\u001b[39;49m\u001b[43mbody\u001b[49m\u001b[43m,\u001b[49m\n\u001b[0;32m    799\u001b[0m \u001b[43m    \u001b[49m\u001b[43mheaders\u001b[49m\u001b[38;5;241;43m=\u001b[39;49m\u001b[43mheaders\u001b[49m\u001b[43m,\u001b[49m\n\u001b[0;32m    800\u001b[0m \u001b[43m    \u001b[49m\u001b[43mchunked\u001b[49m\u001b[38;5;241;43m=\u001b[39;49m\u001b[43mchunked\u001b[49m\u001b[43m,\u001b[49m\n\u001b[0;32m    801\u001b[0m \u001b[43m    \u001b[49m\u001b[43mretries\u001b[49m\u001b[38;5;241;43m=\u001b[39;49m\u001b[43mretries\u001b[49m\u001b[43m,\u001b[49m\n\u001b[0;32m    802\u001b[0m \u001b[43m    \u001b[49m\u001b[43mresponse_conn\u001b[49m\u001b[38;5;241;43m=\u001b[39;49m\u001b[43mresponse_conn\u001b[49m\u001b[43m,\u001b[49m\n\u001b[0;32m    803\u001b[0m \u001b[43m    \u001b[49m\u001b[43mpreload_content\u001b[49m\u001b[38;5;241;43m=\u001b[39;49m\u001b[43mpreload_content\u001b[49m\u001b[43m,\u001b[49m\n\u001b[0;32m    804\u001b[0m \u001b[43m    \u001b[49m\u001b[43mdecode_content\u001b[49m\u001b[38;5;241;43m=\u001b[39;49m\u001b[43mdecode_content\u001b[49m\u001b[43m,\u001b[49m\n\u001b[0;32m    805\u001b[0m \u001b[43m    \u001b[49m\u001b[38;5;241;43m*\u001b[39;49m\u001b[38;5;241;43m*\u001b[39;49m\u001b[43mresponse_kw\u001b[49m\u001b[43m,\u001b[49m\n\u001b[0;32m    806\u001b[0m \u001b[43m\u001b[49m\u001b[43m)\u001b[49m\n\u001b[0;32m    808\u001b[0m \u001b[38;5;66;03m# Everything went great!\u001b[39;00m\n",
      "File \u001b[1;32mc:\\Users\\neuroPC\\anaconda3\\envs\\ephys\\Lib\\site-packages\\urllib3\\connectionpool.py:496\u001b[0m, in \u001b[0;36mHTTPConnectionPool._make_request\u001b[1;34m(self, conn, method, url, body, headers, retries, timeout, chunked, response_conn, preload_content, decode_content, enforce_content_length)\u001b[0m\n\u001b[0;32m    495\u001b[0m \u001b[38;5;28;01mtry\u001b[39;00m:\n\u001b[1;32m--> 496\u001b[0m     \u001b[43mconn\u001b[49m\u001b[38;5;241;43m.\u001b[39;49m\u001b[43mrequest\u001b[49m\u001b[43m(\u001b[49m\n\u001b[0;32m    497\u001b[0m \u001b[43m        \u001b[49m\u001b[43mmethod\u001b[49m\u001b[43m,\u001b[49m\n\u001b[0;32m    498\u001b[0m \u001b[43m        \u001b[49m\u001b[43murl\u001b[49m\u001b[43m,\u001b[49m\n\u001b[0;32m    499\u001b[0m \u001b[43m        \u001b[49m\u001b[43mbody\u001b[49m\u001b[38;5;241;43m=\u001b[39;49m\u001b[43mbody\u001b[49m\u001b[43m,\u001b[49m\n\u001b[0;32m    500\u001b[0m \u001b[43m        \u001b[49m\u001b[43mheaders\u001b[49m\u001b[38;5;241;43m=\u001b[39;49m\u001b[43mheaders\u001b[49m\u001b[43m,\u001b[49m\n\u001b[0;32m    501\u001b[0m \u001b[43m        \u001b[49m\u001b[43mchunked\u001b[49m\u001b[38;5;241;43m=\u001b[39;49m\u001b[43mchunked\u001b[49m\u001b[43m,\u001b[49m\n\u001b[0;32m    502\u001b[0m \u001b[43m        \u001b[49m\u001b[43mpreload_content\u001b[49m\u001b[38;5;241;43m=\u001b[39;49m\u001b[43mpreload_content\u001b[49m\u001b[43m,\u001b[49m\n\u001b[0;32m    503\u001b[0m \u001b[43m        \u001b[49m\u001b[43mdecode_content\u001b[49m\u001b[38;5;241;43m=\u001b[39;49m\u001b[43mdecode_content\u001b[49m\u001b[43m,\u001b[49m\n\u001b[0;32m    504\u001b[0m \u001b[43m        \u001b[49m\u001b[43menforce_content_length\u001b[49m\u001b[38;5;241;43m=\u001b[39;49m\u001b[43menforce_content_length\u001b[49m\u001b[43m,\u001b[49m\n\u001b[0;32m    505\u001b[0m \u001b[43m    \u001b[49m\u001b[43m)\u001b[49m\n\u001b[0;32m    507\u001b[0m \u001b[38;5;66;03m# We are swallowing BrokenPipeError (errno.EPIPE) since the server is\u001b[39;00m\n\u001b[0;32m    508\u001b[0m \u001b[38;5;66;03m# legitimately able to close the connection after sending a valid response.\u001b[39;00m\n\u001b[0;32m    509\u001b[0m \u001b[38;5;66;03m# With this behaviour, the received response is still readable.\u001b[39;00m\n",
      "File \u001b[1;32mc:\\Users\\neuroPC\\anaconda3\\envs\\ephys\\Lib\\site-packages\\urllib3\\connection.py:400\u001b[0m, in \u001b[0;36mHTTPConnection.request\u001b[1;34m(self, method, url, body, headers, chunked, preload_content, decode_content, enforce_content_length)\u001b[0m\n\u001b[0;32m    399\u001b[0m     \u001b[38;5;28mself\u001b[39m\u001b[38;5;241m.\u001b[39mputheader(header, value)\n\u001b[1;32m--> 400\u001b[0m \u001b[38;5;28;43mself\u001b[39;49m\u001b[38;5;241;43m.\u001b[39;49m\u001b[43mendheaders\u001b[49m\u001b[43m(\u001b[49m\u001b[43m)\u001b[49m\n\u001b[0;32m    402\u001b[0m \u001b[38;5;66;03m# If we're given a body we start sending that in chunks.\u001b[39;00m\n",
      "File \u001b[1;32mc:\\Users\\neuroPC\\anaconda3\\envs\\ephys\\Lib\\http\\client.py:1289\u001b[0m, in \u001b[0;36mHTTPConnection.endheaders\u001b[1;34m(self, message_body, encode_chunked)\u001b[0m\n\u001b[0;32m   1288\u001b[0m     \u001b[38;5;28;01mraise\u001b[39;00m CannotSendHeader()\n\u001b[1;32m-> 1289\u001b[0m \u001b[38;5;28;43mself\u001b[39;49m\u001b[38;5;241;43m.\u001b[39;49m\u001b[43m_send_output\u001b[49m\u001b[43m(\u001b[49m\u001b[43mmessage_body\u001b[49m\u001b[43m,\u001b[49m\u001b[43m \u001b[49m\u001b[43mencode_chunked\u001b[49m\u001b[38;5;241;43m=\u001b[39;49m\u001b[43mencode_chunked\u001b[49m\u001b[43m)\u001b[49m\n",
      "File \u001b[1;32mc:\\Users\\neuroPC\\anaconda3\\envs\\ephys\\Lib\\http\\client.py:1048\u001b[0m, in \u001b[0;36mHTTPConnection._send_output\u001b[1;34m(self, message_body, encode_chunked)\u001b[0m\n\u001b[0;32m   1047\u001b[0m \u001b[38;5;28;01mdel\u001b[39;00m \u001b[38;5;28mself\u001b[39m\u001b[38;5;241m.\u001b[39m_buffer[:]\n\u001b[1;32m-> 1048\u001b[0m \u001b[38;5;28;43mself\u001b[39;49m\u001b[38;5;241;43m.\u001b[39;49m\u001b[43msend\u001b[49m\u001b[43m(\u001b[49m\u001b[43mmsg\u001b[49m\u001b[43m)\u001b[49m\n\u001b[0;32m   1050\u001b[0m \u001b[38;5;28;01mif\u001b[39;00m message_body \u001b[38;5;129;01mis\u001b[39;00m \u001b[38;5;129;01mnot\u001b[39;00m \u001b[38;5;28;01mNone\u001b[39;00m:\n\u001b[0;32m   1051\u001b[0m \n\u001b[0;32m   1052\u001b[0m     \u001b[38;5;66;03m# create a consistent interface to message_body\u001b[39;00m\n",
      "File \u001b[1;32mc:\\Users\\neuroPC\\anaconda3\\envs\\ephys\\Lib\\http\\client.py:986\u001b[0m, in \u001b[0;36mHTTPConnection.send\u001b[1;34m(self, data)\u001b[0m\n\u001b[0;32m    985\u001b[0m \u001b[38;5;28;01mif\u001b[39;00m \u001b[38;5;28mself\u001b[39m\u001b[38;5;241m.\u001b[39mauto_open:\n\u001b[1;32m--> 986\u001b[0m     \u001b[38;5;28;43mself\u001b[39;49m\u001b[38;5;241;43m.\u001b[39;49m\u001b[43mconnect\u001b[49m\u001b[43m(\u001b[49m\u001b[43m)\u001b[49m\n\u001b[0;32m    987\u001b[0m \u001b[38;5;28;01melse\u001b[39;00m:\n",
      "File \u001b[1;32mc:\\Users\\neuroPC\\anaconda3\\envs\\ephys\\Lib\\site-packages\\docker\\transport\\npipeconn.py:25\u001b[0m, in \u001b[0;36mNpipeHTTPConnection.connect\u001b[1;34m(self)\u001b[0m\n\u001b[0;32m     24\u001b[0m sock\u001b[38;5;241m.\u001b[39msettimeout(\u001b[38;5;28mself\u001b[39m\u001b[38;5;241m.\u001b[39mtimeout)\n\u001b[1;32m---> 25\u001b[0m \u001b[43msock\u001b[49m\u001b[38;5;241;43m.\u001b[39;49m\u001b[43mconnect\u001b[49m\u001b[43m(\u001b[49m\u001b[38;5;28;43mself\u001b[39;49m\u001b[38;5;241;43m.\u001b[39;49m\u001b[43mnpipe_path\u001b[49m\u001b[43m)\u001b[49m\n\u001b[0;32m     26\u001b[0m \u001b[38;5;28mself\u001b[39m\u001b[38;5;241m.\u001b[39msock \u001b[38;5;241m=\u001b[39m sock\n",
      "File \u001b[1;32mc:\\Users\\neuroPC\\anaconda3\\envs\\ephys\\Lib\\site-packages\\docker\\transport\\npipesocket.py:25\u001b[0m, in \u001b[0;36mcheck_closed.<locals>.wrapped\u001b[1;34m(self, *args, **kwargs)\u001b[0m\n\u001b[0;32m     22\u001b[0m     \u001b[38;5;28;01mraise\u001b[39;00m \u001b[38;5;167;01mRuntimeError\u001b[39;00m(\n\u001b[0;32m     23\u001b[0m         \u001b[38;5;124m'\u001b[39m\u001b[38;5;124mCan not reuse socket after connection was closed.\u001b[39m\u001b[38;5;124m'\u001b[39m\n\u001b[0;32m     24\u001b[0m     )\n\u001b[1;32m---> 25\u001b[0m \u001b[38;5;28;01mreturn\u001b[39;00m \u001b[43mf\u001b[49m\u001b[43m(\u001b[49m\u001b[38;5;28;43mself\u001b[39;49m\u001b[43m,\u001b[49m\u001b[43m \u001b[49m\u001b[38;5;241;43m*\u001b[39;49m\u001b[43margs\u001b[49m\u001b[43m,\u001b[49m\u001b[43m \u001b[49m\u001b[38;5;241;43m*\u001b[39;49m\u001b[38;5;241;43m*\u001b[39;49m\u001b[43mkwargs\u001b[49m\u001b[43m)\u001b[49m\n",
      "File \u001b[1;32mc:\\Users\\neuroPC\\anaconda3\\envs\\ephys\\Lib\\site-packages\\docker\\transport\\npipesocket.py:76\u001b[0m, in \u001b[0;36mNpipeSocket.connect\u001b[1;34m(self, address, retry_count)\u001b[0m\n\u001b[0;32m     75\u001b[0m             \u001b[38;5;28;01mreturn\u001b[39;00m \u001b[38;5;28mself\u001b[39m\u001b[38;5;241m.\u001b[39mconnect(address, retry_count)\n\u001b[1;32m---> 76\u001b[0m     \u001b[38;5;28;01mraise\u001b[39;00m e\n\u001b[0;32m     78\u001b[0m \u001b[38;5;28mself\u001b[39m\u001b[38;5;241m.\u001b[39mflags \u001b[38;5;241m=\u001b[39m win32pipe\u001b[38;5;241m.\u001b[39mGetNamedPipeInfo(handle)[\u001b[38;5;241m0\u001b[39m]\n",
      "File \u001b[1;32mc:\\Users\\neuroPC\\anaconda3\\envs\\ephys\\Lib\\site-packages\\docker\\transport\\npipesocket.py:54\u001b[0m, in \u001b[0;36mNpipeSocket.connect\u001b[1;34m(self, address, retry_count)\u001b[0m\n\u001b[0;32m     53\u001b[0m \u001b[38;5;28;01mtry\u001b[39;00m:\n\u001b[1;32m---> 54\u001b[0m     handle \u001b[38;5;241m=\u001b[39m \u001b[43mwin32file\u001b[49m\u001b[38;5;241;43m.\u001b[39;49m\u001b[43mCreateFile\u001b[49m\u001b[43m(\u001b[49m\n\u001b[0;32m     55\u001b[0m \u001b[43m        \u001b[49m\u001b[43maddress\u001b[49m\u001b[43m,\u001b[49m\n\u001b[0;32m     56\u001b[0m \u001b[43m        \u001b[49m\u001b[43mwin32file\u001b[49m\u001b[38;5;241;43m.\u001b[39;49m\u001b[43mGENERIC_READ\u001b[49m\u001b[43m \u001b[49m\u001b[38;5;241;43m|\u001b[39;49m\u001b[43m \u001b[49m\u001b[43mwin32file\u001b[49m\u001b[38;5;241;43m.\u001b[39;49m\u001b[43mGENERIC_WRITE\u001b[49m\u001b[43m,\u001b[49m\n\u001b[0;32m     57\u001b[0m \u001b[43m        \u001b[49m\u001b[38;5;241;43m0\u001b[39;49m\u001b[43m,\u001b[49m\n\u001b[0;32m     58\u001b[0m \u001b[43m        \u001b[49m\u001b[38;5;28;43;01mNone\u001b[39;49;00m\u001b[43m,\u001b[49m\n\u001b[0;32m     59\u001b[0m \u001b[43m        \u001b[49m\u001b[43mwin32file\u001b[49m\u001b[38;5;241;43m.\u001b[39;49m\u001b[43mOPEN_EXISTING\u001b[49m\u001b[43m,\u001b[49m\n\u001b[0;32m     60\u001b[0m \u001b[43m        \u001b[49m\u001b[43m(\u001b[49m\u001b[43mcSECURITY_ANONYMOUS\u001b[49m\n\u001b[0;32m     61\u001b[0m \u001b[43m            \u001b[49m\u001b[38;5;241;43m|\u001b[39;49m\u001b[43m \u001b[49m\u001b[43mcSECURITY_SQOS_PRESENT\u001b[49m\n\u001b[0;32m     62\u001b[0m \u001b[43m            \u001b[49m\u001b[38;5;241;43m|\u001b[39;49m\u001b[43m \u001b[49m\u001b[43mwin32file\u001b[49m\u001b[38;5;241;43m.\u001b[39;49m\u001b[43mFILE_FLAG_OVERLAPPED\u001b[49m\u001b[43m)\u001b[49m\u001b[43m,\u001b[49m\n\u001b[0;32m     63\u001b[0m \u001b[43m        \u001b[49m\u001b[38;5;241;43m0\u001b[39;49m\n\u001b[0;32m     64\u001b[0m \u001b[43m    \u001b[49m\u001b[43m)\u001b[49m\n\u001b[0;32m     65\u001b[0m \u001b[38;5;28;01mexcept\u001b[39;00m win32pipe\u001b[38;5;241m.\u001b[39merror \u001b[38;5;28;01mas\u001b[39;00m e:\n\u001b[0;32m     66\u001b[0m     \u001b[38;5;66;03m# See Remarks:\u001b[39;00m\n\u001b[0;32m     67\u001b[0m     \u001b[38;5;66;03m# https://msdn.microsoft.com/en-us/library/aa365800.aspx\u001b[39;00m\n",
      "\u001b[1;31merror\u001b[0m: (2, 'CreateFile', 'The system cannot find the file specified.')",
      "\nThe above exception was the direct cause of the following exception:\n",
      "\u001b[1;31mDockerException\u001b[0m                           Traceback (most recent call last)",
      "Cell \u001b[1;32mIn[19], line 1\u001b[0m\n\u001b[1;32m----> 1\u001b[0m sorting_KS3 \u001b[38;5;241m=\u001b[39m \u001b[43msi\u001b[49m\u001b[38;5;241;43m.\u001b[39;49m\u001b[43mrun_sorter\u001b[49m\u001b[43m(\u001b[49m\u001b[43msorter_name\u001b[49m\u001b[38;5;241;43m=\u001b[39;49m\u001b[38;5;124;43m'\u001b[39;49m\u001b[38;5;124;43mkilosort3\u001b[39;49m\u001b[38;5;124;43m'\u001b[39;49m\u001b[43m,\u001b[49m\u001b[43m \u001b[49m\u001b[43mrecording\u001b[49m\u001b[38;5;241;43m=\u001b[39;49m\u001b[43mrecording_saved\u001b[49m\u001b[43m,\u001b[49m\u001b[43m \u001b[49m\u001b[43mremove_existing_folder\u001b[49m\u001b[38;5;241;43m=\u001b[39;49m\u001b[38;5;28;43;01mTrue\u001b[39;49;00m\u001b[43m,\u001b[49m\n\u001b[0;32m      2\u001b[0m \u001b[43m                             \u001b[49m\u001b[43moutput_folder\u001b[49m\u001b[38;5;241;43m=\u001b[39;49m\u001b[43moe_folder\u001b[49m\u001b[43m \u001b[49m\u001b[38;5;241;43m/\u001b[39;49m\u001b[43m \u001b[49m\u001b[38;5;124;43m'\u001b[39;49m\u001b[38;5;124;43mresults_KS3\u001b[39;49m\u001b[38;5;124;43m'\u001b[39;49m\u001b[43m,\u001b[49m\n\u001b[0;32m      3\u001b[0m \u001b[43m                             \u001b[49m\u001b[43mverbose\u001b[49m\u001b[38;5;241;43m=\u001b[39;49m\u001b[38;5;28;43;01mTrue\u001b[39;49;00m\u001b[43m,\u001b[49m\u001b[43mdocker_image\u001b[49m\u001b[38;5;241;43m=\u001b[39;49m\u001b[38;5;28;43;01mTrue\u001b[39;49;00m\u001b[43m,\u001b[49m\u001b[38;5;241;43m*\u001b[39;49m\u001b[38;5;241;43m*\u001b[39;49m\u001b[43mjob_kwargs\u001b[49m\u001b[43m)\u001b[49m\n",
      "File \u001b[1;32mc:\\Users\\neuroPC\\anaconda3\\envs\\ephys\\Lib\\site-packages\\spikeinterface\\sorters\\runsorter.py:169\u001b[0m, in \u001b[0;36mrun_sorter\u001b[1;34m(sorter_name, recording, output_folder, remove_existing_folder, delete_output_folder, verbose, raise_error, docker_image, singularity_image, delete_container_files, with_output, **sorter_params)\u001b[0m\n\u001b[0;32m    167\u001b[0m         \u001b[38;5;28;01melse\u001b[39;00m:\n\u001b[0;32m    168\u001b[0m             container_image \u001b[38;5;241m=\u001b[39m singularity_image\n\u001b[1;32m--> 169\u001b[0m     \u001b[38;5;28;01mreturn\u001b[39;00m \u001b[43mrun_sorter_container\u001b[49m\u001b[43m(\u001b[49m\n\u001b[0;32m    170\u001b[0m \u001b[43m        \u001b[49m\u001b[43mcontainer_image\u001b[49m\u001b[38;5;241;43m=\u001b[39;49m\u001b[43mcontainer_image\u001b[49m\u001b[43m,\u001b[49m\n\u001b[0;32m    171\u001b[0m \u001b[43m        \u001b[49m\u001b[43mmode\u001b[49m\u001b[38;5;241;43m=\u001b[39;49m\u001b[43mmode\u001b[49m\u001b[43m,\u001b[49m\n\u001b[0;32m    172\u001b[0m \u001b[43m        \u001b[49m\u001b[38;5;241;43m*\u001b[39;49m\u001b[38;5;241;43m*\u001b[39;49m\u001b[43mcommon_kwargs\u001b[49m\u001b[43m,\u001b[49m\n\u001b[0;32m    173\u001b[0m \u001b[43m    \u001b[49m\u001b[43m)\u001b[49m\n\u001b[0;32m    175\u001b[0m \u001b[38;5;28;01mreturn\u001b[39;00m run_sorter_local(\u001b[38;5;241m*\u001b[39m\u001b[38;5;241m*\u001b[39mcommon_kwargs)\n",
      "File \u001b[1;32mc:\\Users\\neuroPC\\anaconda3\\envs\\ephys\\Lib\\site-packages\\spikeinterface\\sorters\\runsorter.py:457\u001b[0m, in \u001b[0;36mrun_sorter_container\u001b[1;34m(sorter_name, recording, mode, container_image, output_folder, remove_existing_folder, delete_output_folder, verbose, raise_error, with_output, delete_container_files, extra_requirements, installation_mode, spikeinterface_version, spikeinterface_folder_source, **sorter_params)\u001b[0m\n\u001b[0;32m    454\u001b[0m     py_user_base_folder\u001b[38;5;241m.\u001b[39mmkdir(parents\u001b[38;5;241m=\u001b[39m\u001b[38;5;28;01mTrue\u001b[39;00m, exist_ok\u001b[38;5;241m=\u001b[39m\u001b[38;5;28;01mTrue\u001b[39;00m)\n\u001b[0;32m    455\u001b[0m     py_user_base_unix \u001b[38;5;241m=\u001b[39m path_to_unix(py_user_base_folder)\n\u001b[1;32m--> 457\u001b[0m container_client \u001b[38;5;241m=\u001b[39m \u001b[43mContainerClient\u001b[49m\u001b[43m(\u001b[49m\u001b[43mmode\u001b[49m\u001b[43m,\u001b[49m\u001b[43m \u001b[49m\u001b[43mcontainer_image\u001b[49m\u001b[43m,\u001b[49m\u001b[43m \u001b[49m\u001b[43mvolumes\u001b[49m\u001b[43m,\u001b[49m\u001b[43m \u001b[49m\u001b[43mpy_user_base_unix\u001b[49m\u001b[43m,\u001b[49m\u001b[43m \u001b[49m\u001b[43mextra_kwargs\u001b[49m\u001b[43m)\u001b[49m\n\u001b[0;32m    458\u001b[0m \u001b[38;5;28;01mif\u001b[39;00m verbose:\n\u001b[0;32m    459\u001b[0m     \u001b[38;5;28mprint\u001b[39m(\u001b[38;5;124m\"\u001b[39m\u001b[38;5;124mStarting container\u001b[39m\u001b[38;5;124m\"\u001b[39m)\n",
      "File \u001b[1;32mc:\\Users\\neuroPC\\anaconda3\\envs\\ephys\\Lib\\site-packages\\spikeinterface\\sorters\\container_tools.py:88\u001b[0m, in \u001b[0;36mContainerClient.__init__\u001b[1;34m(self, mode, container_image, volumes, py_user_base, extra_kwargs)\u001b[0m\n\u001b[0;32m     86\u001b[0m \u001b[38;5;28;01mif\u001b[39;00m \u001b[38;5;129;01mnot\u001b[39;00m HAS_DOCKER:\n\u001b[0;32m     87\u001b[0m     \u001b[38;5;28;01mraise\u001b[39;00m \u001b[38;5;167;01mModuleNotFoundError\u001b[39;00m(\u001b[38;5;124m\"\u001b[39m\u001b[38;5;124mNo module named \u001b[39m\u001b[38;5;124m'\u001b[39m\u001b[38;5;124mdocker\u001b[39m\u001b[38;5;124m'\u001b[39m\u001b[38;5;124m\"\u001b[39m)\n\u001b[1;32m---> 88\u001b[0m client \u001b[38;5;241m=\u001b[39m \u001b[43mdocker\u001b[49m\u001b[38;5;241;43m.\u001b[39;49m\u001b[43mfrom_env\u001b[49m\u001b[43m(\u001b[49m\u001b[43m)\u001b[49m\n\u001b[0;32m     89\u001b[0m \u001b[38;5;28;01mif\u001b[39;00m container_requires_gpu \u001b[38;5;129;01mis\u001b[39;00m \u001b[38;5;129;01mnot\u001b[39;00m \u001b[38;5;28;01mNone\u001b[39;00m:\n\u001b[0;32m     90\u001b[0m     extra_kwargs\u001b[38;5;241m.\u001b[39mpop(\u001b[38;5;124m\"\u001b[39m\u001b[38;5;124mcontainer_requires_gpu\u001b[39m\u001b[38;5;124m\"\u001b[39m)\n",
      "File \u001b[1;32mc:\\Users\\neuroPC\\anaconda3\\envs\\ephys\\Lib\\site-packages\\docker\\client.py:94\u001b[0m, in \u001b[0;36mDockerClient.from_env\u001b[1;34m(cls, **kwargs)\u001b[0m\n\u001b[0;32m     92\u001b[0m version \u001b[38;5;241m=\u001b[39m kwargs\u001b[38;5;241m.\u001b[39mpop(\u001b[38;5;124m'\u001b[39m\u001b[38;5;124mversion\u001b[39m\u001b[38;5;124m'\u001b[39m, \u001b[38;5;28;01mNone\u001b[39;00m)\n\u001b[0;32m     93\u001b[0m use_ssh_client \u001b[38;5;241m=\u001b[39m kwargs\u001b[38;5;241m.\u001b[39mpop(\u001b[38;5;124m'\u001b[39m\u001b[38;5;124muse_ssh_client\u001b[39m\u001b[38;5;124m'\u001b[39m, \u001b[38;5;28;01mFalse\u001b[39;00m)\n\u001b[1;32m---> 94\u001b[0m \u001b[38;5;28;01mreturn\u001b[39;00m \u001b[38;5;28;43mcls\u001b[39;49m\u001b[43m(\u001b[49m\n\u001b[0;32m     95\u001b[0m \u001b[43m    \u001b[49m\u001b[43mtimeout\u001b[49m\u001b[38;5;241;43m=\u001b[39;49m\u001b[43mtimeout\u001b[49m\u001b[43m,\u001b[49m\n\u001b[0;32m     96\u001b[0m \u001b[43m    \u001b[49m\u001b[43mmax_pool_size\u001b[49m\u001b[38;5;241;43m=\u001b[39;49m\u001b[43mmax_pool_size\u001b[49m\u001b[43m,\u001b[49m\n\u001b[0;32m     97\u001b[0m \u001b[43m    \u001b[49m\u001b[43mversion\u001b[49m\u001b[38;5;241;43m=\u001b[39;49m\u001b[43mversion\u001b[49m\u001b[43m,\u001b[49m\n\u001b[0;32m     98\u001b[0m \u001b[43m    \u001b[49m\u001b[43muse_ssh_client\u001b[49m\u001b[38;5;241;43m=\u001b[39;49m\u001b[43muse_ssh_client\u001b[49m\u001b[43m,\u001b[49m\n\u001b[0;32m     99\u001b[0m \u001b[43m    \u001b[49m\u001b[38;5;241;43m*\u001b[39;49m\u001b[38;5;241;43m*\u001b[39;49m\u001b[43mkwargs_from_env\u001b[49m\u001b[43m(\u001b[49m\u001b[38;5;241;43m*\u001b[39;49m\u001b[38;5;241;43m*\u001b[39;49m\u001b[43mkwargs\u001b[49m\u001b[43m)\u001b[49m\n\u001b[0;32m    100\u001b[0m \u001b[43m\u001b[49m\u001b[43m)\u001b[49m\n",
      "File \u001b[1;32mc:\\Users\\neuroPC\\anaconda3\\envs\\ephys\\Lib\\site-packages\\docker\\client.py:45\u001b[0m, in \u001b[0;36mDockerClient.__init__\u001b[1;34m(self, *args, **kwargs)\u001b[0m\n\u001b[0;32m     44\u001b[0m \u001b[38;5;28;01mdef\u001b[39;00m \u001b[38;5;21m__init__\u001b[39m(\u001b[38;5;28mself\u001b[39m, \u001b[38;5;241m*\u001b[39margs, \u001b[38;5;241m*\u001b[39m\u001b[38;5;241m*\u001b[39mkwargs):\n\u001b[1;32m---> 45\u001b[0m     \u001b[38;5;28mself\u001b[39m\u001b[38;5;241m.\u001b[39mapi \u001b[38;5;241m=\u001b[39m \u001b[43mAPIClient\u001b[49m\u001b[43m(\u001b[49m\u001b[38;5;241;43m*\u001b[39;49m\u001b[43margs\u001b[49m\u001b[43m,\u001b[49m\u001b[43m \u001b[49m\u001b[38;5;241;43m*\u001b[39;49m\u001b[38;5;241;43m*\u001b[39;49m\u001b[43mkwargs\u001b[49m\u001b[43m)\u001b[49m\n",
      "File \u001b[1;32mc:\\Users\\neuroPC\\anaconda3\\envs\\ephys\\Lib\\site-packages\\docker\\api\\client.py:197\u001b[0m, in \u001b[0;36mAPIClient.__init__\u001b[1;34m(self, base_url, version, timeout, tls, user_agent, num_pools, credstore_env, use_ssh_client, max_pool_size)\u001b[0m\n\u001b[0;32m    192\u001b[0m \u001b[38;5;66;03m# version detection needs to be after unix adapter mounting\u001b[39;00m\n\u001b[0;32m    193\u001b[0m \u001b[38;5;28;01mif\u001b[39;00m version \u001b[38;5;129;01mis\u001b[39;00m \u001b[38;5;28;01mNone\u001b[39;00m \u001b[38;5;129;01mor\u001b[39;00m (\u001b[38;5;28misinstance\u001b[39m(\n\u001b[0;32m    194\u001b[0m                         version,\n\u001b[0;32m    195\u001b[0m                         \u001b[38;5;28mstr\u001b[39m\n\u001b[0;32m    196\u001b[0m                         ) \u001b[38;5;129;01mand\u001b[39;00m version\u001b[38;5;241m.\u001b[39mlower() \u001b[38;5;241m==\u001b[39m \u001b[38;5;124m'\u001b[39m\u001b[38;5;124mauto\u001b[39m\u001b[38;5;124m'\u001b[39m):\n\u001b[1;32m--> 197\u001b[0m     \u001b[38;5;28mself\u001b[39m\u001b[38;5;241m.\u001b[39m_version \u001b[38;5;241m=\u001b[39m \u001b[38;5;28;43mself\u001b[39;49m\u001b[38;5;241;43m.\u001b[39;49m\u001b[43m_retrieve_server_version\u001b[49m\u001b[43m(\u001b[49m\u001b[43m)\u001b[49m\n\u001b[0;32m    198\u001b[0m \u001b[38;5;28;01melse\u001b[39;00m:\n\u001b[0;32m    199\u001b[0m     \u001b[38;5;28mself\u001b[39m\u001b[38;5;241m.\u001b[39m_version \u001b[38;5;241m=\u001b[39m version\n",
      "File \u001b[1;32mc:\\Users\\neuroPC\\anaconda3\\envs\\ephys\\Lib\\site-packages\\docker\\api\\client.py:220\u001b[0m, in \u001b[0;36mAPIClient._retrieve_server_version\u001b[1;34m(self)\u001b[0m\n\u001b[0;32m    215\u001b[0m     \u001b[38;5;28;01mraise\u001b[39;00m DockerException(\n\u001b[0;32m    216\u001b[0m         \u001b[38;5;124m'\u001b[39m\u001b[38;5;124mInvalid response from docker daemon: key \u001b[39m\u001b[38;5;124m\"\u001b[39m\u001b[38;5;124mApiVersion\u001b[39m\u001b[38;5;124m\"\u001b[39m\u001b[38;5;124m'\u001b[39m\n\u001b[0;32m    217\u001b[0m         \u001b[38;5;124m'\u001b[39m\u001b[38;5;124m is missing.\u001b[39m\u001b[38;5;124m'\u001b[39m\n\u001b[0;32m    218\u001b[0m     ) \u001b[38;5;28;01mfrom\u001b[39;00m \u001b[38;5;21;01mke\u001b[39;00m\n\u001b[0;32m    219\u001b[0m \u001b[38;5;28;01mexcept\u001b[39;00m \u001b[38;5;167;01mException\u001b[39;00m \u001b[38;5;28;01mas\u001b[39;00m e:\n\u001b[1;32m--> 220\u001b[0m     \u001b[38;5;28;01mraise\u001b[39;00m DockerException(\n\u001b[0;32m    221\u001b[0m         \u001b[38;5;124mf\u001b[39m\u001b[38;5;124m'\u001b[39m\u001b[38;5;124mError while fetching server API version: \u001b[39m\u001b[38;5;132;01m{\u001b[39;00me\u001b[38;5;132;01m}\u001b[39;00m\u001b[38;5;124m'\u001b[39m\n\u001b[0;32m    222\u001b[0m     ) \u001b[38;5;28;01mfrom\u001b[39;00m \u001b[38;5;21;01me\u001b[39;00m\n",
      "\u001b[1;31mDockerException\u001b[0m: Error while fetching server API version: (2, 'CreateFile', 'The system cannot find the file specified.')"
     ]
    }
   ],
   "source": [
    "sorting_KS3 = si.run_sorter(sorter_name='kilosort3', recording=recording_saved, remove_existing_folder=True,\n",
    "                             output_folder=oe_folder / 'results_KS3',\n",
    "                             verbose=True,docker_image=True,**job_kwargs)"
   ]
  },
  {
   "cell_type": "code",
   "execution_count": 15,
   "metadata": {},
   "outputs": [],
   "source": [
    "sorter_params = {'do_correction': False}"
   ]
  },
  {
   "cell_type": "markdown",
   "metadata": {},
   "source": [
    "We can check the output object:"
   ]
  },
  {
   "cell_type": "code",
   "execution_count": 45,
   "metadata": {},
   "outputs": [
    {
     "data": {
      "text/plain": [
       "KiloSortSortingExtractor: 20 units - 1 segments - 30.0kHz"
      ]
     },
     "execution_count": 45,
     "metadata": {},
     "output_type": "execute_result"
    }
   ],
   "source": [
    "sorting_KS3"
   ]
  },
  {
   "cell_type": "markdown",
   "metadata": {
    "pycharm": {
     "name": "#%% md\n"
    }
   },
   "source": [
    "SpikeInterface ensures full provenance of the spike sorting pipeline. Upon running a spike sorter, a `spikeinterface_params.json` file is saved in the `output_folder`. This contains a `.json` version of the recording and all the input parameters. "
   ]
  },
  {
   "cell_type": "code",
   "execution_count": 63,
   "metadata": {
    "pycharm": {
     "name": "#%%\n"
    }
   },
   "outputs": [
    {
     "name": "stdout",
     "output_type": "stream",
     "text": [
      "total 20K\n",
      "drwxrwx--- 2 samuel.garcia crnl 4,0K nov.   7 14:55 sorter_output\n",
      "-rw-rw---- 1 samuel.garcia crnl 2,2K nov.   7 14:55 spikeinterface_log.json\n",
      "-rw-rw---- 1 samuel.garcia crnl  943 nov.   7 14:54 spikeinterface_params.json\n",
      "-rw-rw---- 1 samuel.garcia crnl 7,3K nov.   7 14:54 spikeinterface_recording.json\n"
     ]
    }
   ],
   "source": [
    "!ls -llh {base_folder}/results_KS25"
   ]
  },
  {
   "cell_type": "code",
   "execution_count": 64,
   "metadata": {},
   "outputs": [
    {
     "name": "stdout",
     "output_type": "stream",
     "text": [
      "{\n",
      "    \"sorter_name\": \"kilosort2_5\",\n",
      "    \"sorter_params\": {\n",
      "        \"detect_threshold\": 6,\n",
      "        \"projection_threshold\": [\n",
      "            10,\n",
      "            4\n",
      "        ],\n",
      "        \"preclust_threshold\": 8,\n",
      "        \"car\": true,\n",
      "        \"minFR\": 0.1,\n",
      "        \"minfr_goodchannels\": 0.1,\n",
      "        \"nblocks\": 5,\n",
      "        \"sig\": 20,\n",
      "        \"freq_min\": 150,\n",
      "        \"sigmaMask\": 30,\n",
      "        \"nPCs\": 3,\n",
      "        \"ntbuff\": 64,\n",
      "        \"nfilt_factor\": 4,\n",
      "        \"NT\": 65600,\n",
      "        \"AUCsplit\": 0.9,\n",
      "        \"do_correction\": false,\n",
      "        \"wave_length\": 61,\n",
      "        \"keep_good_only\": false,\n",
      "        \"skip_kilosort_preprocessing\": false,\n",
      "        \"scaleproc\": null,\n",
      "        \"save_rez_to_mat\": false,\n",
      "        \"delete_tmp_files\": [\n",
      "            \"matlab_files\"\n",
      "        ],\n",
      "        \"delete_recording_dat\": false,\n",
      "        \"n_jobs\": 36,\n",
      "        \"chunk_duration\": \"1s\",\n",
      "        \"progress_bar\": true,\n",
      "        \"mp_context\": null,\n",
      "        \"max_threads_per_process\": 1\n",
      "    }\n",
      "}"
     ]
    }
   ],
   "source": [
    "!cat {base_folder}/results_KS25/spikeinterface_params.json"
   ]
  },
  {
   "cell_type": "markdown",
   "metadata": {
    "pycharm": {
     "name": "#%% md\n"
    }
   },
   "source": [
    "The spike sorting returns a `Sorting` object. Let's see some of its functions:"
   ]
  },
  {
   "cell_type": "code",
   "execution_count": 46,
   "metadata": {},
   "outputs": [
    {
     "name": "stdout",
     "output_type": "stream",
     "text": [
      "Spike train of a unit: [  208020   359161   455933  1040040  1055803  1163897  1185637  1321641\n",
      "  1429611  1652226  1816941  1921400  1949413  1983404  2111265  2441805\n",
      "  2448350  2449738  2528826  2561134  2927669  2938505  2952943  2997895\n",
      "  3334157  3393196  3488749  3502783  3687523  3716385  3782601  3941443\n",
      "  4023673  4103896  4217179  4326561  4477935  4483242  4713449  4788154\n",
      "  4863643  4903138  4910340  4933036  4934814  4977508  5067106  5081714\n",
      "  5102375  5266245  5308341  5315984  5632107  5717213  5782796  5809230\n",
      "  5827454  5888141  6394803  6419492  6447888  6514965  6587770  6654610\n",
      "  6741752  6898791  6988183  7411589  7454124  7689886  7690133  7706952\n",
      "  7756971  8004171  8329536  8441076  8531031  8629545  8751044  8757083\n",
      "  8799334  8852451  8995665  9002196  9479076  9952074 10321083 10340968\n",
      " 10467540 10649029 10954147 11002702 11219317 11266551 11785027 11837694\n",
      " 12333554 12463222 12466806 12505484 12716935 12964362 13002290 13009633\n",
      " 13144859 13192645 13211043 13601504 13623796 14036305 14040769 14165894\n",
      " 14211359 14412560 14440163 14556117 14620082 14748901 14849529 14882454\n",
      " 14976359 15097356 15154269 15423477 15568090 15659896 15852064 16100274\n",
      " 16150459 16204041 16681560 16805830 17025684 17077258 17083145 17551752\n",
      " 17624325 17725958 17860282]\n",
      "Spike train of a unit (in s): [2892.95323333 2897.99126667 2901.217      2920.68723333 2921.21266667\n",
      " 2924.8158     2925.54046667 2930.07393333 2933.67293333 2941.09343333\n",
      " 2946.58393333 2950.0659     2950.99966667 2952.1327     2956.39473333\n",
      " 2967.41273333 2967.6309     2967.67716667 2970.31343333 2971.39036667\n",
      " 2983.6082     2983.9694     2984.45066667 2985.94906667 2997.1578\n",
      " 2999.12576667 3002.31086667 3002.77866667 3008.93666667 3009.89873333\n",
      " 3012.10593333 3017.40066667 3020.14166667 3022.81576667 3026.59186667\n",
      " 3030.23793333 3035.28373333 3035.46063333 3043.1342     3045.62436667\n",
      " 3048.14066667 3049.45716667 3049.69723333 3050.45376667 3050.51303333\n",
      " 3051.93616667 3054.92276667 3055.4097     3056.0984     3061.56073333\n",
      " 3062.96393333 3063.2187     3073.75613333 3076.593      3078.7791\n",
      " 3079.66023333 3080.2677     3082.2906     3099.17933333 3100.0023\n",
      " 3100.94883333 3103.18473333 3105.61156667 3107.83956667 3110.7443\n",
      " 3115.97893333 3118.95866667 3133.0722     3134.49003333 3142.34876667\n",
      " 3142.357      3142.91763333 3144.58493333 3152.82493333 3163.67043333\n",
      " 3167.38843333 3170.38693333 3173.67073333 3177.7207     3177.922\n",
      " 3179.33036667 3181.10093333 3185.87473333 3186.09243333 3201.98843333\n",
      " 3217.75503333 3230.05533333 3230.71816667 3234.93723333 3240.98686667\n",
      " 3251.15746667 3252.77596667 3259.99646667 3261.57093333 3278.85346667\n",
      " 3280.60903333 3297.1377     3301.45996667 3301.57943333 3302.8687\n",
      " 3309.91706667 3318.16463333 3319.4289     3319.67366667 3324.1812\n",
      " 3325.77406667 3326.38733333 3339.4027     3340.14576667 3353.89606667\n",
      " 3354.04486667 3358.2157     3359.7312     3366.4379     3367.358\n",
      " 3371.22313333 3373.3553     3377.64926667 3381.00353333 3382.10103333\n",
      " 3385.2312     3389.26443333 3391.16153333 3400.13513333 3404.95556667\n",
      " 3408.01576667 3414.42136667 3422.69503333 3424.36786667 3426.15393333\n",
      " 3442.07123333 3446.21356667 3453.54203333 3455.26116667 3455.4574\n",
      " 3471.07763333 3473.49673333 3476.8845     3481.36196667]\n"
     ]
    }
   ],
   "source": [
    "print(f'Spike train of a unit: {sorting_KS3.get_unit_spike_train(unit_id=1)}')\n",
    "print(f'Spike train of a unit (in s): {sorting_KS3.get_unit_spike_train(unit_id=1, return_times=True)}')"
   ]
  },
  {
   "cell_type": "markdown",
   "metadata": {
    "pycharm": {
     "name": "#%% md\n"
    }
   },
   "source": [
    "We can use `widgets` functions for some quick visualizations:"
   ]
  },
  {
   "cell_type": "code",
   "execution_count": 114,
   "metadata": {
    "pycharm": {
     "name": "#%%\n"
    }
   },
   "outputs": [
    {
     "data": {
      "image/png": "[encoded data removed]",
      "text/plain": [
       "<Figure size 640x480 with 1 Axes>"
      ]
     },
     "metadata": {},
     "output_type": "display_data"
    }
   ],
   "source": [
    "%matplotlib inline\n",
    "w_rs = si.plot_rasters(sorting_KS4, time_range=(0, 600), backend=\"matplotlib\")"
   ]
  },
  {
   "cell_type": "markdown",
   "metadata": {},
   "source": [
    "We can also save a spike sorting output for future use:"
   ]
  },
  {
   "cell_type": "code",
   "execution_count": 116,
   "metadata": {},
   "outputs": [
    {
     "ename": "PermissionError",
     "evalue": "[WinError 32] The process cannot access the file because it is being used by another process: 'C:\\\\Users\\\\neuroPC\\\\Documents\\\\Open Ephys\\\\2024-02-01_18-55-51\\\\sorting_KS4\\\\spikes.npy'",
     "output_type": "error",
     "traceback": [
      "\u001b[1;31m---------------------------------------------------------------------------\u001b[0m",
      "\u001b[1;31mPermissionError\u001b[0m                           Traceback (most recent call last)",
      "Cell \u001b[1;32mIn[116], line 1\u001b[0m\n\u001b[1;32m----> 1\u001b[0m sorting_saved_KS4 \u001b[38;5;241m=\u001b[39m \u001b[43msorting_KS4\u001b[49m\u001b[38;5;241;43m.\u001b[39;49m\u001b[43msave\u001b[49m\u001b[43m(\u001b[49m\u001b[43mfolder\u001b[49m\u001b[38;5;241;43m=\u001b[39;49m\u001b[43moe_folder\u001b[49m\u001b[43m \u001b[49m\u001b[38;5;241;43m/\u001b[39;49m\u001b[43m \u001b[49m\u001b[38;5;124;43m\"\u001b[39;49m\u001b[38;5;124;43msorting_KS4\u001b[39;49m\u001b[38;5;124;43m\"\u001b[39;49m\u001b[43m,\u001b[49m\u001b[43m \u001b[49m\u001b[43moverwrite\u001b[49m\u001b[38;5;241;43m=\u001b[39;49m\u001b[38;5;28;43;01mTrue\u001b[39;49;00m\u001b[43m)\u001b[49m\n",
      "File \u001b[1;32mc:\\Users\\neuroPC\\anaconda3\\envs\\ephys\\Lib\\site-packages\\spikeinterface\\core\\base.py:845\u001b[0m, in \u001b[0;36mBaseExtractor.save\u001b[1;34m(self, **kwargs)\u001b[0m\n\u001b[0;32m    843\u001b[0m     loaded_extractor \u001b[38;5;241m=\u001b[39m \u001b[38;5;28mself\u001b[39m\u001b[38;5;241m.\u001b[39msave_to_zarr(\u001b[38;5;241m*\u001b[39m\u001b[38;5;241m*\u001b[39mkwargs)\n\u001b[0;32m    844\u001b[0m \u001b[38;5;28;01melse\u001b[39;00m:\n\u001b[1;32m--> 845\u001b[0m     loaded_extractor \u001b[38;5;241m=\u001b[39m \u001b[38;5;28;43mself\u001b[39;49m\u001b[38;5;241;43m.\u001b[39;49m\u001b[43msave_to_folder\u001b[49m\u001b[43m(\u001b[49m\u001b[38;5;241;43m*\u001b[39;49m\u001b[38;5;241;43m*\u001b[39;49m\u001b[43mkwargs\u001b[49m\u001b[43m)\u001b[49m\n\u001b[0;32m    846\u001b[0m \u001b[38;5;28;01mreturn\u001b[39;00m loaded_extractor\n",
      "File \u001b[1;32mc:\\Users\\neuroPC\\anaconda3\\envs\\ephys\\Lib\\site-packages\\spikeinterface\\core\\base.py:914\u001b[0m, in \u001b[0;36mBaseExtractor.save_to_folder\u001b[1;34m(self, name, folder, overwrite, verbose, **save_kwargs)\u001b[0m\n\u001b[0;32m    911\u001b[0m \u001b[38;5;28;01mif\u001b[39;00m overwrite \u001b[38;5;129;01mand\u001b[39;00m folder\u001b[38;5;241m.\u001b[39mis_dir():\n\u001b[0;32m    912\u001b[0m     \u001b[38;5;28;01mimport\u001b[39;00m \u001b[38;5;21;01mshutil\u001b[39;00m\n\u001b[1;32m--> 914\u001b[0m     \u001b[43mshutil\u001b[49m\u001b[38;5;241;43m.\u001b[39;49m\u001b[43mrmtree\u001b[49m\u001b[43m(\u001b[49m\u001b[43mfolder\u001b[49m\u001b[43m)\u001b[49m\n\u001b[0;32m    916\u001b[0m \u001b[38;5;28;01massert\u001b[39;00m \u001b[38;5;129;01mnot\u001b[39;00m folder\u001b[38;5;241m.\u001b[39mexists(), \u001b[38;5;124mf\u001b[39m\u001b[38;5;124m\"\u001b[39m\u001b[38;5;124mfolder \u001b[39m\u001b[38;5;132;01m{\u001b[39;00mfolder\u001b[38;5;132;01m}\u001b[39;00m\u001b[38;5;124m already exists, choose another name or use overwrite=True\u001b[39m\u001b[38;5;124m\"\u001b[39m\n\u001b[0;32m    917\u001b[0m folder\u001b[38;5;241m.\u001b[39mmkdir(parents\u001b[38;5;241m=\u001b[39m\u001b[38;5;28;01mTrue\u001b[39;00m, exist_ok\u001b[38;5;241m=\u001b[39m\u001b[38;5;28;01mFalse\u001b[39;00m)\n",
      "File \u001b[1;32mc:\\Users\\neuroPC\\anaconda3\\envs\\ephys\\Lib\\shutil.py:759\u001b[0m, in \u001b[0;36mrmtree\u001b[1;34m(path, ignore_errors, onerror, dir_fd)\u001b[0m\n\u001b[0;32m    757\u001b[0m     \u001b[38;5;66;03m# can't continue even if onerror hook returns\u001b[39;00m\n\u001b[0;32m    758\u001b[0m     \u001b[38;5;28;01mreturn\u001b[39;00m\n\u001b[1;32m--> 759\u001b[0m \u001b[38;5;28;01mreturn\u001b[39;00m \u001b[43m_rmtree_unsafe\u001b[49m\u001b[43m(\u001b[49m\u001b[43mpath\u001b[49m\u001b[43m,\u001b[49m\u001b[43m \u001b[49m\u001b[43monerror\u001b[49m\u001b[43m)\u001b[49m\n",
      "File \u001b[1;32mc:\\Users\\neuroPC\\anaconda3\\envs\\ephys\\Lib\\shutil.py:622\u001b[0m, in \u001b[0;36m_rmtree_unsafe\u001b[1;34m(path, onerror)\u001b[0m\n\u001b[0;32m    620\u001b[0m             os\u001b[38;5;241m.\u001b[39munlink(fullname)\n\u001b[0;32m    621\u001b[0m         \u001b[38;5;28;01mexcept\u001b[39;00m \u001b[38;5;167;01mOSError\u001b[39;00m:\n\u001b[1;32m--> 622\u001b[0m             \u001b[43monerror\u001b[49m\u001b[43m(\u001b[49m\u001b[43mos\u001b[49m\u001b[38;5;241;43m.\u001b[39;49m\u001b[43munlink\u001b[49m\u001b[43m,\u001b[49m\u001b[43m \u001b[49m\u001b[43mfullname\u001b[49m\u001b[43m,\u001b[49m\u001b[43m \u001b[49m\u001b[43msys\u001b[49m\u001b[38;5;241;43m.\u001b[39;49m\u001b[43mexc_info\u001b[49m\u001b[43m(\u001b[49m\u001b[43m)\u001b[49m\u001b[43m)\u001b[49m\n\u001b[0;32m    623\u001b[0m \u001b[38;5;28;01mtry\u001b[39;00m:\n\u001b[0;32m    624\u001b[0m     os\u001b[38;5;241m.\u001b[39mrmdir(path)\n",
      "File \u001b[1;32mc:\\Users\\neuroPC\\anaconda3\\envs\\ephys\\Lib\\shutil.py:620\u001b[0m, in \u001b[0;36m_rmtree_unsafe\u001b[1;34m(path, onerror)\u001b[0m\n\u001b[0;32m    618\u001b[0m \u001b[38;5;28;01melse\u001b[39;00m:\n\u001b[0;32m    619\u001b[0m     \u001b[38;5;28;01mtry\u001b[39;00m:\n\u001b[1;32m--> 620\u001b[0m         os\u001b[38;5;241m.\u001b[39munlink(fullname)\n\u001b[0;32m    621\u001b[0m     \u001b[38;5;28;01mexcept\u001b[39;00m \u001b[38;5;167;01mOSError\u001b[39;00m:\n\u001b[0;32m    622\u001b[0m         onerror(os\u001b[38;5;241m.\u001b[39munlink, fullname, sys\u001b[38;5;241m.\u001b[39mexc_info())\n",
      "\u001b[1;31mPermissionError\u001b[0m: [WinError 32] The process cannot access the file because it is being used by another process: 'C:\\\\Users\\\\neuroPC\\\\Documents\\\\Open Ephys\\\\2024-02-01_18-55-51\\\\sorting_KS4\\\\spikes.npy'"
     ]
    }
   ],
   "source": [
    "sorting_saved_KS4 = sorting_KS4.save(folder=oe_folder / \"sorting_KS4\", overwrite=True)"
   ]
  },
  {
   "cell_type": "code",
   "execution_count": 29,
   "metadata": {},
   "outputs": [
    {
     "data": {
      "text/plain": [
       "NumpyFolderSorting: 60 units - 1 segments - 30.0kHz"
      ]
     },
     "execution_count": 29,
     "metadata": {},
     "output_type": "execute_result"
    }
   ],
   "source": [
    "sorting_KS3.save(folder=oe_folder / \"sorting_KS3\", overwrite=True)"
   ]
  },
  {
   "cell_type": "code",
   "execution_count": 49,
   "metadata": {},
   "outputs": [],
   "source": [
    "sorting_loaded_KS3 = si.load_extractor(oe_folder / \"sorting_KS3\")"
   ]
  },
  {
   "cell_type": "markdown",
   "metadata": {},
   "source": [
    "### Run sorter in container\n",
    "\n",
    "Some sorters are hard to install! To alleviate this headache, SI provides a built-in mechanism to run a spike sorting job in a docker container.\n",
    "\n",
    "We are maintaining a set of sorter-specific docker files in the [spikeinterface-dockerfiles repo](<https://github.com/SpikeInterface/spikeinterface-dockerfiles>)\n",
    "and most of the docker images are available on Docker Hub from the [SpikeInterface organization](<https://hub.docker.com/orgs/spikeinterface/repositories>).\n",
    "\n",
    "Running spike sorting in a docker container just requires to:\n",
    "\n",
    "1. have docker/singularity installed\n",
    "2. have docker/singularity python SDK installed (`pip install docker/spython`)\n",
    "\n",
    "See this documentation : https://spikeinterface.readthedocs.io/en/latest/modules/sorters.html#running-sorters-in-docker-singularity-containers\n",
    "\n",
    "When docker/singularity is installed, you can simply run the sorter in a container image:"
   ]
  },
  {
   "cell_type": "code",
   "execution_count": 70,
   "metadata": {},
   "outputs": [
    {
     "data": {
      "text/plain": [
       "KiloSortSortingExtractor: 151 units - 1 segments - 30.0kHz"
      ]
     },
     "execution_count": 70,
     "metadata": {},
     "output_type": "execute_result"
    }
   ],
   "source": [
    "sorting_KS2"
   ]
  },
  {
   "cell_type": "code",
   "execution_count": 71,
   "metadata": {},
   "outputs": [
    {
     "name": "stdout",
     "output_type": "stream",
     "text": [
      "KS2 found 151 units\n"
     ]
    }
   ],
   "source": [
    "print(f'KS2 found {len(sorting_KS2.get_unit_ids())} units')"
   ]
  },
  {
   "cell_type": "markdown",
   "metadata": {},
   "source": [
    "### Run internal sorter : spykingcircus2"
   ]
  },
  {
   "cell_type": "code",
   "execution_count": 72,
   "metadata": {},
   "outputs": [
    {
     "name": "stdout",
     "output_type": "stream",
     "text": [
      "detect peaks using locally_exclusive with n_jobs = 36 and chunk_size = 30000\n"
     ]
    },
    {
     "data": {
      "application/vnd.jupyter.widget-view+json": {
       "model_id": "10bc6092f51e40ea9b4bc029ae87b51f",
       "version_major": 2,
       "version_minor": 0
      },
      "text/plain": [
       "detect peaks using locally_exclusive:   0%|          | 0/300 [00:00<?, ?it/s]"
      ]
     },
     "metadata": {},
     "output_type": "display_data"
    },
    {
     "name": "stdout",
     "output_type": "stream",
     "text": [
      "We found 97705 peaks in total\n",
      "We kept 97705 peaks for clustering\n",
      "extracting features with n_jobs = 36 and chunk_size = 30000\n"
     ]
    },
    {
     "data": {
      "application/vnd.jupyter.widget-view+json": {
       "model_id": "802f5fe776bb48b4b0b82a29de45c83d",
       "version_major": 2,
       "version_minor": 0
      },
      "text/plain": [
       "extracting features:   0%|          | 0/300 [00:00<?, ?it/s]"
      ]
     },
     "metadata": {},
     "output_type": "display_data"
    },
    {
     "name": "stdout",
     "output_type": "stream",
     "text": [
      "We found 69 raw clusters, starting to clean with matching...\n",
      "extract waveforms shared_memory multi buffer with n_jobs = 36 and chunk_size = 30000\n"
     ]
    },
    {
     "data": {
      "application/vnd.jupyter.widget-view+json": {
       "model_id": "14d5fe4af34f49e697a08c64b1abeb71",
       "version_major": 2,
       "version_minor": 0
      },
      "text/plain": [
       "extract waveforms shared_memory multi buffer:   0%|          | 0/300 [00:00<?, ?it/s]"
      ]
     },
     "metadata": {},
     "output_type": "display_data"
    },
    {
     "name": "stdout",
     "output_type": "stream",
     "text": [
      "extract waveforms shared_memory multi buffer with n_jobs = 36 and chunk_size = 30000\n"
     ]
    },
    {
     "data": {
      "application/vnd.jupyter.widget-view+json": {
       "model_id": "0d89d995ba274e87a32a6416aceff35f",
       "version_major": 2,
       "version_minor": 0
      },
      "text/plain": [
       "extract waveforms shared_memory multi buffer:   0%|          | 0/300 [00:00<?, ?it/s]"
      ]
     },
     "metadata": {},
     "output_type": "display_data"
    },
    {
     "name": "stdout",
     "output_type": "stream",
     "text": [
      "We kept 57 non-duplicated clusters...\n",
      "extract waveforms shared_memory multi buffer with n_jobs = 36 and chunk_size = 30000\n"
     ]
    },
    {
     "data": {
      "application/vnd.jupyter.widget-view+json": {
       "model_id": "ba79234af6dd4d86aa1dd7bf5bc36fa4",
       "version_major": 2,
       "version_minor": 0
      },
      "text/plain": [
       "extract waveforms shared_memory multi buffer:   0%|          | 0/300 [00:00<?, ?it/s]"
      ]
     },
     "metadata": {},
     "output_type": "display_data"
    },
    {
     "name": "stdout",
     "output_type": "stream",
     "text": [
      "extract waveforms shared_memory multi buffer with n_jobs = 36 and chunk_size = 30000\n"
     ]
    },
    {
     "data": {
      "application/vnd.jupyter.widget-view+json": {
       "model_id": "cc576d6ea7474cc5853f2bd45412316a",
       "version_major": 2,
       "version_minor": 0
      },
      "text/plain": [
       "extract waveforms shared_memory multi buffer:   0%|          | 0/300 [00:00<?, ?it/s]"
      ]
     },
     "metadata": {},
     "output_type": "display_data"
    },
    {
     "name": "stdout",
     "output_type": "stream",
     "text": [
      "find spikes (circus-omp-svd) with n_jobs = 36 and chunk_size = 3000\n"
     ]
    },
    {
     "data": {
      "application/vnd.jupyter.widget-view+json": {
       "model_id": "eea62f4833294c89a7e82ccab559df93",
       "version_major": 2,
       "version_minor": 0
      },
      "text/plain": [
       "find spikes (circus-omp-svd):   0%|          | 0/3000 [00:00<?, ?it/s]"
      ]
     },
     "metadata": {},
     "output_type": "display_data"
    },
    {
     "name": "stdout",
     "output_type": "stream",
     "text": [
      "We found 261495 spikes\n",
      "spykingcircus2 run time 142.46s\n"
     ]
    }
   ],
   "source": [
    "sorting_SC2 = si.run_sorter('spykingcircus2', recording_saved, \n",
    "                            output_folder=base_folder / 'results_SC2',\n",
    "                            verbose=True, job_kwargs=job_kwargs)"
   ]
  },
  {
   "cell_type": "code",
   "execution_count": null,
   "metadata": {},
   "outputs": [],
   "source": []
  },
  {
   "cell_type": "code",
   "execution_count": 75,
   "metadata": {},
   "outputs": [],
   "source": [
    "sorting_SC2 = si.read_sorter_folder(oe_folder/\"results_SC2\")"
   ]
  },
  {
   "cell_type": "code",
   "execution_count": 76,
   "metadata": {},
   "outputs": [
    {
     "data": {
      "text/plain": [
       "NumpyFolderSorting: 57 units - 1 segments - 30.0kHz"
      ]
     },
     "execution_count": 76,
     "metadata": {},
     "output_type": "execute_result"
    }
   ],
   "source": [
    "sorting_SC2"
   ]
  },
  {
   "cell_type": "markdown",
   "metadata": {},
   "source": [
    "# 5. Extracting waveforms <a class=\"anchor\" id=\"waveforms\"></a>\n",
    "\n",
    "The core of postprocessing spike sorting results revolves around extracting waveforms from paired recording-sorting objects.\n",
    "\n",
    "In the SI API, waveforms are extracted using the `WaveformExtractor` class in the `core` module.\n",
    "\n",
    "The `WaveformExtractor` object has convenient functions to retrieve waveforms and templates.\n",
    "Let's see how it works.\n",
    "\n",
    "To extract the waveforms, we can run:"
   ]
  },
  {
   "cell_type": "code",
   "execution_count": 50,
   "metadata": {},
   "outputs": [],
   "source": [
    "recording_saved = si.load_extractor(oe_folder / \"preprocessed\")\n",
    "sorting = sorting_KS3"
   ]
  },
  {
   "cell_type": "code",
   "execution_count": 32,
   "metadata": {},
   "outputs": [],
   "source": [
    "recording_saved.annotate(is_filtered=True)"
   ]
  },
  {
   "cell_type": "code",
   "execution_count": 30,
   "metadata": {},
   "outputs": [],
   "source": [
    "sorting = sorting_KS3"
   ]
  },
  {
   "cell_type": "code",
   "execution_count": 33,
   "metadata": {},
   "outputs": [
    {
     "name": "stdout",
     "output_type": "stream",
     "text": [
      "Setting 'return_scaled' to False\n"
     ]
    },
    {
     "data": {
      "application/vnd.jupyter.widget-view+json": {
       "model_id": "c292420dd5f64fa3b7da16639362198c",
       "version_major": 2,
       "version_minor": 0
      },
      "text/plain": [
       "extract waveforms memmap multi buffer:   0%|          | 0/1800 [00:00<?, ?it/s]"
      ]
     },
     "metadata": {},
     "output_type": "display_data"
    },
    {
     "name": "stdout",
     "output_type": "stream",
     "text": [
      "WaveformExtractor: 32 channels - 60 units - 1 segments\n",
      "  before:30 after:60 n_per_units:500\n"
     ]
    }
   ],
   "source": [
    "we = si.extract_waveforms(recording_saved, sorting_KS3, folder=oe_folder / \"KS3_waveforms_dense\", \n",
    "                          sparse=False, overwrite=True, **job_kwargs)\n",
    "print(we)"
   ]
  },
  {
   "cell_type": "code",
   "execution_count": 78,
   "metadata": {
    "pycharm": {
     "name": "#%%\n"
    }
   },
   "outputs": [
    {
     "data": {
      "text/plain": [
       "\u001b[0;31mSignature:\u001b[0m\n",
       "\u001b[0msi\u001b[0m\u001b[0;34m.\u001b[0m\u001b[0mextract_waveforms\u001b[0m\u001b[0;34m(\u001b[0m\u001b[0;34m\u001b[0m\n",
       "\u001b[0;34m\u001b[0m    \u001b[0mrecording\u001b[0m\u001b[0;34m,\u001b[0m\u001b[0;34m\u001b[0m\n",
       "\u001b[0;34m\u001b[0m    \u001b[0msorting\u001b[0m\u001b[0;34m,\u001b[0m\u001b[0;34m\u001b[0m\n",
       "\u001b[0;34m\u001b[0m    \u001b[0mfolder\u001b[0m\u001b[0;34m=\u001b[0m\u001b[0;32mNone\u001b[0m\u001b[0;34m,\u001b[0m\u001b[0;34m\u001b[0m\n",
       "\u001b[0;34m\u001b[0m    \u001b[0mmode\u001b[0m\u001b[0;34m=\u001b[0m\u001b[0;34m'folder'\u001b[0m\u001b[0;34m,\u001b[0m\u001b[0;34m\u001b[0m\n",
       "\u001b[0;34m\u001b[0m    \u001b[0mprecompute_template\u001b[0m\u001b[0;34m=\u001b[0m\u001b[0;34m(\u001b[0m\u001b[0;34m'average'\u001b[0m\u001b[0;34m,\u001b[0m\u001b[0;34m)\u001b[0m\u001b[0;34m,\u001b[0m\u001b[0;34m\u001b[0m\n",
       "\u001b[0;34m\u001b[0m    \u001b[0mms_before\u001b[0m\u001b[0;34m=\u001b[0m\u001b[0;36m1.0\u001b[0m\u001b[0;34m,\u001b[0m\u001b[0;34m\u001b[0m\n",
       "\u001b[0;34m\u001b[0m    \u001b[0mms_after\u001b[0m\u001b[0;34m=\u001b[0m\u001b[0;36m2.0\u001b[0m\u001b[0;34m,\u001b[0m\u001b[0;34m\u001b[0m\n",
       "\u001b[0;34m\u001b[0m    \u001b[0mmax_spikes_per_unit\u001b[0m\u001b[0;34m=\u001b[0m\u001b[0;36m500\u001b[0m\u001b[0;34m,\u001b[0m\u001b[0;34m\u001b[0m\n",
       "\u001b[0;34m\u001b[0m    \u001b[0moverwrite\u001b[0m\u001b[0;34m=\u001b[0m\u001b[0;32mFalse\u001b[0m\u001b[0;34m,\u001b[0m\u001b[0;34m\u001b[0m\n",
       "\u001b[0;34m\u001b[0m    \u001b[0mreturn_scaled\u001b[0m\u001b[0;34m=\u001b[0m\u001b[0;32mTrue\u001b[0m\u001b[0;34m,\u001b[0m\u001b[0;34m\u001b[0m\n",
       "\u001b[0;34m\u001b[0m    \u001b[0mdtype\u001b[0m\u001b[0;34m=\u001b[0m\u001b[0;32mNone\u001b[0m\u001b[0;34m,\u001b[0m\u001b[0;34m\u001b[0m\n",
       "\u001b[0;34m\u001b[0m    \u001b[0msparse\u001b[0m\u001b[0;34m=\u001b[0m\u001b[0;32mTrue\u001b[0m\u001b[0;34m,\u001b[0m\u001b[0;34m\u001b[0m\n",
       "\u001b[0;34m\u001b[0m    \u001b[0msparsity\u001b[0m\u001b[0;34m=\u001b[0m\u001b[0;32mNone\u001b[0m\u001b[0;34m,\u001b[0m\u001b[0;34m\u001b[0m\n",
       "\u001b[0;34m\u001b[0m    \u001b[0msparsity_temp_folder\u001b[0m\u001b[0;34m=\u001b[0m\u001b[0;32mNone\u001b[0m\u001b[0;34m,\u001b[0m\u001b[0;34m\u001b[0m\n",
       "\u001b[0;34m\u001b[0m    \u001b[0mnum_spikes_for_sparsity\u001b[0m\u001b[0;34m=\u001b[0m\u001b[0;36m100\u001b[0m\u001b[0;34m,\u001b[0m\u001b[0;34m\u001b[0m\n",
       "\u001b[0;34m\u001b[0m    \u001b[0munit_batch_size\u001b[0m\u001b[0;34m=\u001b[0m\u001b[0;36m200\u001b[0m\u001b[0;34m,\u001b[0m\u001b[0;34m\u001b[0m\n",
       "\u001b[0;34m\u001b[0m    \u001b[0mallow_unfiltered\u001b[0m\u001b[0;34m=\u001b[0m\u001b[0;32mFalse\u001b[0m\u001b[0;34m,\u001b[0m\u001b[0;34m\u001b[0m\n",
       "\u001b[0;34m\u001b[0m    \u001b[0muse_relative_path\u001b[0m\u001b[0;34m=\u001b[0m\u001b[0;32mFalse\u001b[0m\u001b[0;34m,\u001b[0m\u001b[0;34m\u001b[0m\n",
       "\u001b[0;34m\u001b[0m    \u001b[0mseed\u001b[0m\u001b[0;34m=\u001b[0m\u001b[0;32mNone\u001b[0m\u001b[0;34m,\u001b[0m\u001b[0;34m\u001b[0m\n",
       "\u001b[0;34m\u001b[0m    \u001b[0mload_if_exists\u001b[0m\u001b[0;34m=\u001b[0m\u001b[0;32mNone\u001b[0m\u001b[0;34m,\u001b[0m\u001b[0;34m\u001b[0m\n",
       "\u001b[0;34m\u001b[0m    \u001b[0;34m**\u001b[0m\u001b[0mkwargs\u001b[0m\u001b[0;34m,\u001b[0m\u001b[0;34m\u001b[0m\n",
       "\u001b[0;34m\u001b[0m\u001b[0;34m)\u001b[0m\u001b[0;34m\u001b[0m\u001b[0;34m\u001b[0m\u001b[0m\n",
       "\u001b[0;31mDocstring:\u001b[0m\n",
       "Extracts waveform on paired Recording-Sorting objects.\n",
       "Waveforms can be persistent on disk (`mode`=\"folder\") or in-memory (`mode`=\"memory\").\n",
       "By default, waveforms are extracted on a subset of the spikes (`max_spikes_per_unit`) and on all channels (dense).\n",
       "If the `sparse` parameter is set to True, a sparsity is estimated using a small number of spikes\n",
       "(`num_spikes_for_sparsity`) and waveforms are extracted and saved in sparse mode.\n",
       "\n",
       "\n",
       "Parameters\n",
       "----------\n",
       "recording: Recording\n",
       "    The recording object\n",
       "sorting: Sorting\n",
       "    The sorting object\n",
       "folder: str or Path or None, default: None\n",
       "    The folder where waveforms are cached\n",
       "mode: \"folder\" | \"memory, default: \"folder\"\n",
       "    The mode to store waveforms. If \"folder\", waveforms are stored on disk in the specified folder.\n",
       "    The \"folder\" argument must be specified in case of mode \"folder\".\n",
       "    If \"memory\" is used, the waveforms are stored in RAM. Use this option carefully!\n",
       "precompute_template: None or list, default: [\"average\"]\n",
       "    Precompute average/std/median for template. If None, no templates are precomputed\n",
       "ms_before: float, default: 1.0\n",
       "    Time in ms to cut before spike peak\n",
       "ms_after: float, default: 2.0\n",
       "    Time in ms to cut after spike peak\n",
       "max_spikes_per_unit: int or None, default: 500\n",
       "    Number of spikes per unit to extract waveforms from\n",
       "    Use None to extract waveforms for all spikes\n",
       "overwrite: bool, default: False\n",
       "    If True and \"folder\" exists, the folder is removed and waveforms are recomputed\n",
       "    Otherwise an error is raised.\n",
       "return_scaled: bool, default: True\n",
       "    If True and recording has gain_to_uV/offset_to_uV properties, waveforms are converted to uV\n",
       "dtype: dtype or None, default: None\n",
       "    Dtype of the output waveforms. If None, the recording dtype is maintained\n",
       "sparse: bool, default: True\n",
       "    If True, before extracting all waveforms the `precompute_sparsity()` function is run using\n",
       "    a few spikes to get an estimate of dense templates to create a ChannelSparsity object.\n",
       "    Then, the waveforms will be sparse at extraction time, which saves a lot of memory.\n",
       "    When True, you must some provide kwargs handle `precompute_sparsity()` to control the kind of\n",
       "    sparsity you want to apply (by radius, by best channels, ...).\n",
       "sparsity: ChannelSparsity or None, default: None\n",
       "    The sparsity used to compute waveforms. If this is given, `sparse` is ignored. Default None.\n",
       "sparsity_temp_folder: str or Path or None, default: None\n",
       "    If sparse is True, this is the temporary folder where the dense waveforms are temporarily saved.\n",
       "    If None, dense waveforms are extracted in memory in batches (which can be controlled by the `unit_batch_size`\n",
       "    parameter. With a large number of units (e.g., > 400), it is advisable to use a temporary folder.\n",
       "num_spikes_for_sparsity: int, default: 100\n",
       "    The number of spikes to use to estimate sparsity (if sparse=True).\n",
       "unit_batch_size: int, default: 200\n",
       "    The number of units to process at once when extracting dense waveforms (if sparse=True and sparsity_temp_folder\n",
       "    is None).\n",
       "allow_unfiltered: bool\n",
       "    If true, will accept an allow_unfiltered recording.\n",
       "use_relative_path: bool, default: False\n",
       "    If True, the recording and sorting paths are relative to the waveforms folder.\n",
       "    This allows portability of the waveform folder provided that the relative paths are the same,\n",
       "    but forces all the data files to be in the same drive.\n",
       "seed: int or None, default: None\n",
       "    Random seed for spike selection\n",
       "\n",
       "sparsity kwargs:\n",
       "\n",
       "method: str\n",
       "    * \"best_channels\": N best channels with the largest amplitude. Use the \"num_channels\" argument to specify the\n",
       "                     number of channels.\n",
       "    * \"radius\": radius around the best channel. Use the \"radius_um\" argument to specify the radius in um\n",
       "    * \"snr\": threshold based on template signal-to-noise ratio. Use the \"threshold\" argument\n",
       "             to specify the SNR threshold (in units of noise levels)\n",
       "    * \"ptp\": threshold based on the peak-to-peak values on every channels. Use the \"threshold\" argument\n",
       "            to specify the ptp threshold (in units of noise levels)\n",
       "    * \"energy\": threshold based on the expected energy that should be present on the channels,\n",
       "                given their noise levels. Use the \"threshold\" argument to specify the SNR threshold\n",
       "                (in units of noise levels)\n",
       "    * \"by_property\": sparsity is given by a property of the recording and sorting(e.g. \"group\").\n",
       "                     Use the \"by_property\" argument to specify the property name.\n",
       "\n",
       "peak_sign: str\n",
       "    Sign of the template to compute best channels (\"neg\", \"pos\", \"both\")\n",
       "num_channels: int\n",
       "    Number of channels for \"best_channels\" method\n",
       "radius_um: float\n",
       "    Radius in um for \"radius\" method\n",
       "threshold: float\n",
       "    Threshold in SNR \"threshold\" method\n",
       "by_property: object\n",
       "    Property name for \"by_property\" method\n",
       "\n",
       "\n",
       "\n",
       "job kwargs:\n",
       "**job_kwargs: keyword arguments for parallel processing:\n",
       "        * chunk_duration or chunk_size or chunk_memory or total_memory\n",
       "            - chunk_size: int\n",
       "                Number of samples per chunk\n",
       "            - chunk_memory: str\n",
       "                Memory usage for each job (e.g. \"100M\", \"1G\")\n",
       "            - total_memory: str\n",
       "                Total memory usage (e.g. \"500M\", \"2G\")\n",
       "            - chunk_duration : str or float or None\n",
       "                Chunk duration in s if float or with units if str (e.g. \"1s\", \"500ms\")\n",
       "        * n_jobs: int\n",
       "            Number of jobs to use. With -1 the number of jobs is the same as number of cores\n",
       "        * progress_bar: bool\n",
       "            If True, a progress bar is printed\n",
       "        * mp_context: \"fork\" | \"spawn\" | None, default: None\n",
       "            Context for multiprocessing. It can be None, \"fork\" or \"spawn\".\n",
       "            Note that \"fork\" is only safely available on LINUX systems\n",
       "\n",
       "\n",
       "\n",
       "Returns\n",
       "-------\n",
       "we: WaveformExtractor\n",
       "    The WaveformExtractor object\n",
       "\n",
       "Examples\n",
       "--------\n",
       ">>> import spikeinterface as si\n",
       "\n",
       ">>> # Extract dense waveforms and save to disk\n",
       ">>> we = si.extract_waveforms(recording, sorting, folder=\"waveforms\")\n",
       "\n",
       ">>> # Extract dense waveforms with parallel processing and save to disk\n",
       ">>> job_kwargs = dict(n_jobs=8, chunk_duration=\"1s\", progress_bar=True)\n",
       ">>> we = si.extract_waveforms(recording, sorting, folder=\"waveforms\", **job_kwargs)\n",
       "\n",
       ">>> # Extract dense waveforms on all spikes\n",
       ">>> we = si.extract_waveforms(recording, sorting, folder=\"waveforms-all\", max_spikes_per_unit=None)\n",
       "\n",
       ">>> # Extract dense waveforms in memory\n",
       ">>> we = si.extract_waveforms(recording, sorting, folder=None, mode=\"memory\")\n",
       "\n",
       ">>> # Extract sparse waveforms (with radius-based sparsity of 50um) and save to disk\n",
       ">>> we = si.extract_waveforms(recording, sorting, folder=\"waveforms-sparse\", mode=\"folder\",\n",
       ">>>                           sparse=True, num_spikes_for_sparsity=100, method=\"radius\", radius_um=50)\n",
       "\u001b[0;31mFile:\u001b[0m      ~/Documents/SpikeInterface/spikeinterface/src/spikeinterface/core/waveform_extractor.py\n",
       "\u001b[0;31mType:\u001b[0m      function\n"
      ]
     },
     "metadata": {},
     "output_type": "display_data"
    }
   ],
   "source": [
    "si.extract_waveforms?"
   ]
  },
  {
   "cell_type": "code",
   "execution_count": 117,
   "metadata": {},
   "outputs": [
    {
     "ename": "PermissionError",
     "evalue": "[WinError 32] The process cannot access the file because it is being used by another process: 'C:\\\\Users\\\\neuroPC\\\\Documents\\\\Open Ephys\\\\2024-02-01_18-55-51\\\\KS4_waveforms_dense\\\\waveforms\\\\waveforms_0.npy'",
     "output_type": "error",
     "traceback": [
      "\u001b[1;31m---------------------------------------------------------------------------\u001b[0m",
      "\u001b[1;31mPermissionError\u001b[0m                           Traceback (most recent call last)",
      "Cell \u001b[1;32mIn[117], line 1\u001b[0m\n\u001b[1;32m----> 1\u001b[0m we \u001b[38;5;241m=\u001b[39m \u001b[43msi\u001b[49m\u001b[38;5;241;43m.\u001b[39;49m\u001b[43mextract_waveforms\u001b[49m\u001b[43m(\u001b[49m\u001b[43mrecording_saved\u001b[49m\u001b[43m,\u001b[49m\u001b[43m \u001b[49m\u001b[43msorting_KS4\u001b[49m\u001b[43m,\u001b[49m\u001b[43m \u001b[49m\u001b[43mfolder\u001b[49m\u001b[38;5;241;43m=\u001b[39;49m\u001b[43moe_folder\u001b[49m\u001b[43m \u001b[49m\u001b[38;5;241;43m/\u001b[39;49m\u001b[43m \u001b[49m\u001b[38;5;124;43m\"\u001b[39;49m\u001b[38;5;124;43mKS4_waveforms_dense\u001b[39;49m\u001b[38;5;124;43m\"\u001b[39;49m\u001b[43m,\u001b[49m\u001b[43m \u001b[49m\n\u001b[0;32m      2\u001b[0m \u001b[43m                          \u001b[49m\u001b[43msparse\u001b[49m\u001b[38;5;241;43m=\u001b[39;49m\u001b[38;5;28;43;01mFalse\u001b[39;49;00m\u001b[43m,\u001b[49m\u001b[43m \u001b[49m\u001b[43moverwrite\u001b[49m\u001b[38;5;241;43m=\u001b[39;49m\u001b[38;5;28;43;01mTrue\u001b[39;49;00m\u001b[43m,\u001b[49m\u001b[43m \u001b[49m\u001b[38;5;241;43m*\u001b[39;49m\u001b[38;5;241;43m*\u001b[39;49m\u001b[43mjob_kwargs\u001b[49m\u001b[43m)\u001b[49m\n\u001b[0;32m      3\u001b[0m \u001b[38;5;28mprint\u001b[39m(we)\n",
      "File \u001b[1;32mc:\\Users\\neuroPC\\anaconda3\\envs\\ephys\\Lib\\site-packages\\spikeinterface\\core\\waveform_extractor.py:1643\u001b[0m, in \u001b[0;36mextract_waveforms\u001b[1;34m(recording, sorting, folder, mode, precompute_template, ms_before, ms_after, max_spikes_per_unit, overwrite, return_scaled, dtype, sparse, sparsity, sparsity_temp_folder, num_spikes_for_sparsity, unit_batch_size, allow_unfiltered, use_relative_path, seed, load_if_exists, **kwargs)\u001b[0m\n\u001b[0;32m   1641\u001b[0m \u001b[38;5;28;01massert\u001b[39;00m \u001b[38;5;129;01mnot\u001b[39;00m (overwrite \u001b[38;5;129;01mand\u001b[39;00m load_if_exists), \u001b[38;5;124m\"\u001b[39m\u001b[38;5;124mUse either \u001b[39m\u001b[38;5;124m'\u001b[39m\u001b[38;5;124moverwrite=True\u001b[39m\u001b[38;5;124m'\u001b[39m\u001b[38;5;124m or \u001b[39m\u001b[38;5;124m'\u001b[39m\u001b[38;5;124mload_if_exists=True\u001b[39m\u001b[38;5;124m'\u001b[39m\u001b[38;5;124m\"\u001b[39m\n\u001b[0;32m   1642\u001b[0m \u001b[38;5;28;01mif\u001b[39;00m overwrite \u001b[38;5;129;01mand\u001b[39;00m folder\u001b[38;5;241m.\u001b[39mis_dir():\n\u001b[1;32m-> 1643\u001b[0m     \u001b[43mshutil\u001b[49m\u001b[38;5;241;43m.\u001b[39;49m\u001b[43mrmtree\u001b[49m\u001b[43m(\u001b[49m\u001b[43mfolder\u001b[49m\u001b[43m)\u001b[49m\n\u001b[0;32m   1644\u001b[0m \u001b[38;5;28;01mif\u001b[39;00m load_if_exists \u001b[38;5;129;01mand\u001b[39;00m folder\u001b[38;5;241m.\u001b[39mis_dir():\n\u001b[0;32m   1645\u001b[0m     we \u001b[38;5;241m=\u001b[39m WaveformExtractor\u001b[38;5;241m.\u001b[39mload_from_folder(folder)\n",
      "File \u001b[1;32mc:\\Users\\neuroPC\\anaconda3\\envs\\ephys\\Lib\\shutil.py:759\u001b[0m, in \u001b[0;36mrmtree\u001b[1;34m(path, ignore_errors, onerror, dir_fd)\u001b[0m\n\u001b[0;32m    757\u001b[0m     \u001b[38;5;66;03m# can't continue even if onerror hook returns\u001b[39;00m\n\u001b[0;32m    758\u001b[0m     \u001b[38;5;28;01mreturn\u001b[39;00m\n\u001b[1;32m--> 759\u001b[0m \u001b[38;5;28;01mreturn\u001b[39;00m \u001b[43m_rmtree_unsafe\u001b[49m\u001b[43m(\u001b[49m\u001b[43mpath\u001b[49m\u001b[43m,\u001b[49m\u001b[43m \u001b[49m\u001b[43monerror\u001b[49m\u001b[43m)\u001b[49m\n",
      "File \u001b[1;32mc:\\Users\\neuroPC\\anaconda3\\envs\\ephys\\Lib\\shutil.py:617\u001b[0m, in \u001b[0;36m_rmtree_unsafe\u001b[1;34m(path, onerror)\u001b[0m\n\u001b[0;32m    615\u001b[0m         onerror(os\u001b[38;5;241m.\u001b[39mpath\u001b[38;5;241m.\u001b[39mislink, fullname, sys\u001b[38;5;241m.\u001b[39mexc_info())\n\u001b[0;32m    616\u001b[0m         \u001b[38;5;28;01mcontinue\u001b[39;00m\n\u001b[1;32m--> 617\u001b[0m     \u001b[43m_rmtree_unsafe\u001b[49m\u001b[43m(\u001b[49m\u001b[43mfullname\u001b[49m\u001b[43m,\u001b[49m\u001b[43m \u001b[49m\u001b[43monerror\u001b[49m\u001b[43m)\u001b[49m\n\u001b[0;32m    618\u001b[0m \u001b[38;5;28;01melse\u001b[39;00m:\n\u001b[0;32m    619\u001b[0m     \u001b[38;5;28;01mtry\u001b[39;00m:\n",
      "File \u001b[1;32mc:\\Users\\neuroPC\\anaconda3\\envs\\ephys\\Lib\\shutil.py:622\u001b[0m, in \u001b[0;36m_rmtree_unsafe\u001b[1;34m(path, onerror)\u001b[0m\n\u001b[0;32m    620\u001b[0m             os\u001b[38;5;241m.\u001b[39munlink(fullname)\n\u001b[0;32m    621\u001b[0m         \u001b[38;5;28;01mexcept\u001b[39;00m \u001b[38;5;167;01mOSError\u001b[39;00m:\n\u001b[1;32m--> 622\u001b[0m             \u001b[43monerror\u001b[49m\u001b[43m(\u001b[49m\u001b[43mos\u001b[49m\u001b[38;5;241;43m.\u001b[39;49m\u001b[43munlink\u001b[49m\u001b[43m,\u001b[49m\u001b[43m \u001b[49m\u001b[43mfullname\u001b[49m\u001b[43m,\u001b[49m\u001b[43m \u001b[49m\u001b[43msys\u001b[49m\u001b[38;5;241;43m.\u001b[39;49m\u001b[43mexc_info\u001b[49m\u001b[43m(\u001b[49m\u001b[43m)\u001b[49m\u001b[43m)\u001b[49m\n\u001b[0;32m    623\u001b[0m \u001b[38;5;28;01mtry\u001b[39;00m:\n\u001b[0;32m    624\u001b[0m     os\u001b[38;5;241m.\u001b[39mrmdir(path)\n",
      "File \u001b[1;32mc:\\Users\\neuroPC\\anaconda3\\envs\\ephys\\Lib\\shutil.py:620\u001b[0m, in \u001b[0;36m_rmtree_unsafe\u001b[1;34m(path, onerror)\u001b[0m\n\u001b[0;32m    618\u001b[0m \u001b[38;5;28;01melse\u001b[39;00m:\n\u001b[0;32m    619\u001b[0m     \u001b[38;5;28;01mtry\u001b[39;00m:\n\u001b[1;32m--> 620\u001b[0m         os\u001b[38;5;241m.\u001b[39munlink(fullname)\n\u001b[0;32m    621\u001b[0m     \u001b[38;5;28;01mexcept\u001b[39;00m \u001b[38;5;167;01mOSError\u001b[39;00m:\n\u001b[0;32m    622\u001b[0m         onerror(os\u001b[38;5;241m.\u001b[39munlink, fullname, sys\u001b[38;5;241m.\u001b[39mexc_info())\n",
      "\u001b[1;31mPermissionError\u001b[0m: [WinError 32] The process cannot access the file because it is being used by another process: 'C:\\\\Users\\\\neuroPC\\\\Documents\\\\Open Ephys\\\\2024-02-01_18-55-51\\\\KS4_waveforms_dense\\\\waveforms\\\\waveforms_0.npy'"
     ]
    }
   ],
   "source": [
    "we = si.extract_waveforms(recording_saved, sorting_KS4, folder=oe_folder / \"KS4_waveforms_dense\", \n",
    "                          sparse=False, overwrite=True, **job_kwargs)\n",
    "print(we)"
   ]
  },
  {
   "cell_type": "markdown",
   "metadata": {
    "pycharm": {
     "name": "#%% md\n"
    }
   },
   "source": [
    "Now all waveforms are computed and stored in the provided `waveforms` folder. We can now retrieve waveforms and templates easily:"
   ]
  },
  {
   "cell_type": "code",
   "execution_count": 87,
   "metadata": {},
   "outputs": [
    {
     "name": "stdout",
     "output_type": "stream",
     "text": [
      "Waveforms shape: (500, 90, 32)\n"
     ]
    },
    {
     "ename": "AssertionError",
     "evalue": "",
     "output_type": "error",
     "traceback": [
      "\u001b[1;31m---------------------------------------------------------------------------\u001b[0m",
      "\u001b[1;31mAssertionError\u001b[0m                            Traceback (most recent call last)",
      "Cell \u001b[1;32mIn[87], line 3\u001b[0m\n\u001b[0;32m      1\u001b[0m waveforms0 \u001b[38;5;241m=\u001b[39m we\u001b[38;5;241m.\u001b[39mget_waveforms(unit_id\u001b[38;5;241m=\u001b[39m\u001b[38;5;241m0\u001b[39m)\n\u001b[0;32m      2\u001b[0m \u001b[38;5;28mprint\u001b[39m(\u001b[38;5;124mf\u001b[39m\u001b[38;5;124m\"\u001b[39m\u001b[38;5;124mWaveforms shape: \u001b[39m\u001b[38;5;132;01m{\u001b[39;00mwaveforms0\u001b[38;5;241m.\u001b[39mshape\u001b[38;5;132;01m}\u001b[39;00m\u001b[38;5;124m\"\u001b[39m)\n\u001b[1;32m----> 3\u001b[0m template0 \u001b[38;5;241m=\u001b[39m \u001b[43mwe\u001b[49m\u001b[38;5;241;43m.\u001b[39;49m\u001b[43mget_template\u001b[49m\u001b[43m(\u001b[49m\u001b[43munit_id\u001b[49m\u001b[38;5;241;43m=\u001b[39;49m\u001b[38;5;241;43m4\u001b[39;49m\u001b[43m)\u001b[49m\n\u001b[0;32m      4\u001b[0m \u001b[38;5;28mprint\u001b[39m(\u001b[38;5;124mf\u001b[39m\u001b[38;5;124m\"\u001b[39m\u001b[38;5;124mTemplate shape: \u001b[39m\u001b[38;5;132;01m{\u001b[39;00mtemplate0\u001b[38;5;241m.\u001b[39mshape\u001b[38;5;132;01m}\u001b[39;00m\u001b[38;5;124m\"\u001b[39m)\n\u001b[0;32m      5\u001b[0m all_templates \u001b[38;5;241m=\u001b[39m we\u001b[38;5;241m.\u001b[39mget_all_templates()\n",
      "File \u001b[1;32mc:\\Users\\neuroPC\\anaconda3\\envs\\ephys\\Lib\\site-packages\\spikeinterface\\core\\waveform_extractor.py:1306\u001b[0m, in \u001b[0;36mWaveformExtractor.get_template\u001b[1;34m(self, unit_id, mode, sparsity, force_dense, percentile)\u001b[0m\n\u001b[0;32m   1283\u001b[0m \u001b[38;5;250m\u001b[39m\u001b[38;5;124;03m\"\"\"\u001b[39;00m\n\u001b[0;32m   1284\u001b[0m \u001b[38;5;124;03mReturn template (average waveform).\u001b[39;00m\n\u001b[0;32m   1285\u001b[0m \n\u001b[1;32m   (...)\u001b[0m\n\u001b[0;32m   1303\u001b[0m \u001b[38;5;124;03m    The returned template (num_samples, num_channels)\u001b[39;00m\n\u001b[0;32m   1304\u001b[0m \u001b[38;5;124;03m\"\"\"\u001b[39;00m\n\u001b[0;32m   1305\u001b[0m \u001b[38;5;28;01massert\u001b[39;00m mode \u001b[38;5;129;01min\u001b[39;00m _possible_template_modes\n\u001b[1;32m-> 1306\u001b[0m \u001b[38;5;28;01massert\u001b[39;00m unit_id \u001b[38;5;129;01min\u001b[39;00m \u001b[38;5;28mself\u001b[39m\u001b[38;5;241m.\u001b[39msorting\u001b[38;5;241m.\u001b[39munit_ids\n\u001b[0;32m   1308\u001b[0m \u001b[38;5;28;01mif\u001b[39;00m sparsity \u001b[38;5;129;01mis\u001b[39;00m \u001b[38;5;129;01mnot\u001b[39;00m \u001b[38;5;28;01mNone\u001b[39;00m:\n\u001b[0;32m   1309\u001b[0m     \u001b[38;5;28;01massert\u001b[39;00m \u001b[38;5;129;01mnot\u001b[39;00m \u001b[38;5;28mself\u001b[39m\u001b[38;5;241m.\u001b[39mis_sparse(), \u001b[38;5;124m\"\u001b[39m\u001b[38;5;124mWaveforms are already sparse! Cannot apply an additional sparsity.\u001b[39m\u001b[38;5;124m\"\u001b[39m\n",
      "\u001b[1;31mAssertionError\u001b[0m: "
     ]
    }
   ],
   "source": [
    "waveforms0 = we.get_waveforms(unit_id=0)\n",
    "print(f\"Waveforms shape: {waveforms0.shape}\")\n",
    "template0 = we.get_template(unit_id=4)\n",
    "print(f\"Template shape: {template0.shape}\")\n",
    "all_templates = we.get_all_templates()\n",
    "print(f\"All templates shape: {all_templates.shape}\")"
   ]
  },
  {
   "cell_type": "markdown",
   "metadata": {},
   "source": [
    "For waveforms, the dimension is (num_spikes, num_samples, num_channels), while each template has dimension (num_samples, num_channels). Note that the number of spikes in this case is 500..we'll get back to it later!\n",
    "\n",
    "The `WaveformExtractor` is also compatible with several `widgets` to visualize the spike sorting output:"
   ]
  },
  {
   "cell_type": "markdown",
   "metadata": {},
   "source": [
    "We can also render interactive plots with the `ipywidgets` backend!"
   ]
  },
  {
   "cell_type": "code",
   "execution_count": 53,
   "metadata": {},
   "outputs": [
    {
     "data": {
      "application/vnd.jupyter.widget-view+json": {
       "model_id": "e1bd768b15b54f94827aa77530ef0f60",
       "version_major": 2,
       "version_minor": 0
      },
      "text/plain": [
       "AppLayout(children=(HBox(children=(Checkbox(value=False, description='same axis'), Checkbox(value=True, descri…"
      ]
     },
     "metadata": {},
     "output_type": "display_data"
    }
   ],
   "source": [
    "%matplotlib widget\n",
    "w = si.plot_unit_templates(we,backend=\"ipywidgets\")"
   ]
  },
  {
   "cell_type": "markdown",
   "metadata": {},
   "source": [
    "As we noticed before, the number of spikes for the waveforms is 500. Let's check the number of spikes for other waveforms:"
   ]
  },
  {
   "cell_type": "code",
   "execution_count": 35,
   "metadata": {},
   "outputs": [
    {
     "name": "stdout",
     "output_type": "stream",
     "text": [
      "Unit 1 - num waveforms: 437 - num spikes: 437\n",
      "Unit 12 - num waveforms: 500 - num spikes: 16962\n",
      "Unit 22 - num waveforms: 181 - num spikes: 181\n",
      "Unit 32 - num waveforms: 124 - num spikes: 124\n",
      "Unit 45 - num waveforms: 138 - num spikes: 138\n",
      "Unit 57 - num waveforms: 500 - num spikes: 625\n"
     ]
    }
   ],
   "source": [
    "for unit in sorting.get_unit_ids()[::10]:\n",
    "    waveforms = we.get_waveforms(unit_id=unit)\n",
    "    spiketrain = sorting.get_unit_spike_train(unit)\n",
    "    print(f\"Unit {unit} - num waveforms: {waveforms.shape[0]} - num spikes: {len(spiketrain)}\")"
   ]
  },
  {
   "cell_type": "markdown",
   "metadata": {},
   "source": [
    "No units have more than 500 spikes! This is because by default, the `WaveformExtractor` extracts waveforms on a random subset of 500 spikes. To extract waveforms on all spikes, we could use the `max_spikes_per_unit` argument, but this would be crazy:"
   ]
  },
  {
   "cell_type": "markdown",
   "metadata": {},
   "source": [
    "```\n",
    "we_all = si.extract_waveforms(recording_saved, sorting, folder=base_folder / \"waveforms_all\", \n",
    "                              max_spikes_per_unit=None,\n",
    "                              overwrite=True,\n",
    "                              **job_kwargs)\n",
    "```"
   ]
  },
  {
   "cell_type": "markdown",
   "metadata": {},
   "source": [
    "Now waveforms have been extracted for all spikes! Let's move on to explore the postprocessing capabilities of the `postprocessing` module."
   ]
  },
  {
   "cell_type": "markdown",
   "metadata": {},
   "source": [
    "## Sparsity\n",
    "\n",
    "Especially when working with silicon high-density probes, or when our probe has multiple groups (e.g. multi-shank, tetrodes), we don't care about waveform/templates on all channels.\n",
    "In order to find a subset of channels for each unit, we can use the `compute_sparsity()` which give an object of sparsity per unit."
   ]
  },
  {
   "cell_type": "code",
   "execution_count": 36,
   "metadata": {},
   "outputs": [
    {
     "data": {
      "text/plain": [
       "ChannelSparsity - units: 60 - channels: 32 - density, P(x=1): 0.43"
      ]
     },
     "execution_count": 36,
     "metadata": {},
     "output_type": "execute_result"
    }
   ],
   "source": [
    "sparsity = si.compute_sparsity(we, method='radius', radius_um=100.0)\n",
    "sparsity"
   ]
  },
  {
   "cell_type": "code",
   "execution_count": 37,
   "metadata": {},
   "outputs": [
    {
     "name": "stdout",
     "output_type": "stream",
     "text": [
      "1 ['CH1', 'CH3', 'CH5', 'CH6', 'CH7', 'CH8', 'CH9', 'CH10', 'CH11', 'CH12', 'CH13', 'CH14', 'CH15']\n",
      "32 ['CH1', 'CH3', 'CH5', 'CH6', 'CH7', 'CH8', 'CH9', 'CH10', 'CH11', 'CH12', 'CH13', 'CH14', 'CH15']\n"
     ]
    }
   ],
   "source": [
    "#  check the sparsity for some units\n",
    "for unit_id in sorting.unit_ids[::30]:\n",
    "    print(unit_id, list(sparsity.unit_id_to_channel_ids[unit_id]))"
   ]
  },
  {
   "cell_type": "code",
   "execution_count": 86,
   "metadata": {},
   "outputs": [],
   "source": [
    "## lets use this sparsity object to extract waveforms again"
   ]
  },
  {
   "cell_type": "code",
   "execution_count": 87,
   "metadata": {},
   "outputs": [
    {
     "data": {
      "application/vnd.jupyter.widget-view+json": {
       "model_id": "e21b2f4e391d4051bcf2e821530f5c68",
       "version_major": 2,
       "version_minor": 0
      },
      "text/plain": [
       "extract waveforms memmap multi buffer:   0%|          | 0/300 [00:00<?, ?it/s]"
      ]
     },
     "metadata": {},
     "output_type": "display_data"
    },
    {
     "name": "stdout",
     "output_type": "stream",
     "text": [
      "WaveformExtractor: 47 channels - 170 units - 1 segments\n",
      "  before:30 after:60 n_per_units:500 - sparse\n"
     ]
    }
   ],
   "source": [
    "we = si.extract_waveforms(recording_saved, sorting, folder=base_folder / \"waveforms_sparse_explicit\", \n",
    "                          sparsity=sparsity, **job_kwargs)\n",
    "print(we)"
   ]
  },
  {
   "cell_type": "code",
   "execution_count": 38,
   "metadata": {},
   "outputs": [
    {
     "name": "stdout",
     "output_type": "stream",
     "text": [
      "1 (437, 90, 32)\n",
      "12 (500, 90, 32)\n",
      "22 (181, 90, 32)\n",
      "32 (124, 90, 32)\n",
      "45 (138, 90, 32)\n",
      "57 (500, 90, 32)\n"
     ]
    }
   ],
   "source": [
    "# the waveforms are now sparse\n",
    "for unit_id in we.unit_ids[::10]:\n",
    "    waveforms = we.get_waveforms(unit_id=unit_id)\n",
    "    print(unit_id, waveforms.shape)"
   ]
  },
  {
   "cell_type": "markdown",
   "metadata": {},
   "source": [
    "we can also auto estimate the sparsity directly on waveforms extraction, this avoid extacting twice (one dense + one sparse)"
   ]
  },
  {
   "cell_type": "code",
   "execution_count": 89,
   "metadata": {},
   "outputs": [
    {
     "data": {
      "application/vnd.jupyter.widget-view+json": {
       "model_id": "2cb062fc9d0e4e6296cbe5cc852303f4",
       "version_major": 2,
       "version_minor": 0
      },
      "text/plain": [
       "extract waveforms shared_memory multi buffer:   0%|          | 0/300 [00:00<?, ?it/s]"
      ]
     },
     "metadata": {},
     "output_type": "display_data"
    },
    {
     "data": {
      "application/vnd.jupyter.widget-view+json": {
       "model_id": "0e8a897aca674f36b25c715caacc81c2",
       "version_major": 2,
       "version_minor": 0
      },
      "text/plain": [
       "extract waveforms memmap multi buffer:   0%|          | 0/300 [00:00<?, ?it/s]"
      ]
     },
     "metadata": {},
     "output_type": "display_data"
    },
    {
     "name": "stdout",
     "output_type": "stream",
     "text": [
      "WaveformExtractor: 47 channels - 170 units - 1 segments\n",
      "  before:30 after:60 n_per_units:500 - sparse\n"
     ]
    }
   ],
   "source": [
    "we = si.extract_waveforms(recording_saved, sorting, folder=base_folder / \"waveforms_sparse\", \n",
    "                          sparse=True, **job_kwargs)\n",
    "print(we)"
   ]
  },
  {
   "cell_type": "code",
   "execution_count": 90,
   "metadata": {},
   "outputs": [
    {
     "name": "stdout",
     "output_type": "stream",
     "text": [
      "ChannelSparsity - units: 170 - channels: 47 - density, P(x=1): 0.26\n"
     ]
    }
   ],
   "source": [
    "# and we can acces the sparsity as an attributes of the object\n",
    "print(we.sparsity)"
   ]
  },
  {
   "cell_type": "markdown",
   "metadata": {},
   "source": [
    "Most of the plotting and exporting functions accept `sparsity` as an argument, but they will also automatically display sparse waveforms if the `WaveformExtractor` is sparse."
   ]
  },
  {
   "cell_type": "code",
   "execution_count": 91,
   "metadata": {},
   "outputs": [
    {
     "data": {
      "application/vnd.jupyter.widget-view+json": {
       "model_id": "47dd4596f42e4425a7ea5cf924f3c0d8",
       "version_major": 2,
       "version_minor": 0
      },
      "text/plain": [
       "AppLayout(children=(HBox(children=(Checkbox(value=False, description='same axis'), Checkbox(value=True, descri…"
      ]
     },
     "metadata": {},
     "output_type": "display_data"
    },
    {
     "data": {
      "text/plain": [
       "<spikeinterface.widgets.unit_templates.UnitTemplatesWidget at 0x7ff0327bd960>"
      ]
     },
     "execution_count": 91,
     "metadata": {},
     "output_type": "execute_result"
    }
   ],
   "source": [
    "%matplotlib widget\n",
    "si.plot_unit_templates(we, backend=\"ipywidgets\")"
   ]
  },
  {
   "cell_type": "markdown",
   "metadata": {
    "pycharm": {
     "name": "#%% md\n"
    }
   },
   "source": [
    "# 6. Postprocessing <a class=\"anchor\" id=\"postprocessing\"></a>\n",
    "\n",
    "Postprocessing spike sorting results ranges from computing additional information, such as spike amplitudes and Principal Component Analisys (PCA) scores, to computing features of the extracellular waveforms, similarity between templates and crosscorrelograms. All of this is possible with the `postprocessing` module.\n",
    "\n",
    "\n",
    "See also : https://spikeinterface.readthedocs.io/en/latest/modules/postprocessing.html"
   ]
  },
  {
   "cell_type": "markdown",
   "metadata": {
    "pycharm": {
     "name": "#%% md\n"
    }
   },
   "source": [
    "### PCA scores\n",
    "\n",
    "PCA scores can be easily computed with the `compute_principal_components()` function. Similarly to the `extract_waveforms`, the function returns an object of type `WaveformPrincipalComponent` that allows to retrieve all pc scores on demand."
   ]
  },
  {
   "cell_type": "code",
   "execution_count": 39,
   "metadata": {},
   "outputs": [
    {
     "data": {
      "application/vnd.jupyter.widget-view+json": {
       "model_id": "619e5e6408c041acb925f83789ba8929",
       "version_major": 2,
       "version_minor": 0
      },
      "text/plain": [
       "Fitting PCA:   0%|          | 0/60 [00:00<?, ?it/s]"
      ]
     },
     "metadata": {},
     "output_type": "display_data"
    },
    {
     "data": {
      "application/vnd.jupyter.widget-view+json": {
       "model_id": "7dd6c89af14348d5acd42a08f741b308",
       "version_major": 2,
       "version_minor": 0
      },
      "text/plain": [
       "Projecting waveforms:   0%|          | 0/60 [00:00<?, ?it/s]"
      ]
     },
     "metadata": {},
     "output_type": "display_data"
    }
   ],
   "source": [
    "pc = si.compute_principal_components(we, n_components=3, load_if_exists=False, **job_kwargs)"
   ]
  },
  {
   "cell_type": "code",
   "execution_count": 40,
   "metadata": {
    "pycharm": {
     "name": "#%%\n"
    }
   },
   "outputs": [
    {
     "ename": "KeyError",
     "evalue": "'pca_0'",
     "output_type": "error",
     "traceback": [
      "\u001b[1;31m---------------------------------------------------------------------------\u001b[0m",
      "\u001b[1;31mKeyError\u001b[0m                                  Traceback (most recent call last)",
      "Cell \u001b[1;32mIn[40], line 1\u001b[0m\n\u001b[1;32m----> 1\u001b[0m pc0 \u001b[38;5;241m=\u001b[39m \u001b[43mpc\u001b[49m\u001b[38;5;241;43m.\u001b[39;49m\u001b[43mget_projections\u001b[49m\u001b[43m(\u001b[49m\u001b[43munit_id\u001b[49m\u001b[38;5;241;43m=\u001b[39;49m\u001b[38;5;241;43m0\u001b[39;49m\u001b[43m)\u001b[49m\n\u001b[0;32m      2\u001b[0m \u001b[38;5;28mprint\u001b[39m(\u001b[38;5;124mf\u001b[39m\u001b[38;5;124m\"\u001b[39m\u001b[38;5;124mPC scores shape: \u001b[39m\u001b[38;5;132;01m{\u001b[39;00mpc0\u001b[38;5;241m.\u001b[39mshape\u001b[38;5;132;01m}\u001b[39;00m\u001b[38;5;124m\"\u001b[39m)\n\u001b[0;32m      3\u001b[0m all_labels, all_pcs \u001b[38;5;241m=\u001b[39m pc\u001b[38;5;241m.\u001b[39mget_all_projections()\n",
      "File \u001b[1;32mc:\\Users\\neuroPC\\anaconda3\\envs\\ephys\\Lib\\site-packages\\spikeinterface\\postprocessing\\principal_component.py:96\u001b[0m, in \u001b[0;36mWaveformPrincipalComponent.get_projections\u001b[1;34m(self, unit_id, sparse)\u001b[0m\n\u001b[0;32m     79\u001b[0m \u001b[38;5;28;01mdef\u001b[39;00m \u001b[38;5;21mget_projections\u001b[39m(\u001b[38;5;28mself\u001b[39m, unit_id, sparse\u001b[38;5;241m=\u001b[39m\u001b[38;5;28;01mFalse\u001b[39;00m):\n\u001b[0;32m     80\u001b[0m \u001b[38;5;250m    \u001b[39m\u001b[38;5;124;03m\"\"\"\u001b[39;00m\n\u001b[0;32m     81\u001b[0m \u001b[38;5;124;03m    Returns the computed projections for the sampled waveforms of a unit id.\u001b[39;00m\n\u001b[0;32m     82\u001b[0m \n\u001b[1;32m   (...)\u001b[0m\n\u001b[0;32m     94\u001b[0m \u001b[38;5;124;03m        In case sparsity is used, only the projections on sparse channels are returned.\u001b[39;00m\n\u001b[0;32m     95\u001b[0m \u001b[38;5;124;03m    \"\"\"\u001b[39;00m\n\u001b[1;32m---> 96\u001b[0m     projections \u001b[38;5;241m=\u001b[39m \u001b[38;5;28;43mself\u001b[39;49m\u001b[38;5;241;43m.\u001b[39;49m\u001b[43m_extension_data\u001b[49m\u001b[43m[\u001b[49m\u001b[38;5;124;43mf\u001b[39;49m\u001b[38;5;124;43m\"\u001b[39;49m\u001b[38;5;124;43mpca_\u001b[39;49m\u001b[38;5;132;43;01m{\u001b[39;49;00m\u001b[43munit_id\u001b[49m\u001b[38;5;132;43;01m}\u001b[39;49;00m\u001b[38;5;124;43m\"\u001b[39;49m\u001b[43m]\u001b[49m\n\u001b[0;32m     97\u001b[0m     mode \u001b[38;5;241m=\u001b[39m \u001b[38;5;28mself\u001b[39m\u001b[38;5;241m.\u001b[39m_params[\u001b[38;5;124m\"\u001b[39m\u001b[38;5;124mmode\u001b[39m\u001b[38;5;124m\"\u001b[39m]\n\u001b[0;32m     98\u001b[0m     \u001b[38;5;28;01mif\u001b[39;00m mode \u001b[38;5;129;01min\u001b[39;00m (\u001b[38;5;124m\"\u001b[39m\u001b[38;5;124mby_channel_local\u001b[39m\u001b[38;5;124m\"\u001b[39m, \u001b[38;5;124m\"\u001b[39m\u001b[38;5;124mby_channel_global\u001b[39m\u001b[38;5;124m\"\u001b[39m) \u001b[38;5;129;01mand\u001b[39;00m sparse:\n",
      "\u001b[1;31mKeyError\u001b[0m: 'pca_0'"
     ]
    }
   ],
   "source": [
    "pc0 = pc.get_projections(unit_id=0)\n",
    "print(f\"PC scores shape: {pc0.shape}\")\n",
    "all_labels, all_pcs = pc.get_all_projections()\n",
    "print(f\"All PC scores shape: {all_pcs.shape}\")"
   ]
  },
  {
   "cell_type": "markdown",
   "metadata": {},
   "source": [
    "For pc scores of a single unit, the dimension is (num_spikes, num_components, num_channels). "
   ]
  },
  {
   "cell_type": "markdown",
   "metadata": {},
   "source": [
    "## WaveformExtensions\n",
    "\n",
    "When we compute PCA (or use other postprocessing functions), the computed information is added to the waveform folder. The functions act as `WaveformExtensions`:\n",
    "\n",
    "For more details see this https://spikeinterface.readthedocs.io/en/latest/modules/postprocessing.html#waveformextractor-extensions\n"
   ]
  },
  {
   "cell_type": "code",
   "execution_count": 41,
   "metadata": {},
   "outputs": [
    {
     "data": {
      "text/plain": [
       "['similarity', 'principal_components', 'spike_amplitudes']"
      ]
     },
     "execution_count": 41,
     "metadata": {},
     "output_type": "execute_result"
    }
   ],
   "source": [
    "we.get_available_extension_names()"
   ]
  },
  {
   "cell_type": "markdown",
   "metadata": {},
   "source": [
    "Each `WaveformExtension` is an object that allows us to retrieve the data:"
   ]
  },
  {
   "cell_type": "code",
   "execution_count": 42,
   "metadata": {},
   "outputs": [
    {
     "name": "stdout",
     "output_type": "stream",
     "text": [
      "WaveformPrincipalComponent: 32 channels - 1 segments\n",
      "  mode: by_channel_local n_components: 3\n"
     ]
    }
   ],
   "source": [
    "pc = we.load_extension(\"principal_components\")\n",
    "print(pc)"
   ]
  },
  {
   "cell_type": "code",
   "execution_count": 43,
   "metadata": {},
   "outputs": [
    {
     "name": "stdout",
     "output_type": "stream",
     "text": [
      "(18494, 3, 32)\n"
     ]
    }
   ],
   "source": [
    "all_labels, all_pcs = pc.get_data()\n",
    "print(all_pcs.shape)"
   ]
  },
  {
   "cell_type": "markdown",
   "metadata": {},
   "source": [
    "### Spike amplitudes"
   ]
  },
  {
   "cell_type": "markdown",
   "metadata": {},
   "source": [
    "Spike amplitudes can be computed with the `get_spike_amplitudes` function."
   ]
  },
  {
   "cell_type": "code",
   "execution_count": 44,
   "metadata": {},
   "outputs": [],
   "source": [
    "amplitudes = si.compute_spike_amplitudes(we, outputs=\"by_unit\", load_if_exists=True, **job_kwargs)"
   ]
  },
  {
   "cell_type": "markdown",
   "metadata": {
    "pycharm": {
     "name": "#%% md\n"
    }
   },
   "source": [
    "By default, all amplitudes are concatenated in one array with all amplitudes form all spikes. With the `output=\"by_unit\"` argument, instead, a dictionary is returned:"
   ]
  },
  {
   "cell_type": "code",
   "execution_count": 98,
   "metadata": {},
   "outputs": [
    {
     "data": {
      "text/plain": [
       "array([ -8.19    , -32.954998, -31.98    , ..., -24.765   , -34.32    ,\n",
       "       -25.74    ], dtype=float32)"
      ]
     },
     "execution_count": 98,
     "metadata": {},
     "output_type": "execute_result"
    }
   ],
   "source": [
    "amplitudes[0][15]"
   ]
  },
  {
   "cell_type": "code",
   "execution_count": 45,
   "metadata": {},
   "outputs": [
    {
     "data": {
      "application/vnd.jupyter.widget-view+json": {
       "model_id": "4b6701720713480380a7df2941c791d6",
       "version_major": 2,
       "version_minor": 0
      },
      "text/plain": [
       "AppLayout(children=(VBox(children=(UnitSelector(children=(Label(value='Units', layout=Layout(justify_content='…"
      ]
     },
     "metadata": {},
     "output_type": "display_data"
    },
    {
     "data": {
      "text/plain": [
       "<spikeinterface.widgets.amplitudes.AmplitudesWidget at 0x2310063ca10>"
      ]
     },
     "execution_count": 45,
     "metadata": {},
     "output_type": "execute_result"
    }
   ],
   "source": [
    "%matplotlib widget\n",
    "si.plot_amplitudes(we, backend=\"ipywidgets\")"
   ]
  },
  {
   "cell_type": "markdown",
   "metadata": {},
   "source": [
    "### Compute unit and spike locations\n",
    "\n",
    "When using silicon probes, we can estimate the unit (or spike) location with triangulation. This can be done either with a simple center of mass or by assuming a monopolar model:\n",
    "\n",
    "$$V_{ext}(\\boldsymbol{r_{ext}}) = \\frac{I_n}{4 \\pi \\sigma |\\boldsymbol{r_{ext}} - \\boldsymbol{r_{n}}|}$$\n",
    "\n",
    "where $\\boldsymbol{r_{n}}$ is the position of the neuron, and $\\boldsymbol{r_{n}}$ of the electrode(s)."
   ]
  },
  {
   "cell_type": "code",
   "execution_count": 46,
   "metadata": {},
   "outputs": [
    {
     "data": {
      "application/vnd.jupyter.widget-view+json": {
       "model_id": "e3128074c83d4f56b39dd81defa739ff",
       "version_major": 2,
       "version_minor": 0
      },
      "text/plain": [
       "localize peaks using center_of_mass:   0%|          | 0/1800 [00:00<?, ?it/s]"
      ]
     },
     "metadata": {},
     "output_type": "display_data"
    }
   ],
   "source": [
    "unit_locations = si.compute_unit_locations(we, method=\"monopolar_triangulation\", load_if_exists=True)\n",
    "spike_locations = si.compute_spike_locations(we, method=\"center_of_mass\", load_if_exists=True, **job_kwargs)"
   ]
  },
  {
   "cell_type": "code",
   "execution_count": 47,
   "metadata": {},
   "outputs": [
    {
     "data": {
      "application/vnd.jupyter.widget-view+json": {
       "model_id": "f7e768a3285f4480900b0a044d70e776",
       "version_major": 2,
       "version_minor": 0
      },
      "text/plain": [
       "AppLayout(children=(UnitSelector(children=(Label(value='Units', layout=Layout(justify_content='center')), Sele…"
      ]
     },
     "metadata": {},
     "output_type": "display_data"
    },
    {
     "data": {
      "text/plain": [
       "<spikeinterface.widgets.unit_locations.UnitLocationsWidget at 0x230fcbca890>"
      ]
     },
     "execution_count": 47,
     "metadata": {},
     "output_type": "execute_result"
    }
   ],
   "source": [
    "%matplotlib widget\n",
    "si.plot_unit_locations(we, backend=\"ipywidgets\")"
   ]
  },
  {
   "cell_type": "code",
   "execution_count": 102,
   "metadata": {},
   "outputs": [
    {
     "data": {
      "application/vnd.jupyter.widget-view+json": {
       "model_id": "23bb5c599118469f9fe4ffd19e254d81",
       "version_major": 2,
       "version_minor": 0
      },
      "text/plain": [
       "AppLayout(children=(UnitSelector(children=(Label(value='Units', layout=Layout(justify_content='center')), Sele…"
      ]
     },
     "metadata": {},
     "output_type": "display_data"
    },
    {
     "data": {
      "text/plain": [
       "<spikeinterface.widgets.spike_locations.SpikeLocationsWidget at 0x7ff0172b68c0>"
      ]
     },
     "execution_count": 102,
     "metadata": {},
     "output_type": "execute_result"
    }
   ],
   "source": [
    "%matplotlib widget\n",
    "si.plot_spike_locations(we, max_spikes_per_unit=300, backend=\"ipywidgets\")"
   ]
  },
  {
   "cell_type": "markdown",
   "metadata": {},
   "source": [
    "### Compute correlograms"
   ]
  },
  {
   "cell_type": "code",
   "execution_count": 48,
   "metadata": {},
   "outputs": [],
   "source": [
    "ccgs, bins = si.compute_correlograms(we)"
   ]
  },
  {
   "cell_type": "code",
   "execution_count": 49,
   "metadata": {},
   "outputs": [
    {
     "data": {
      "text/plain": [
       "<spikeinterface.widgets.crosscorrelograms.CrossCorrelogramsWidget at 0x230fccca3d0>"
      ]
     },
     "execution_count": 49,
     "metadata": {},
     "output_type": "execute_result"
    },
    {
     "data": {
      "application/vnd.jupyter.widget-view+json": {
       "model_id": "de354bd4a964440a9c4ddc57a2ade544",
       "version_major": 2,
       "version_minor": 0
      },
      "image/png": "[encoded data removed]",
      "text/html": [
       "\n",
       "            <div style=\"display: inline-block;\">\n",
       "                <div class=\"jupyter-widgets widget-label\" style=\"text-align: center;\">\n",
       "                    Figure\n",
       "                </div>\n",
       "                <img src='data:image/png;base64,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' width=1400.0/>\n",
       "            </div>\n",
       "        "
      ],
      "text/plain": [
       "Canvas(toolbar=Toolbar(toolitems=[('Home', 'Reset original view', 'home', 'home'), ('Back', 'Back to previous …"
      ]
     },
     "metadata": {},
     "output_type": "display_data"
    },
    {
     "data": {
      "application/vnd.jupyter.widget-view+json": {
       "model_id": "befedfc97c134c90b79144e1b3b847fc",
       "version_major": 2,
       "version_minor": 0
      },
      "image/png": "[encoded data removed]",
      "text/html": [
       "\n",
       "            <div style=\"display: inline-block;\">\n",
       "                <div class=\"jupyter-widgets widget-label\" style=\"text-align: center;\">\n",
       "                    Figure\n",
       "                </div>\n",
       "                <img src='data:image/png;base64,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' width=1200.0/>\n",
       "            </div>\n",
       "        "
      ],
      "text/plain": [
       "Canvas(toolbar=Toolbar(toolitems=[('Home', 'Reset original view', 'home', 'home'), ('Back', 'Back to previous …"
      ]
     },
     "metadata": {},
     "output_type": "display_data"
    }
   ],
   "source": [
    "si.plot_autocorrelograms(we, unit_ids=sorting.unit_ids[::34], figsize=(14, 10))\n",
    "si.plot_crosscorrelograms(we, unit_ids=sorting.unit_ids[::34], figsize=(12, 12))"
   ]
  },
  {
   "cell_type": "markdown",
   "metadata": {},
   "source": [
    "### Compute template similarity"
   ]
  },
  {
   "cell_type": "code",
   "execution_count": 50,
   "metadata": {},
   "outputs": [],
   "source": [
    "similarity = si.compute_template_similarity(we)"
   ]
  },
  {
   "cell_type": "markdown",
   "metadata": {},
   "source": [
    "### Compute template metrics\n",
    "\n",
    "Template metrics, or extracellular features, such as peak to valley duration or full-width half maximum, are important to classify neurons into putative classes (excitatory - inhibitory). The `postprocessing` allows one to compute several of these metrics:"
   ]
  },
  {
   "cell_type": "code",
   "execution_count": 51,
   "metadata": {},
   "outputs": [
    {
     "name": "stdout",
     "output_type": "stream",
     "text": [
      "['peak_to_valley', 'peak_trough_ratio', 'half_width', 'repolarization_slope', 'recovery_slope', 'num_positive_peaks', 'num_negative_peaks', 'velocity_above', 'velocity_below', 'exp_decay', 'spread']\n"
     ]
    }
   ],
   "source": [
    "print(si.get_template_metric_names())"
   ]
  },
  {
   "cell_type": "code",
   "execution_count": 52,
   "metadata": {
    "pycharm": {
     "name": "#%%\n"
    }
   },
   "outputs": [
    {
     "data": {
      "text/html": [
       "<div>\n",
       "<style scoped>\n",
       "    .dataframe tbody tr th:only-of-type {\n",
       "        vertical-align: middle;\n",
       "    }\n",
       "\n",
       "    .dataframe tbody tr th {\n",
       "        vertical-align: top;\n",
       "    }\n",
       "\n",
       "    .dataframe thead th {\n",
       "        text-align: right;\n",
       "    }\n",
       "</style>\n",
       "<table border=\"1\" class=\"dataframe\">\n",
       "  <thead>\n",
       "    <tr style=\"text-align: right;\">\n",
       "      <th></th>\n",
       "      <th>half_width</th>\n",
       "      <th>num_negative_peaks</th>\n",
       "      <th>num_positive_peaks</th>\n",
       "      <th>peak_to_valley</th>\n",
       "      <th>peak_trough_ratio</th>\n",
       "      <th>recovery_slope</th>\n",
       "      <th>repolarization_slope</th>\n",
       "    </tr>\n",
       "  </thead>\n",
       "  <tbody>\n",
       "    <tr>\n",
       "      <th>1</th>\n",
       "      <td>0.00021</td>\n",
       "      <td>2</td>\n",
       "      <td>3</td>\n",
       "      <td>0.00077</td>\n",
       "      <td>-0.326795</td>\n",
       "      <td>-1094392.553708</td>\n",
       "      <td>6087694.749838</td>\n",
       "    </tr>\n",
       "    <tr>\n",
       "      <th>2</th>\n",
       "      <td>0.0002</td>\n",
       "      <td>2</td>\n",
       "      <td>3</td>\n",
       "      <td>0.000773</td>\n",
       "      <td>-0.2675</td>\n",
       "      <td>-899879.293292</td>\n",
       "      <td>6182870.587179</td>\n",
       "    </tr>\n",
       "    <tr>\n",
       "      <th>3</th>\n",
       "      <td>0.00021</td>\n",
       "      <td>2</td>\n",
       "      <td>2</td>\n",
       "      <td>0.00074</td>\n",
       "      <td>-0.271467</td>\n",
       "      <td>-996021.089118</td>\n",
       "      <td>6997044.195243</td>\n",
       "    </tr>\n",
       "    <tr>\n",
       "      <th>4</th>\n",
       "      <td>0.00021</td>\n",
       "      <td>2</td>\n",
       "      <td>2</td>\n",
       "      <td>0.000737</td>\n",
       "      <td>-0.272008</td>\n",
       "      <td>-1045332.037271</td>\n",
       "      <td>7375348.306528</td>\n",
       "    </tr>\n",
       "    <tr>\n",
       "      <th>5</th>\n",
       "      <td>0.000203</td>\n",
       "      <td>2</td>\n",
       "      <td>2</td>\n",
       "      <td>0.000753</td>\n",
       "      <td>-0.256773</td>\n",
       "      <td>-820263.627239</td>\n",
       "      <td>6412711.268714</td>\n",
       "    </tr>\n",
       "    <tr>\n",
       "      <th>7</th>\n",
       "      <td>0.000193</td>\n",
       "      <td>2</td>\n",
       "      <td>3</td>\n",
       "      <td>0.000697</td>\n",
       "      <td>-0.298268</td>\n",
       "      <td>-975931.575183</td>\n",
       "      <td>7001089.451964</td>\n",
       "    </tr>\n",
       "    <tr>\n",
       "      <th>8</th>\n",
       "      <td>0.000063</td>\n",
       "      <td>0</td>\n",
       "      <td>0</td>\n",
       "      <td>0.000097</td>\n",
       "      <td>-1.830344</td>\n",
       "      <td>-315026.004171</td>\n",
       "      <td>8236386.378495</td>\n",
       "    </tr>\n",
       "    <tr>\n",
       "      <th>9</th>\n",
       "      <td>0.00009</td>\n",
       "      <td>3</td>\n",
       "      <td>3</td>\n",
       "      <td>0.000127</td>\n",
       "      <td>-0.675711</td>\n",
       "      <td>-48194.873393</td>\n",
       "      <td>3668196.879581</td>\n",
       "    </tr>\n",
       "    <tr>\n",
       "      <th>10</th>\n",
       "      <td>0.000213</td>\n",
       "      <td>2</td>\n",
       "      <td>2</td>\n",
       "      <td>0.000763</td>\n",
       "      <td>-0.28619</td>\n",
       "      <td>-997302.608755</td>\n",
       "      <td>6718747.972055</td>\n",
       "    </tr>\n",
       "    <tr>\n",
       "      <th>11</th>\n",
       "      <td>0.000207</td>\n",
       "      <td>2</td>\n",
       "      <td>5</td>\n",
       "      <td>0.000627</td>\n",
       "      <td>-0.355446</td>\n",
       "      <td>-628113.538681</td>\n",
       "      <td>3903277.882555</td>\n",
       "    </tr>\n",
       "    <tr>\n",
       "      <th>12</th>\n",
       "      <td>0.00018</td>\n",
       "      <td>1</td>\n",
       "      <td>2</td>\n",
       "      <td>0.000343</td>\n",
       "      <td>-0.397738</td>\n",
       "      <td>-118891.714193</td>\n",
       "      <td>1096487.094631</td>\n",
       "    </tr>\n",
       "    <tr>\n",
       "      <th>13</th>\n",
       "      <td>0.001417</td>\n",
       "      <td>2</td>\n",
       "      <td>2</td>\n",
       "      <td>0.000283</td>\n",
       "      <td>-0.564238</td>\n",
       "      <td>-818283.143015</td>\n",
       "      <td>8402687.434962</td>\n",
       "    </tr>\n",
       "    <tr>\n",
       "      <th>14</th>\n",
       "      <td>0.00022</td>\n",
       "      <td>2</td>\n",
       "      <td>2</td>\n",
       "      <td>0.000733</td>\n",
       "      <td>-0.284834</td>\n",
       "      <td>-765459.558979</td>\n",
       "      <td>4916909.703624</td>\n",
       "    </tr>\n",
       "    <tr>\n",
       "      <th>15</th>\n",
       "      <td>0.000103</td>\n",
       "      <td>1</td>\n",
       "      <td>1</td>\n",
       "      <td>0.00028</td>\n",
       "      <td>-0.393592</td>\n",
       "      <td>-1307159.580568</td>\n",
       "      <td>23672873.686142</td>\n",
       "    </tr>\n",
       "    <tr>\n",
       "      <th>16</th>\n",
       "      <td>0.00022</td>\n",
       "      <td>2</td>\n",
       "      <td>2</td>\n",
       "      <td>0.000777</td>\n",
       "      <td>-0.288596</td>\n",
       "      <td>-727693.506792</td>\n",
       "      <td>4563239.519433</td>\n",
       "    </tr>\n",
       "    <tr>\n",
       "      <th>17</th>\n",
       "      <td>0.0002</td>\n",
       "      <td>2</td>\n",
       "      <td>2</td>\n",
       "      <td>0.000773</td>\n",
       "      <td>-0.2616</td>\n",
       "      <td>-987940.415341</td>\n",
       "      <td>7037766.859225</td>\n",
       "    </tr>\n",
       "    <tr>\n",
       "      <th>18</th>\n",
       "      <td>0.000197</td>\n",
       "      <td>2</td>\n",
       "      <td>2</td>\n",
       "      <td>0.000723</td>\n",
       "      <td>-0.275156</td>\n",
       "      <td>-1108379.878845</td>\n",
       "      <td>8156218.340657</td>\n",
       "    </tr>\n",
       "    <tr>\n",
       "      <th>19</th>\n",
       "      <td>0.000203</td>\n",
       "      <td>2</td>\n",
       "      <td>2</td>\n",
       "      <td>0.00073</td>\n",
       "      <td>-0.270227</td>\n",
       "      <td>-1082070.245088</td>\n",
       "      <td>7878529.832957</td>\n",
       "    </tr>\n",
       "    <tr>\n",
       "      <th>20</th>\n",
       "      <td>0.00021</td>\n",
       "      <td>2</td>\n",
       "      <td>2</td>\n",
       "      <td>0.000747</td>\n",
       "      <td>-0.267608</td>\n",
       "      <td>-1058750.859597</td>\n",
       "      <td>7577732.474398</td>\n",
       "    </tr>\n",
       "    <tr>\n",
       "      <th>21</th>\n",
       "      <td>0.0001</td>\n",
       "      <td>1</td>\n",
       "      <td>2</td>\n",
       "      <td>0.000143</td>\n",
       "      <td>-0.44554</td>\n",
       "      <td>-803216.132046</td>\n",
       "      <td>11784919.151864</td>\n",
       "    </tr>\n",
       "    <tr>\n",
       "      <th>22</th>\n",
       "      <td>0.000213</td>\n",
       "      <td>2</td>\n",
       "      <td>2</td>\n",
       "      <td>0.00075</td>\n",
       "      <td>-0.267645</td>\n",
       "      <td>-1054521.678396</td>\n",
       "      <td>7463521.431909</td>\n",
       "    </tr>\n",
       "    <tr>\n",
       "      <th>23</th>\n",
       "      <td>0.000217</td>\n",
       "      <td>1</td>\n",
       "      <td>2</td>\n",
       "      <td>0.00078</td>\n",
       "      <td>-0.263954</td>\n",
       "      <td>-734077.320887</td>\n",
       "      <td>5065487.355245</td>\n",
       "    </tr>\n",
       "    <tr>\n",
       "      <th>24</th>\n",
       "      <td>0.000207</td>\n",
       "      <td>2</td>\n",
       "      <td>3</td>\n",
       "      <td>0.000767</td>\n",
       "      <td>-0.273539</td>\n",
       "      <td>-1029527.966559</td>\n",
       "      <td>7208899.761221</td>\n",
       "    </tr>\n",
       "    <tr>\n",
       "      <th>25</th>\n",
       "      <td>0.00021</td>\n",
       "      <td>2</td>\n",
       "      <td>3</td>\n",
       "      <td>0.000763</td>\n",
       "      <td>-0.272064</td>\n",
       "      <td>-991811.30824</td>\n",
       "      <td>6891727.016437</td>\n",
       "    </tr>\n",
       "    <tr>\n",
       "      <th>26</th>\n",
       "      <td>0.000203</td>\n",
       "      <td>2</td>\n",
       "      <td>2</td>\n",
       "      <td>0.000773</td>\n",
       "      <td>-0.262624</td>\n",
       "      <td>-1025950.384772</td>\n",
       "      <td>7202630.163595</td>\n",
       "    </tr>\n",
       "    <tr>\n",
       "      <th>27</th>\n",
       "      <td>0.000213</td>\n",
       "      <td>2</td>\n",
       "      <td>3</td>\n",
       "      <td>0.00076</td>\n",
       "      <td>-0.293309</td>\n",
       "      <td>-965391.782758</td>\n",
       "      <td>6579602.0439</td>\n",
       "    </tr>\n",
       "    <tr>\n",
       "      <th>28</th>\n",
       "      <td>0.0002</td>\n",
       "      <td>1</td>\n",
       "      <td>2</td>\n",
       "      <td>0.00071</td>\n",
       "      <td>-0.312631</td>\n",
       "      <td>-950769.725079</td>\n",
       "      <td>6436322.851743</td>\n",
       "    </tr>\n",
       "    <tr>\n",
       "      <th>29</th>\n",
       "      <td>0.000113</td>\n",
       "      <td>1</td>\n",
       "      <td>1</td>\n",
       "      <td>0.000187</td>\n",
       "      <td>-0.597755</td>\n",
       "      <td>-261964.499777</td>\n",
       "      <td>3728651.367628</td>\n",
       "    </tr>\n",
       "    <tr>\n",
       "      <th>30</th>\n",
       "      <td>0.000453</td>\n",
       "      <td>2</td>\n",
       "      <td>3</td>\n",
       "      <td>0.000763</td>\n",
       "      <td>-0.298359</td>\n",
       "      <td>-886606.969905</td>\n",
       "      <td>5670392.675268</td>\n",
       "    </tr>\n",
       "    <tr>\n",
       "      <th>31</th>\n",
       "      <td>0.00142</td>\n",
       "      <td>2</td>\n",
       "      <td>3</td>\n",
       "      <td>0.000553</td>\n",
       "      <td>-1.259121</td>\n",
       "      <td>-277810.528508</td>\n",
       "      <td>6255304.140794</td>\n",
       "    </tr>\n",
       "    <tr>\n",
       "      <th>32</th>\n",
       "      <td>0.0002</td>\n",
       "      <td>2</td>\n",
       "      <td>2</td>\n",
       "      <td>0.000777</td>\n",
       "      <td>-0.259761</td>\n",
       "      <td>-941671.438482</td>\n",
       "      <td>6715816.949175</td>\n",
       "    </tr>\n",
       "    <tr>\n",
       "      <th>33</th>\n",
       "      <td>0.00021</td>\n",
       "      <td>2</td>\n",
       "      <td>2</td>\n",
       "      <td>0.00074</td>\n",
       "      <td>-0.270192</td>\n",
       "      <td>-1040461.045701</td>\n",
       "      <td>7366439.915231</td>\n",
       "    </tr>\n",
       "    <tr>\n",
       "      <th>36</th>\n",
       "      <td>0.00048</td>\n",
       "      <td>2</td>\n",
       "      <td>5</td>\n",
       "      <td>0.000763</td>\n",
       "      <td>-0.300165</td>\n",
       "      <td>-628154.157022</td>\n",
       "      <td>4309160.39985</td>\n",
       "    </tr>\n",
       "    <tr>\n",
       "      <th>37</th>\n",
       "      <td>0.000197</td>\n",
       "      <td>2</td>\n",
       "      <td>3</td>\n",
       "      <td>0.000753</td>\n",
       "      <td>-0.261677</td>\n",
       "      <td>-559199.361184</td>\n",
       "      <td>4234398.485123</td>\n",
       "    </tr>\n",
       "    <tr>\n",
       "      <th>38</th>\n",
       "      <td>0.0002</td>\n",
       "      <td>2</td>\n",
       "      <td>3</td>\n",
       "      <td>0.000763</td>\n",
       "      <td>-0.26656</td>\n",
       "      <td>-942620.277899</td>\n",
       "      <td>6742575.0703</td>\n",
       "    </tr>\n",
       "    <tr>\n",
       "      <th>39</th>\n",
       "      <td>0.000193</td>\n",
       "      <td>2</td>\n",
       "      <td>2</td>\n",
       "      <td>0.0007</td>\n",
       "      <td>-0.283122</td>\n",
       "      <td>-1108272.479568</td>\n",
       "      <td>8097040.022444</td>\n",
       "    </tr>\n",
       "    <tr>\n",
       "      <th>41</th>\n",
       "      <td>0.000223</td>\n",
       "      <td>2</td>\n",
       "      <td>3</td>\n",
       "      <td>0.000727</td>\n",
       "      <td>-0.300917</td>\n",
       "      <td>-993701.941066</td>\n",
       "      <td>6092278.523622</td>\n",
       "    </tr>\n",
       "    <tr>\n",
       "      <th>42</th>\n",
       "      <td>0.000203</td>\n",
       "      <td>2</td>\n",
       "      <td>3</td>\n",
       "      <td>0.000773</td>\n",
       "      <td>-0.272443</td>\n",
       "      <td>-998930.840599</td>\n",
       "      <td>6994725.670532</td>\n",
       "    </tr>\n",
       "    <tr>\n",
       "      <th>43</th>\n",
       "      <td>0.0002</td>\n",
       "      <td>2</td>\n",
       "      <td>3</td>\n",
       "      <td>0.00077</td>\n",
       "      <td>-0.276637</td>\n",
       "      <td>-928768.086096</td>\n",
       "      <td>6479876.105658</td>\n",
       "    </tr>\n",
       "    <tr>\n",
       "      <th>44</th>\n",
       "      <td>0.000203</td>\n",
       "      <td>2</td>\n",
       "      <td>3</td>\n",
       "      <td>0.000703</td>\n",
       "      <td>-0.297445</td>\n",
       "      <td>-1094013.187027</td>\n",
       "      <td>7930787.779249</td>\n",
       "    </tr>\n",
       "    <tr>\n",
       "      <th>45</th>\n",
       "      <td>0.0002</td>\n",
       "      <td>2</td>\n",
       "      <td>3</td>\n",
       "      <td>0.000717</td>\n",
       "      <td>-0.293463</td>\n",
       "      <td>-1093630.663558</td>\n",
       "      <td>7844062.896997</td>\n",
       "    </tr>\n",
       "    <tr>\n",
       "      <th>46</th>\n",
       "      <td>0.000207</td>\n",
       "      <td>2</td>\n",
       "      <td>3</td>\n",
       "      <td>0.000723</td>\n",
       "      <td>-0.297177</td>\n",
       "      <td>-1025716.677884</td>\n",
       "      <td>7118322.219809</td>\n",
       "    </tr>\n",
       "    <tr>\n",
       "      <th>47</th>\n",
       "      <td>0.000517</td>\n",
       "      <td>2</td>\n",
       "      <td>5</td>\n",
       "      <td>0.00036</td>\n",
       "      <td>-0.426318</td>\n",
       "      <td>-216075.778075</td>\n",
       "      <td>3696745.641023</td>\n",
       "    </tr>\n",
       "    <tr>\n",
       "      <th>48</th>\n",
       "      <td>0.000163</td>\n",
       "      <td>1</td>\n",
       "      <td>2</td>\n",
       "      <td>0.000343</td>\n",
       "      <td>-0.320584</td>\n",
       "      <td>-108589.008255</td>\n",
       "      <td>1514440.774675</td>\n",
       "    </tr>\n",
       "    <tr>\n",
       "      <th>49</th>\n",
       "      <td>0.0002</td>\n",
       "      <td>2</td>\n",
       "      <td>3</td>\n",
       "      <td>0.000713</td>\n",
       "      <td>-0.283564</td>\n",
       "      <td>-1104951.644124</td>\n",
       "      <td>8151665.744545</td>\n",
       "    </tr>\n",
       "    <tr>\n",
       "      <th>51</th>\n",
       "      <td>0.000537</td>\n",
       "      <td>0</td>\n",
       "      <td>0</td>\n",
       "      <td>0.000563</td>\n",
       "      <td>-3.032047</td>\n",
       "      <td>-353147.037215</td>\n",
       "      <td>3322132.997637</td>\n",
       "    </tr>\n",
       "    <tr>\n",
       "      <th>52</th>\n",
       "      <td>0.000193</td>\n",
       "      <td>1</td>\n",
       "      <td>1</td>\n",
       "      <td>0.00055</td>\n",
       "      <td>-1.329559</td>\n",
       "      <td>-684399.215396</td>\n",
       "      <td>13082210.854839</td>\n",
       "    </tr>\n",
       "    <tr>\n",
       "      <th>53</th>\n",
       "      <td>0.000537</td>\n",
       "      <td>1</td>\n",
       "      <td>1</td>\n",
       "      <td>0.000113</td>\n",
       "      <td>-3.519748</td>\n",
       "      <td>-342949.733856</td>\n",
       "      <td>3941252.119558</td>\n",
       "    </tr>\n",
       "    <tr>\n",
       "      <th>54</th>\n",
       "      <td>0.000077</td>\n",
       "      <td>0</td>\n",
       "      <td>0</td>\n",
       "      <td>0.0001</td>\n",
       "      <td>-1.180843</td>\n",
       "      <td>-578389.482793</td>\n",
       "      <td>18275009.769712</td>\n",
       "    </tr>\n",
       "    <tr>\n",
       "      <th>56</th>\n",
       "      <td>0.00147</td>\n",
       "      <td>2</td>\n",
       "      <td>1</td>\n",
       "      <td>0.000487</td>\n",
       "      <td>-2.179155</td>\n",
       "      <td>-545934.738591</td>\n",
       "      <td>1417334.159059</td>\n",
       "    </tr>\n",
       "    <tr>\n",
       "      <th>57</th>\n",
       "      <td>0.000877</td>\n",
       "      <td>2</td>\n",
       "      <td>1</td>\n",
       "      <td>0.000537</td>\n",
       "      <td>-2.914655</td>\n",
       "      <td>-334345.022095</td>\n",
       "      <td>1804853.712449</td>\n",
       "    </tr>\n",
       "    <tr>\n",
       "      <th>59</th>\n",
       "      <td>0.001453</td>\n",
       "      <td>2</td>\n",
       "      <td>3</td>\n",
       "      <td>0.000557</td>\n",
       "      <td>-0.917963</td>\n",
       "      <td>-314743.216618</td>\n",
       "      <td>610852.122577</td>\n",
       "    </tr>\n",
       "    <tr>\n",
       "      <th>60</th>\n",
       "      <td>0.002057</td>\n",
       "      <td>0</td>\n",
       "      <td>0</td>\n",
       "      <td>0.000107</td>\n",
       "      <td>-2.950824</td>\n",
       "      <td>-325320.193691</td>\n",
       "      <td>4277147.329771</td>\n",
       "    </tr>\n",
       "    <tr>\n",
       "      <th>61</th>\n",
       "      <td>0.001047</td>\n",
       "      <td>2</td>\n",
       "      <td>1</td>\n",
       "      <td>0.000713</td>\n",
       "      <td>-1.479191</td>\n",
       "      <td>-355227.219657</td>\n",
       "      <td>341693.100567</td>\n",
       "    </tr>\n",
       "    <tr>\n",
       "      <th>63</th>\n",
       "      <td>0.000097</td>\n",
       "      <td>2</td>\n",
       "      <td>3</td>\n",
       "      <td>0.000557</td>\n",
       "      <td>-0.44311</td>\n",
       "      <td>-73213.078423</td>\n",
       "      <td>2194830.561196</td>\n",
       "    </tr>\n",
       "    <tr>\n",
       "      <th>64</th>\n",
       "      <td>0.000147</td>\n",
       "      <td>1</td>\n",
       "      <td>2</td>\n",
       "      <td>0.000213</td>\n",
       "      <td>-0.473936</td>\n",
       "      <td>-72928.086471</td>\n",
       "      <td>2095008.358745</td>\n",
       "    </tr>\n",
       "    <tr>\n",
       "      <th>65</th>\n",
       "      <td>0.000213</td>\n",
       "      <td>2</td>\n",
       "      <td>3</td>\n",
       "      <td>0.000713</td>\n",
       "      <td>-0.299253</td>\n",
       "      <td>-1078414.342371</td>\n",
       "      <td>7578321.535124</td>\n",
       "    </tr>\n",
       "    <tr>\n",
       "      <th>66</th>\n",
       "      <td>0.000207</td>\n",
       "      <td>2</td>\n",
       "      <td>3</td>\n",
       "      <td>0.00072</td>\n",
       "      <td>-0.284424</td>\n",
       "      <td>-1080490.938252</td>\n",
       "      <td>7989143.992613</td>\n",
       "    </tr>\n",
       "    <tr>\n",
       "      <th>67</th>\n",
       "      <td>0.00022</td>\n",
       "      <td>1</td>\n",
       "      <td>2</td>\n",
       "      <td>0.00077</td>\n",
       "      <td>-0.264958</td>\n",
       "      <td>-963203.744028</td>\n",
       "      <td>6790903.09811</td>\n",
       "    </tr>\n",
       "    <tr>\n",
       "      <th>68</th>\n",
       "      <td>0.00014</td>\n",
       "      <td>1</td>\n",
       "      <td>1</td>\n",
       "      <td>0.00028</td>\n",
       "      <td>-0.47861</td>\n",
       "      <td>-220770.8831</td>\n",
       "      <td>2147624.373476</td>\n",
       "    </tr>\n",
       "  </tbody>\n",
       "</table>\n",
       "</div>"
      ],
      "text/plain": [
       "   half_width num_negative_peaks num_positive_peaks peak_to_valley  \\\n",
       "1     0.00021                  2                  3        0.00077   \n",
       "2      0.0002                  2                  3       0.000773   \n",
       "3     0.00021                  2                  2        0.00074   \n",
       "4     0.00021                  2                  2       0.000737   \n",
       "5    0.000203                  2                  2       0.000753   \n",
       "7    0.000193                  2                  3       0.000697   \n",
       "8    0.000063                  0                  0       0.000097   \n",
       "9     0.00009                  3                  3       0.000127   \n",
       "10   0.000213                  2                  2       0.000763   \n",
       "11   0.000207                  2                  5       0.000627   \n",
       "12    0.00018                  1                  2       0.000343   \n",
       "13   0.001417                  2                  2       0.000283   \n",
       "14    0.00022                  2                  2       0.000733   \n",
       "15   0.000103                  1                  1        0.00028   \n",
       "16    0.00022                  2                  2       0.000777   \n",
       "17     0.0002                  2                  2       0.000773   \n",
       "18   0.000197                  2                  2       0.000723   \n",
       "19   0.000203                  2                  2        0.00073   \n",
       "20    0.00021                  2                  2       0.000747   \n",
       "21     0.0001                  1                  2       0.000143   \n",
       "22   0.000213                  2                  2        0.00075   \n",
       "23   0.000217                  1                  2        0.00078   \n",
       "24   0.000207                  2                  3       0.000767   \n",
       "25    0.00021                  2                  3       0.000763   \n",
       "26   0.000203                  2                  2       0.000773   \n",
       "27   0.000213                  2                  3        0.00076   \n",
       "28     0.0002                  1                  2        0.00071   \n",
       "29   0.000113                  1                  1       0.000187   \n",
       "30   0.000453                  2                  3       0.000763   \n",
       "31    0.00142                  2                  3       0.000553   \n",
       "32     0.0002                  2                  2       0.000777   \n",
       "33    0.00021                  2                  2        0.00074   \n",
       "36    0.00048                  2                  5       0.000763   \n",
       "37   0.000197                  2                  3       0.000753   \n",
       "38     0.0002                  2                  3       0.000763   \n",
       "39   0.000193                  2                  2         0.0007   \n",
       "41   0.000223                  2                  3       0.000727   \n",
       "42   0.000203                  2                  3       0.000773   \n",
       "43     0.0002                  2                  3        0.00077   \n",
       "44   0.000203                  2                  3       0.000703   \n",
       "45     0.0002                  2                  3       0.000717   \n",
       "46   0.000207                  2                  3       0.000723   \n",
       "47   0.000517                  2                  5        0.00036   \n",
       "48   0.000163                  1                  2       0.000343   \n",
       "49     0.0002                  2                  3       0.000713   \n",
       "51   0.000537                  0                  0       0.000563   \n",
       "52   0.000193                  1                  1        0.00055   \n",
       "53   0.000537                  1                  1       0.000113   \n",
       "54   0.000077                  0                  0         0.0001   \n",
       "56    0.00147                  2                  1       0.000487   \n",
       "57   0.000877                  2                  1       0.000537   \n",
       "59   0.001453                  2                  3       0.000557   \n",
       "60   0.002057                  0                  0       0.000107   \n",
       "61   0.001047                  2                  1       0.000713   \n",
       "63   0.000097                  2                  3       0.000557   \n",
       "64   0.000147                  1                  2       0.000213   \n",
       "65   0.000213                  2                  3       0.000713   \n",
       "66   0.000207                  2                  3        0.00072   \n",
       "67    0.00022                  1                  2        0.00077   \n",
       "68    0.00014                  1                  1        0.00028   \n",
       "\n",
       "   peak_trough_ratio  recovery_slope repolarization_slope  \n",
       "1          -0.326795 -1094392.553708       6087694.749838  \n",
       "2            -0.2675  -899879.293292       6182870.587179  \n",
       "3          -0.271467  -996021.089118       6997044.195243  \n",
       "4          -0.272008 -1045332.037271       7375348.306528  \n",
       "5          -0.256773  -820263.627239       6412711.268714  \n",
       "7          -0.298268  -975931.575183       7001089.451964  \n",
       "8          -1.830344  -315026.004171       8236386.378495  \n",
       "9          -0.675711   -48194.873393       3668196.879581  \n",
       "10          -0.28619  -997302.608755       6718747.972055  \n",
       "11         -0.355446  -628113.538681       3903277.882555  \n",
       "12         -0.397738  -118891.714193       1096487.094631  \n",
       "13         -0.564238  -818283.143015       8402687.434962  \n",
       "14         -0.284834  -765459.558979       4916909.703624  \n",
       "15         -0.393592 -1307159.580568      23672873.686142  \n",
       "16         -0.288596  -727693.506792       4563239.519433  \n",
       "17           -0.2616  -987940.415341       7037766.859225  \n",
       "18         -0.275156 -1108379.878845       8156218.340657  \n",
       "19         -0.270227 -1082070.245088       7878529.832957  \n",
       "20         -0.267608 -1058750.859597       7577732.474398  \n",
       "21          -0.44554  -803216.132046      11784919.151864  \n",
       "22         -0.267645 -1054521.678396       7463521.431909  \n",
       "23         -0.263954  -734077.320887       5065487.355245  \n",
       "24         -0.273539 -1029527.966559       7208899.761221  \n",
       "25         -0.272064   -991811.30824       6891727.016437  \n",
       "26         -0.262624 -1025950.384772       7202630.163595  \n",
       "27         -0.293309  -965391.782758         6579602.0439  \n",
       "28         -0.312631  -950769.725079       6436322.851743  \n",
       "29         -0.597755  -261964.499777       3728651.367628  \n",
       "30         -0.298359  -886606.969905       5670392.675268  \n",
       "31         -1.259121  -277810.528508       6255304.140794  \n",
       "32         -0.259761  -941671.438482       6715816.949175  \n",
       "33         -0.270192 -1040461.045701       7366439.915231  \n",
       "36         -0.300165  -628154.157022        4309160.39985  \n",
       "37         -0.261677  -559199.361184       4234398.485123  \n",
       "38          -0.26656  -942620.277899         6742575.0703  \n",
       "39         -0.283122 -1108272.479568       8097040.022444  \n",
       "41         -0.300917  -993701.941066       6092278.523622  \n",
       "42         -0.272443  -998930.840599       6994725.670532  \n",
       "43         -0.276637  -928768.086096       6479876.105658  \n",
       "44         -0.297445 -1094013.187027       7930787.779249  \n",
       "45         -0.293463 -1093630.663558       7844062.896997  \n",
       "46         -0.297177 -1025716.677884       7118322.219809  \n",
       "47         -0.426318  -216075.778075       3696745.641023  \n",
       "48         -0.320584  -108589.008255       1514440.774675  \n",
       "49         -0.283564 -1104951.644124       8151665.744545  \n",
       "51         -3.032047  -353147.037215       3322132.997637  \n",
       "52         -1.329559  -684399.215396      13082210.854839  \n",
       "53         -3.519748  -342949.733856       3941252.119558  \n",
       "54         -1.180843  -578389.482793      18275009.769712  \n",
       "56         -2.179155  -545934.738591       1417334.159059  \n",
       "57         -2.914655  -334345.022095       1804853.712449  \n",
       "59         -0.917963  -314743.216618        610852.122577  \n",
       "60         -2.950824  -325320.193691       4277147.329771  \n",
       "61         -1.479191  -355227.219657        341693.100567  \n",
       "63          -0.44311   -73213.078423       2194830.561196  \n",
       "64         -0.473936   -72928.086471       2095008.358745  \n",
       "65         -0.299253 -1078414.342371       7578321.535124  \n",
       "66         -0.284424 -1080490.938252       7989143.992613  \n",
       "67         -0.264958  -963203.744028        6790903.09811  \n",
       "68          -0.47861    -220770.8831       2147624.373476  "
      ]
     },
     "metadata": {},
     "output_type": "display_data"
    }
   ],
   "source": [
    "template_metrics = si.compute_template_metrics(we)\n",
    "display(template_metrics)"
   ]
  },
  {
   "cell_type": "code",
   "execution_count": 53,
   "metadata": {},
   "outputs": [
    {
     "data": {
      "application/vnd.jupyter.widget-view+json": {
       "model_id": "43dd2b8747974a8580482fc342315201",
       "version_major": 2,
       "version_minor": 0
      },
      "text/plain": [
       "AppLayout(children=(UnitSelector(children=(Label(value='Units', layout=Layout(justify_content='center')), Sele…"
      ]
     },
     "metadata": {},
     "output_type": "display_data"
    },
    {
     "data": {
      "text/plain": [
       "<spikeinterface.widgets.template_metrics.TemplateMetricsWidget at 0x2310146fb10>"
      ]
     },
     "execution_count": 53,
     "metadata": {},
     "output_type": "execute_result"
    }
   ],
   "source": [
    "si.plot_template_metrics(we, include_metrics=[\"peak_to_valley\", \"half_width\"], \n",
    "                         backend=\"ipywidgets\")"
   ]
  },
  {
   "cell_type": "markdown",
   "metadata": {
    "pycharm": {
     "name": "#%% md\n"
    }
   },
   "source": [
    "For more information about these template metrics, we refer to this [documentation](https://github.com/AllenInstitute/ecephys_spike_sorting/tree/master/ecephys_spike_sorting/modules/mean_waveforms) from the Allen Institute."
   ]
  },
  {
   "cell_type": "markdown",
   "metadata": {
    "pycharm": {
     "name": "#%% md\n"
    }
   },
   "source": [
    "# 7. Quality metrics and curation <a class=\"anchor\" id=\"curation\"></a>\n",
    "\n",
    "The `qualitymetrics` module also provides several functions to compute qualitity metrics to validate the spike sorting results.\n",
    "\n",
    "See also this : https://spikeinterface.readthedocs.io/en/latest/modules/qualitymetrics.html\n",
    "\n",
    "Let's see what metrics are available:"
   ]
  },
  {
   "cell_type": "code",
   "execution_count": 54,
   "metadata": {},
   "outputs": [
    {
     "name": "stdout",
     "output_type": "stream",
     "text": [
      "['num_spikes', 'firing_rate', 'presence_ratio', 'snr', 'isi_violation', 'rp_violation', 'sliding_rp_violation', 'amplitude_cutoff', 'amplitude_median', 'amplitude_cv', 'synchrony', 'firing_range', 'drift', 'sd_ratio']\n",
      "['isolation_distance', 'l_ratio', 'd_prime', 'nearest_neighbor', 'nn_isolation', 'nn_noise_overlap', 'silhouette']\n"
     ]
    }
   ],
   "source": [
    "print(si.get_quality_metric_list())\n",
    "print(si.get_quality_pca_metric_list())"
   ]
  },
  {
   "cell_type": "code",
   "execution_count": 55,
   "metadata": {},
   "outputs": [
    {
     "data": {
      "text/plain": [
       "{'presence_ratio': {'bin_duration_s': 60, 'mean_fr_ratio_thresh': 0.0},\n",
       " 'snr': {'peak_sign': 'neg',\n",
       "  'peak_mode': 'extremum',\n",
       "  'random_chunk_kwargs_dict': None},\n",
       " 'isi_violation': {'isi_threshold_ms': 1.5, 'min_isi_ms': 0},\n",
       " 'rp_violation': {'refractory_period_ms': 1.0, 'censored_period_ms': 0.0},\n",
       " 'sliding_rp_violation': {'min_spikes': 0,\n",
       "  'bin_size_ms': 0.25,\n",
       "  'window_size_s': 1,\n",
       "  'exclude_ref_period_below_ms': 0.5,\n",
       "  'max_ref_period_ms': 10,\n",
       "  'contamination_values': None},\n",
       " 'synchrony': {'synchrony_sizes': (2, 4, 8)},\n",
       " 'firing_range': {'bin_size_s': 5, 'percentiles': (5, 95)},\n",
       " 'amplitude_cv': {'average_num_spikes_per_bin': 50,\n",
       "  'percentiles': (5, 95),\n",
       "  'min_num_bins': 10,\n",
       "  'amplitude_extension': 'spike_amplitudes'},\n",
       " 'amplitude_cutoff': {'peak_sign': 'neg',\n",
       "  'num_histogram_bins': 100,\n",
       "  'histogram_smoothing_value': 3,\n",
       "  'amplitudes_bins_min_ratio': 5},\n",
       " 'amplitude_median': {'peak_sign': 'neg'},\n",
       " 'drift': {'interval_s': 60,\n",
       "  'min_spikes_per_interval': 100,\n",
       "  'direction': 'y',\n",
       "  'min_num_bins': 2},\n",
       " 'nearest_neighbor': {'max_spikes': 10000, 'n_neighbors': 5},\n",
       " 'nn_isolation': {'max_spikes': 10000,\n",
       "  'min_spikes': 10,\n",
       "  'min_fr': 0.0,\n",
       "  'n_neighbors': 4,\n",
       "  'n_components': 10,\n",
       "  'radius_um': 100,\n",
       "  'peak_sign': 'neg'},\n",
       " 'nn_noise_overlap': {'max_spikes': 10000,\n",
       "  'min_spikes': 10,\n",
       "  'min_fr': 0.0,\n",
       "  'n_neighbors': 4,\n",
       "  'n_components': 10,\n",
       "  'radius_um': 100,\n",
       "  'peak_sign': 'neg'},\n",
       " 'silhouette': {'method': ('simplified',)}}"
      ]
     },
     "execution_count": 55,
     "metadata": {},
     "output_type": "execute_result"
    }
   ],
   "source": [
    "qm_params = si.get_default_qm_params()\n",
    "qm_params"
   ]
  },
  {
   "cell_type": "code",
   "execution_count": 56,
   "metadata": {},
   "outputs": [],
   "source": [
    "qm_params['isi_violation']['isi_threshold_ms'] = 1.1"
   ]
  },
  {
   "cell_type": "code",
   "execution_count": 65,
   "metadata": {
    "pycharm": {
     "name": "#%%\n"
    }
   },
   "outputs": [
    {
     "name": "stdout",
     "output_type": "stream",
     "text": [
      "Computing amplitude_cutoff\n",
      "Computing amplitude_cv\n",
      "Computing amplitude_median\n",
      "Computing drift\n",
      "Computing firing_range\n",
      "Computing firing_rate\n",
      "Computing isi_violation\n",
      "Computing num_spikes\n",
      "Computing presence_ratio\n",
      "Computing rp_violation\n",
      "Computing sd_ratio\n"
     ]
    },
    {
     "ename": "ValueError",
     "evalue": "This recording does not support return_scaled=True (need gain_to_uV and offset_to_uV properties)",
     "output_type": "error",
     "traceback": [
      "\u001b[1;31m---------------------------------------------------------------------------\u001b[0m",
      "\u001b[1;31mValueError\u001b[0m                                Traceback (most recent call last)",
      "Cell \u001b[1;32mIn[65], line 3\u001b[0m\n\u001b[0;32m      1\u001b[0m metric_names \u001b[38;5;241m=\u001b[39m si\u001b[38;5;241m.\u001b[39mget_quality_metric_list()\n\u001b[0;32m      2\u001b[0m \u001b[38;5;66;03m# metric_names = si.get_quality_metric_list() + si.get_quality_pca_metric_list()\u001b[39;00m\n\u001b[1;32m----> 3\u001b[0m qm \u001b[38;5;241m=\u001b[39m \u001b[43msi\u001b[49m\u001b[38;5;241;43m.\u001b[39;49m\u001b[43mcompute_quality_metrics\u001b[49m\u001b[43m(\u001b[49m\u001b[43mwe\u001b[49m\u001b[43m,\u001b[49m\u001b[43m \u001b[49m\u001b[43mmetric_names\u001b[49m\u001b[38;5;241;43m=\u001b[39;49m\u001b[43mmetric_names\u001b[49m\u001b[43m,\u001b[49m\u001b[43m \u001b[49m\u001b[43mverbose\u001b[49m\u001b[38;5;241;43m=\u001b[39;49m\u001b[38;5;28;43;01mTrue\u001b[39;49;00m\u001b[43m,\u001b[49m\u001b[43m  \u001b[49m\u001b[43mqm_params\u001b[49m\u001b[38;5;241;43m=\u001b[39;49m\u001b[43mqm_params\u001b[49m\u001b[43m,\u001b[49m\u001b[43m \u001b[49m\u001b[38;5;241;43m*\u001b[39;49m\u001b[38;5;241;43m*\u001b[39;49m\u001b[43mjob_kwargs\u001b[49m\u001b[43m)\u001b[49m\n",
      "File \u001b[1;32mc:\\Users\\neuroPC\\anaconda3\\envs\\ephys\\Lib\\site-packages\\spikeinterface\\qualitymetrics\\quality_metric_calculator.py:235\u001b[0m, in \u001b[0;36mcompute_quality_metrics\u001b[1;34m(waveform_extractor, load_if_exists, metric_names, qm_params, peak_sign, seed, sparsity, skip_pc_metrics, verbose, **job_kwargs)\u001b[0m\n\u001b[0;32m    226\u001b[0m     qmc \u001b[38;5;241m=\u001b[39m QualityMetricCalculator(waveform_extractor)\n\u001b[0;32m    227\u001b[0m     qmc\u001b[38;5;241m.\u001b[39mset_params(\n\u001b[0;32m    228\u001b[0m         metric_names\u001b[38;5;241m=\u001b[39mmetric_names,\n\u001b[0;32m    229\u001b[0m         qm_params\u001b[38;5;241m=\u001b[39mqm_params,\n\u001b[1;32m   (...)\u001b[0m\n\u001b[0;32m    233\u001b[0m         skip_pc_metrics\u001b[38;5;241m=\u001b[39mskip_pc_metrics,\n\u001b[0;32m    234\u001b[0m     )\n\u001b[1;32m--> 235\u001b[0m     \u001b[43mqmc\u001b[49m\u001b[38;5;241;43m.\u001b[39;49m\u001b[43mrun\u001b[49m\u001b[43m(\u001b[49m\u001b[43mverbose\u001b[49m\u001b[38;5;241;43m=\u001b[39;49m\u001b[43mverbose\u001b[49m\u001b[43m,\u001b[49m\u001b[43m \u001b[49m\u001b[38;5;241;43m*\u001b[39;49m\u001b[38;5;241;43m*\u001b[39;49m\u001b[43mjob_kwargs\u001b[49m\u001b[43m)\u001b[49m\n\u001b[0;32m    237\u001b[0m metrics \u001b[38;5;241m=\u001b[39m qmc\u001b[38;5;241m.\u001b[39mget_data()\n\u001b[0;32m    239\u001b[0m \u001b[38;5;28;01mreturn\u001b[39;00m metrics\n",
      "File \u001b[1;32mc:\\Users\\neuroPC\\anaconda3\\envs\\ephys\\Lib\\site-packages\\spikeinterface\\core\\waveform_extractor.py:2017\u001b[0m, in \u001b[0;36mBaseWaveformExtractorExtension.run\u001b[1;34m(self, **kwargs)\u001b[0m\n\u001b[0;32m   2016\u001b[0m \u001b[38;5;28;01mdef\u001b[39;00m \u001b[38;5;21mrun\u001b[39m(\u001b[38;5;28mself\u001b[39m, \u001b[38;5;241m*\u001b[39m\u001b[38;5;241m*\u001b[39mkwargs):\n\u001b[1;32m-> 2017\u001b[0m     \u001b[38;5;28;43mself\u001b[39;49m\u001b[38;5;241;43m.\u001b[39;49m\u001b[43m_run\u001b[49m\u001b[43m(\u001b[49m\u001b[38;5;241;43m*\u001b[39;49m\u001b[38;5;241;43m*\u001b[39;49m\u001b[43mkwargs\u001b[49m\u001b[43m)\u001b[49m\n\u001b[0;32m   2018\u001b[0m     \u001b[38;5;28mself\u001b[39m\u001b[38;5;241m.\u001b[39m_save(\u001b[38;5;241m*\u001b[39m\u001b[38;5;241m*\u001b[39mkwargs)\n",
      "File \u001b[1;32mc:\\Users\\neuroPC\\anaconda3\\envs\\ephys\\Lib\\site-packages\\spikeinterface\\qualitymetrics\\quality_metric_calculator.py:122\u001b[0m, in \u001b[0;36mQualityMetricCalculator._run\u001b[1;34m(self, verbose, **job_kwargs)\u001b[0m\n\u001b[0;32m    119\u001b[0m func \u001b[38;5;241m=\u001b[39m _misc_metric_name_to_func[metric_name]\n\u001b[0;32m    121\u001b[0m params \u001b[38;5;241m=\u001b[39m qm_params[metric_name] \u001b[38;5;28;01mif\u001b[39;00m metric_name \u001b[38;5;129;01min\u001b[39;00m qm_params \u001b[38;5;28;01melse\u001b[39;00m {}\n\u001b[1;32m--> 122\u001b[0m res \u001b[38;5;241m=\u001b[39m \u001b[43mfunc\u001b[49m\u001b[43m(\u001b[49m\u001b[38;5;28;43mself\u001b[39;49m\u001b[38;5;241;43m.\u001b[39;49m\u001b[43mwaveform_extractor\u001b[49m\u001b[43m,\u001b[49m\u001b[43m \u001b[49m\u001b[43munit_ids\u001b[49m\u001b[38;5;241;43m=\u001b[39;49m\u001b[43mnon_empty_unit_ids\u001b[49m\u001b[43m,\u001b[49m\u001b[43m \u001b[49m\u001b[38;5;241;43m*\u001b[39;49m\u001b[38;5;241;43m*\u001b[39;49m\u001b[43mparams\u001b[49m\u001b[43m)\u001b[49m\n\u001b[0;32m    123\u001b[0m \u001b[38;5;66;03m# QM with uninstall dependencies might return None\u001b[39;00m\n\u001b[0;32m    124\u001b[0m \u001b[38;5;28;01mif\u001b[39;00m res \u001b[38;5;129;01mis\u001b[39;00m \u001b[38;5;129;01mnot\u001b[39;00m \u001b[38;5;28;01mNone\u001b[39;00m:\n",
      "File \u001b[1;32mc:\\Users\\neuroPC\\anaconda3\\envs\\ephys\\Lib\\site-packages\\spikeinterface\\qualitymetrics\\misc_metrics.py:1436\u001b[0m, in \u001b[0;36mcompute_sd_ratio\u001b[1;34m(wvf_extractor, censored_period_ms, correct_for_drift, correct_for_template_itself, unit_ids, **kwargs)\u001b[0m\n\u001b[0;32m   1429\u001b[0m     warnings\u001b[38;5;241m.\u001b[39mwarn(\n\u001b[0;32m   1430\u001b[0m         \u001b[38;5;124m\"\u001b[39m\u001b[38;5;124mThe `sd_ratio` metric require the `spike_amplitudes` waveform extension. \u001b[39m\u001b[38;5;124m\"\u001b[39m\n\u001b[0;32m   1431\u001b[0m         \u001b[38;5;124m\"\u001b[39m\u001b[38;5;124mUse the `postprocessing.compute_spike_amplitudes()` functions. \u001b[39m\u001b[38;5;124m\"\u001b[39m\n\u001b[0;32m   1432\u001b[0m         \u001b[38;5;124m\"\u001b[39m\u001b[38;5;124mSD ratio metric will be set to NaN\u001b[39m\u001b[38;5;124m\"\u001b[39m\n\u001b[0;32m   1433\u001b[0m     )\n\u001b[0;32m   1434\u001b[0m     \u001b[38;5;28;01mreturn\u001b[39;00m {unit_id: np\u001b[38;5;241m.\u001b[39mnan \u001b[38;5;28;01mfor\u001b[39;00m unit_id \u001b[38;5;129;01min\u001b[39;00m unit_ids}\n\u001b[1;32m-> 1436\u001b[0m noise_levels \u001b[38;5;241m=\u001b[39m \u001b[43mget_noise_levels\u001b[49m\u001b[43m(\u001b[49m\n\u001b[0;32m   1437\u001b[0m \u001b[43m    \u001b[49m\u001b[43mwvf_extractor\u001b[49m\u001b[38;5;241;43m.\u001b[39;49m\u001b[43mrecording\u001b[49m\u001b[43m,\u001b[49m\u001b[43m \u001b[49m\u001b[43mreturn_scaled\u001b[49m\u001b[38;5;241;43m=\u001b[39;49m\u001b[43mamplitudes_ext\u001b[49m\u001b[38;5;241;43m.\u001b[39;49m\u001b[43m_params\u001b[49m\u001b[43m[\u001b[49m\u001b[38;5;124;43m\"\u001b[39;49m\u001b[38;5;124;43mreturn_scaled\u001b[39;49m\u001b[38;5;124;43m\"\u001b[39;49m\u001b[43m]\u001b[49m\u001b[43m,\u001b[49m\u001b[43m \u001b[49m\u001b[43mmethod\u001b[49m\u001b[38;5;241;43m=\u001b[39;49m\u001b[38;5;124;43m\"\u001b[39;49m\u001b[38;5;124;43mstd\u001b[39;49m\u001b[38;5;124;43m\"\u001b[39;49m\n\u001b[0;32m   1438\u001b[0m \u001b[43m\u001b[49m\u001b[43m)\u001b[49m\n\u001b[0;32m   1439\u001b[0m best_channels \u001b[38;5;241m=\u001b[39m get_template_extremum_channel(wvf_extractor, outputs\u001b[38;5;241m=\u001b[39m\u001b[38;5;124m\"\u001b[39m\u001b[38;5;124mindex\u001b[39m\u001b[38;5;124m\"\u001b[39m, \u001b[38;5;241m*\u001b[39m\u001b[38;5;241m*\u001b[39mkwargs)\n\u001b[0;32m   1440\u001b[0m n_spikes \u001b[38;5;241m=\u001b[39m wvf_extractor\u001b[38;5;241m.\u001b[39msorting\u001b[38;5;241m.\u001b[39mcount_num_spikes_per_unit()\n",
      "File \u001b[1;32mc:\\Users\\neuroPC\\anaconda3\\envs\\ephys\\Lib\\site-packages\\spikeinterface\\core\\recording_tools.py:663\u001b[0m, in \u001b[0;36mget_noise_levels\u001b[1;34m(recording, return_scaled, method, force_recompute, **random_chunk_kwargs)\u001b[0m\n\u001b[0;32m    661\u001b[0m     noise_levels \u001b[38;5;241m=\u001b[39m recording\u001b[38;5;241m.\u001b[39mget_property(key\u001b[38;5;241m=\u001b[39mkey)\n\u001b[0;32m    662\u001b[0m \u001b[38;5;28;01melse\u001b[39;00m:\n\u001b[1;32m--> 663\u001b[0m     random_chunks \u001b[38;5;241m=\u001b[39m \u001b[43mget_random_data_chunks\u001b[49m\u001b[43m(\u001b[49m\u001b[43mrecording\u001b[49m\u001b[43m,\u001b[49m\u001b[43m \u001b[49m\u001b[43mreturn_scaled\u001b[49m\u001b[38;5;241;43m=\u001b[39;49m\u001b[43mreturn_scaled\u001b[49m\u001b[43m,\u001b[49m\u001b[43m \u001b[49m\u001b[38;5;241;43m*\u001b[39;49m\u001b[38;5;241;43m*\u001b[39;49m\u001b[43mrandom_chunk_kwargs\u001b[49m\u001b[43m)\u001b[49m\n\u001b[0;32m    665\u001b[0m     \u001b[38;5;28;01mif\u001b[39;00m method \u001b[38;5;241m==\u001b[39m \u001b[38;5;124m\"\u001b[39m\u001b[38;5;124mmad\u001b[39m\u001b[38;5;124m\"\u001b[39m:\n\u001b[0;32m    666\u001b[0m         med \u001b[38;5;241m=\u001b[39m np\u001b[38;5;241m.\u001b[39mmedian(random_chunks, axis\u001b[38;5;241m=\u001b[39m\u001b[38;5;241m0\u001b[39m, keepdims\u001b[38;5;241m=\u001b[39m\u001b[38;5;28;01mTrue\u001b[39;00m)\n",
      "File \u001b[1;32mc:\\Users\\neuroPC\\anaconda3\\envs\\ephys\\Lib\\site-packages\\spikeinterface\\core\\recording_tools.py:556\u001b[0m, in \u001b[0;36mget_random_data_chunks\u001b[1;34m(recording, return_scaled, num_chunks_per_segment, chunk_size, concatenated, seed, margin_frames)\u001b[0m\n\u001b[0;32m    554\u001b[0m     high \u001b[38;5;241m=\u001b[39m num_frames \u001b[38;5;241m-\u001b[39m chunk_size \u001b[38;5;241m-\u001b[39m margin_frames\n\u001b[0;32m    555\u001b[0m     random_starts \u001b[38;5;241m=\u001b[39m rng\u001b[38;5;241m.\u001b[39mintegers(low\u001b[38;5;241m=\u001b[39mlow, high\u001b[38;5;241m=\u001b[39mhigh, size\u001b[38;5;241m=\u001b[39msize)\n\u001b[1;32m--> 556\u001b[0m     segment_trace_chunk \u001b[38;5;241m=\u001b[39m \u001b[43m[\u001b[49m\n\u001b[0;32m    557\u001b[0m \u001b[43m        \u001b[49m\u001b[43mrecording\u001b[49m\u001b[38;5;241;43m.\u001b[39;49m\u001b[43mget_traces\u001b[49m\u001b[43m(\u001b[49m\n\u001b[0;32m    558\u001b[0m \u001b[43m            \u001b[49m\u001b[43mstart_frame\u001b[49m\u001b[38;5;241;43m=\u001b[39;49m\u001b[43mstart_frame\u001b[49m\u001b[43m,\u001b[49m\n\u001b[0;32m    559\u001b[0m \u001b[43m            \u001b[49m\u001b[43mend_frame\u001b[49m\u001b[38;5;241;43m=\u001b[39;49m\u001b[43m(\u001b[49m\u001b[43mstart_frame\u001b[49m\u001b[43m \u001b[49m\u001b[38;5;241;43m+\u001b[39;49m\u001b[43m \u001b[49m\u001b[43mchunk_size\u001b[49m\u001b[43m)\u001b[49m\u001b[43m,\u001b[49m\n\u001b[0;32m    560\u001b[0m \u001b[43m            \u001b[49m\u001b[43msegment_index\u001b[49m\u001b[38;5;241;43m=\u001b[39;49m\u001b[43msegment_index\u001b[49m\u001b[43m,\u001b[49m\n\u001b[0;32m    561\u001b[0m \u001b[43m            \u001b[49m\u001b[43mreturn_scaled\u001b[49m\u001b[38;5;241;43m=\u001b[39;49m\u001b[43mreturn_scaled\u001b[49m\u001b[43m,\u001b[49m\n\u001b[0;32m    562\u001b[0m \u001b[43m        \u001b[49m\u001b[43m)\u001b[49m\n\u001b[0;32m    563\u001b[0m \u001b[43m        \u001b[49m\u001b[38;5;28;43;01mfor\u001b[39;49;00m\u001b[43m \u001b[49m\u001b[43mstart_frame\u001b[49m\u001b[43m \u001b[49m\u001b[38;5;129;43;01min\u001b[39;49;00m\u001b[43m \u001b[49m\u001b[43mrandom_starts\u001b[49m\n\u001b[0;32m    564\u001b[0m \u001b[43m    \u001b[49m\u001b[43m]\u001b[49m\n\u001b[0;32m    566\u001b[0m     chunk_list\u001b[38;5;241m.\u001b[39mextend(segment_trace_chunk)\n\u001b[0;32m    568\u001b[0m \u001b[38;5;28;01mif\u001b[39;00m concatenated:\n",
      "File \u001b[1;32mc:\\Users\\neuroPC\\anaconda3\\envs\\ephys\\Lib\\site-packages\\spikeinterface\\core\\recording_tools.py:557\u001b[0m, in \u001b[0;36m<listcomp>\u001b[1;34m(.0)\u001b[0m\n\u001b[0;32m    554\u001b[0m     high \u001b[38;5;241m=\u001b[39m num_frames \u001b[38;5;241m-\u001b[39m chunk_size \u001b[38;5;241m-\u001b[39m margin_frames\n\u001b[0;32m    555\u001b[0m     random_starts \u001b[38;5;241m=\u001b[39m rng\u001b[38;5;241m.\u001b[39mintegers(low\u001b[38;5;241m=\u001b[39mlow, high\u001b[38;5;241m=\u001b[39mhigh, size\u001b[38;5;241m=\u001b[39msize)\n\u001b[0;32m    556\u001b[0m     segment_trace_chunk \u001b[38;5;241m=\u001b[39m [\n\u001b[1;32m--> 557\u001b[0m         \u001b[43mrecording\u001b[49m\u001b[38;5;241;43m.\u001b[39;49m\u001b[43mget_traces\u001b[49m\u001b[43m(\u001b[49m\n\u001b[0;32m    558\u001b[0m \u001b[43m            \u001b[49m\u001b[43mstart_frame\u001b[49m\u001b[38;5;241;43m=\u001b[39;49m\u001b[43mstart_frame\u001b[49m\u001b[43m,\u001b[49m\n\u001b[0;32m    559\u001b[0m \u001b[43m            \u001b[49m\u001b[43mend_frame\u001b[49m\u001b[38;5;241;43m=\u001b[39;49m\u001b[43m(\u001b[49m\u001b[43mstart_frame\u001b[49m\u001b[43m \u001b[49m\u001b[38;5;241;43m+\u001b[39;49m\u001b[43m \u001b[49m\u001b[43mchunk_size\u001b[49m\u001b[43m)\u001b[49m\u001b[43m,\u001b[49m\n\u001b[0;32m    560\u001b[0m \u001b[43m            \u001b[49m\u001b[43msegment_index\u001b[49m\u001b[38;5;241;43m=\u001b[39;49m\u001b[43msegment_index\u001b[49m\u001b[43m,\u001b[49m\n\u001b[0;32m    561\u001b[0m \u001b[43m            \u001b[49m\u001b[43mreturn_scaled\u001b[49m\u001b[38;5;241;43m=\u001b[39;49m\u001b[43mreturn_scaled\u001b[49m\u001b[43m,\u001b[49m\n\u001b[0;32m    562\u001b[0m \u001b[43m        \u001b[49m\u001b[43m)\u001b[49m\n\u001b[0;32m    563\u001b[0m         \u001b[38;5;28;01mfor\u001b[39;00m start_frame \u001b[38;5;129;01min\u001b[39;00m random_starts\n\u001b[0;32m    564\u001b[0m     ]\n\u001b[0;32m    566\u001b[0m     chunk_list\u001b[38;5;241m.\u001b[39mextend(segment_trace_chunk)\n\u001b[0;32m    568\u001b[0m \u001b[38;5;28;01mif\u001b[39;00m concatenated:\n",
      "File \u001b[1;32mc:\\Users\\neuroPC\\anaconda3\\envs\\ephys\\Lib\\site-packages\\spikeinterface\\core\\baserecording.py:313\u001b[0m, in \u001b[0;36mBaseRecording.get_traces\u001b[1;34m(self, segment_index, start_frame, end_frame, channel_ids, order, return_scaled, cast_unsigned)\u001b[0m\n\u001b[0;32m    310\u001b[0m         warnings\u001b[38;5;241m.\u001b[39mwarn(message)\n\u001b[0;32m    312\u001b[0m \u001b[38;5;28;01mif\u001b[39;00m \u001b[38;5;129;01mnot\u001b[39;00m \u001b[38;5;28mself\u001b[39m\u001b[38;5;241m.\u001b[39mhas_scaled():\n\u001b[1;32m--> 313\u001b[0m     \u001b[38;5;28;01mraise\u001b[39;00m \u001b[38;5;167;01mValueError\u001b[39;00m(\n\u001b[0;32m    314\u001b[0m         \u001b[38;5;124m\"\u001b[39m\u001b[38;5;124mThis recording does not support return_scaled=True (need gain_to_uV and offset_\u001b[39m\u001b[38;5;124m\"\u001b[39m\n\u001b[0;32m    315\u001b[0m         \u001b[38;5;124m\"\u001b[39m\u001b[38;5;124mto_uV properties)\u001b[39m\u001b[38;5;124m\"\u001b[39m\n\u001b[0;32m    316\u001b[0m     )\n\u001b[0;32m    317\u001b[0m \u001b[38;5;28;01melse\u001b[39;00m:\n\u001b[0;32m    318\u001b[0m     gains \u001b[38;5;241m=\u001b[39m \u001b[38;5;28mself\u001b[39m\u001b[38;5;241m.\u001b[39mget_property(\u001b[38;5;124m\"\u001b[39m\u001b[38;5;124mgain_to_uV\u001b[39m\u001b[38;5;124m\"\u001b[39m)\n",
      "\u001b[1;31mValueError\u001b[0m: This recording does not support return_scaled=True (need gain_to_uV and offset_to_uV properties)"
     ]
    }
   ],
   "source": [
    "metric_names = si.get_quality_metric_list()\n",
    "# metric_names = si.get_quality_metric_list() + si.get_quality_pca_metric_list()\n",
    "qm = si.compute_quality_metrics(we, metric_names=metric_names, verbose=True,  qm_params=qm_params, **job_kwargs)"
   ]
  },
  {
   "cell_type": "code",
   "execution_count": 115,
   "metadata": {
    "pycharm": {
     "name": "#%%\n"
    }
   },
   "outputs": [
    {
     "data": {
      "text/html": [
       "<div>\n",
       "<style scoped>\n",
       "    .dataframe tbody tr th:only-of-type {\n",
       "        vertical-align: middle;\n",
       "    }\n",
       "\n",
       "    .dataframe tbody tr th {\n",
       "        vertical-align: top;\n",
       "    }\n",
       "\n",
       "    .dataframe thead th {\n",
       "        text-align: right;\n",
       "    }\n",
       "</style>\n",
       "<table border=\"1\" class=\"dataframe\">\n",
       "  <thead>\n",
       "    <tr style=\"text-align: right;\">\n",
       "      <th></th>\n",
       "      <th>num_spikes</th>\n",
       "      <th>firing_rate</th>\n",
       "      <th>presence_ratio</th>\n",
       "      <th>snr</th>\n",
       "      <th>isi_violations_ratio</th>\n",
       "      <th>isi_violations_count</th>\n",
       "      <th>rp_contamination</th>\n",
       "      <th>rp_violations</th>\n",
       "      <th>sliding_rp_violation</th>\n",
       "      <th>amplitude_cutoff</th>\n",
       "      <th>amplitude_median</th>\n",
       "      <th>amplitude_cv_median</th>\n",
       "      <th>amplitude_cv_range</th>\n",
       "      <th>sync_spike_2</th>\n",
       "      <th>sync_spike_4</th>\n",
       "      <th>sync_spike_8</th>\n",
       "      <th>firing_range</th>\n",
       "      <th>drift_ptp</th>\n",
       "      <th>drift_std</th>\n",
       "      <th>drift_mad</th>\n",
       "    </tr>\n",
       "  </thead>\n",
       "  <tbody>\n",
       "    <tr>\n",
       "      <th>0</th>\n",
       "      <td>3467.0</td>\n",
       "      <td>11.556667</td>\n",
       "      <td>1.0</td>\n",
       "      <td>6.699185</td>\n",
       "      <td>0.907572</td>\n",
       "      <td>80</td>\n",
       "      <td>1.000000</td>\n",
       "      <td>81</td>\n",
       "      <td>NaN</td>\n",
       "      <td>0.000365</td>\n",
       "      <td>32.174999</td>\n",
       "      <td>0.371593</td>\n",
       "      <td>0.299797</td>\n",
       "      <td>0.030862</td>\n",
       "      <td>0.0</td>\n",
       "      <td>0.0</td>\n",
       "      <td>5.63</td>\n",
       "      <td>0.301125</td>\n",
       "      <td>0.110323</td>\n",
       "      <td>0.094155</td>\n",
       "    </tr>\n",
       "    <tr>\n",
       "      <th>1</th>\n",
       "      <td>945.0</td>\n",
       "      <td>3.150000</td>\n",
       "      <td>1.0</td>\n",
       "      <td>15.370731</td>\n",
       "      <td>0.152699</td>\n",
       "      <td>1</td>\n",
       "      <td>0.185099</td>\n",
       "      <td>1</td>\n",
       "      <td>NaN</td>\n",
       "      <td>0.009748</td>\n",
       "      <td>94.574997</td>\n",
       "      <td>0.178557</td>\n",
       "      <td>0.126878</td>\n",
       "      <td>0.024339</td>\n",
       "      <td>0.0</td>\n",
       "      <td>0.0</td>\n",
       "      <td>3.01</td>\n",
       "      <td>0.615780</td>\n",
       "      <td>0.218826</td>\n",
       "      <td>0.162426</td>\n",
       "    </tr>\n",
       "    <tr>\n",
       "      <th>2</th>\n",
       "      <td>805.0</td>\n",
       "      <td>2.683333</td>\n",
       "      <td>1.0</td>\n",
       "      <td>8.187921</td>\n",
       "      <td>0.631289</td>\n",
       "      <td>3</td>\n",
       "      <td>0.727769</td>\n",
       "      <td>2</td>\n",
       "      <td>NaN</td>\n",
       "      <td>0.003454</td>\n",
       "      <td>50.309998</td>\n",
       "      <td>0.304148</td>\n",
       "      <td>0.229177</td>\n",
       "      <td>0.034783</td>\n",
       "      <td>0.0</td>\n",
       "      <td>0.0</td>\n",
       "      <td>3.01</td>\n",
       "      <td>1.708486</td>\n",
       "      <td>0.613580</td>\n",
       "      <td>0.493461</td>\n",
       "    </tr>\n",
       "    <tr>\n",
       "      <th>3</th>\n",
       "      <td>1042.0</td>\n",
       "      <td>3.473333</td>\n",
       "      <td>1.0</td>\n",
       "      <td>16.009048</td>\n",
       "      <td>0.753554</td>\n",
       "      <td>6</td>\n",
       "      <td>1.000000</td>\n",
       "      <td>6</td>\n",
       "      <td>NaN</td>\n",
       "      <td>0.001854</td>\n",
       "      <td>81.899994</td>\n",
       "      <td>0.264475</td>\n",
       "      <td>0.105284</td>\n",
       "      <td>0.051823</td>\n",
       "      <td>0.0</td>\n",
       "      <td>0.0</td>\n",
       "      <td>2.22</td>\n",
       "      <td>0.938872</td>\n",
       "      <td>0.329965</td>\n",
       "      <td>0.208018</td>\n",
       "    </tr>\n",
       "    <tr>\n",
       "      <th>4</th>\n",
       "      <td>3051.0</td>\n",
       "      <td>10.170000</td>\n",
       "      <td>1.0</td>\n",
       "      <td>20.417950</td>\n",
       "      <td>0.512722</td>\n",
       "      <td>35</td>\n",
       "      <td>1.000000</td>\n",
       "      <td>33</td>\n",
       "      <td>NaN</td>\n",
       "      <td>0.000446</td>\n",
       "      <td>119.339996</td>\n",
       "      <td>0.133316</td>\n",
       "      <td>0.064901</td>\n",
       "      <td>0.035398</td>\n",
       "      <td>0.0</td>\n",
       "      <td>0.0</td>\n",
       "      <td>4.60</td>\n",
       "      <td>0.528079</td>\n",
       "      <td>0.190110</td>\n",
       "      <td>0.156396</td>\n",
       "    </tr>\n",
       "    <tr>\n",
       "      <th>...</th>\n",
       "      <td>...</td>\n",
       "      <td>...</td>\n",
       "      <td>...</td>\n",
       "      <td>...</td>\n",
       "      <td>...</td>\n",
       "      <td>...</td>\n",
       "      <td>...</td>\n",
       "      <td>...</td>\n",
       "      <td>...</td>\n",
       "      <td>...</td>\n",
       "      <td>...</td>\n",
       "      <td>...</td>\n",
       "      <td>...</td>\n",
       "      <td>...</td>\n",
       "      <td>...</td>\n",
       "      <td>...</td>\n",
       "      <td>...</td>\n",
       "      <td>...</td>\n",
       "      <td>...</td>\n",
       "      <td>...</td>\n",
       "    </tr>\n",
       "    <tr>\n",
       "      <th>166</th>\n",
       "      <td>478.0</td>\n",
       "      <td>1.593333</td>\n",
       "      <td>1.0</td>\n",
       "      <td>13.007952</td>\n",
       "      <td>0.596819</td>\n",
       "      <td>1</td>\n",
       "      <td>1.000000</td>\n",
       "      <td>1</td>\n",
       "      <td>NaN</td>\n",
       "      <td>NaN</td>\n",
       "      <td>79.364998</td>\n",
       "      <td>NaN</td>\n",
       "      <td>NaN</td>\n",
       "      <td>0.039749</td>\n",
       "      <td>0.0</td>\n",
       "      <td>0.0</td>\n",
       "      <td>1.60</td>\n",
       "      <td>NaN</td>\n",
       "      <td>NaN</td>\n",
       "      <td>NaN</td>\n",
       "    </tr>\n",
       "    <tr>\n",
       "      <th>167</th>\n",
       "      <td>743.0</td>\n",
       "      <td>2.476667</td>\n",
       "      <td>1.0</td>\n",
       "      <td>8.902170</td>\n",
       "      <td>0.000000</td>\n",
       "      <td>0</td>\n",
       "      <td>0.000000</td>\n",
       "      <td>0</td>\n",
       "      <td>0.195</td>\n",
       "      <td>0.000647</td>\n",
       "      <td>53.624996</td>\n",
       "      <td>0.236704</td>\n",
       "      <td>0.092628</td>\n",
       "      <td>0.029610</td>\n",
       "      <td>0.0</td>\n",
       "      <td>0.0</td>\n",
       "      <td>1.62</td>\n",
       "      <td>0.740657</td>\n",
       "      <td>0.285873</td>\n",
       "      <td>0.264649</td>\n",
       "    </tr>\n",
       "    <tr>\n",
       "      <th>168</th>\n",
       "      <td>1179.0</td>\n",
       "      <td>3.930000</td>\n",
       "      <td>1.0</td>\n",
       "      <td>5.772798</td>\n",
       "      <td>0.196201</td>\n",
       "      <td>2</td>\n",
       "      <td>0.246105</td>\n",
       "      <td>2</td>\n",
       "      <td>NaN</td>\n",
       "      <td>0.001396</td>\n",
       "      <td>35.489998</td>\n",
       "      <td>0.396619</td>\n",
       "      <td>0.173722</td>\n",
       "      <td>0.036472</td>\n",
       "      <td>0.0</td>\n",
       "      <td>0.0</td>\n",
       "      <td>5.42</td>\n",
       "      <td>0.859374</td>\n",
       "      <td>0.292842</td>\n",
       "      <td>0.193800</td>\n",
       "    </tr>\n",
       "    <tr>\n",
       "      <th>169</th>\n",
       "      <td>1061.0</td>\n",
       "      <td>3.536667</td>\n",
       "      <td>1.0</td>\n",
       "      <td>8.605642</td>\n",
       "      <td>1.090210</td>\n",
       "      <td>9</td>\n",
       "      <td>1.000000</td>\n",
       "      <td>9</td>\n",
       "      <td>NaN</td>\n",
       "      <td>0.001560</td>\n",
       "      <td>46.994999</td>\n",
       "      <td>0.274625</td>\n",
       "      <td>0.210853</td>\n",
       "      <td>0.086711</td>\n",
       "      <td>0.0</td>\n",
       "      <td>0.0</td>\n",
       "      <td>2.62</td>\n",
       "      <td>1.301045</td>\n",
       "      <td>0.526499</td>\n",
       "      <td>0.474456</td>\n",
       "    </tr>\n",
       "    <tr>\n",
       "      <th>170</th>\n",
       "      <td>341.0</td>\n",
       "      <td>1.136667</td>\n",
       "      <td>1.0</td>\n",
       "      <td>7.184010</td>\n",
       "      <td>1.172708</td>\n",
       "      <td>1</td>\n",
       "      <td>1.000000</td>\n",
       "      <td>1</td>\n",
       "      <td>NaN</td>\n",
       "      <td>NaN</td>\n",
       "      <td>38.024998</td>\n",
       "      <td>NaN</td>\n",
       "      <td>NaN</td>\n",
       "      <td>0.079179</td>\n",
       "      <td>0.0</td>\n",
       "      <td>0.0</td>\n",
       "      <td>1.42</td>\n",
       "      <td>NaN</td>\n",
       "      <td>NaN</td>\n",
       "      <td>NaN</td>\n",
       "    </tr>\n",
       "  </tbody>\n",
       "</table>\n",
       "<p>170 rows × 20 columns</p>\n",
       "</div>"
      ],
      "text/plain": [
       "     num_spikes  firing_rate  presence_ratio        snr  isi_violations_ratio  \\\n",
       "0        3467.0    11.556667             1.0   6.699185              0.907572   \n",
       "1         945.0     3.150000             1.0  15.370731              0.152699   \n",
       "2         805.0     2.683333             1.0   8.187921              0.631289   \n",
       "3        1042.0     3.473333             1.0  16.009048              0.753554   \n",
       "4        3051.0    10.170000             1.0  20.417950              0.512722   \n",
       "..          ...          ...             ...        ...                   ...   \n",
       "166       478.0     1.593333             1.0  13.007952              0.596819   \n",
       "167       743.0     2.476667             1.0   8.902170              0.000000   \n",
       "168      1179.0     3.930000             1.0   5.772798              0.196201   \n",
       "169      1061.0     3.536667             1.0   8.605642              1.090210   \n",
       "170       341.0     1.136667             1.0   7.184010              1.172708   \n",
       "\n",
       "     isi_violations_count  rp_contamination  rp_violations  \\\n",
       "0                      80          1.000000             81   \n",
       "1                       1          0.185099              1   \n",
       "2                       3          0.727769              2   \n",
       "3                       6          1.000000              6   \n",
       "4                      35          1.000000             33   \n",
       "..                    ...               ...            ...   \n",
       "166                     1          1.000000              1   \n",
       "167                     0          0.000000              0   \n",
       "168                     2          0.246105              2   \n",
       "169                     9          1.000000              9   \n",
       "170                     1          1.000000              1   \n",
       "\n",
       "     sliding_rp_violation  amplitude_cutoff  amplitude_median  \\\n",
       "0                     NaN          0.000365         32.174999   \n",
       "1                     NaN          0.009748         94.574997   \n",
       "2                     NaN          0.003454         50.309998   \n",
       "3                     NaN          0.001854         81.899994   \n",
       "4                     NaN          0.000446        119.339996   \n",
       "..                    ...               ...               ...   \n",
       "166                   NaN               NaN         79.364998   \n",
       "167                 0.195          0.000647         53.624996   \n",
       "168                   NaN          0.001396         35.489998   \n",
       "169                   NaN          0.001560         46.994999   \n",
       "170                   NaN               NaN         38.024998   \n",
       "\n",
       "     amplitude_cv_median  amplitude_cv_range  sync_spike_2  sync_spike_4  \\\n",
       "0               0.371593            0.299797      0.030862           0.0   \n",
       "1               0.178557            0.126878      0.024339           0.0   \n",
       "2               0.304148            0.229177      0.034783           0.0   \n",
       "3               0.264475            0.105284      0.051823           0.0   \n",
       "4               0.133316            0.064901      0.035398           0.0   \n",
       "..                   ...                 ...           ...           ...   \n",
       "166                  NaN                 NaN      0.039749           0.0   \n",
       "167             0.236704            0.092628      0.029610           0.0   \n",
       "168             0.396619            0.173722      0.036472           0.0   \n",
       "169             0.274625            0.210853      0.086711           0.0   \n",
       "170                  NaN                 NaN      0.079179           0.0   \n",
       "\n",
       "     sync_spike_8  firing_range  drift_ptp  drift_std  drift_mad  \n",
       "0             0.0          5.63   0.301125   0.110323   0.094155  \n",
       "1             0.0          3.01   0.615780   0.218826   0.162426  \n",
       "2             0.0          3.01   1.708486   0.613580   0.493461  \n",
       "3             0.0          2.22   0.938872   0.329965   0.208018  \n",
       "4             0.0          4.60   0.528079   0.190110   0.156396  \n",
       "..            ...           ...        ...        ...        ...  \n",
       "166           0.0          1.60        NaN        NaN        NaN  \n",
       "167           0.0          1.62   0.740657   0.285873   0.264649  \n",
       "168           0.0          5.42   0.859374   0.292842   0.193800  \n",
       "169           0.0          2.62   1.301045   0.526499   0.474456  \n",
       "170           0.0          1.42        NaN        NaN        NaN  \n",
       "\n",
       "[170 rows x 20 columns]"
      ]
     },
     "metadata": {},
     "output_type": "display_data"
    }
   ],
   "source": [
    "display(qm)"
   ]
  },
  {
   "cell_type": "code",
   "execution_count": 64,
   "metadata": {},
   "outputs": [
    {
     "ename": "KeyError",
     "evalue": "'metrics'",
     "output_type": "error",
     "traceback": [
      "\u001b[1;31m---------------------------------------------------------------------------\u001b[0m",
      "\u001b[1;31mKeyError\u001b[0m                                  Traceback (most recent call last)",
      "Cell \u001b[1;32mIn[64], line 1\u001b[0m\n\u001b[1;32m----> 1\u001b[0m \u001b[43msi\u001b[49m\u001b[38;5;241;43m.\u001b[39;49m\u001b[43mplot_quality_metrics\u001b[49m\u001b[43m(\u001b[49m\u001b[43mwe\u001b[49m\u001b[43m,\u001b[49m\u001b[43m \u001b[49m\u001b[43minclude_metrics\u001b[49m\u001b[38;5;241;43m=\u001b[39;49m\u001b[43m[\u001b[49m\u001b[38;5;124;43m\"\u001b[39;49m\u001b[38;5;124;43mamplitude_cutoff\u001b[39;49m\u001b[38;5;124;43m\"\u001b[39;49m\u001b[43m,\u001b[49m\u001b[43m \u001b[49m\u001b[38;5;124;43m\"\u001b[39;49m\u001b[38;5;124;43mpresence_ratio\u001b[39;49m\u001b[38;5;124;43m\"\u001b[39;49m\u001b[43m,\u001b[49m\u001b[43m \u001b[49m\u001b[38;5;124;43m\"\u001b[39;49m\u001b[38;5;124;43misi_violations_ratio\u001b[39;49m\u001b[38;5;124;43m\"\u001b[39;49m\u001b[43m,\u001b[49m\u001b[43m \u001b[49m\u001b[38;5;124;43m\"\u001b[39;49m\u001b[38;5;124;43msnr\u001b[39;49m\u001b[38;5;124;43m\"\u001b[39;49m\u001b[43m]\u001b[49m\u001b[43m,\u001b[49m\u001b[43m \u001b[49m\n\u001b[0;32m      2\u001b[0m \u001b[43m                        \u001b[49m\u001b[43mbackend\u001b[49m\u001b[38;5;241;43m=\u001b[39;49m\u001b[38;5;124;43m\"\u001b[39;49m\u001b[38;5;124;43mipywidgets\u001b[39;49m\u001b[38;5;124;43m\"\u001b[39;49m\u001b[43m)\u001b[49m\n",
      "File \u001b[1;32mc:\\Users\\neuroPC\\anaconda3\\envs\\ephys\\Lib\\site-packages\\spikeinterface\\widgets\\quality_metrics.py:40\u001b[0m, in \u001b[0;36mQualityMetricsWidget.__init__\u001b[1;34m(self, waveform_extractor, unit_ids, include_metrics, skip_metrics, unit_colors, hide_unit_selector, backend, **backend_kwargs)\u001b[0m\n\u001b[0;32m     38\u001b[0m \u001b[38;5;28mself\u001b[39m\u001b[38;5;241m.\u001b[39mcheck_extensions(waveform_extractor, \u001b[38;5;124m\"\u001b[39m\u001b[38;5;124mquality_metrics\u001b[39m\u001b[38;5;124m\"\u001b[39m)\n\u001b[0;32m     39\u001b[0m qlc \u001b[38;5;241m=\u001b[39m waveform_extractor\u001b[38;5;241m.\u001b[39mload_extension(\u001b[38;5;124m\"\u001b[39m\u001b[38;5;124mquality_metrics\u001b[39m\u001b[38;5;124m\"\u001b[39m)\n\u001b[1;32m---> 40\u001b[0m quality_metrics \u001b[38;5;241m=\u001b[39m \u001b[43mqlc\u001b[49m\u001b[38;5;241;43m.\u001b[39;49m\u001b[43mget_data\u001b[49m\u001b[43m(\u001b[49m\u001b[43m)\u001b[49m\n\u001b[0;32m     42\u001b[0m sorting \u001b[38;5;241m=\u001b[39m waveform_extractor\u001b[38;5;241m.\u001b[39msorting\n\u001b[0;32m     44\u001b[0m MetricsBaseWidget\u001b[38;5;241m.\u001b[39m\u001b[38;5;21m__init__\u001b[39m(\n\u001b[0;32m     45\u001b[0m     \u001b[38;5;28mself\u001b[39m,\n\u001b[0;32m     46\u001b[0m     quality_metrics,\n\u001b[1;32m   (...)\u001b[0m\n\u001b[0;32m     54\u001b[0m     \u001b[38;5;241m*\u001b[39m\u001b[38;5;241m*\u001b[39mbackend_kwargs,\n\u001b[0;32m     55\u001b[0m )\n",
      "File \u001b[1;32mc:\\Users\\neuroPC\\anaconda3\\envs\\ephys\\Lib\\site-packages\\spikeinterface\\qualitymetrics\\quality_metric_calculator.py:169\u001b[0m, in \u001b[0;36mQualityMetricCalculator.get_data\u001b[1;34m(self)\u001b[0m\n\u001b[0;32m    160\u001b[0m \u001b[38;5;250m\u001b[39m\u001b[38;5;124;03m\"\"\"\u001b[39;00m\n\u001b[0;32m    161\u001b[0m \u001b[38;5;124;03mGet the computed metrics.\u001b[39;00m\n\u001b[0;32m    162\u001b[0m \n\u001b[1;32m   (...)\u001b[0m\n\u001b[0;32m    166\u001b[0m \u001b[38;5;124;03m    Dataframe with quality metrics\u001b[39;00m\n\u001b[0;32m    167\u001b[0m \u001b[38;5;124;03m\"\"\"\u001b[39;00m\n\u001b[0;32m    168\u001b[0m msg \u001b[38;5;241m=\u001b[39m \u001b[38;5;124m\"\u001b[39m\u001b[38;5;124mQuality metrics are not computed. Use the \u001b[39m\u001b[38;5;124m'\u001b[39m\u001b[38;5;124mrun()\u001b[39m\u001b[38;5;124m'\u001b[39m\u001b[38;5;124m function.\u001b[39m\u001b[38;5;124m\"\u001b[39m\n\u001b[1;32m--> 169\u001b[0m \u001b[38;5;28;01massert\u001b[39;00m \u001b[38;5;28;43mself\u001b[39;49m\u001b[38;5;241;43m.\u001b[39;49m\u001b[43m_extension_data\u001b[49m\u001b[43m[\u001b[49m\u001b[38;5;124;43m\"\u001b[39;49m\u001b[38;5;124;43mmetrics\u001b[39;49m\u001b[38;5;124;43m\"\u001b[39;49m\u001b[43m]\u001b[49m \u001b[38;5;129;01mis\u001b[39;00m \u001b[38;5;129;01mnot\u001b[39;00m \u001b[38;5;28;01mNone\u001b[39;00m, msg\n\u001b[0;32m    170\u001b[0m \u001b[38;5;28;01mreturn\u001b[39;00m \u001b[38;5;28mself\u001b[39m\u001b[38;5;241m.\u001b[39m_extension_data[\u001b[38;5;124m\"\u001b[39m\u001b[38;5;124mmetrics\u001b[39m\u001b[38;5;124m\"\u001b[39m]\n",
      "\u001b[1;31mKeyError\u001b[0m: 'metrics'"
     ]
    }
   ],
   "source": [
    "si.plot_quality_metrics(we, include_metrics=[\"amplitude_cutoff\", \"presence_ratio\", \"isi_violations_ratio\", \"snr\"], \n",
    "                        backend=\"ipywidgets\")"
   ]
  },
  {
   "cell_type": "markdown",
   "metadata": {
    "pycharm": {
     "name": "#%% md\n"
    }
   },
   "source": [
    "For more information about these waveform features, we refer to the [SpikeInterface documentation](https://spikeinterface.readthedocs.io/en/latest/module_qualitymetrics.html) and to this excellent [documentation](https://allensdk.readthedocs.io/en/latest/_static/examples/nb/ecephys_quality_metrics.html) from the Allen Institute."
   ]
  },
  {
   "cell_type": "markdown",
   "metadata": {
    "pycharm": {
     "name": "#%% md\n"
    }
   },
   "source": [
    "## Automatic curation based on quality metrics"
   ]
  },
  {
   "cell_type": "markdown",
   "metadata": {
    "pycharm": {
     "name": "#%% md\n"
    }
   },
   "source": [
    "A viable option to curate (or at least pre-curate) a spike sorting output is to filter units based on quality metrics. As we have already computed quality metrics a few lines above, we can simply filter the `qm` dataframe based on some thresholds.\n",
    "\n",
    "Here, we'll only keep units with an ISI violation threshold and amplitude cutoff below a user-defined threshold:"
   ]
  },
  {
   "cell_type": "code",
   "execution_count": 61,
   "metadata": {
    "pycharm": {
     "name": "#%%\n"
    }
   },
   "outputs": [],
   "source": [
    "isi_viol_thresh = 0.5\n",
    "amp_cutoff_thresh = 0.1"
   ]
  },
  {
   "cell_type": "markdown",
   "metadata": {},
   "source": [
    "A straightforward way to filter a pandas dataframe is via the `query`.\n",
    "We first define our query (make sure the names match the column names of the dataframe):"
   ]
  },
  {
   "cell_type": "code",
   "execution_count": 62,
   "metadata": {
    "pycharm": {
     "name": "#%%\n"
    }
   },
   "outputs": [
    {
     "name": "stdout",
     "output_type": "stream",
     "text": [
      "amplitude_cutoff < 0.1 & isi_violations_ratio < 0.5\n"
     ]
    }
   ],
   "source": [
    "our_query = f\"amplitude_cutoff < {amp_cutoff_thresh} & isi_violations_ratio < {isi_viol_thresh}\"\n",
    "print(our_query)"
   ]
  },
  {
   "cell_type": "markdown",
   "metadata": {
    "pycharm": {
     "name": "#%% md\n"
    }
   },
   "source": [
    "and then we can use the query to select units:"
   ]
  },
  {
   "cell_type": "code",
   "execution_count": 63,
   "metadata": {
    "pycharm": {
     "name": "#%%\n"
    }
   },
   "outputs": [
    {
     "ename": "NameError",
     "evalue": "name 'qm' is not defined",
     "output_type": "error",
     "traceback": [
      "\u001b[1;31m---------------------------------------------------------------------------\u001b[0m",
      "\u001b[1;31mNameError\u001b[0m                                 Traceback (most recent call last)",
      "Cell \u001b[1;32mIn[63], line 1\u001b[0m\n\u001b[1;32m----> 1\u001b[0m keep_units \u001b[38;5;241m=\u001b[39m \u001b[43mqm\u001b[49m\u001b[38;5;241m.\u001b[39mquery(our_query)\n\u001b[0;32m      2\u001b[0m keep_unit_ids \u001b[38;5;241m=\u001b[39m keep_units\u001b[38;5;241m.\u001b[39mindex\u001b[38;5;241m.\u001b[39mvalues\n\u001b[0;32m      3\u001b[0m keep_unit_ids\n",
      "\u001b[1;31mNameError\u001b[0m: name 'qm' is not defined"
     ]
    }
   ],
   "source": [
    "keep_units = qm.query(our_query)\n",
    "keep_unit_ids = keep_units.index.values\n",
    "keep_unit_ids"
   ]
  },
  {
   "cell_type": "code",
   "execution_count": 120,
   "metadata": {},
   "outputs": [
    {
     "name": "stdout",
     "output_type": "stream",
     "text": [
      "Number of units before curation: 170\n",
      "Number of units after curation: 33\n"
     ]
    }
   ],
   "source": [
    "sorting_auto_KS25 = sorting.select_units(keep_unit_ids)\n",
    "print(f\"Number of units before curation: {len(sorting.get_unit_ids())}\")\n",
    "print(f\"Number of units after curation: {len(sorting_auto_KS25.get_unit_ids())}\")"
   ]
  },
  {
   "cell_type": "markdown",
   "metadata": {},
   "source": [
    "We can also save all the waveforms and post-processed data for curated units in a separate folder:"
   ]
  },
  {
   "cell_type": "code",
   "execution_count": 121,
   "metadata": {},
   "outputs": [],
   "source": [
    "we_curated = we.select_units(keep_unit_ids, new_folder=base_folder / \"waveforms_curated\")"
   ]
  },
  {
   "cell_type": "code",
   "execution_count": 122,
   "metadata": {},
   "outputs": [
    {
     "name": "stdout",
     "output_type": "stream",
     "text": [
      "WaveformExtractor: 47 channels - 33 units - 1 segments\n",
      "  before:30 after:60 n_per_units:500 - sparse\n"
     ]
    }
   ],
   "source": [
    "print(we_curated)"
   ]
  },
  {
   "cell_type": "code",
   "execution_count": 123,
   "metadata": {},
   "outputs": [
    {
     "data": {
      "application/vnd.jupyter.widget-view+json": {
       "model_id": "e2a2e02874f5469991c18bd9f0b48178",
       "version_major": 2,
       "version_minor": 0
      },
      "text/plain": [
       "AppLayout(children=(HBox(children=(Checkbox(value=False, description='same axis'), Checkbox(value=True, descri…"
      ]
     },
     "metadata": {},
     "output_type": "display_data"
    },
    {
     "data": {
      "text/plain": [
       "<spikeinterface.widgets.unit_templates.UnitTemplatesWidget at 0x7feee04606a0>"
      ]
     },
     "execution_count": 123,
     "metadata": {},
     "output_type": "execute_result"
    }
   ],
   "source": [
    "%matplotlib widget\n",
    "si.plot_unit_templates(we_curated, backend='ipywidgets')"
   ]
  },
  {
   "cell_type": "code",
   "execution_count": 58,
   "metadata": {},
   "outputs": [
    {
     "ename": "NameError",
     "evalue": "name 'we_curated' is not defined",
     "output_type": "error",
     "traceback": [
      "\u001b[1;31m---------------------------------------------------------------------------\u001b[0m",
      "\u001b[1;31mNameError\u001b[0m                                 Traceback (most recent call last)",
      "Cell \u001b[1;32mIn[58], line 1\u001b[0m\n\u001b[1;32m----> 1\u001b[0m \u001b[43mwe_curated\u001b[49m\u001b[38;5;241m.\u001b[39mget_available_extension_names()\n",
      "\u001b[1;31mNameError\u001b[0m: name 'we_curated' is not defined"
     ]
    }
   ],
   "source": [
    "we_curated.get_available_extension_names()"
   ]
  },
  {
   "cell_type": "markdown",
   "metadata": {},
   "source": [
    "# 8. Viewers <a class=\"anchor\" id=\"viewers\"></a>\n"
   ]
  },
  {
   "cell_type": "markdown",
   "metadata": {},
   "source": [
    "### SpikeInterface GUI\n",
    "\n",
    "A QT-based GUI built on top of SpikeInterface objects.\n",
    "\n",
    "Developed by Samuel Garcia, CRNL, Lyon."
   ]
  },
  {
   "cell_type": "code",
   "execution_count": 135,
   "metadata": {},
   "outputs": [],
   "source": [
    "# !sigui {base_folder}/waveforms_sparse"
   ]
  },
  {
   "cell_type": "markdown",
   "metadata": {},
   "source": [
    "### Sorting Summary - SortingView"
   ]
  },
  {
   "cell_type": "markdown",
   "metadata": {},
   "source": [
    "The `sortingview` backend requires an additional step to configure the transfer of the data to be plotted to the cloud. \n",
    "\n",
    "See documentation [here](https://spikeinterface.readthedocs.io/en/latest/module_widgets.html).\n",
    "\n",
    "Developed by Jeremy Magland and Jeff Soules, Flatiron Institute, NYC"
   ]
  },
  {
   "cell_type": "code",
   "execution_count": 127,
   "metadata": {},
   "outputs": [],
   "source": [
    "w = si.plot_sorting_summary(we_curated, backend=\"sortingview\")"
   ]
  },
  {
   "cell_type": "markdown",
   "metadata": {},
   "source": [
    "https://figurl.org/f?v=gs://figurl/spikesortingview-10&d=sha1://2a2cc53d21a7677c130fda6436c5839184f3e974"
   ]
  },
  {
   "cell_type": "markdown",
   "metadata": {},
   "source": [
    "`sortingview` can also be used for manual curation and labeling of units!"
   ]
  },
  {
   "cell_type": "code",
   "execution_count": 136,
   "metadata": {},
   "outputs": [],
   "source": [
    "# w = si.plot_sorting_summary(we_curated, backend=\"sortingview\", curation=True)"
   ]
  },
  {
   "cell_type": "markdown",
   "metadata": {},
   "source": [
    "https://figurl.org/f?v=gs://figurl/spikesortingview-10&d=sha1://61648243fcfd694dd6b179bc85626db03675a36f"
   ]
  },
  {
   "cell_type": "markdown",
   "metadata": {},
   "source": [
    "You can apply the `sortingview` curation file with:\n",
    "\n",
    "`sorting_manual_curated = si.apply_sortingview_curation(we_curated.sorting, uri_or_json=\"curation.json\")`"
   ]
  },
  {
   "cell_type": "markdown",
   "metadata": {},
   "source": [
    "# 9. Spike sorting comparison <a class=\"anchor\" id=\"comparison\"></a>\n",
    "\n",
    "Can we combine the output of multiple sorters to curate the spike sorting output?\n",
    "\n",
    "To answer this question we can use the `comparison` module.\n",
    "We first compare and match the output spike trains of the different sorters, and we can then extract a new `Sorting` with only the units in agreement."
   ]
  },
  {
   "cell_type": "code",
   "execution_count": 125,
   "metadata": {},
   "outputs": [],
   "source": [
    "sorting_KS25 = si.read_sorter_folder(base_folder/\"results_KS25\")\n",
    "sorting_KS2 = si.read_sorter_folder(base_folder/\"results_KS2\")"
   ]
  },
  {
   "cell_type": "markdown",
   "metadata": {},
   "source": [
    "### Compare two sorters"
   ]
  },
  {
   "cell_type": "code",
   "execution_count": 126,
   "metadata": {},
   "outputs": [],
   "source": [
    "comp_KS2_KS25 = si.compare_two_sorters(sorting_KS2, sorting_KS25, 'KS2', 'KS25')"
   ]
  },
  {
   "cell_type": "code",
   "execution_count": 127,
   "metadata": {},
   "outputs": [
    {
     "data": {
      "text/plain": [
       "<spikeinterface.widgets.comparison.AgreementMatrixWidget at 0x7feed056bac0>"
      ]
     },
     "execution_count": 127,
     "metadata": {},
     "output_type": "execute_result"
    },
    {
     "data": {
      "application/vnd.jupyter.widget-view+json": {
       "model_id": "9eaa080f732b49d4a809b7536566dee9",
       "version_major": 2,
       "version_minor": 0
      },
      "image/png": "[encoded data removed]",
      "text/html": [
       "\n",
       "            <div style=\"display: inline-block;\">\n",
       "                <div class=\"jupyter-widgets widget-label\" style=\"text-align: center;\">\n",
       "                    Figure\n",
       "                </div>\n",
       "                <img src='data:image/png;base64,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' width=640.0/>\n",
       "            </div>\n",
       "        "
      ],
      "text/plain": [
       "Canvas(toolbar=Toolbar(toolitems=[('Home', 'Reset original view', 'home', 'home'), ('Back', 'Back to previous …"
      ]
     },
     "metadata": {},
     "output_type": "display_data"
    }
   ],
   "source": [
    "si.plot_agreement_matrix(comp_KS2_KS25, unit_ticks=False)"
   ]
  },
  {
   "cell_type": "code",
   "execution_count": 128,
   "metadata": {},
   "outputs": [],
   "source": [
    "comp_KS2_KS25auto = si.compare_two_sorters(sorting_KS2, sorting_auto_KS25, 'KS2', 'KS25_auto')"
   ]
  },
  {
   "cell_type": "code",
   "execution_count": 129,
   "metadata": {},
   "outputs": [
    {
     "data": {
      "text/plain": [
       "<spikeinterface.widgets.comparison.AgreementMatrixWidget at 0x7feed0325180>"
      ]
     },
     "execution_count": 129,
     "metadata": {},
     "output_type": "execute_result"
    },
    {
     "data": {
      "application/vnd.jupyter.widget-view+json": {
       "model_id": "ca6efe910f0444f8a4c37b0ed11c80e0",
       "version_major": 2,
       "version_minor": 0
      },
      "image/png": "[encoded data removed]",
      "text/html": [
       "\n",
       "            <div style=\"display: inline-block;\">\n",
       "                <div class=\"jupyter-widgets widget-label\" style=\"text-align: center;\">\n",
       "                    Figure\n",
       "                </div>\n",
       "                <img src='data:image/png;base64,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' width=640.0/>\n",
       "            </div>\n",
       "        "
      ],
      "text/plain": [
       "Canvas(toolbar=Toolbar(toolitems=[('Home', 'Reset original view', 'home', 'home'), ('Back', 'Back to previous …"
      ]
     },
     "metadata": {},
     "output_type": "display_data"
    }
   ],
   "source": [
    "si.plot_agreement_matrix(comp_KS2_KS25auto, unit_ticks=False)"
   ]
  },
  {
   "cell_type": "markdown",
   "metadata": {},
   "source": [
    "### Compare multiple sorters\n",
    "\n",
    "In 2020, the spike interface team publish an article to demonstrate that sorters do not agree on the results.\n",
    "See this https://elifesciences.org/articles/61834\n",
    "\n",
    "Here is a direct illustration of the phenomenom on this dataset."
   ]
  },
  {
   "cell_type": "code",
   "execution_count": 130,
   "metadata": {},
   "outputs": [
    {
     "name": "stdout",
     "output_type": "stream",
     "text": [
      "Multicomaprison step 1: pairwise comparison\n",
      "  Comparing: KS2 and KS25\n",
      "Multicomparison step 2: make graph\n",
      "Multicomaprison step 3: clean graph\n",
      "Removed 0 duplicate nodes\n",
      "Multicomparison step 4: extract agreement from graph\n"
     ]
    }
   ],
   "source": [
    "mcmp = si.compare_multiple_sorters([sorting_KS2, sorting_KS25], ['KS2', 'KS25'], \n",
    "                                   spiketrain_mode='union', verbose=True)"
   ]
  },
  {
   "cell_type": "code",
   "execution_count": 131,
   "metadata": {},
   "outputs": [
    {
     "data": {
      "application/vnd.jupyter.widget-view+json": {
       "model_id": "56ec8733d2db42f68583cd7c3a1acc11",
       "version_major": 2,
       "version_minor": 0
      },
      "image/png": "[encoded data removed]",
      "text/html": [
       "\n",
       "            <div style=\"display: inline-block;\">\n",
       "                <div class=\"jupyter-widgets widget-label\" style=\"text-align: center;\">\n",
       "                    Figure\n",
       "                </div>\n",
       "                <img src='data:image/png;base64,iVBORw0KGgoAAAANSUhEUgAAAoAAAAHgCAYAAAA10dzkAAAAOXRFWHRTb2Z0d2FyZQBNYXRwbG90bGliIHZlcnNpb24zLjguMCwgaHR0cHM6Ly9tYXRwbG90bGliLm9yZy81sbWrAAAACXBIWXMAAA9hAAAPYQGoP6dpAAA9dklEQVR4nO3deXxU5aH/8e+ZNXsgkIUskLCvBYpeQVRooaJWUNGiWFesdYEqFK3dFGitVlpu1VoXvL+qt6gV7S3aXr0qgtSVutQNC4KAC8gmYc06M8/vj4FIIEACkzwz53zer9e8ICdnZr5ACF+e8zzPcYwxRgAAAPAMn+0AAAAAaFsUQAAAAI+hAAIAAHgMBRAAAMBjKIAAAAAeQwEEAADwGAogAACAx1AAAQAAPIYCCAAA4DEUQAAAAI+hAAIAAHgMBRAAAMBjKIAAAAAeQwEEkDCXXHKJysvLbcdISY7jaObMmbZjAPAICiDgMTNnzpTjONqyZUuTn+/fv79GjhyZkPeqqqrSzJkz9eKLLybk9QAAiRGwHQCAe9x///2KxWINH1dVVWnWrFmSlLBSCQA4ehRAAAkTDAZtR0iIWCymuro6paWl2Y4CAK2CS8AADunFF1+U4ziaP3++fvWrX6m0tFRpaWkaNWqUVq1a1ejcfecArl27Vvn5+ZKkWbNmyXGcRvPcNmzYoEsvvVSlpaUKh8Pq1KmTzjjjDK1du/aQed577z1dcskl6tq1q9LS0lRUVKRJkybpyy+/bDL7Mccco7S0NHXr1k333XdfwyXwfTmOoylTpujhhx9Wv379FA6H9X//93+SpHXr1mnSpEkqLCxUOBxWv3799Mc//vGA96qtrdWMGTPUvXt3hcNhlZWV6Uc/+pFqa2sPOG/atGnKz89Xdna2xo0bp88///yQv+a9HnzwQTmOc8Dv0d4/o30vtY8cOVL9+/fXW2+9peOPP17p6emqqKjQvffee8Drbtq0SZdddpkKCwuVlpamgQMH6qGHHmp0ztq1a+U4jn77299q7ty56tatm8LhsI499li98cYbzcoPIHkwAgigWX7961/L5/Ppuuuu0/bt2zV79mx997vf1dKlS5s8Pz8/X/fcc4+uuuoqnXXWWRo/frwk6Wtf+5ok6eyzz9ayZcv0gx/8QOXl5dq0aZOef/55ffrpp4dcSPL8889r9erVuvTSS1VUVKRly5Zp7ty5WrZsmV5//fWGcvevf/1Lp5xyijp16qRZs2YpGo3qF7/4RUMp3d+iRYs0f/58TZkyRR07dlR5ebk2btyooUOHNhTE/Px8PfPMM7rsssu0Y8cOTZ06VVJ8xHDcuHF6+eWX9f3vf199+vTR+++/r9/97nf66KOPtGDBgob3+d73vqd58+bp/PPP1/HHH69Fixbp29/+dgv/NJqnsrJSp512miZMmKCJEydq/vz5uuqqqxQKhTRp0iRJUnV1tUaOHKlVq1ZpypQpqqio0OOPP65LLrlE27Zt07XXXtvoNR955BHt3LlTV1xxhRzH0ezZszV+/HitXr3aNSPAgCcYAJ4yY8YMI8ls3ry5yc/369fPjBgxouHjxYsXG0mmT58+pra2tuH4HXfcYSSZ999/v+HYxRdfbLp06dLw8ebNm40kM2PGjEbvUVlZaSSZ3/zmNy3OX1VVdcCxRx991Egy//jHPxqOjR071mRkZJh169Y1HFu5cqUJBAJm/299kozP5zPLli1rdPyyyy4znTp1Mlu2bGl0/LzzzjO5ubkNWf70pz8Zn89nXnrppUbn3XvvvUaSeeWVV4wxxrzzzjtGkrn66qsbnXf++ec3+fu0vwceeMBIMmvWrGl0fO+f0eLFixuOjRgxwkgyc+bMaThWW1trBg0aZAoKCkxdXZ0xxpjbb7/dSDLz5s1rOK+urs4MGzbMZGVlmR07dhhjjFmzZo2RZDp06GC2bt3acO6TTz5pJJm//e1vh8wOILlwCRhAs1x66aUKhUINH5944omSpNWrV7f4tdLT0xUKhfTiiy+qsrKyxc/dq6amRlu2bNHQoUMlSW+//bYkKRqNauHChTrzzDNVXFzccH737t116qmnNvm6I0aMUN++fRs+NsboL3/5i8aOHStjjLZs2dLwGDNmjLZv397wfo8//rj69Omj3r17Nzrvm9/8piRp8eLFkqSnn35aknTNNdc0eu+9I4mJFggEdMUVVzR8HAqFdMUVV2jTpk166623GjIVFRVp4sSJDecFg0Fdc8012rVrl5YsWdLoNc8991y1b9++4eOj+ToAYA8FEMAB9p8jJ0mdO3du9PHeEtDSAidJ4XBYt912m5555hkVFhbqpJNO0uzZs7Vhw4bDPnfr1q269tprVVhYqPT0dOXn56uiokKStH37dknxOW3V1dXq3r37Ac9v6pikhtfYa/Pmzdq2bZvmzp2r/Pz8Ro9LL7204X0kaeXKlVq2bNkB5/Xs2bPReZ988ol8Pp+6devW6L169ep12F/3kSguLlZmZmajY3sz7Z1H+Mknn6hHjx7y+Rr/c9CnT5+Gz+8rkV8HAOxhDiDgMXtXtlZXVzf5+aqqqiZXv/r9/ibPN8YcUY6pU6dq7NixWrBggZ599lndeOONuvXWW7Vo0SINHjz4oM+bMGGCXn31VV1//fUaNGiQsrKyFIvFdMoppzTagqal9h1ZlNTwWhdccIEuvvjiJp+zdz5jLBbTgAED9J//+Z9NnldWVnbEufbVVDGX4iOebSXRXwcA7KAAAh7TpUsXSdKKFSsOKCZVVVX67LPPdPLJJyfkvQ5WWPbq1q2bpk+frunTp2vlypUaNGiQ5syZo3nz5jV5fmVlpV544QXNmjVLN910U8PxlStXNjqvoKBAaWlpB6xSltTksabsXaUbjUY1evTow/463n33XY0aNeqQv+YuXbooFovp448/bjTqt2LFimZl2jvatm3btkbH9x+l22v9+vXavXt3o1HAjz76SJIaFtp06dJF7733nmKxWKNRwOXLlzd8HoD7cAkY8JhRo0YpFArpnnvuOWDEbO7cuYpEIgedJ9dSGRkZkg4sLFVVVaqpqWl0rFu3bsrOzj5g25R97R192n+06fbbbz/gvNGjR2vBggVav359w/FVq1bpmWeeaVZ2v9+vs88+W3/5y1/0wQcfHPD5zZs3N/x8woQJWrdune6///4Dzquurtbu3bslqeH39c477zxk/oPZe+n4H//4R8OxaDSquXPnNnl+JBLRfffd1/BxXV2d7rvvPuXn52vIkCGSpNNOO00bNmzQY4891uh5v//975WVlaURI0Y0KxuA1MIIIOAxBQUFuummm/Tzn/9cJ510ksaNG6eMjAy9+uqrevTRR3XyySdr7NixCXmv9PR09e3bV4899ph69uypvLw89e/fX5FIRKNGjdKECRPUt29fBQIB/fWvf9XGjRt13nnnHfT1cnJyGuYL1tfXq6SkRM8995zWrFlzwLkzZ87Uc889p+HDh+uqq65SNBrVXXfdpf79++udd95pVv5f//rXWrx4sY477jhdfvnl6tu3r7Zu3aq3335bCxcu1NatWyVJF154oebPn68rr7xSixcv1vDhwxWNRrV8+XLNnz9fzz77rI455hgNGjRIEydO1N13363t27fr+OOP1wsvvNDsUcl+/fpp6NCh+slPfqKtW7cqLy9Pf/7znxWJRJo8v7i4WLfddpvWrl2rnj176rHHHtM777yjuXPnNmzZ8v3vf1/33XefLrnkEr311lsqLy/XE088oVdeeUW33367srOzm5UNQIqxugYZgDXz5s0zQ4cONZmZmSYcDpvevXubWbNmmZqamkbn7d1i5PHHH290fO+2IA888EDDsf23gTHGmFdffdUMGTLEhEKhhq1OtmzZYiZPnmx69+5tMjMzTW5urjnuuOPM/PnzD5v7888/N2eddZZp166dyc3NNd/5znfM+vXrm9xG5YUXXjCDBw82oVDIdOvWzfzXf/2XmT59uklLS2t0niQzefLkJt9v48aNZvLkyaasrMwEg0FTVFRkRo0aZebOndvovLq6OnPbbbeZfv36mXA4bNq3b2+GDBliZs2aZbZv395wXnV1tbnmmmtMhw4dTGZmphk7dqz57LPPmrUNjDHGfPzxx2b06NEmHA6bwsJC89Of/tQ8//zzTW4D069fP/Pmm2+aYcOGmbS0NNOlSxdz1113NflrvPTSS03Hjh1NKBQyAwYMaPTnasxXf95Nbd3T3OwAkodjDDN3AXjHmWeeqWXLlh0wb9BtRo4cqS1btjR5+RoAmAMIwLX2X+m8cuVKPf300xo5cqSdQACQJJgDCMC1unbt2nDf4E8++UT33HOPQqGQfvSjH9mOBgBWUQABuNYpp5yiRx99VBs2bFA4HNawYcN0yy23qEePHrajAYBVzAEEAADwGOYAAgAAeAwFEAAAwGMogABazcyZM+U4jrZs2dKq71NeXq7TTz+9Vd8DANyEAggArayqqkozZ87Uiy++aDsKAEiiAAJAq6uqqtKsWbMogACSBgUQAFpJLBZTTU1Nq73+7t27W+21AbgbBRBAq9uyZYsmTJignJwcdejQQddee22jYjRixAgNHDiwyef26tVLY8aMafF7PvTQQwoEArr++usPed6bb76pMWPGqGPHjkpPT1dFRYUmTZrU6Jzdu3dr+vTpKisrUzgcVq9evfTb3/5W+++i5TiOpkyZoocfflj9+vVTOBzWvffeq/z8fEnSrFmz5DiOHMfRzJkzG563fPlynXPOOcrLy1NaWpqOOeYYPfXUU41e+8EHH5TjOFqyZImuvvpqFRQUqLS0VJK0c+dOTZ06VeXl5QqHwyooKNC3vvUtvf322y3+fQPgDWwEDaDVTZgwQeXl5br11lv1+uuv684771RlZaX++7//W5J04YUX6vLLL9cHH3yg/v37NzzvjTfe0EcffaSf//znLXq/uXPn6sorr9RPf/pT3XzzzQc9b9OmTTr55JOVn5+vH//4x2rXrp3Wrl2r//mf/2k4xxijcePGafHixbrssss0aNAgPfvss7r++uu1bt06/e53v2v0mosWLdL8+fM1ZcoUdezYUQMHDtQ999yjq666SmeddZbGjx8vSfra174mSVq2bJmGDx+ukpIS/fjHP1ZmZqbmz5+vM888U3/5y1901llnNXr9q6++Wvn5+brpppsaRgCvvPJKPfHEE5oyZYr69u2rL7/8Ui+//LL+/e9/6+tf/3qLfu8AeIQBgFYyY8YMI8mMGzeu0fGrr77aSDLvvvuuMcaYbdu2mbS0NHPDDTc0Ou+aa64xmZmZZteuXYd8ny5duphvf/vbxhhj7rjjDuM4jvnlL3952Hx//etfjSTzxhtvHPScBQsWGEnm5ptvbnT8nHPOMY7jmFWrVjUck2R8Pp9ZtmxZo3M3b95sJJkZM2Yc8PqjRo0yAwYMMDU1NQ3HYrGYOf74402PHj0ajj3wwANGkjnhhBNMJBJp9Bq5ublm8uTJh/31AsBeXAIG0OomT57c6OMf/OAHkqSnn35akpSbm6szzjhDjz76aMNl1Wg0qscee0xnnnmmMjMzm/U+s2fP1rXXXqvbbrutWaOG7dq1kyT9/e9/V319fZPnPP300/L7/brmmmsaHZ8+fbqMMXrmmWcaHR8xYoT69u3brLxbt27VokWLNGHCBO3cuVNbtmzRli1b9OWXX2rMmDFauXKl1q1b1+g5l19+ufx+/wG/jqVLl2r9+vXNel8AoAACaHX733u3W7du8vl8Wrt2bcOxiy66SJ9++qleeuklSdLChQu1ceNGXXjhhc16jyVLluiGG27QDTfccNh5f3uNGDFCZ599tmbNmqWOHTvqjDPO0AMPPKDa2tqGcz755BMVFxcrOzu70XP79OnT8Pl9VVRUNOu9JWnVqlUyxujGG29Ufn5+o8eMGTMkxS9TH+71Z8+erQ8++EBlZWX6j//4D82cOVOrV69udg4A3kMBBNDmHMc54NiYMWNUWFioefPmSZLmzZunoqIijR49ulmv2a9fP/Xq1Ut/+tOftGbNmmbneOKJJ/Taa69pypQpWrdunSZNmqQhQ4Zo165dzf8F7SM9Pb3Z58ZiMUnSddddp+eff77JR/fu3Q/7+hMmTNDq1av1+9//XsXFxfrNb36jfv36HTA6CQB7UQABtLqVK1c2+njVqlWKxWIqLy9vOOb3+3X++efriSeeUGVlpRYsWKCJEycecLnzYDp27KiFCxcqGAxq1KhRLbocOnToUP3qV7/Sm2++qYcffljLli3Tn//8Z0lSly5dtH79eu3cubPRc5YvX97w+cNpqvBKUteuXSVJwWBQo0ePbvKx/8jjwXTq1ElXX321FixYoDVr1qhDhw761a9+1aznAvAeCiCAVveHP/yh0ce///3vJUmnnnpqo+MXXnihKisrdcUVV2jXrl264IILWvQ+paWlWrhwoaqrq/Wtb31LX3755SHPr6ysPGArl0GDBklSw2Xg0047TdFoVHfddVej8373u9/JcZwDfg1NycjIkCRt27at0fGCggKNHDlS9913n7744osDnrd58+bDvnY0GtX27dsPeN3i4uJGl7IBYF9sAwOg1a1Zs0bjxo3TKaecotdee03z5s3T+eeff8Def4MHD1b//v31+OOPq0+fPke0hUn37t313HPPaeTIkRozZowWLVqknJycJs996KGHdPfdd+uss85St27dtHPnTt1///3KycnRaaedJkkaO3asvvGNb+hnP/uZ1q5dq4EDB+q5557Tk08+qalTp6pbt26HzZSenq6+ffvqscceU8+ePZWXl6f+/furf//++sMf/qATTjhBAwYM0OWXX66uXbtq48aNeu211/T555/r3XffPeRr79y5U6WlpTrnnHM0cOBAZWVlaeHChXrjjTc0Z86cFv/+AfAIu4uQAbjZ3m1gPvzwQ3POOeeY7Oxs0759ezNlyhRTXV3d5HNmz55tJJlbbrml2e+z7zYwey1dutRkZ2ebk046yVRVVTX5vLfffttMnDjRdO7c2YTDYVNQUGBOP/108+abbzY6b+fOnWbatGmmuLjYBINB06NHD/Ob3/zGxGKxRudJOuh2LK+++qoZMmSICYVCB2wJ8/HHH5uLLrrIFBUVmWAwaEpKSszpp59unnjiiYZz9m4Ds/+WNbW1teb66683AwcONNnZ2SYzM9MMHDjQ3H333Yf9fQPgXY4x+13/AACL7rjjDk2bNk1r165V586dbccBAFeiAAJIGsYYDRw4UB06dNDixYttxwEA12IOIADrdu/eraeeekqLFy/W+++/ryeffNJ2JABwNUYAAVi3du1aVVRUqF27drr66qvZvgQAWhkFEAAAwGPYBxAAAMBjKIAAAAAeQwEEAADwGAogAACAx1AAAQAAPIYCCAAA4DEUQAAAAI+hAAIAAHgMBRAAAMBjKIAAAAAeQwEEAADwGAogAACAx1AAAQAAPIYCCAAA4DEUQAAAAI+hAAIAgCMycuRITZ061XYMHAEKIAAAgMdQAAEAADyGAggAABLif//3f5Wbm6uHH37YdhQcBgUQAAActUceeUQTJ07Uww8/rO9+97t6+OGHlZWVdcjHSy+9ZDu2ZznGGGM7BAAASD0jR47UoEGD1KNHD/3sZz/Tk08+qREjRkiSdu7cqY0bNx7y+SUlJUpPT2+LqNgPBRAAAByRkSNHatWqVdq0aZNeeeUVHXvssbYjoZm4BAwAAI7Y4MGDlZ+frz/+8Y/ad0yJS8DJLWA7AAAASF3dunXTnDlzNHLkSPn9ft11112SpHHjxum444475HNLSkraIiKaQAEEAABHpWfPnlq8eLFGjhypQCCg22+/XdnZ2crOzrYdDQdBAQQAAEetV69eWrRoUcNI4Jw5c2xHwiGwCAQAAMBjWAQCAADgMRRAAAAAj6EAAgAAeAwFEAAAwGMogAAAAB7DNjAAAODwdsxv+XNyJhz0U3fddZcefPBBvf/++zr11FO1YMGCI8+GFqMAAgCANldcXKyf//znWrhwoT7//HPbcTyHAggAANrc+PHjJUnvvPMOBdAC5gACAAB4DAUQAADAYyiAAAAAHkMBBAAA8BgWgQAAgDYXiUQaHrFYTDU1NfL5fAqFQrajeQIFEIC3mKhkaqRYjaSIpJhkTPxHmfjDxPb5eM/nHUdSQHICX/3oBCQnKDnh+I8Amu3mm2/WrFmzGj5OT0/XiBEj9OKLL9oL5SGOMcbYDgEAR81EpdguKVYlmep4yTM1Uqx2n5/XSKpvpQCO5IT2PNIkX6bky9rzyJScLMkXbqX3BoCWoQACSC0mtqfo7ZBi26Xo9j0/36n4iF0yC+5TDPf+mC352zOCCKBNUQABJC9TJ0W+lGKVUnRP4YvtVPzyrJs4e4pgB8mfF3/4ciWHdXoAWgcFEEDyiFVJ0S1SZHP8x9gOJf+oXmvxx0cG/XlfFUNfpu1QAFyCAgjAnlitFN0kRTbGf4ztsp0ouTnpUqDTnkfhngUpANByFEAAbStaKdV/LkW+kGLbbKdJYT7JXyAF9xRCX5btQABSCAUQQOuLVkr1n0mRzxnlay2+nK9GB/0dmT+IhFvWvqLFz+lXueagn6utrdWUKVO0cOFCbdmyRSUlJfrRj36kSZMmHU1MNBPXDwC0jujW+Ehf/eeSofS1utgOqW6HVLdCUlAKlkjBLvFRQsexnQ44QCQSUadOnbRw4UJ17dpVS5cu1amnnqrS0lKdfPLJtuO5HiOAABInujU+0lf/uWR2204DKT5vMNhZCpZL/lzbaZDCEj0C2JTx48erf//++sUvftHi90LLMAII4OiYiFT/iVT3MXP6kpGpjo8K1q2QfO2lUEV8ZJB9B5Fkampq9M9//lPnn3++7SieQAEEcGSiO6X6VVLdWrXe3TWQULFKqaZSqnlXCpZJwQopkG87FSBjjL73ve+pR48eGj9+vO04nkABBNB8JhZfvVu3SoputJ0GRywq1a+NP3w5Uqh3/DIxC0dggTFGV199tVasWKGFCxfK5+PrsC1QAAEcXqxGql8t1a2WTJXtNEik2A6p5p9S7QdSqKcU6sr+gmgzxhhNnjxZS5cu1QsvvKDcXOapthX+lgM4uFiVVPthfKTIdbdfQyOmSqp9R6r7UAp2l0I9JF/Ydiq43JQpU/TKK69o0aJFat++ve04nsIqYAAHilVLtf+Oj/pR/DzKH18wEurFLeggKfGrgD/55BOVl5crHA4rEPhqPOqCCy7Qvffee0QZ0XwUQABfidVIdf+OX+pV1HYaJAUnPj8w1JttZAAXoQAC2FP8lse3cqH4oUlOfC/BcH/Jl247DICjRAEEvMzUSrUr4qt6FbGdBikhIIV7xS8Ns1gESFkUQMCLTFSq+0iqXS728MMRcdKl8IA9m0pzqzkg1bDZDlLerbfeqmOPPVbZ2dkqKCjQmWeeqRUrVjQ6p6amRpMnT1aHDh2UlZWls88+Wxs3Nt7H7pprrtGQIUMUDoc1aNCgNvwVtLH6L6Tdz0q174vyhyNmquPbx+xeKEU2204DoIUogEh5S5Ys0eTJk/X666/r+eefV319vU4++WTt3v3VvWinTZumv/3tb3r88ce1ZMkSrV+/vsnd5idNmqRzzz23LeO3ndguqeplqfql+M+BRIhVSlWLpapX+LoCUgiXgOE6mzdvVkFBgZYsWaKTTjpJ27dvV35+vh555BGdc845kqTly5erT58+eu211zR06NBGz585c6YWLFigd955x0L6VmCi8QUetf8WW7qgdfnim0mH+0mO33YYAIfACCBcZ/v27ZKkvLw8SdJbb72l+vp6jR49uuGc3r17q3PnznrttdesZGwzkc3S7uek2mWi/KH1xeL/2dj9vBTdajsMgENgCRdcJRaLaerUqRo+fLj69+8vSdqwYYNCoZDatWvX6NzCwkJt2LDBQso2YGqlmvek+oNvwgq0mtgOafcL8ZXCjAYCSYkCCFeZPHmyPvjgA7388su2o9gT2SBV/1MyNbaTwNNMfDQwsl5K/w/Jn2c7EIB9cAkYrjFlyhT9/e9/1+LFi1VaWtpwvKioSHV1ddq2bVuj8zdu3KiioqI2TtmKTFSq+ZdU9Q/KH5LH3tHAmvfiX6MAkgIFECnPGKMpU6bor3/9qxYtWqSKisb3qxwyZIiCwaBeeOGFhmMrVqzQp59+qmHDhrV13NYR3R7/R7Zupe0kQBPMPnMDv7QdBoC4BAwXmDx5sh555BE9+eSTys7ObpjXl5ubq/T0dOXm5uqyyy7TD3/4Q+Xl5SknJ0c/+MEPNGzYsEYrgFetWqVdu3Zpw4YNqq6ublgF3LdvX4VCIRu/tOapWyXVvCtu4YakF9sh7V60Z25gf8lhDAKwhW1gkPKcg9yF4IEHHtAll1wiKb4R9PTp0/Xoo4+qtrZWY8aM0d13393oEvDIkSO1ZMmSA15nzZo1Ki8vb43oRydWK9W8EZ9jBaQaf0cpfRj3FQYsoQACqSiyUapeylw/pDYnLKUPlQKFtpMAnkMBBFKJicVv4Va34vDnAinBkcJ9pVBf7ikMtCEKIJAqTL1U/boU+cJ2EiDxAp2k9OMkJ4nn2wIuQgEEUsHe+/jGdthOArQeX7aUPlzy59hOArgeBRBIdpHNUvWr8bt7AK4XiI8EBktsBwFcjQIIJLO6tVLNm+I+vvCccL/4A0CroAACycgYqfY9FnvA24LdpLSvszgEaAUUQCDZmMiexR7s7wcoULpncYjfdhLAVSiAQDKJVe1Z7LHNdhIgefgLpIzhkhO0nQRwDQogkCxiu6XdL0pmt+0kQPLxtZcyTpR8abaTAK5AAQSSQWzXnvJXZTsJkLx8WVLGCMmXaTsJkPIogIBt0Z1S1YuSqbadBEh+TpqUcZLkb2c7CZDSKICATdEde8of9/QFmi8oZZwgBfJtBwFSls92AMCzotulqsWUP6DF6qWqf0iRLbaDACmLAgjYEK3cM/LH3T2AIxOVql6K/10C0GIUQKCtRbdKu5dQ/oCjtmckMMo9soGWogACbWlv+VOd7SSAO5haqWpJfBslAM1GAQTaSnRn/JKV6m0nAdzFVMf/YxVjJT3QXBRAoC3EquOXqrjsC7QOs2vPSCB/x4DmoAACrc3U7Sl/XKICWlVsx56/a4yyA4dDAQRak4lKVa9Ise22kwDeEKuM30/bRGwnAZIaBRBoTTVvSNHNtlMA3hLdLFX/U+I+B8BBUQCB1lLzgVT/qe0UgDdFPpfq/m07BZC0KIBAa6hbK9V9aDsF4G21H0j1622nAJISBRBItMgmqeZN2ykASFL1UjaKBppAAQQSKVYtVb8mKWY7CQBJUr1U/Up8NT6ABhRAIFFMLF7+2OsPSC6xnVL16ywKAfZBAQQSpfYDKbrFdgoATYlskGrft50CSBoUQCAR6r+Q6pbbTgHgUOqWszIf2IMCCBytWJVUs9R2CgDNUf2GFK20nQKwjgIIHI2GeX9MMAdSQ3TPfEDuFAJvowACR6P2PSn6pe0UAFoitlOqecd2CsAqCiBwpOrXSXUf2U4B4EjUr47/HQY8igIIHInY7vhcIgCpq+bN+N6dgAdRAIEjUf2GJOb9ASnN1PIfOXgWBRBoqbo1UnST7RQAEiG6Qar72HYKoM1RAIGWiNVINe/aTgEgkWrejU/rADyEAgi0RM3b4tIv4DaR+KVgbhUHD6EAAs1Vv06KfG47BYDWEN0k1XMpGN5BAQSaw9TvGf0D4Fo177EqGJ5BAQSao+Y9yfAPA+BuEan2fdshgDZBAQQOJ7KZS0OAV9SvlSLc3QfuRwEEDsVE45vFAvCOmn+xIASuRwEEDqVuefy+oQC8I7Y1PhIIuBgFEDiYWI1Uu8J2CgA21L4fX/wFuBQFEDiY2g8lRWynAGCDqZFql9lOAbQaCiDQlNguqX617RQAbKpbJUV32E4BtAoKINCUmvclxWynAGBVTKp5x3YIoFVQAIH9RbdKkc9spwCQDKIbpPr1tlMACUcBBPZX857tBACSCXMB4UIUQGBfkQ3xe4ICwF6xSqn+C9spgISiAAJ7GcPoH4Cm1X1oOwGQUBRAYK/Ip1Jsm+0UAJJR9EspstF2CiBhKICAFB/9Y54PgEOpZRQQ7kEBBCQpsi6+9x8AHEx0sxTZbDsFkBAUQECSapfbTgAgFTAKCJegAAKRTfGbvwPA4UQ3SpEvbacAjhoFEKhbYTsBgFTCimC4AAUQ3hbdIUXY3wtAC0S+kKKVtlMAR4UCCG+rW2k7AYBUVPex7QTAUaEAwrtMnVT/ie0UAFJR/aeSqbedAjhiFEB4V90aSRHbKQCkpEi8BAIpigIIbzJGqltlOwWAVFa32nYC4IhRAOFNkS8ks9t2CgCpLFbJYhCkLAogvIm5fwASgVFApCgKILzH1EuR9bZTAHCD+k8lw1xipB4KILyn/nNJUdspALhCvVT/me0QQItRAOE9rNwDkEj1XAZG6qEAwlti1VJ0k+0UANwk+qUU3WY7BdAiFEB4S/2nkoztFADchoVlSDEUQHgL36QBtIb6z20nAFqEAgjviG6XYttspwDgRmY3ewIipVAA4R2M/gFoTYwCIoVQAOENxrD6F0DrilAAkToogPCG2HbJVNlOAcDNYjvjU02AFEABhDdENthOAMALuMsQUgQFEN5AAQTQFiJf2E4ANAsFEO5nIlJ0i+0UALwg+qUUq7WdAjgsCiDcL7JZUsx2CgCeYLjigJRAAYT7RflmDKANMQ8QKYACCPeLbLSdAICXRDfbTgAcFgUQ7harkmI7bKcA4CWmRortsp0COCQKINyNuTgAbIiw8AzJjQIId+PyLwAb2HkASY4CCHeLUgABWEABRJKjAMK9YrskU2c7BQAviu3g+w+SGgUQ7hWttJ0AgJdFvrSdADgoCiDciwIIwCYuAyOJUQDhXhRAADZRAJHEKIBwr9g22wkAeFl0q2S4DSWSEwUQ7hSrkgw3ZAdgU5T/iCJpUQDhTlz+BZAMotyJCMmJAgh3ogACSAbcihJJigIId4pRAAEkgdhO2wmAJlEA4U7RbbYTAAAFEEmLAgj3idVIptp2CgDYc0ciVgIj+VAA4T6xXbYTAMAeMclU2Q4BHIACCPcxu20nAICvRLkMjORDAYT7xCiAAJIIK4GRhCiAcB8uAQNIJiwEQRKiAMJ9GAEEkEwogEhCFEC4T4wJ1wCSCFclkIQogHAftoABkExMje0EwAEogHCXWK0k9twCkEyMZOpshwAaoQDCXRj9A5CMKIBIMhRAuEuMAgggCcVqbScAGqEAwl0YAQSQjBgBRJKhAMJdTL3tBABwIMMIIJILBRAuE7UdAAAORAFEkqEAwl1MxHYCADgQl4CRZCiAcBlGAAEkIUYAkWQogHAXRgABJCNGAJFkKIBwFwoggGREAUSSoQDCZbgEDCAZ8b0JyYUCCHdhBBBAMjLGdgKgEQogXIb/ZQNIRhRAJBcKINyFEUAASYkCiORCAYS7GEYAASQjCiCSS8B2ACChHPF9FgnzxaxXZOoYVcbRCxQVqOBnY2zHABpQAOEyftsB4CK7Fv9LdWs+sx0DLhDu20sFP7OdAvgKl4DhMhRAJE6wrNB2BLiEE2C8BcmFAgh3cSiASJxgWYHtCHAJJ8D3JiQXCiBchm+ySJxQaZ7tCHALP9+bkFwogHAXRgCRQMGydrYjwCUcCiCSDAUQLsM3WSROqDTLdgS4BXMAkWQogHAXRgCRQMGSDNsR4BK+TL6WkFwogHAZvqSROIH8kJy0sO0YcIFAQUfbEYBG+NcS7sIIIBLIcRwFSzvZjgEXCORTAJFcKIBwGQogEivEXoBIAEYAkWwogHAXJ2Q7AVwm2DnfdgS4QKCAryMkFwog3MXHRGskVpC9AJEAjAAi2VAA4S5Ouu0EcJlQaTvbEeACjAAi2VAA4S6MACLBgiXsBYijRwFEsqEAwl2cNEmO7RRwkVAZ/6nA0XHCIflzc2zHABqhAMJdHN+eEggkRiAvyCa+OCpsAYNkRAGE+/iYB4jECpaxFyCOHAtAkIwogHAfh9EaJFawc5HtCEhhzP9DMqIAwn0YAUSChUoZwcGR8zMCiCREAYT7sBUMEixY1t52BKSwYBF3k0HyoQDCfdgKBgkWKs21HQEpLNy3l+0IwAEogHAfH/u2IbGCpXxN4cil9e9jOwJwAAog3MeXI/YCRCKFSphWgCPjy8xQqKKL7RjAASiAcB8nIDmZtlPARfy5Qflysm3HQAoK9+0lx8c/tUg+fFXCnfzM2UJihTqzFyBaLq0fl3+RnCiAcCcft11CYgXLWMmJlmP+H5IVBRDu5G9nOwFcJljGXm5oOQogkhUFEO7kZ982JFaoLM92BKQax1G4X2/bKYAmUQDhTr4sSUHbKeAiwVKmFaBlgl3K5M9iQRqSEwUQ7sUoIBIoVMJegGgZLv8imVEA4V4UQCRQsJS9ANEyFEAkMwog3MvPnC0kjj/TL39eO9sxkEIogEhmFEC4l7+D7QRwmWDnYtsRkELSBvS1HQE4KAog3MuXIfm4ewMSJ1RWYDsCUkSoootCnUttxwAOigIId/OzeS8Sh70A0VyZ3zzRdgTgkCiAcLcABRCJEyptZzsCUkT2qBG2IwCHRAGEuwUKJDm2U8AlgmXsBYjDc4JBZZw4zHYM4JAogHA3J8hqYCRMqIRNfXF46ccNYQNoJD0KINyPeYBIkGBJhu0ISAFZ3zzJdgTgsCiAcD/mASJBfGk+BQrYXgiHljWa+X9IfhRAuJ+/g6SA7RRwCfYCxKEECjqyATRSAgUQ7uf4pEC+7RRwiWAZX0s4uMxvnCjHYeEZkh8FEN7APEAkSIi9AHEIzP9DqqAAwhuCJbYTwCWC7AWIg3EcZbEBNFIEBRDe4Mvk3sBIiFApewGiaWkD+yvQke8zSA0UQHhHsLPtBHCBYCn7u6Fp2WO+aTsC0GwUQHhHoEzcFQRHK9gpTfLxrRP7cRy1O2+87RRAs/FdDN7hS5P8BbZTIMX5Qj4Fivg6QmMZw45VqJyrDEgdFEB4C5eBkQChMlaVo7F23/2O7QhAi1AA4S3BUkl+2ymQ4oKdGQHEV3xZmco94zTbMYAWoQDCW5ygFCiynQIpLlTKSk98JWfcqfJlcp9opBYKILyHy8A4SsGydrYjIIm0O/8c2xGAFqMAwnsCxZKCtlMghYVKsm1HQJIIVXRR5vDjbMcAWowCCO9x/HvmAgJHJliaZTsCkkTuRLZ+QWqiAMKbQt1tJ0AKCxaFJD+LiTzP51O78862nQI4IhRAeJO/veTPt50CKcoJ+BQsYTGR12WeNEyhMu4zjtREAYR3hXraToAUFmQvQM9rN5HFH0hdFEB4V6BYcrivK45MqIy9AL3Ml5OtnLGn2I4BHDEKILzLcaRQD9spkKKCZXm2I8CivEkXyJeeZjsGcMQogPC2UIWkgO0USEEh9gL0LCcjXR0mX2Y7BnBUKIDwNie4pwQCLRNkL0DPan/xRAU6cjcYpDYKIBDqIcmxnQIpJlTKrb+8yAmH1PEH37cdAzhqFEDAlyUFOtlOgRQTKAjLCXFHGa9pd/53FOzECnCkPgogILElDFrM8TkKlvIfB08JBNRx6pW2UwAJQQEEJClQwMbQaLFgZzaD9pJ2E85UqDO3kYQ7UACBvcL9bSdAigmVdrQdAW3F51PHaVfZTgEkDAUQ2CuQL/mZ24PmC5axEtQrcs44TeHuXW3HABKGAgjsK22A7QRIIaHSXNsR0BYcR/nTJ9tOASQUBRDYlz8vfos4oBmCpewF6AXZp45WWr/etmMACUUBBPYXHiD2BURzBEvYC9AL8q+bYjsCkHAUQGB//lwpWG47BVJAMD8kh/vBulruuWcpffDXbMcAEo4CCDQl3F+S33YKpAD2AnQvX062in7xE9sxgFZBAQSa4ktnc2g0S4i9AF2r4CfTFChgf1C4EwUQOJhwb8nh8h4OLVjGXoBuFO7XW3mXX2Q7BtBqKIDAwThBKW2Q7RRIcqGyPNsRkGiOo06/+YUcP9NA4F4UQOBQgp2lAJf4cHDBEvYCdJvcc89S5rBjbccAWhUFEDictCGSArZTIEmFSrNsR0ACsfADXkEBBA7HlymF+9lOgSQVLE23HQEJVPDTaQrkM68T7kcBBJoj1EPytbedAkko0D4kX1am7RhIgLT+fZT3PRZ+wBsogEBzOD4pfYi4QwiaEixjL8CUx8IPeAwFEGguf158JBDYT6hzoe0IOErtzhuvjKHH2I4BtBkKINAS4f6Sw/1f0ViwjM2CU1mgqECFLPyAx1AAgZZwAntWBQNfCZYyPzRl+Xwqufc/FejYwXYSoE1RAIGWCnaSghW2UyCJhMrYCzBVdbz2SmWNGG47BtDmKIDAkUgbLPlybKdAkgiWsBdgKko/9usq+Ok02zEAKyiAwJFwAlL6MEmsGIQUKmEvwFTjy8lW6X/dISfAJu/wJgogcKT8uVLa122nQBLw5wTky2VEOJUU3/lrhTqX2o4BWEMBBI5GqEIKdrGdAkkg1LnYdgQ0U/uLJyr3jNNsxwCsogACRyvt65Iv23YKWBYsK7AdAc0Q7t1TRbfeZDsGYB0FEDhaTpD5gFCojPvHJjsnPU2l/+9O+dLTbEcBrKMAAongbyelDbSdAhaxF2DyK7r550rr28t2DCApUACBRAl1lwJMKveqUBmLQJJZ9thTlDfpu7ZjAEmDAggkUvqxkq+d7RSwIFiSaTsCDiLcu6dK7pptOwaQVCiAQCI5QSnjRMlhXzivCZVyj+hkFCjoqM6P/T/5c1ioBeyLAggkmi89XgIVtJ0EbciX4Ze/A/MAk4mTnqayR+5nvz+gCRRAoDX420kZwyQ5tpOgDbEXYBJxHJXcM0cZQwbZTgIkJQog0FoCRVLaENsp0IbYCzB5FNx4PZs9A4dAAQRaU6irFOptOwXaSLCsg+0IkNT+kvOVP+0q2zGApEYBBFpbeIAU6Gw7BdpAqIw5gLbljDtFneb80nYMIOlRAIHW5jjx7WH83CnC7YIl7AVoU+aJw1Qy93Y5Pv5pAw6HvyVAW3D8UsZwyUdBcLNQWZbtCJ6VNqCvyubdJ184bDsKkBIogEBbccJSxkhKoIsFO6XFR3zRpoLlndX58QfZ6w9oAQog0JZ8aVLGCMnHP1Ru5EvzKVDApf62FCzvrPInH1awMN92FCClUACBtuZL3zMSyOVCNwp2LrIdwTPCvXuo4un5bPQMHAEKIGADJdC1QmWFtiN4QtqgASr/38cU7MTvN3AkKICALb4MKeMbzAl0mWBZnu0Irpcx9BiVP/mwAnlsuwMcKQogYFPDSGCu7SRIkFAppaQ1ZY06SV3+8t8s+ACOEgUQsM2XJmWOlHwUBzcIllJMWkv22FNU9sj98mWk244CpDwKIJAMnLCUOULycy/ZVBcqYV5na8g99yyVPXCXfKGQ7SiAK1AAgWThhKSMk6Rghe0kOArB4jSJO1EkVPtJF6jknjly/H7bUQDX4LsUkEwcX/y2ceGv2U6CI+QEHQU7MZKbKB2vvVLFc34phw22gYSiAALJKNxbSj9eEiMeqShYxl6AR83vV+HNP1PhzBtsJwFcKWA7AICDCJbGt4qpelkyNbbToAWCnQuk122nSF3+jh1U9sffK/PEYbajAK7FCCCQzPx5UuZotolJMaGyDrYjpKz0IQPVbfFTlD+glVEAgWTny5AyvykFOtlOgmYKlrazHSEltbvo3PjdPUqLbUcBXI9LwEAqcIJS+nCp9j2p7iPbaXAYoVLu7tISTjikTrNnqf1F59mOAngGI4BAqnB8UtogKf2E+L6BSFrBkgzbEVJGsKRYFU/PT4nyt27dOl1wwQXq0KGD0tPTNWDAAL355psNnzfG6KabblKnTp2Unp6u0aNHa+XKlRYTAwdHAQRSTbBYyjyZTaOTWLAoLAW4wHI4mScdr64vPqX0rw+0HeWwKisrNXz4cAWDQT3zzDP68MMPNWfOHLVv/9UdfGbPnq0777xT9957r5YuXarMzEyNGTNGNTUs4kLycYwxxnYIAEfAGKnu31LtMkn8NU42H510p+o/WWc7RtLqMOVyFc68IWU2d/7xj3+sV155RS+99FKTnzfGqLi4WNOnT9d1110nSdq+fbsKCwv14IMP6rzzkn+EE97CCCCQqhxHCveVMr4hOZm202A/oc4s2mmKv307lT74BxX98qcpU/4k6amnntIxxxyj73znOyooKNDgwYN1//33N3x+zZo12rBhg0aPHt1wLDc3V8cdd5xee+01G5GBQ6IAAqku0FHK+pYUKLWdBPsIlna0HSHp5Iw7Rd1ff065Z5xmO0qLrV69Wvfcc4969OihZ599VldddZWuueYaPfTQQ5KkDRs2SJIKCwsbPa+wsLDhc0AyYZIK4AZOSMo4Xqr7WKp5R1LUdiLPYy/ArwQK89Vp9izljDvVdpQjFovFdMwxx+iWW26RJA0ePFgffPCB7r33Xl188cWW0wEtxwgg4CahbiwQSRLBMjbvlqR2E89W99efT+nyJ0mdOnVS3759Gx3r06ePPv30U0lSUVH89n8bN25sdM7GjRsbPgckEwog4Db+bClzpJR2HNvFWOT1vQCDpcXq/PiDKrn7t/K3S/0yPHz4cK1YsaLRsY8++khdunSRJFVUVKioqEgvvPBCw+d37NihpUuXatgw7mqC5MMlYMCtQl2kYCep5j2pfrXtNJ7j2b0AHUd5l12gghk3yJ/lnsVJ06ZN0/HHH69bbrlFEyZM0D//+U/NnTtXc+fOlSQ5jqOpU6fq5ptvVo8ePVRRUaEbb7xRxcXFOvPMM+2GB5rANjCAF0S2SDVvSbHttpN4hjFG/+51k0xtne0obSbUvULFd/xamcf/h+0oreLvf/+7fvKTn2jlypWqqKjQD3/4Q11++eUNnzfGaMaMGZo7d662bdumE044QXfffbd69uxpMTXQNAog4BUmFr+NXO2HkiK203jCym/crbrVn9iO0eqcYFB5V01SwU+myZfGtAMgFXAJGPAKxyeFe0vBMqnmX1Jkve1ErhfsXOTuAug4yh0/VgU/+6FCFV1spwHQAhRAwGt8mVLGCVJkY3x+YKzSdiLXCpV11G7bIVpJ1re+ocIbr1PagL6HPxlA0qEAAl4VKJQyR0uRz6Xa96XYLtuJXCdYlmc7QsJlHHeMCm663rXz/ACvoAACXuY48UvCgRKpfk18fqCptp3KNUKl7WxHSJhw314qvPF6ZZ8yynYUAAlAAQQQnx8Y6iYFy+NbxtQupwgmQLA0y3aEoxbsUqaCn0xT7nfOkONj61jALSiAAL7i+KVQDynYNX5bubrlkqmxnSplhUpTdy/AQGG+Ok6forxLJsoJBm3HAZBgFEAAB3L8UrhnfFSw/hOpbiV7CB6BQIeQnIx0marUGU1N+1o/5X3vQuWec4Z86Wm24wBoJRRAAAfn+KVQ1/gjsjleBCPrJLF9aHOFyjqpdkVy34nFCYWUM+5U5X3vQmUcN8R2HABtgAIIoHkC+fFHrCp+ebh+tWRqbadKesGywqQtgIHiTsq7dKLaX3SeAgX5tuMAaEMUQAAt48uQ0gZI4b5S/Wd7Lg+zl+DBhDonX7HKOGGoOlx+kbJP+5acAP8MAF7E33wAR8bxS6Hy+COyJT4iWL9OUr3lYMklWNredgRJki8rU7nnnqW8yy5UWh/uTQt4HQUQwNELdIw/0qJSZEN8ZDCyXtxz2O5egE56mrK+eZJyTh+j7NO+JX9OtrUsAJILBRBA4jh+KVgSf5jIfmUwajudFcGStt0L0Jebo+wx31TO6WOUNWqEfBnpbfr+AFIDBRBA63ACUrA0/jCReAms/yxeCj1UBoNlrV/AAoX5yj7tZOWcfrIyTxzGvn0ADosCCKD1OQEp2Dn+MPXxLWWiG6XIJtfvLxjIDcqXnaXYzsTeazlY3lk5p5+snNNPUfqxg7lLB4AWoQACaFtOUAoWxx+SFKuVopviZTC6SYrttJuvFQQ7d1LtspVH9RqhruVKP2aQMo79ujKGHau0fr0TlA6AF1EAAdjlC0u+MilYFv84VvVVGYxslsxuu/kSIFRW2KIC6MvKVPrXBzYUvvRjByvQIa8VEwLwGgoggOTiy4hvLaPy+MexWim2TYpWStFt8Z/HdiqV7kYSLOt48E86jkLdK+JF75jByjh2sMJ9e3FJF0CrogACSG6+sOQrlAKFXx0z0XgJjO2QotvjP8Z2SLFqJePWM6HS9vLlZCvUrULhruUKde2iUNdyhbqWK9yzm/ztcm1HBOAxjjEmdf4bDQCHY+rjRdDUSKb6q583Olajoy+KvvjiFgXjPzb8PBQfxfRlSE6G5EuXMWlyAmzHAiB5UAABeJeJSopJJhb/seHn+x/fU/acoKQ9Zc/x28sNAEeJAggAAOAxzDIGAADwGAogAACAx1AAAQAAPIYCCAAA4DEUQAAAAI+hAAIAAHgMBRAAAMBjKIAAAAAeQwEEAADwGAogAACAx1AAAQAAPIYCCAAA4DEUQAAAAI+hAAIAAHgMBRAAAMBjKIAAAAAeQwEEAADwGAogAACAx1AAAQAAPIYCCAAA4DEUQAAAAI+hAAIAAHgMBRAAAMBjKIAAAAAeQwEEAADwGAogAACAx1AAAQAAPIYCCAAA4DEUQAAAAI+hAAIAAHgMBRAAAMBjKIAAAAAeQwEEAADwGAogAACAx1AAAQAAPIYCCAAA4DEUQAAAAI+hAAIAAHgMBRAAAMBjKIAAAAAeQwEEAADwGAogAACAx1AAAQAAPIYCCAAA4DEUQAAAAI+hAAIAAHgMBRAAAMBjKIAAAAAeQwEEAADwGAogAACAx1AAAQAAPIYCCAAA4DEUQAAAAI+hAAIAAHgMBRAAAMBjKIAAAAAeQwEEAADwGAogAACAx1AAAQAAPIYCCAAA4DEUQAAAAI+hAAIAAHgMBRAAAMBjKIAAAAAeQwEEAADwGAogAACAx1AAAQAAPIYCCAAA4DEUQAAAAI+hAAIAAHgMBRAAAMBjKIAAAAAeQwEEAADwGAogAACAx1AAAQAAPIYCCAAA4DEUQAAAAI+hAAIAAHgMBRAAAMBjKIAAAAAeQwEEAADwGAogAACAx1AAAQAAPIYCCAAA4DEUQAAAAI+hAAIAAHgMBRAAAMBjKIAAAAAe8/8Bbls5CmM6wJ8AAAAASUVORK5CYII=' width=640.0/>\n",
       "            </div>\n",
       "        "
      ],
      "text/plain": [
       "Canvas(toolbar=Toolbar(toolitems=[('Home', 'Reset original view', 'home', 'home'), ('Back', 'Back to previous …"
      ]
     },
     "metadata": {},
     "output_type": "display_data"
    },
    {
     "data": {
      "application/vnd.jupyter.widget-view+json": {
       "model_id": "1cb90806953d4da2b0179e897d823488",
       "version_major": 2,
       "version_minor": 0
      },
      "image/png": "[encoded data removed]",
      "text/html": [
       "\n",
       "            <div style=\"display: inline-block;\">\n",
       "                <div class=\"jupyter-widgets widget-label\" style=\"text-align: center;\">\n",
       "                    Figure\n",
       "                </div>\n",
       "                <img src='data:image/png;base64,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' width=640.0/>\n",
       "            </div>\n",
       "        "
      ],
      "text/plain": [
       "Canvas(toolbar=Toolbar(toolitems=[('Home', 'Reset original view', 'home', 'home'), ('Back', 'Back to previous …"
      ]
     },
     "metadata": {},
     "output_type": "display_data"
    }
   ],
   "source": [
    "w = si.plot_multicomparison_agreement(mcmp)\n",
    "w = si.plot_multicomparison_agreement_by_sorter(mcmp)"
   ]
  },
  {
   "cell_type": "code",
   "execution_count": 132,
   "metadata": {},
   "outputs": [
    {
     "name": "stdout",
     "output_type": "stream",
     "text": [
      "AgreementSortingExtractor: 60 units - 1 segments - 30.0kHz\n"
     ]
    }
   ],
   "source": [
    "agreement_sorting = mcmp.get_agreement_sorting(minimum_agreement_count=2)\n",
    "print(agreement_sorting)"
   ]
  },
  {
   "cell_type": "markdown",
   "metadata": {
    "pycharm": {
     "name": "#%% md\n"
    }
   },
   "source": [
    "# 10. Exporters <a class=\"anchor\" id=\"exporters\"></a>"
   ]
  },
  {
   "cell_type": "markdown",
   "metadata": {
    "pycharm": {
     "name": "#%% md\n"
    }
   },
   "source": [
    "## Export to Phy for manual curation\n",
    "\n",
    "To perform manual curation we can export the data to [Phy](https://github.com/cortex-lab/phy). "
   ]
  },
  {
   "cell_type": "code",
   "execution_count": 66,
   "metadata": {
    "pycharm": {
     "name": "#%%\n"
    }
   },
   "outputs": [
    {
     "data": {
      "application/vnd.jupyter.widget-view+json": {
       "model_id": "55146f4a9b034aa39245b9b5b1ac92a7",
       "version_major": 2,
       "version_minor": 0
      },
      "text/plain": [
       "extract PCs:   0%|          | 0/1800 [00:00<?, ?it/s]"
      ]
     },
     "metadata": {},
     "output_type": "display_data"
    },
    {
     "ename": "KeyError",
     "evalue": "'metrics'",
     "output_type": "error",
     "traceback": [
      "\u001b[1;31m---------------------------------------------------------------------------\u001b[0m",
      "\u001b[1;31mKeyError\u001b[0m                                  Traceback (most recent call last)",
      "Cell \u001b[1;32mIn[66], line 1\u001b[0m\n\u001b[1;32m----> 1\u001b[0m \u001b[43msi\u001b[49m\u001b[38;5;241;43m.\u001b[39;49m\u001b[43mexport_to_phy\u001b[49m\u001b[43m(\u001b[49m\u001b[43mwe\u001b[49m\u001b[43m,\u001b[49m\u001b[43m \u001b[49m\u001b[43moutput_folder\u001b[49m\u001b[38;5;241;43m=\u001b[39;49m\u001b[43mbase_folder\u001b[49m\u001b[43m \u001b[49m\u001b[38;5;241;43m/\u001b[39;49m\u001b[43m \u001b[49m\u001b[38;5;124;43m'\u001b[39;49m\u001b[38;5;124;43mphy_KS3\u001b[39;49m\u001b[38;5;124;43m'\u001b[39;49m\u001b[43m,\u001b[49m\u001b[43m \u001b[49m\n\u001b[0;32m      2\u001b[0m \u001b[43m                 \u001b[49m\u001b[43mcompute_amplitudes\u001b[49m\u001b[38;5;241;43m=\u001b[39;49m\u001b[38;5;28;43;01mTrue\u001b[39;49;00m\u001b[43m,\u001b[49m\u001b[43m \u001b[49m\u001b[43mcompute_pc_features\u001b[49m\u001b[38;5;241;43m=\u001b[39;49m\u001b[38;5;28;43;01mTrue\u001b[39;49;00m\u001b[43m,\u001b[49m\u001b[43m \u001b[49m\u001b[43mcopy_binary\u001b[49m\u001b[38;5;241;43m=\u001b[39;49m\u001b[38;5;28;43;01mFalse\u001b[39;49;00m\u001b[43m,\u001b[49m\u001b[43mremove_if_exists\u001b[49m\u001b[38;5;241;43m=\u001b[39;49m\u001b[38;5;28;43;01mTrue\u001b[39;49;00m\u001b[43m,\u001b[49m\n\u001b[0;32m      3\u001b[0m \u001b[43m                 \u001b[49m\u001b[38;5;241;43m*\u001b[39;49m\u001b[38;5;241;43m*\u001b[39;49m\u001b[43mjob_kwargs\u001b[49m\u001b[43m)\u001b[49m\n",
      "File \u001b[1;32mc:\\Users\\neuroPC\\anaconda3\\envs\\ephys\\Lib\\site-packages\\spikeinterface\\exporters\\to_phy.py:269\u001b[0m, in \u001b[0;36mexport_to_phy\u001b[1;34m(waveform_extractor, output_folder, compute_pc_features, compute_amplitudes, sparsity, copy_binary, remove_if_exists, peak_sign, template_mode, dtype, verbose, use_relative_path, **job_kwargs)\u001b[0m\n\u001b[0;32m    267\u001b[0m \u001b[38;5;28;01mif\u001b[39;00m waveform_extractor\u001b[38;5;241m.\u001b[39mhas_extension(\u001b[38;5;124m\"\u001b[39m\u001b[38;5;124mquality_metrics\u001b[39m\u001b[38;5;124m\"\u001b[39m):\n\u001b[0;32m    268\u001b[0m     qm \u001b[38;5;241m=\u001b[39m waveform_extractor\u001b[38;5;241m.\u001b[39mload_extension(\u001b[38;5;124m\"\u001b[39m\u001b[38;5;124mquality_metrics\u001b[39m\u001b[38;5;124m\"\u001b[39m)\n\u001b[1;32m--> 269\u001b[0m     qm_data \u001b[38;5;241m=\u001b[39m \u001b[43mqm\u001b[49m\u001b[38;5;241;43m.\u001b[39;49m\u001b[43mget_data\u001b[49m\u001b[43m(\u001b[49m\u001b[43m)\u001b[49m\n\u001b[0;32m    270\u001b[0m     \u001b[38;5;28;01mfor\u001b[39;00m column_name \u001b[38;5;129;01min\u001b[39;00m qm_data\u001b[38;5;241m.\u001b[39mcolumns:\n\u001b[0;32m    271\u001b[0m         \u001b[38;5;66;03m# already computed by phy\u001b[39;00m\n\u001b[0;32m    272\u001b[0m         \u001b[38;5;28;01mif\u001b[39;00m column_name \u001b[38;5;129;01mnot\u001b[39;00m \u001b[38;5;129;01min\u001b[39;00m [\u001b[38;5;124m\"\u001b[39m\u001b[38;5;124mnum_spikes\u001b[39m\u001b[38;5;124m\"\u001b[39m, \u001b[38;5;124m\"\u001b[39m\u001b[38;5;124mfiring_rate\u001b[39m\u001b[38;5;124m\"\u001b[39m]:\n",
      "File \u001b[1;32mc:\\Users\\neuroPC\\anaconda3\\envs\\ephys\\Lib\\site-packages\\spikeinterface\\qualitymetrics\\quality_metric_calculator.py:169\u001b[0m, in \u001b[0;36mQualityMetricCalculator.get_data\u001b[1;34m(self)\u001b[0m\n\u001b[0;32m    160\u001b[0m \u001b[38;5;250m\u001b[39m\u001b[38;5;124;03m\"\"\"\u001b[39;00m\n\u001b[0;32m    161\u001b[0m \u001b[38;5;124;03mGet the computed metrics.\u001b[39;00m\n\u001b[0;32m    162\u001b[0m \n\u001b[1;32m   (...)\u001b[0m\n\u001b[0;32m    166\u001b[0m \u001b[38;5;124;03m    Dataframe with quality metrics\u001b[39;00m\n\u001b[0;32m    167\u001b[0m \u001b[38;5;124;03m\"\"\"\u001b[39;00m\n\u001b[0;32m    168\u001b[0m msg \u001b[38;5;241m=\u001b[39m \u001b[38;5;124m\"\u001b[39m\u001b[38;5;124mQuality metrics are not computed. Use the \u001b[39m\u001b[38;5;124m'\u001b[39m\u001b[38;5;124mrun()\u001b[39m\u001b[38;5;124m'\u001b[39m\u001b[38;5;124m function.\u001b[39m\u001b[38;5;124m\"\u001b[39m\n\u001b[1;32m--> 169\u001b[0m \u001b[38;5;28;01massert\u001b[39;00m \u001b[38;5;28;43mself\u001b[39;49m\u001b[38;5;241;43m.\u001b[39;49m\u001b[43m_extension_data\u001b[49m\u001b[43m[\u001b[49m\u001b[38;5;124;43m\"\u001b[39;49m\u001b[38;5;124;43mmetrics\u001b[39;49m\u001b[38;5;124;43m\"\u001b[39;49m\u001b[43m]\u001b[49m \u001b[38;5;129;01mis\u001b[39;00m \u001b[38;5;129;01mnot\u001b[39;00m \u001b[38;5;28;01mNone\u001b[39;00m, msg\n\u001b[0;32m    170\u001b[0m \u001b[38;5;28;01mreturn\u001b[39;00m \u001b[38;5;28mself\u001b[39m\u001b[38;5;241m.\u001b[39m_extension_data[\u001b[38;5;124m\"\u001b[39m\u001b[38;5;124mmetrics\u001b[39m\u001b[38;5;124m\"\u001b[39m]\n",
      "\u001b[1;31mKeyError\u001b[0m: 'metrics'"
     ]
    }
   ],
   "source": [
    "si.export_to_phy(we, output_folder=base_folder / 'phy_KS3', \n",
    "                 compute_amplitudes=True, compute_pc_features=True, copy_binary=False,remove_if_exists=True,\n",
    "                 **job_kwargs)"
   ]
  },
  {
   "cell_type": "code",
   "execution_count": 103,
   "metadata": {},
   "outputs": [
    {
     "data": {
      "text/plain": [
       "WindowsPath('C:/Users/neuroPC/Documents/Open Ephys/2024-02-01_18-55-51')"
      ]
     },
     "execution_count": 103,
     "metadata": {},
     "output_type": "execute_result"
    }
   ],
   "source": [
    "oe_folder"
   ]
  },
  {
   "cell_type": "markdown",
   "metadata": {},
   "source": [
    "![phy](./phy.png)"
   ]
  },
  {
   "cell_type": "markdown",
   "metadata": {
    "pycharm": {
     "name": "#%% md\n"
    }
   },
   "source": [
    "After curating the results we can reload it using the `PhySortingExtractor` and exclude the units that we labeled as `noise`:\n",
    "\n",
    "`sorting_phy_curated = si.read_phy(base_folder / 'phy_KS25/', exclude_cluster_groups=['noise'])`"
   ]
  },
  {
   "cell_type": "markdown",
   "metadata": {},
   "source": [
    "## Export a report to a folder\n",
    "\n"
   ]
  },
  {
   "cell_type": "code",
   "execution_count": null,
   "metadata": {},
   "outputs": [],
   "source": [
    "si.export_report(we, output_folder=base_folder / 'report_KS25')"
   ]
  },
  {
   "cell_type": "markdown",
   "metadata": {},
   "source": [
    "### Et voilà!"
   ]
  }
 ],
 "metadata": {
  "kernelspec": {
   "display_name": "spike_interface",
   "language": "python",
   "name": "python3"
  },
  "language_info": {
   "codemirror_mode": {
    "name": "ipython",
    "version": 3
   },
   "file_extension": ".py",
   "mimetype": "text/x-python",
   "name": "python",
   "nbconvert_exporter": "python",
   "pygments_lexer": "ipython3",
   "version": "3.10.14"
  },
  "pycharm": {
   "stem_cell": {
    "cell_type": "raw",
    "metadata": {
     "collapsed": false
    },
    "source": []
   }
  }
 },
 "nbformat": 4,
 "nbformat_minor": 4
}
